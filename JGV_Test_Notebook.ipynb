{
 "cells": [
  {
   "cell_type": "markdown",
   "metadata": {},
   "source": [
    "# TEST JGV package\n",
    "** This notebook contains tests for all function contained in JGV package **"
   ]
  },
  {
   "cell_type": "code",
   "execution_count": 1,
   "metadata": {
    "collapsed": false
   },
   "outputs": [
    {
     "data": {
      "text/html": [
       "<style>.container { width:80% !important; }</style>"
      ],
      "text/plain": [
       "<IPython.core.display.HTML object>"
      ]
     },
     "metadata": {},
     "output_type": "display_data"
    },
    {
     "ename": "ImportError",
     "evalue": "No module named 'JGV_annotation'",
     "output_type": "error",
     "traceback": [
      "\u001b[1;31m---------------------------------------------------------------------------\u001b[0m",
      "\u001b[1;31mImportError\u001b[0m                               Traceback (most recent call last)",
      "\u001b[1;32m<ipython-input-1-9320dd033477>\u001b[0m in \u001b[0;36m<module>\u001b[1;34m()\u001b[0m\n\u001b[0;32m     12\u001b[0m \u001b[1;32mimport\u001b[0m \u001b[0mJGV_helper_fun\u001b[0m\u001b[1;33m\u001b[0m\u001b[0m\n\u001b[0;32m     13\u001b[0m \u001b[1;32mfrom\u001b[0m \u001b[0mJGV_helper_fun\u001b[0m \u001b[1;32mimport\u001b[0m \u001b[1;33m*\u001b[0m\u001b[1;33m\u001b[0m\u001b[0m\n\u001b[1;32m---> 14\u001b[1;33m \u001b[1;32mimport\u001b[0m \u001b[0mJGV_annotation\u001b[0m\u001b[1;33m\u001b[0m\u001b[0m\n\u001b[0m\u001b[0;32m     15\u001b[0m \u001b[1;32mfrom\u001b[0m \u001b[0mJGV_annotation\u001b[0m \u001b[1;32mimport\u001b[0m \u001b[1;33m*\u001b[0m\u001b[1;33m\u001b[0m\u001b[0m\n\u001b[0;32m     16\u001b[0m \u001b[1;32mimport\u001b[0m \u001b[0mJGV\u001b[0m\u001b[1;33m\u001b[0m\u001b[0m\n",
      "\u001b[1;31mImportError\u001b[0m: No module named 'JGV_annotation'"
     ]
    }
   ],
   "source": [
    "# Larger display \n",
    "from IPython.core.display import display, HTML\n",
    "display(HTML(\"<style>.container { width:80% !important; }</style>\"))\n",
    "\n",
    "# Import of required packages\n",
    "import matplotlib as mpl\n",
    "import pylab as pl\n",
    "import pysam\n",
    "%matplotlib inline\n",
    "\n",
    "# Import functions from JGV\n",
    "import JGV_helper_fun \n",
    "from JGV_helper_fun import *\n",
    "import JGV_annotation\n",
    "from JGV_annotation import *\n",
    "import JGV\n",
    "from JGV import JGV"
   ]
  },
  {
   "cell_type": "markdown",
   "metadata": {},
   "source": [
    "### Folder setup and download test files"
   ]
  },
  {
   "cell_type": "code",
   "execution_count": 56,
   "metadata": {
    "collapsed": false,
    "scrolled": true
   },
   "outputs": [
    {
     "name": "stdout",
     "output_type": "stream",
     "text": [
      "Create directory for the test dataset files\n"
     ]
    }
   ],
   "source": [
    "print (\"Create directory for the test dataset files\")\n",
    "!mkdir -p \"./test_data/\""
   ]
  },
  {
   "cell_type": "code",
   "execution_count": 57,
   "metadata": {
    "collapsed": false
   },
   "outputs": [
    {
     "name": "stdout",
     "output_type": "stream",
     "text": [
      "Download reference human genome from Ensembl\n",
      "--2016-10-19 09:55:42--  ftp://ftp.ensembl.org/pub/release-86/fasta/homo_sapiens/dna/Homo_sapiens.GRCh38.dna_rm.primary_assembly.fa.gz\n",
      "           => ‘./test_data/GRCh38_primary.fa.gz’\n",
      "Resolving ftp.ensembl.org (ftp.ensembl.org)... 193.62.203.85\n",
      "Connecting to ftp.ensembl.org (ftp.ensembl.org)|193.62.203.85|:21... connected.\n",
      "Logging in as anonymous ... Logged in!\n",
      "==> SYST ... done.    ==> PWD ... done.\n",
      "==> TYPE I ... done.  ==> CWD (1) /pub/release-86/fasta/homo_sapiens/dna ... done.\n",
      "==> SIZE Homo_sapiens.GRCh38.dna_rm.primary_assembly.fa.gz ... 482853492\n",
      "==> PASV ... done.    ==> RETR Homo_sapiens.GRCh38.dna_rm.primary_assembly.fa.gz ... done.\n",
      "Length: 482853492 (460M) (unauthoritative)\n",
      "\n",
      "Homo_sapiens.GRCh38 100%[===================>] 460.48M  2.31MB/s    in 3m 59s  \n",
      "\n",
      "2016-10-19 09:59:42 (1.92 MB/s) - ‘./test_data/GRCh38_primary.fa.gz’ saved [482853492]\n",
      "\n"
     ]
    }
   ],
   "source": [
    "print (\"Download reference human genome from Gencode\")\n",
    "!wget \"ftp://ftp.sanger.ac.uk/pub/gencode/Gencode_human/release_25/GRCh38.primary_assembly.genome.fa.gz\" -O \"./test_data/GRCh38_primary.fa.gz\""
   ]
  },
  {
   "cell_type": "code",
   "execution_count": 61,
   "metadata": {
    "collapsed": false,
    "scrolled": true
   },
   "outputs": [
    {
     "name": "stdout",
     "output_type": "stream",
     "text": [
      "Download reference gencode v25 human genome annotation\n",
      "--2016-10-19 10:03:46--  ftp://ftp.sanger.ac.uk/pub/gencode/Gencode_human/release_25/gencode.v25.primary_assembly.annotation.gff3.gz\n",
      "           => ‘./test_data/gencode_v25_primary.gff3.gz’\n",
      "Resolving ftp.sanger.ac.uk (ftp.sanger.ac.uk)... 193.62.203.17\n",
      "Connecting to ftp.sanger.ac.uk (ftp.sanger.ac.uk)|193.62.203.17|:21... connected.\n",
      "Logging in as anonymous ... Logged in!\n",
      "==> SYST ... done.    ==> PWD ... done.\n",
      "==> TYPE I ... done.  ==> CWD (1) /pub/gencode/Gencode_human/release_25 ... done.\n",
      "==> SIZE gencode.v25.primary_assembly.annotation.gff3.gz ... 46752876\n",
      "==> PASV ... done.    ==> RETR gencode.v25.primary_assembly.annotation.gff3.gz ... done.\n",
      "Length: 46752876 (45M) (unauthoritative)\n",
      "\n",
      "gencode.v25.primary 100%[===================>]  44.59M  1.52MB/s    in 28s     \n",
      "\n",
      "2016-10-19 10:04:14 (1.59 MB/s) - ‘./test_data/gencode_v25_primary.gff3.gz’ saved [46752876]\n",
      "\n"
     ]
    }
   ],
   "source": [
    "print (\"Download reference gencode v25 human genome annotation\")\n",
    "!wget \"ftp://ftp.sanger.ac.uk/pub/gencode/Gencode_human/release_25/gencode.v25.primary_assembly.annotation.gff3.gz\" -O \"./test_data/gencode_v25_primary.gff3.gz\""
   ]
  },
  {
   "cell_type": "code",
   "execution_count": 63,
   "metadata": {
    "collapsed": false
   },
   "outputs": [
    {
     "name": "stdout",
     "output_type": "stream",
     "text": [
      "Download reference gencode v25 human genome annotation\n",
      "--2016-10-19 11:00:02--  ftp://ftp.sanger.ac.uk/pub/gencode/Gencode_human/release_25/gencode.v25.primary_assembly.annotation.gtf.gz\n",
      "           => ‘./test_data/gencode_v25_primary.gtf.gz’\n",
      "Resolving ftp.sanger.ac.uk (ftp.sanger.ac.uk)... 193.62.203.17\n",
      "Connecting to ftp.sanger.ac.uk (ftp.sanger.ac.uk)|193.62.203.17|:21... connected.\n",
      "Logging in as anonymous ... Logged in!\n",
      "==> SYST ... done.    ==> PWD ... done.\n",
      "==> TYPE I ... done.  ==> CWD (1) /pub/gencode/Gencode_human/release_25 ... done.\n",
      "==> SIZE gencode.v25.primary_assembly.annotation.gtf.gz ... 38827267\n",
      "==> PASV ... done.    ==> RETR gencode.v25.primary_assembly.annotation.gtf.gz ... done.\n",
      "Length: 38827267 (37M) (unauthoritative)\n",
      "\n",
      "gencode.v25.primary 100%[===================>]  37.03M  1.43MB/s    in 27s     \n",
      "\n",
      "2016-10-19 11:00:29 (1.38 MB/s) - ‘./test_data/gencode_v25_primary.gtf.gz’ saved [38827267]\n",
      "\n"
     ]
    }
   ],
   "source": [
    "print (\"Download reference gencode v25 human genome annotation\")\n",
    "!wget \"ftp://ftp.sanger.ac.uk/pub/gencode/Gencode_human/release_25/gencode.v25.primary_assembly.annotation.gtf.gz\" -O \"./test_data/gencode_v25_primary.gtf.gz\""
   ]
  },
  {
   "cell_type": "code",
   "execution_count": 62,
   "metadata": {
    "collapsed": false
   },
   "outputs": [
    {
     "name": "stdout",
     "output_type": "stream",
     "text": [
      "Download reference gencode v25 human genome annotation\n",
      "--2016-10-19 10:04:42--  http://www.noncode.org/datadownload/NONCODE2016_human_hg38_lncRNA.gtf.gz\n",
      "Resolving www.noncode.org (www.noncode.org)... 112.124.13.146\n",
      "Connecting to www.noncode.org (www.noncode.org)|112.124.13.146|:80... connected.\n",
      "HTTP request sent, awaiting response... 200 OK\n",
      "Length: 8248713 (7.9M) [application/x-gzip]\n",
      "Saving to: ‘./test_data/NONCODE2016_human_hg38_lncRNA.gtf.gz’\n",
      "\n",
      "./test_data/NONCODE 100%[===================>]   7.87M   528KB/s    in 28s     \n",
      "\n",
      "2016-10-19 10:05:13 (290 KB/s) - ‘./test_data/NONCODE2016_human_hg38_lncRNA.gtf.gz’ saved [8248713/8248713]\n",
      "\n"
     ]
    }
   ],
   "source": [
    "print (\"Download reference gencode v25 human genome annotation\")\n",
    "!wget \"http://www.noncode.org/datadownload/NONCODE2016_human_hg38_lncRNA.gtf.gz\" -O \"./test_data/NONCODE2016_human_hg38_lncRNA.gtf.gz\""
   ]
  },
  {
   "cell_type": "code",
   "execution_count": 60,
   "metadata": {
    "collapsed": false
   },
   "outputs": [
    {
     "name": "stdout",
     "output_type": "stream",
     "text": [
      "Download example bam file\n",
      "--2016-10-19 10:00:39--  http://www.ebi.ac.uk/~aleg/data/share/1M_sample.bam\n",
      "Resolving www.ebi.ac.uk (www.ebi.ac.uk)... 193.62.193.80\n",
      "Connecting to www.ebi.ac.uk (www.ebi.ac.uk)|193.62.193.80|:80... connected.\n",
      "HTTP request sent, awaiting response... 200 OK\n",
      "Length: 134778245 (129M) [text/plain]\n",
      "Saving to: ‘./test_data/1M_sample.bam’\n",
      "\n",
      "./test_data/1M_samp 100%[===================>] 128.53M  5.69MB/s    in 31s     \n",
      "\n",
      "2016-10-19 10:01:10 (4.20 MB/s) - ‘./test_data/1M_sample.bam’ saved [134778245/134778245]\n",
      "\n"
     ]
    }
   ],
   "source": [
    "print (\"Download example bam file\")\n",
    "!wget -v \"http://www.ebi.ac.uk/~aleg/data/share/1M_sample.bam\" -O \"./test_data/1M_sample.bam\""
   ]
  },
  {
   "cell_type": "code",
   "execution_count": null,
   "metadata": {
    "collapsed": true
   },
   "outputs": [],
   "source": [
    "print (\"Download example bam file\")\n",
    "!wget -v \"http://www.ebi.ac.uk/~aleg/data/share/10M_sample.bam\" -O \"./test_data/10M_sample.bam\""
   ]
  },
  {
   "cell_type": "markdown",
   "metadata": {},
   "source": [
    "## JGV_helper_fun"
   ]
  },
  {
   "cell_type": "code",
   "execution_count": 7,
   "metadata": {
    "collapsed": false,
    "scrolled": true
   },
   "outputs": [
    {
     "name": "stdout",
     "output_type": "stream",
     "text": [
      "Help on module JGV_helper_fun:\n",
      "\n",
      "NAME\n",
      "    JGV_helper_fun\n",
      "\n",
      "DESCRIPTION\n",
      "    JGV_helper_fun.py\n",
      "    JGV is a Python3 package for an embed genomic viewer in Jupyter notebook\n",
      "    Do not try to import the package in a non-interactive environment\n",
      "    \n",
      "    Copyright 2016 Adrien Leger <aleg@ebi.ac.ul>\n",
      "    [Github](https://github.com/a-slide)\n",
      "    \n",
      "    This program is free software; you can redistribute it and/or modify it under the terms of the GNU General Public License as published by\n",
      "    the Free Software Foundation; either version 3 of the License, or(at your option) any later version\n",
      "    \n",
      "    This program is distributed in the hope that it will be useful, but WITHOUT ANY WARRANTY; without even the implied warranty of\n",
      "    MERCHANTABILITY or FITNESS FOR A PARTICULAR PURPOSE. See the GNU General Public License for more details.\n",
      "    (http://www.gnu.org/licenses/gpl-3.0.html).\n",
      "    \n",
      "    You should have received a copy of the GNU General Public License along with this program; if not, write to the Free Software\n",
      "    Foundation, Inc., 51 Franklin Street, Fifth Floor, Boston, MA 02110-1301, USA.\n",
      "\n",
      "FUNCTIONS\n",
      "    color_palette(n, colormap='brg')\n",
      "        Return a list of n length with gradient colors from a given matplot lib colormap palette\n",
      "        * n         Number of color scalar in the list\n",
      "        * colormap  colormap color palette from matplotlib package see http://matplotlib.org/examples/color/colormaps_reference.html\n",
      "                    example : inferno magma hot blues cool spring winter brg ocean hsv jet ... [DEFAULT: brg]\n",
      "    \n",
      "    get_basename(fp)\n",
      "        Return the base name of a file. If archived file \"gz\" the method will output the name without extension + the archive extension\n",
      "    \n",
      "    get_extensions(fp)\n",
      "        Return the extension of a file in lower-case. If archived file \"gz\" the method will output the base extension + the archive extension\n",
      "\n",
      "FILE\n",
      "    /home/aleg/Programming/Python3/JupyterGenoViewer/JGV_helper_fun.py\n",
      "\n",
      "\n"
     ]
    }
   ],
   "source": [
    "help (JGV_helper_fun)"
   ]
  },
  {
   "cell_type": "markdown",
   "metadata": {},
   "source": [
    "### color_palette"
   ]
  },
  {
   "cell_type": "code",
   "execution_count": 8,
   "metadata": {
    "collapsed": false
   },
   "outputs": [
    {
     "data": {
      "text/plain": [
       "[(0.87283353174433986, 0.11426374605473349, 0.12899654119038115, 1.0),\n",
       " (0.30426760128900115, 0.68329106055054012, 0.29293349969620797, 1.0),\n",
       " (0.9936639757717356, 0.49502499068484584, 0.010026913063198917, 1.0),\n",
       " (0.66466745558907003, 0.36324491512541679, 0.15855440760360046, 1.0),\n",
       " (0.62312958801493923, 0.5940946032019222, 0.60935027318842272, 1.0)]"
      ]
     },
     "execution_count": 8,
     "metadata": {},
     "output_type": "execute_result"
    }
   ],
   "source": [
    "color_palette(5, \"Set1\")"
   ]
  },
  {
   "cell_type": "markdown",
   "metadata": {},
   "source": [
    "### get_basename"
   ]
  },
  {
   "cell_type": "code",
   "execution_count": 9,
   "metadata": {
    "collapsed": false
   },
   "outputs": [
    {
     "data": {
      "text/plain": [
       "'GRCh38.primary'"
      ]
     },
     "execution_count": 9,
     "metadata": {},
     "output_type": "execute_result"
    }
   ],
   "source": [
    "get_basename(\"./test_data/GRCh38.primary.fa.gz\")"
   ]
  },
  {
   "cell_type": "code",
   "execution_count": 10,
   "metadata": {
    "collapsed": false
   },
   "outputs": [
    {
     "data": {
      "text/plain": [
       "'GRCh38.primary'"
      ]
     },
     "execution_count": 10,
     "metadata": {},
     "output_type": "execute_result"
    }
   ],
   "source": [
    "get_basename(\"./test_data/GRCh38.primary.fa\")"
   ]
  },
  {
   "cell_type": "markdown",
   "metadata": {},
   "source": [
    "### get_extensions"
   ]
  },
  {
   "cell_type": "code",
   "execution_count": 11,
   "metadata": {
    "collapsed": false
   },
   "outputs": [
    {
     "data": {
      "text/plain": [
       "'.fa.gz'"
      ]
     },
     "execution_count": 11,
     "metadata": {},
     "output_type": "execute_result"
    }
   ],
   "source": [
    "get_extensions(\"./test_data/GRCh38.primary.fa.gz\")"
   ]
  },
  {
   "cell_type": "code",
   "execution_count": 12,
   "metadata": {
    "collapsed": false
   },
   "outputs": [
    {
     "data": {
      "text/plain": [
       "'.fa'"
      ]
     },
     "execution_count": 12,
     "metadata": {},
     "output_type": "execute_result"
    }
   ],
   "source": [
    "get_extensions(\"./test_data/GRCh38.primary.fa\")"
   ]
  },
  {
   "cell_type": "markdown",
   "metadata": {},
   "source": [
    "## JGV_annotation"
   ]
  },
  {
   "cell_type": "code",
   "execution_count": 8,
   "metadata": {
    "collapsed": false,
    "scrolled": false
   },
   "outputs": [
    {
     "name": "stdout",
     "output_type": "stream",
     "text": [
      "Help on module JGV_annotation:\n",
      "\n",
      "NAME\n",
      "    JGV_annotation\n",
      "\n",
      "DESCRIPTION\n",
      "    JGV_annotation.py\n",
      "    JGV is a Python3 package for an embed genomic viewer in Jupyter notebook\n",
      "    Do not try to import the package in a non-interactive environment\n",
      "    \n",
      "    Copyright 2016 Adrien Leger <aleg@ebi.ac.ul>\n",
      "    [Github](https://github.com/a-slide)\n",
      "    \n",
      "    This program is free software; you can redistribute it and/or modify it under the terms of the GNU General Public License as published by\n",
      "    the Free Software Foundation; either version 3 of the License, or(at your option) any later version\n",
      "    \n",
      "    This program is distributed in the hope that it will be useful, but WITHOUT ANY WARRANTY; without even the implied warranty of\n",
      "    MERCHANTABILITY or FITNESS FOR A PARTICULAR PURPOSE. See the GNU General Public License for more details.\n",
      "    (http://www.gnu.org/licenses/gpl-3.0.html).\n",
      "    \n",
      "    You should have received a copy of the GNU General Public License along with this program; if not, write to the Free Software\n",
      "    Foundation, Inc., 51 Franklin Street, Fifth Floor, Boston, MA 02110-1301, USA.\n",
      "\n",
      "CLASSES\n",
      "    builtins.object\n",
      "        gff3_line\n",
      "    \n",
      "    class gff3_line(builtins.object)\n",
      "     |  Get a pysam gff line parsed from a tabix indexed file and save a gff3 line in a simple python object\n",
      "     |  The attribute field is completly parsed and each element is saved as a self attribute of the object\n",
      "     |  gff3 have a mandatory ID field that identified the feature unambigously\n",
      "     |  \n",
      "     |  Methods defined here:\n",
      "     |  \n",
      "     |  __init__(self, pysam_gff_line)\n",
      "     |      Initialize self.  See help(type(self)) for accurate signature.\n",
      "     |  \n",
      "     |  __str__(self)\n",
      "     |      readeable description of the object\n",
      "     |  \n",
      "     |  ----------------------------------------------------------------------\n",
      "     |  Data descriptors defined here:\n",
      "     |  \n",
      "     |  __dict__\n",
      "     |      dictionary for instance variables (if defined)\n",
      "     |  \n",
      "     |  __weakref__\n",
      "     |      list of weak references to the object (if defined)\n",
      "\n",
      "FILE\n",
      "    /home/aleg/Programming/Python3/JupyterGenoViewer/JGV_annotation.py\n",
      "\n",
      "\n"
     ]
    }
   ],
   "source": [
    "help (JGV_annotation)"
   ]
  },
  {
   "cell_type": "code",
   "execution_count": null,
   "metadata": {
    "collapsed": true
   },
   "outputs": [],
   "source": [
    "# hard to test because it requires a pysam iterator = need an indexed file"
   ]
  },
  {
   "cell_type": "markdown",
   "metadata": {},
   "source": [
    "### JGV"
   ]
  },
  {
   "cell_type": "code",
   "execution_count": 19,
   "metadata": {
    "collapsed": false
   },
   "outputs": [
    {
     "name": "stdout",
     "output_type": "stream",
     "text": [
      "Help on class JGV in module JGV:\n",
      "\n",
      "class JGV(builtins.object)\n",
      " |  Methods defined here:\n",
      " |  \n",
      " |  __init__(self, fasta=None, index=None, verbose=False)\n",
      " |      Create an JGV reference containing a list of seqid retrieved from a fasta file or a fasta index file (fai). One of the 2 files has\n",
      " |      to be given to initialise the object.\n",
      " |      * fasta\n",
      " |          A fasta file containing the reference sequences. The file will be parsed to get the name and length of the sequences, but the\n",
      " |          sequence per se do not need to be saved. A tab separated file containing the name of the sequences and the length will be\n",
      " |          written in the same dir as the fasta file. this file can be used latter as an index file. Can be gziped or not.\n",
      " |      * index\n",
      " |          A file containing at least 2 columns with the seqid and the length in base. It could be a fai file generated by samtools faidx\n",
      " |          or any other tab separated format. This option is much faster than the fasta option. Can be gziped or not.\n",
      " |      * verbose\n",
      " |          If True, will print more information during initialisation and calls of all the object methods.\n",
      " |  \n",
      " |  __str__(self)\n",
      " |      Readable description of the object\n",
      " |  \n",
      " |  add_alignment(self, fp, name=None)\n",
      " |      Verify, eventually index and link a BAM alignment file to the object for subsequent plotting of the read coverage \n",
      " |      * fp\n",
      " |          A standard BAM file containing aligned reads against the reference genome given at initialisation of the JGV object.  Any\n",
      " |          aligner yielding a standard BAM file is compatible. The viewer is able to represent split read generated by RNAseq aligner.\n",
      " |          The file need to be sorted by coordinates (using Samtools sort for example). Ideally the file would also be already indexed with\n",
      " |          samtools index. If not the program will index the file (can take time)\n",
      " |      *  name\n",
      " |          Name of the data file that will be used as track name for plotting. If not given, will be inferred from the file\n",
      " |  \n",
      " |  add_annotation(self, fp, name=None)\n",
      " |      Verify, eventually sort and index, and link a GFF3 annotation file to the object for subsequent plotting of the feature localization\n",
      " |      * fp\n",
      " |          A standard gff3 file (http://www.ensembl.org/info/website/upload/gff3.html) containing all feature annotation. Could be\n",
      " |          uncompressed or archived in the following format (\"gz\"). Ideally already indexed with tabix bgzip. If not the program will sort\n",
      " |          the features and index the file (can take time)\n",
      " |      *  name\n",
      " |          Name of the data file that will be used as track name for plotting. If not given, will be inferred from the file name\n",
      " |  \n",
      " |  plot_interval(self, seqid, start=None, end=None, alignment_tracks=[], alignment_n_step=500, alignment_yscale='linear', alignment_mode='auto', annotation_tracks=[], annotation_feature_types=[], annotation_label=False, annotation_overlap_offset=None, annotation_max_level=None, plot_style='ggplot', track_width=30, alignment_track_height=10, annotation_track_height=2)\n",
      " |      Generate a figure with alignment coverage on the top and annotation tracks on the bottom\n",
      " |      * seqid\n",
      " |          Name of the sequence from the initial fasta file to display\n",
      " |      * start\n",
      " |          Start of the window to display. If not given will start from 0 [ DEFAULT: None ]\n",
      " |      * end\n",
      " |          End of the window to display. If not given will start from end of the sequence [ DEFAULT: None ]\n",
      " |      * alignment_tracks\n",
      " |          List of name of the alignment tracks to display. If not given will display all tracks added [ DEFAULT: [] ]\n",
      " |      * alignment_n_step\n",
      " |          Number of alignment count bins to divide the displayed window. Low number will result in low resolution but will be faster. The\n",
      " |          default value is a decent compromise between speed and precision [ DEFAULT: 500 ]\n",
      " |      * alignment_yscale  Scaling of the y axis for the alignment track ('linear'|'log') [ DEFAULT: \"linear\" ]\n",
      " |      * alignment_mode\n",
      " |          Mode to parse and represent the alignment track (\"auto\"|\"read_count\"|\"base_coverage\"). The \"read_count\" is fast for large\n",
      " |          regions, but do not account for spliced reads. In \"auto\" mode it is automatically selected for intervals larger than 5000000.\n",
      " |          The \"base_coverage\" mode compute the median base coverage per step. It is faster for low coverage and small intervals.\n",
      " |          In \"auto\" mode it is automatically selected for intervals larger smaller than 5000000 [ DEFAULT: \"auto\" ]\n",
      " |      * annotation_tracks\n",
      " |          List of name of the annotation tracks to display. If not given will display all tracks added [ DEFAULT: [] ]\n",
      " |      * annotation_feature_types\n",
      " |          List of features types for which a track will be displayed if at least 1 feature of this type was found in the requested\n",
      " |          interval ( \"exon\"|\"transcript\"|\"gene\"|\"CDS\"...). If not given, all features type found in the interval will be displayed\n",
      " |          [ DEFAULT: [] ]\n",
      " |      * annotation_label\n",
      " |          If True the label of the feature will be displayed on the track. To be avoid for intervals containing many features, for\n",
      " |          performance and readability concerns.\n",
      " |          [ DEFAULT: False ]\n",
      " |      * annotation_overlap_offset\n",
      " |          Minimal space between 2 features on the same line of the annotation track. If not given, will be automatically computed to be\n",
      " |          1/400 of the interval [ DEFAULT: None ]\n",
      " |      * annotation_max_level\n",
      " |          Maximal number of feature lines per annotation track. If they do not fit in the lines the extra features will be discarded. If\n",
      " |          not given, not the number of lines is not capped (can result in long plotting time for very dense annotations)\n",
      " |          [ DEFAULT: None ]\n",
      " |      * plot_style\n",
      " |          Default plot style for pyplot ('grayscale'|'bmh'|'ggplot'|'dark_background'|'classic'|'fivethirtyeight'...)[ DEFAULT: \"ggplot\" ]\n",
      " |      * track_width\n",
      " |          Width of the plotting area [ DEFAULT: 30]\n",
      " |      * alignment_track_height\n",
      " |          Heigh of each alignment track [ DEFAULT: 10 ]\n",
      " |      * annotation_track_height\n",
      " |          Heigh of each annotation track [ DEFAULT: 2 ]\n",
      " |  \n",
      " |  ----------------------------------------------------------------------\n",
      " |  Data descriptors defined here:\n",
      " |  \n",
      " |  __dict__\n",
      " |      dictionary for instance variables (if defined)\n",
      " |  \n",
      " |  __weakref__\n",
      " |      list of weak references to the object (if defined)\n",
      "\n"
     ]
    }
   ],
   "source": [
    "help(JGV)"
   ]
  },
  {
   "cell_type": "markdown",
   "metadata": {},
   "source": [
    "#### First create an instance of the JGV from a fasta file or a fasta index file "
   ]
  },
  {
   "cell_type": "code",
   "execution_count": 22,
   "metadata": {
    "collapsed": false
   },
   "outputs": [
    {
     "name": "stdout",
     "output_type": "stream",
     "text": [
      "Initialize JGV with a reference genome\n",
      "\tReading fasta file and extracting sequence information\n",
      "\tWriting an index file\n",
      "\tTotal number of sequences found: 194\n"
     ]
    }
   ],
   "source": [
    "jgv = JGV(fasta=\"./test_data/GRCh38_primary.fa.gz\", verbose=True)"
   ]
  },
  {
   "cell_type": "code",
   "execution_count": 55,
   "metadata": {
    "collapsed": false
   },
   "outputs": [
    {
     "ename": "OSError",
     "evalue": "File b'./test_data/GRCh38_primary_indx.tsv' does not exist",
     "output_type": "error",
     "traceback": [
      "\u001b[1;31m---------------------------------------------------------------------------\u001b[0m",
      "\u001b[1;31mOSError\u001b[0m                                   Traceback (most recent call last)",
      "\u001b[1;32m<ipython-input-55-d0acdfdda450>\u001b[0m in \u001b[0;36m<module>\u001b[1;34m()\u001b[0m\n\u001b[0;32m      1\u001b[0m \u001b[1;32mimport\u001b[0m \u001b[0mpandas\u001b[0m \u001b[1;32mas\u001b[0m \u001b[0mpd\u001b[0m\u001b[1;33m\u001b[0m\u001b[0m\n\u001b[1;32m----> 2\u001b[1;33m \u001b[0mdf\u001b[0m \u001b[1;33m=\u001b[0m \u001b[0mpd\u001b[0m\u001b[1;33m.\u001b[0m\u001b[0mread_table\u001b[0m\u001b[1;33m(\u001b[0m\u001b[1;34m\"./test_data/GRCh38_primary_indx.tsv\"\u001b[0m\u001b[1;33m,\u001b[0m \u001b[0msep\u001b[0m \u001b[1;33m=\u001b[0m \u001b[1;34m\"\\t\"\u001b[0m\u001b[1;33m,\u001b[0m \u001b[0mindex_col\u001b[0m\u001b[1;33m=\u001b[0m\u001b[1;36m0\u001b[0m\u001b[1;33m,\u001b[0m \u001b[0mnames\u001b[0m\u001b[1;33m=\u001b[0m\u001b[1;33m[\u001b[0m\u001b[1;34m\"seqid\"\u001b[0m\u001b[1;33m,\u001b[0m \u001b[1;34m\"length\"\u001b[0m\u001b[1;33m]\u001b[0m\u001b[1;33m,\u001b[0m \u001b[0musecols\u001b[0m\u001b[1;33m=\u001b[0m\u001b[1;33m[\u001b[0m\u001b[1;36m0\u001b[0m\u001b[1;33m,\u001b[0m\u001b[1;36m1\u001b[0m\u001b[1;33m]\u001b[0m\u001b[1;33m)\u001b[0m\u001b[1;33m\u001b[0m\u001b[0m\n\u001b[0m\u001b[0;32m      3\u001b[0m \u001b[0mdf\u001b[0m\u001b[1;33m.\u001b[0m\u001b[0msort_values\u001b[0m\u001b[1;33m(\u001b[0m\u001b[0mby\u001b[0m\u001b[1;33m=\u001b[0m\u001b[1;34m\"length\"\u001b[0m\u001b[1;33m,\u001b[0m \u001b[0minplace\u001b[0m\u001b[1;33m=\u001b[0m\u001b[1;32mTrue\u001b[0m\u001b[1;33m,\u001b[0m \u001b[0mascending\u001b[0m\u001b[1;33m=\u001b[0m\u001b[1;32mFalse\u001b[0m\u001b[1;33m)\u001b[0m\u001b[1;33m\u001b[0m\u001b[0m\n\u001b[0;32m      4\u001b[0m \u001b[0mdf\u001b[0m\u001b[1;33m.\u001b[0m\u001b[0mhead\u001b[0m\u001b[1;33m(\u001b[0m\u001b[1;33m)\u001b[0m\u001b[1;33m\u001b[0m\u001b[0m\n",
      "\u001b[1;32m/usr/local/lib/python3.5/dist-packages/pandas/io/parsers.py\u001b[0m in \u001b[0;36mparser_f\u001b[1;34m(filepath_or_buffer, sep, delimiter, header, names, index_col, usecols, squeeze, prefix, mangle_dupe_cols, dtype, engine, converters, true_values, false_values, skipinitialspace, skiprows, skipfooter, nrows, na_values, keep_default_na, na_filter, verbose, skip_blank_lines, parse_dates, infer_datetime_format, keep_date_col, date_parser, dayfirst, iterator, chunksize, compression, thousands, decimal, lineterminator, quotechar, quoting, escapechar, comment, encoding, dialect, tupleize_cols, error_bad_lines, warn_bad_lines, skip_footer, doublequote, delim_whitespace, as_recarray, compact_ints, use_unsigned, low_memory, buffer_lines, memory_map, float_precision)\u001b[0m\n\u001b[0;32m    560\u001b[0m                     skip_blank_lines=skip_blank_lines)\n\u001b[0;32m    561\u001b[0m \u001b[1;33m\u001b[0m\u001b[0m\n\u001b[1;32m--> 562\u001b[1;33m         \u001b[1;32mreturn\u001b[0m \u001b[0m_read\u001b[0m\u001b[1;33m(\u001b[0m\u001b[0mfilepath_or_buffer\u001b[0m\u001b[1;33m,\u001b[0m \u001b[0mkwds\u001b[0m\u001b[1;33m)\u001b[0m\u001b[1;33m\u001b[0m\u001b[0m\n\u001b[0m\u001b[0;32m    563\u001b[0m \u001b[1;33m\u001b[0m\u001b[0m\n\u001b[0;32m    564\u001b[0m     \u001b[0mparser_f\u001b[0m\u001b[1;33m.\u001b[0m\u001b[0m__name__\u001b[0m \u001b[1;33m=\u001b[0m \u001b[0mname\u001b[0m\u001b[1;33m\u001b[0m\u001b[0m\n",
      "\u001b[1;32m/usr/local/lib/python3.5/dist-packages/pandas/io/parsers.py\u001b[0m in \u001b[0;36m_read\u001b[1;34m(filepath_or_buffer, kwds)\u001b[0m\n\u001b[0;32m    313\u001b[0m \u001b[1;33m\u001b[0m\u001b[0m\n\u001b[0;32m    314\u001b[0m     \u001b[1;31m# Create the parser.\u001b[0m\u001b[1;33m\u001b[0m\u001b[1;33m\u001b[0m\u001b[0m\n\u001b[1;32m--> 315\u001b[1;33m     \u001b[0mparser\u001b[0m \u001b[1;33m=\u001b[0m \u001b[0mTextFileReader\u001b[0m\u001b[1;33m(\u001b[0m\u001b[0mfilepath_or_buffer\u001b[0m\u001b[1;33m,\u001b[0m \u001b[1;33m**\u001b[0m\u001b[0mkwds\u001b[0m\u001b[1;33m)\u001b[0m\u001b[1;33m\u001b[0m\u001b[0m\n\u001b[0m\u001b[0;32m    316\u001b[0m \u001b[1;33m\u001b[0m\u001b[0m\n\u001b[0;32m    317\u001b[0m     \u001b[1;32mif\u001b[0m \u001b[1;33m(\u001b[0m\u001b[0mnrows\u001b[0m \u001b[1;32mis\u001b[0m \u001b[1;32mnot\u001b[0m \u001b[1;32mNone\u001b[0m\u001b[1;33m)\u001b[0m \u001b[1;32mand\u001b[0m \u001b[1;33m(\u001b[0m\u001b[0mchunksize\u001b[0m \u001b[1;32mis\u001b[0m \u001b[1;32mnot\u001b[0m \u001b[1;32mNone\u001b[0m\u001b[1;33m)\u001b[0m\u001b[1;33m:\u001b[0m\u001b[1;33m\u001b[0m\u001b[0m\n",
      "\u001b[1;32m/usr/local/lib/python3.5/dist-packages/pandas/io/parsers.py\u001b[0m in \u001b[0;36m__init__\u001b[1;34m(self, f, engine, **kwds)\u001b[0m\n\u001b[0;32m    643\u001b[0m             \u001b[0mself\u001b[0m\u001b[1;33m.\u001b[0m\u001b[0moptions\u001b[0m\u001b[1;33m[\u001b[0m\u001b[1;34m'has_index_names'\u001b[0m\u001b[1;33m]\u001b[0m \u001b[1;33m=\u001b[0m \u001b[0mkwds\u001b[0m\u001b[1;33m[\u001b[0m\u001b[1;34m'has_index_names'\u001b[0m\u001b[1;33m]\u001b[0m\u001b[1;33m\u001b[0m\u001b[0m\n\u001b[0;32m    644\u001b[0m \u001b[1;33m\u001b[0m\u001b[0m\n\u001b[1;32m--> 645\u001b[1;33m         \u001b[0mself\u001b[0m\u001b[1;33m.\u001b[0m\u001b[0m_make_engine\u001b[0m\u001b[1;33m(\u001b[0m\u001b[0mself\u001b[0m\u001b[1;33m.\u001b[0m\u001b[0mengine\u001b[0m\u001b[1;33m)\u001b[0m\u001b[1;33m\u001b[0m\u001b[0m\n\u001b[0m\u001b[0;32m    646\u001b[0m \u001b[1;33m\u001b[0m\u001b[0m\n\u001b[0;32m    647\u001b[0m     \u001b[1;32mdef\u001b[0m \u001b[0mclose\u001b[0m\u001b[1;33m(\u001b[0m\u001b[0mself\u001b[0m\u001b[1;33m)\u001b[0m\u001b[1;33m:\u001b[0m\u001b[1;33m\u001b[0m\u001b[0m\n",
      "\u001b[1;32m/usr/local/lib/python3.5/dist-packages/pandas/io/parsers.py\u001b[0m in \u001b[0;36m_make_engine\u001b[1;34m(self, engine)\u001b[0m\n\u001b[0;32m    797\u001b[0m     \u001b[1;32mdef\u001b[0m \u001b[0m_make_engine\u001b[0m\u001b[1;33m(\u001b[0m\u001b[0mself\u001b[0m\u001b[1;33m,\u001b[0m \u001b[0mengine\u001b[0m\u001b[1;33m=\u001b[0m\u001b[1;34m'c'\u001b[0m\u001b[1;33m)\u001b[0m\u001b[1;33m:\u001b[0m\u001b[1;33m\u001b[0m\u001b[0m\n\u001b[0;32m    798\u001b[0m         \u001b[1;32mif\u001b[0m \u001b[0mengine\u001b[0m \u001b[1;33m==\u001b[0m \u001b[1;34m'c'\u001b[0m\u001b[1;33m:\u001b[0m\u001b[1;33m\u001b[0m\u001b[0m\n\u001b[1;32m--> 799\u001b[1;33m             \u001b[0mself\u001b[0m\u001b[1;33m.\u001b[0m\u001b[0m_engine\u001b[0m \u001b[1;33m=\u001b[0m \u001b[0mCParserWrapper\u001b[0m\u001b[1;33m(\u001b[0m\u001b[0mself\u001b[0m\u001b[1;33m.\u001b[0m\u001b[0mf\u001b[0m\u001b[1;33m,\u001b[0m \u001b[1;33m**\u001b[0m\u001b[0mself\u001b[0m\u001b[1;33m.\u001b[0m\u001b[0moptions\u001b[0m\u001b[1;33m)\u001b[0m\u001b[1;33m\u001b[0m\u001b[0m\n\u001b[0m\u001b[0;32m    800\u001b[0m         \u001b[1;32melse\u001b[0m\u001b[1;33m:\u001b[0m\u001b[1;33m\u001b[0m\u001b[0m\n\u001b[0;32m    801\u001b[0m             \u001b[1;32mif\u001b[0m \u001b[0mengine\u001b[0m \u001b[1;33m==\u001b[0m \u001b[1;34m'python'\u001b[0m\u001b[1;33m:\u001b[0m\u001b[1;33m\u001b[0m\u001b[0m\n",
      "\u001b[1;32m/usr/local/lib/python3.5/dist-packages/pandas/io/parsers.py\u001b[0m in \u001b[0;36m__init__\u001b[1;34m(self, src, **kwds)\u001b[0m\n\u001b[0;32m   1211\u001b[0m         \u001b[0mkwds\u001b[0m\u001b[1;33m[\u001b[0m\u001b[1;34m'allow_leading_cols'\u001b[0m\u001b[1;33m]\u001b[0m \u001b[1;33m=\u001b[0m \u001b[0mself\u001b[0m\u001b[1;33m.\u001b[0m\u001b[0mindex_col\u001b[0m \u001b[1;32mis\u001b[0m \u001b[1;32mnot\u001b[0m \u001b[1;32mFalse\u001b[0m\u001b[1;33m\u001b[0m\u001b[0m\n\u001b[0;32m   1212\u001b[0m \u001b[1;33m\u001b[0m\u001b[0m\n\u001b[1;32m-> 1213\u001b[1;33m         \u001b[0mself\u001b[0m\u001b[1;33m.\u001b[0m\u001b[0m_reader\u001b[0m \u001b[1;33m=\u001b[0m \u001b[0m_parser\u001b[0m\u001b[1;33m.\u001b[0m\u001b[0mTextReader\u001b[0m\u001b[1;33m(\u001b[0m\u001b[0msrc\u001b[0m\u001b[1;33m,\u001b[0m \u001b[1;33m**\u001b[0m\u001b[0mkwds\u001b[0m\u001b[1;33m)\u001b[0m\u001b[1;33m\u001b[0m\u001b[0m\n\u001b[0m\u001b[0;32m   1214\u001b[0m \u001b[1;33m\u001b[0m\u001b[0m\n\u001b[0;32m   1215\u001b[0m         \u001b[1;31m# XXX\u001b[0m\u001b[1;33m\u001b[0m\u001b[1;33m\u001b[0m\u001b[0m\n",
      "\u001b[1;32mpandas/parser.pyx\u001b[0m in \u001b[0;36mpandas.parser.TextReader.__cinit__ (pandas/parser.c:3427)\u001b[1;34m()\u001b[0m\n",
      "\u001b[1;32mpandas/parser.pyx\u001b[0m in \u001b[0;36mpandas.parser.TextReader._setup_parser_source (pandas/parser.c:6861)\u001b[1;34m()\u001b[0m\n",
      "\u001b[1;31mOSError\u001b[0m: File b'./test_data/GRCh38_primary_indx.tsv' does not exist"
     ]
    }
   ],
   "source": [
    "import pandas as pd\n",
    "df = pd.read_table(\"./test_data/GRCh38_primary_indx.tsv\", sep = \"\\t\", index_col=0, names=[\"seqid\", \"length\"], usecols=[0,1])\n",
    "df.sort_values(by=\"length\", inplace=True, ascending=False)\n",
    "df.head()"
   ]
  },
  {
   "cell_type": "code",
   "execution_count": null,
   "metadata": {
    "collapsed": true
   },
   "outputs": [],
   "source": []
  },
  {
   "cell_type": "code",
   "execution_count": null,
   "metadata": {
    "collapsed": true
   },
   "outputs": [],
   "source": []
  },
  {
   "cell_type": "code",
   "execution_count": null,
   "metadata": {
    "collapsed": true
   },
   "outputs": [],
   "source": []
  },
  {
   "cell_type": "code",
   "execution_count": null,
   "metadata": {
    "collapsed": true
   },
   "outputs": [],
   "source": []
  }
 ],
 "metadata": {
  "kernelspec": {
   "display_name": "Python 3",
   "language": "python",
   "name": "python3"
  },
  "language_info": {
   "codemirror_mode": {
    "name": "ipython",
    "version": 3
   },
   "file_extension": ".py",
   "mimetype": "text/x-python",
   "name": "python",
   "nbconvert_exporter": "python",
   "pygments_lexer": "ipython3",
   "version": "3.5.2"
  }
 },
 "nbformat": 4,
 "nbformat_minor": 0
}
