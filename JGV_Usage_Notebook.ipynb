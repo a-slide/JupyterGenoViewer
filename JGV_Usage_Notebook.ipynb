{
 "cells": [
  {
   "cell_type": "code",
   "execution_count": 2,
   "metadata": {
    "collapsed": false
   },
   "outputs": [
    {
     "data": {
      "text/html": [
       "<style>.container { width:80% !important; }</style>"
      ],
      "text/plain": [
       "<IPython.core.display.HTML object>"
      ]
     },
     "metadata": {},
     "output_type": "display_data"
    },
    {
     "ename": "SyntaxError",
     "evalue": "invalid syntax (JGV.py, line 73)",
     "output_type": "error",
     "traceback": [
      "\u001b[1;36m  File \u001b[1;32m\"/home/aleg/Programming/Python3/JupyterGenoViewer/JGV.py\"\u001b[1;36m, line \u001b[1;32m73\u001b[0m\n\u001b[1;33m    def __str__(self):\u001b[0m\n\u001b[1;37m      ^\u001b[0m\n\u001b[1;31mSyntaxError\u001b[0m\u001b[1;31m:\u001b[0m invalid syntax\n"
     ]
    }
   ],
   "source": [
    "# Larger display \n",
    "from IPython.core.display import display, HTML\n",
    "display(HTML(\"<style>.container { width:80% !important; }</style>\"))\n",
    "\n",
    "# Import of required packages\n",
    "import matplotlib as mpl\n",
    "import pylab as pl\n",
    "import pysam\n",
    "%matplotlib inline\n",
    "\n",
    "# Import functions from JGV\n",
    "import JGV_helper_fun \n",
    "from JGV_helper_fun import *\n",
    "import JGV_Annotation\n",
    "from JGV_Annotation import *\n",
    "import JGV\n",
    "from JGV import JGV"
   ]
  }
 ],
 "metadata": {
  "kernelspec": {
   "display_name": "Python 3",
   "language": "python",
   "name": "python3"
  },
  "language_info": {
   "codemirror_mode": {
    "name": "ipython",
    "version": 3
   },
   "file_extension": ".py",
   "mimetype": "text/x-python",
   "name": "python",
   "nbconvert_exporter": "python",
   "pygments_lexer": "ipython3",
   "version": "3.5.2"
  }
 },
 "nbformat": 4,
 "nbformat_minor": 0
}
