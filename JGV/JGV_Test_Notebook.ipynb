{
 "cells": [
  {
   "cell_type": "markdown",
   "metadata": {},
   "source": [
    "# TEST JGV package\n",
    "** This notebook contains tests for all function contained in JGV package **"
   ]
  },
  {
   "cell_type": "code",
   "execution_count": 1,
   "metadata": {
    "ExecuteTime": {
     "end_time": "2017-03-16T14:39:09.651067",
     "start_time": "2017-03-16T14:39:09.079000"
    },
    "collapsed": false,
    "init_cell": true,
    "run_control": {
     "frozen": false,
     "read_only": false
    }
   },
   "outputs": [
    {
     "data": {
      "text/html": [
       "<style>.container { width:90% !important; }</style>"
      ],
      "text/plain": [
       "<IPython.core.display.HTML object>"
      ]
     },
     "metadata": {},
     "output_type": "display_data"
    }
   ],
   "source": [
    "# For ipython inline ploting ploting\n",
    "%matplotlib inline\n",
    "\n",
    "# Larger display \n",
    "from IPython.core.display import display, HTML\n",
    "display(HTML(\"<style>.container { width:90% !important; }</style>\"))\n",
    "\n",
    "# Import of required packages\n",
    "import pandas as pd\n",
    "import pylab as pl\n",
    "\n",
    "# Import functions from JGV\n",
    "from JGV_helper_fun import *\n",
    "from Reference import *\n",
    "from Annotation import *\n",
    "from Alignment import *\n",
    "from Level import *"
   ]
  },
  {
   "cell_type": "markdown",
   "metadata": {
    "heading_collapsed": true
   },
   "source": [
    "### Folder setup and download test files"
   ]
  },
  {
   "cell_type": "code",
   "execution_count": 1,
   "metadata": {
    "ExecuteTime": {
     "end_time": "2017-02-06T15:40:20.162338",
     "start_time": "2017-02-06T15:40:20.048110"
    },
    "collapsed": false,
    "hidden": true,
    "run_control": {
     "frozen": false,
     "read_only": false
    },
    "scrolled": true
   },
   "outputs": [
    {
     "name": "stdout",
     "output_type": "stream",
     "text": [
      "Create directory for the test dataset files\n"
     ]
    }
   ],
   "source": [
    "print (\"Create directory for the test dataset files\")\n",
    "!mkdir -p \"../dl_test_data/\""
   ]
  },
  {
   "cell_type": "code",
   "execution_count": 4,
   "metadata": {
    "ExecuteTime": {
     "end_time": "2017-02-06T15:43:26.205154",
     "start_time": "2017-02-06T15:41:16.630944"
    },
    "collapsed": false,
    "hidden": true,
    "run_control": {
     "frozen": false,
     "read_only": false
    }
   },
   "outputs": [
    {
     "name": "stdout",
     "output_type": "stream",
     "text": [
      "Download reference human genome from Gencode\n",
      "--2017-02-06 15:41:16--  ftp://ftp.sanger.ac.uk/pub/gencode/Gencode_human/release_25/GRCh38.primary_assembly.genome.fa.gz\n",
      "           => ‘../dowloaded_test_data/GRCh38_primary.fa.gz’\n",
      "Resolving ftp.sanger.ac.uk (ftp.sanger.ac.uk)... 193.62.203.17\n",
      "Connecting to ftp.sanger.ac.uk (ftp.sanger.ac.uk)|193.62.203.17|:21... connected.\n",
      "Logging in as anonymous ... Logged in!\n",
      "==> SYST ... done.    ==> PWD ... done.\n",
      "==> TYPE I ... done.  ==> CWD (1) /pub/gencode/Gencode_human/release_25 ... done.\n",
      "==> SIZE GRCh38.primary_assembly.genome.fa.gz ... 844691642\n",
      "==> PASV ... done.    ==> RETR GRCh38.primary_assembly.genome.fa.gz ... done.\n",
      "Length: 844691642 (806M) (unauthoritative)\n",
      "\n",
      "GRCh38.primary_asse 100%[===================>] 805.56M  6.55MB/s    in 2m 9s   \n",
      "\n",
      "2017-02-06 15:43:26 (6.25 MB/s) - ‘../dowloaded_test_data/GRCh38_primary.fa.gz’ saved [844691642]\n",
      "\n"
     ]
    }
   ],
   "source": [
    "print (\"Download reference human genome from Gencode\")\n",
    "!wget \"ftp://ftp.sanger.ac.uk/pub/gencode/Gencode_human/release_25/GRCh38.primary_assembly.genome.fa.gz\" -O \"../dl_test_data/GRCh38_primary.fa.gz\""
   ]
  },
  {
   "cell_type": "code",
   "execution_count": 5,
   "metadata": {
    "ExecuteTime": {
     "end_time": "2017-02-06T15:43:34.454409",
     "start_time": "2017-02-06T15:43:26.213558"
    },
    "collapsed": false,
    "hidden": true,
    "run_control": {
     "frozen": false,
     "read_only": false
    },
    "scrolled": true
   },
   "outputs": [
    {
     "name": "stdout",
     "output_type": "stream",
     "text": [
      "Download reference gencode v25 human genome annotation\n",
      "--2017-02-06 15:43:26--  ftp://ftp.sanger.ac.uk/pub/gencode/Gencode_human/release_25/gencode.v25.primary_assembly.annotation.gff3.gz\n",
      "           => ‘../dowloaded_test_data/gencode_v25_primary.gff3.gz’\n",
      "Resolving ftp.sanger.ac.uk (ftp.sanger.ac.uk)... 193.62.203.17\n",
      "Connecting to ftp.sanger.ac.uk (ftp.sanger.ac.uk)|193.62.203.17|:21... connected.\n",
      "Logging in as anonymous ... Logged in!\n",
      "==> SYST ... done.    ==> PWD ... done.\n",
      "==> TYPE I ... done.  ==> CWD (1) /pub/gencode/Gencode_human/release_25 ... done.\n",
      "==> SIZE gencode.v25.primary_assembly.annotation.gff3.gz ... 46752876\n",
      "==> PASV ... done.    ==> RETR gencode.v25.primary_assembly.annotation.gff3.gz ... done.\n",
      "Length: 46752876 (45M) (unauthoritative)\n",
      "\n",
      "gencode.v25.primary 100%[===================>]  44.59M  5.66MB/s    in 7.7s    \n",
      "\n",
      "2017-02-06 15:43:34 (5.80 MB/s) - ‘../dowloaded_test_data/gencode_v25_primary.gff3.gz’ saved [46752876]\n",
      "\n"
     ]
    }
   ],
   "source": [
    "print (\"Download reference gencode v25 human genome annotation\")\n",
    "!wget \"ftp://ftp.sanger.ac.uk/pub/gencode/Gencode_human/release_25/gencode.v25.primary_assembly.annotation.gff3.gz\" -O \"../dl_test_data/gencode_v25_primary.gff3.gz\""
   ]
  },
  {
   "cell_type": "code",
   "execution_count": 6,
   "metadata": {
    "ExecuteTime": {
     "end_time": "2017-02-06T15:43:41.490833",
     "start_time": "2017-02-06T15:43:34.462188"
    },
    "collapsed": false,
    "hidden": true,
    "run_control": {
     "frozen": false,
     "read_only": false
    }
   },
   "outputs": [
    {
     "name": "stdout",
     "output_type": "stream",
     "text": [
      "Download reference gencode v25 human genome annotation\n",
      "--2017-02-06 15:43:34--  ftp://ftp.sanger.ac.uk/pub/gencode/Gencode_human/release_25/gencode.v25.primary_assembly.annotation.gtf.gz\n",
      "           => ‘../dowloaded_test_data/gencode_v25_primary.gtf.gz’\n",
      "Resolving ftp.sanger.ac.uk (ftp.sanger.ac.uk)... 193.62.203.17\n",
      "Connecting to ftp.sanger.ac.uk (ftp.sanger.ac.uk)|193.62.203.17|:21... connected.\n",
      "Logging in as anonymous ... Logged in!\n",
      "==> SYST ... done.    ==> PWD ... done.\n",
      "==> TYPE I ... done.  ==> CWD (1) /pub/gencode/Gencode_human/release_25 ... done.\n",
      "==> SIZE gencode.v25.primary_assembly.annotation.gtf.gz ... 38827267\n",
      "==> PASV ... done.    ==> RETR gencode.v25.primary_assembly.annotation.gtf.gz ... done.\n",
      "Length: 38827267 (37M) (unauthoritative)\n",
      "\n",
      "gencode.v25.primary 100%[===================>]  37.03M  6.21MB/s    in 6.5s    \n",
      "\n",
      "2017-02-06 15:43:41 (5.71 MB/s) - ‘../dowloaded_test_data/gencode_v25_primary.gtf.gz’ saved [38827267]\n",
      "\n"
     ]
    }
   ],
   "source": [
    "print (\"Download reference gencode v25 human genome annotation\")\n",
    "!wget \"ftp://ftp.sanger.ac.uk/pub/gencode/Gencode_human/release_25/gencode.v25.primary_assembly.annotation.gtf.gz\" -O \"../dl_test_data/gencode_v25_primary.gtf.gz\""
   ]
  },
  {
   "cell_type": "code",
   "execution_count": 7,
   "metadata": {
    "ExecuteTime": {
     "end_time": "2017-02-06T15:44:00.088905",
     "start_time": "2017-02-06T15:43:41.495312"
    },
    "collapsed": false,
    "hidden": true,
    "run_control": {
     "frozen": false,
     "read_only": false
    }
   },
   "outputs": [
    {
     "name": "stdout",
     "output_type": "stream",
     "text": [
      "Download reference gencode v25 human genome annotation\n",
      "--2017-02-06 15:43:41--  http://www.noncode.org/datadownload/NONCODE2016_human_hg38_lncRNA.gtf.gz\n",
      "Resolving www.noncode.org (www.noncode.org)... 112.124.13.146\n",
      "Connecting to www.noncode.org (www.noncode.org)|112.124.13.146|:80... connected.\n",
      "HTTP request sent, awaiting response... 200 OK\n",
      "Length: 8248713 (7.9M) [application/x-gzip]\n",
      "Saving to: ‘../dowloaded_test_data/NONCODE2016_human_hg38_lncRNA.gtf.gz’\n",
      "\n",
      "../dowloaded_test_d 100%[===================>]   7.87M   757KB/s    in 18s     \n",
      "\n",
      "2017-02-06 15:43:59 (457 KB/s) - ‘../dowloaded_test_data/NONCODE2016_human_hg38_lncRNA.gtf.gz’ saved [8248713/8248713]\n",
      "\n"
     ]
    }
   ],
   "source": [
    "print (\"Download reference gencode v25 human genome annotation\")\n",
    "!wget \"http://www.noncode.org/datadownload/NONCODE2016_human_hg38_lncRNA.gtf.gz\" -O \"../dl_test_data/NONCODE2016_human_hg38_lncRNA.gtf.gz\""
   ]
  },
  {
   "cell_type": "code",
   "execution_count": 35,
   "metadata": {
    "ExecuteTime": {
     "end_time": "2017-02-06T17:18:44.013192",
     "start_time": "2017-02-06T17:18:28.736264"
    },
    "collapsed": false,
    "hidden": true,
    "run_control": {
     "frozen": false,
     "read_only": false
    }
   },
   "outputs": [
    {
     "name": "stdout",
     "output_type": "stream",
     "text": [
      "Download example bam file\n",
      "--2017-02-06 17:18:29--  http://www.ebi.ac.uk/~aleg/data/share/1M.bam\n",
      "Resolving www.ebi.ac.uk (www.ebi.ac.uk)... 193.62.193.80\n",
      "Connecting to www.ebi.ac.uk (www.ebi.ac.uk)|193.62.193.80|:80... connected.\n",
      "HTTP request sent, awaiting response... 200 OK\n",
      "Length: 98262031 (94M) [text/plain]\n",
      "Saving to: ‘../dl_test_data/1M.bam’\n",
      "\n",
      "../dl_test_data/1M. 100%[===================>]  93.71M  6.55MB/s    in 15s     \n",
      "\n",
      "2017-02-06 17:18:43 (6.42 MB/s) - ‘../dl_test_data/1M.bam’ saved [98262031/98262031]\n",
      "\n"
     ]
    }
   ],
   "source": [
    "print (\"Download example bam file\")\n",
    "!wget -v \"http://www.ebi.ac.uk/~aleg/data/share/1M.bam\" -O \"../dl_test_data/1M.bam\""
   ]
  },
  {
   "cell_type": "markdown",
   "metadata": {
    "hidden": true
   },
   "source": [
    "---"
   ]
  },
  {
   "cell_type": "markdown",
   "metadata": {},
   "source": [
    "# JGV_helper_fun"
   ]
  },
  {
   "cell_type": "markdown",
   "metadata": {
    "heading_collapsed": true
   },
   "source": [
    "## extensions"
   ]
  },
  {
   "cell_type": "code",
   "execution_count": 9,
   "metadata": {
    "ExecuteTime": {
     "end_time": "2017-01-25T15:01:58.551722",
     "start_time": "2017-01-25T15:01:58.548237"
    },
    "collapsed": false,
    "hidden": true,
    "run_control": {
     "frozen": false,
     "read_only": false
    },
    "scrolled": true
   },
   "outputs": [
    {
     "name": "stdout",
     "output_type": "stream",
     "text": [
      "Help on function extensions in module JGV_helper_fun:\n",
      "\n",
      "extensions(fp)\n",
      "    Return the extension of a file in lower-case.\n",
      "    If the file is gziped the method will output the base extension + the archive extension\n",
      "\n"
     ]
    }
   ],
   "source": [
    "help (extensions)"
   ]
  },
  {
   "cell_type": "code",
   "execution_count": 3,
   "metadata": {
    "ExecuteTime": {
     "end_time": "2017-01-25T15:01:28.290982",
     "start_time": "2017-01-25T15:01:28.281515"
    },
    "collapsed": false,
    "hidden": true,
    "run_control": {
     "frozen": false,
     "read_only": false
    }
   },
   "outputs": [
    {
     "data": {
      "text/plain": [
       "['ipynb']"
      ]
     },
     "execution_count": 3,
     "metadata": {},
     "output_type": "execute_result"
    }
   ],
   "source": [
    "extensions(\"./JGV_Test_Notebook.ipynb\")"
   ]
  },
  {
   "cell_type": "code",
   "execution_count": 4,
   "metadata": {
    "ExecuteTime": {
     "end_time": "2017-01-25T15:01:29.591354",
     "start_time": "2017-01-25T15:01:29.586581"
    },
    "collapsed": false,
    "hidden": true,
    "run_control": {
     "frozen": false,
     "read_only": false
    }
   },
   "outputs": [
    {
     "data": {
      "text/plain": [
       "['fa', 'gz']"
      ]
     },
     "execution_count": 4,
     "metadata": {},
     "output_type": "execute_result"
    }
   ],
   "source": [
    "extensions(\"../test_data/GRCh38_primary.fa.gz\")"
   ]
  },
  {
   "cell_type": "code",
   "execution_count": 5,
   "metadata": {
    "ExecuteTime": {
     "end_time": "2017-01-25T15:01:30.892399",
     "start_time": "2017-01-25T15:01:30.879073"
    },
    "collapsed": false,
    "hidden": true,
    "run_control": {
     "frozen": false,
     "read_only": false
    }
   },
   "outputs": [
    {
     "data": {
      "text/plain": [
       "[]"
      ]
     },
     "execution_count": 5,
     "metadata": {},
     "output_type": "execute_result"
    }
   ],
   "source": [
    "extensions(\"../test_data/GRCh38_primary\")"
   ]
  },
  {
   "cell_type": "markdown",
   "metadata": {
    "heading_collapsed": true
   },
   "source": [
    "## file_basename"
   ]
  },
  {
   "cell_type": "code",
   "execution_count": 8,
   "metadata": {
    "ExecuteTime": {
     "end_time": "2017-01-25T15:01:55.675212",
     "start_time": "2017-01-25T15:01:55.672173"
    },
    "collapsed": false,
    "hidden": true,
    "run_control": {
     "frozen": false,
     "read_only": false
    }
   },
   "outputs": [
    {
     "name": "stdout",
     "output_type": "stream",
     "text": [
      "Help on function file_basename in module JGV_helper_fun:\n",
      "\n",
      "file_basename(fp)\n",
      "    Return the base name of a file without extension nor path.\n",
      "    If the file is gziped the method will output the name without extension + the archive extension\n",
      "\n"
     ]
    }
   ],
   "source": [
    "help(file_basename)"
   ]
  },
  {
   "cell_type": "code",
   "execution_count": 12,
   "metadata": {
    "ExecuteTime": {
     "end_time": "2017-01-25T10:33:00.268303",
     "start_time": "2017-01-25T10:33:00.264339"
    },
    "collapsed": false,
    "hidden": true,
    "run_control": {
     "frozen": false,
     "read_only": false
    }
   },
   "outputs": [
    {
     "data": {
      "text/plain": [
       "'Annotation'"
      ]
     },
     "execution_count": 12,
     "metadata": {},
     "output_type": "execute_result"
    }
   ],
   "source": [
    "file_basename(\"./Annotation.py\")"
   ]
  },
  {
   "cell_type": "code",
   "execution_count": 15,
   "metadata": {
    "ExecuteTime": {
     "end_time": "2017-01-25T10:34:55.125050",
     "start_time": "2017-01-25T10:34:55.118099"
    },
    "collapsed": false,
    "hidden": true,
    "run_control": {
     "frozen": false,
     "read_only": false
    }
   },
   "outputs": [
    {
     "data": {
      "text/plain": [
       "'10M_sample'"
      ]
     },
     "execution_count": 15,
     "metadata": {},
     "output_type": "execute_result"
    }
   ],
   "source": [
    "file_basename(\"../test_data/10M_sample.bam\")"
   ]
  },
  {
   "cell_type": "code",
   "execution_count": 16,
   "metadata": {
    "ExecuteTime": {
     "end_time": "2017-01-25T10:35:15.707067",
     "start_time": "2017-01-25T10:35:15.703915"
    },
    "collapsed": false,
    "hidden": true,
    "run_control": {
     "frozen": false,
     "read_only": false
    }
   },
   "outputs": [
    {
     "data": {
      "text/plain": [
       "'NONCODE2016_human_hg38_lncRNA_sorted'"
      ]
     },
     "execution_count": 16,
     "metadata": {},
     "output_type": "execute_result"
    }
   ],
   "source": [
    "file_basename(\"../test_data/NONCODE2016_human_hg38_lncRNA_sorted.gtf.gz\")"
   ]
  },
  {
   "cell_type": "markdown",
   "metadata": {
    "ExecuteTime": {
     "end_time": "2017-01-25T09:16:47.219378",
     "start_time": "2017-01-25T09:16:47.215434"
    },
    "collapsed": true,
    "heading_collapsed": true
   },
   "source": [
    "## dir_path"
   ]
  },
  {
   "cell_type": "code",
   "execution_count": 7,
   "metadata": {
    "ExecuteTime": {
     "end_time": "2017-01-25T15:01:52.387592",
     "start_time": "2017-01-25T15:01:52.383913"
    },
    "collapsed": false,
    "hidden": true,
    "run_control": {
     "frozen": false,
     "read_only": false
    }
   },
   "outputs": [
    {
     "name": "stdout",
     "output_type": "stream",
     "text": [
      "Help on function dir_path in module JGV_helper_fun:\n",
      "\n",
      "dir_path(fp)\n",
      "    Return the directory path of a file\n",
      "\n"
     ]
    }
   ],
   "source": [
    "help(dir_path)"
   ]
  },
  {
   "cell_type": "code",
   "execution_count": 6,
   "metadata": {
    "ExecuteTime": {
     "end_time": "2017-01-25T15:01:49.361760",
     "start_time": "2017-01-25T15:01:49.355770"
    },
    "collapsed": false,
    "hidden": true,
    "run_control": {
     "frozen": false,
     "read_only": false
    }
   },
   "outputs": [
    {
     "data": {
      "text/plain": [
       "'../test_data'"
      ]
     },
     "execution_count": 6,
     "metadata": {},
     "output_type": "execute_result"
    }
   ],
   "source": [
    "dir_path(\"../test_data/NONCODE2016_human_hg38_lncRNA_sorted.gtf.gz\")"
   ]
  },
  {
   "cell_type": "code",
   "execution_count": 18,
   "metadata": {
    "ExecuteTime": {
     "end_time": "2017-01-25T10:35:53.550251",
     "start_time": "2017-01-25T10:35:53.546776"
    },
    "collapsed": false,
    "hidden": true,
    "run_control": {
     "frozen": false,
     "read_only": false
    }
   },
   "outputs": [
    {
     "data": {
      "text/plain": [
       "'.'"
      ]
     },
     "execution_count": 18,
     "metadata": {},
     "output_type": "execute_result"
    }
   ],
   "source": [
    "dir_path(\"./JGV.py\")"
   ]
  },
  {
   "cell_type": "markdown",
   "metadata": {
    "heading_collapsed": true
   },
   "source": [
    "## color_palette"
   ]
  },
  {
   "cell_type": "code",
   "execution_count": 10,
   "metadata": {
    "ExecuteTime": {
     "end_time": "2017-01-25T15:02:06.343289",
     "start_time": "2017-01-25T15:02:06.339477"
    },
    "collapsed": false,
    "hidden": true,
    "run_control": {
     "frozen": false,
     "read_only": false
    }
   },
   "outputs": [
    {
     "name": "stdout",
     "output_type": "stream",
     "text": [
      "Help on function color_palette in module JGV_helper_fun:\n",
      "\n",
      "color_palette(n, colormap='brg')\n",
      "    Return a list of n length with gradient colors from a given matplot lib colormap palette\n",
      "    * n         Number of color scalar in the list\n",
      "    * colormap  colormap color palette from matplotlib package.\n",
      "                See http://matplotlib.org/examples/color/colormaps_reference.html\n",
      "                example : inferno magma hot blues cool spring winter brg ocean hsv jet ... [DEFAULT: brg]\n",
      "\n"
     ]
    }
   ],
   "source": [
    "help(color_palette)"
   ]
  },
  {
   "cell_type": "code",
   "execution_count": 11,
   "metadata": {
    "ExecuteTime": {
     "end_time": "2017-01-25T15:02:07.830924",
     "start_time": "2017-01-25T15:02:07.823822"
    },
    "collapsed": false,
    "hidden": true,
    "run_control": {
     "frozen": false,
     "read_only": false
    },
    "scrolled": true
   },
   "outputs": [
    {
     "data": {
      "text/html": [
       "<p>[(0.26851000000000003, 0.0096050000000000007, 0.33542699999999998, 1.0), (0.28086800000000001, 0.160771, 0.47289900000000001, 1.0), (0.243113, 0.29209200000000002, 0.53851599999999999, 1.0), (0.19063099999999999, 0.40706100000000001, 0.55608900000000006, 1.0), (0.14760699999999999, 0.51173299999999999, 0.55704900000000002, 1.0), (0.11948300000000001, 0.61481699999999995, 0.53769199999999995, 1.0), (0.20221900000000001, 0.71527200000000002, 0.47608400000000001, 1.0), (0.41291299999999997, 0.803041, 0.357269, 1.0), (0.688944, 0.865448, 0.182725, 1.0), (0.97441699999999998, 0.90359, 0.130215, 1.0)]</p>"
      ],
      "text/plain": [
       "<IPython.core.display.HTML object>"
      ]
     },
     "metadata": {},
     "output_type": "display_data"
    }
   ],
   "source": [
    "c= color_palette (n=10, colormap=\"viridis\")\n",
    "print(c)"
   ]
  },
  {
   "cell_type": "code",
   "execution_count": 12,
   "metadata": {
    "ExecuteTime": {
     "end_time": "2017-01-25T15:02:09.105480",
     "start_time": "2017-01-25T15:02:08.955514"
    },
    "collapsed": false,
    "hidden": true,
    "run_control": {
     "frozen": false,
     "read_only": false
    }
   },
   "outputs": [
    {
     "data": {
      "image/png": "[encoded data removed]",
      "text/plain": [
       "<matplotlib.figure.Figure at 0x7f578c0f3b00>"
      ]
     },
     "metadata": {},
     "output_type": "display_data"
    }
   ],
   "source": [
    "c= color_palette (n=20, colormap=\"Reds\")\n",
    "pl.figure(figsize=(20,1))\n",
    "pl.axis(\"off\")\n",
    "for i, color in enumerate(c):\n",
    "    pl.scatter(i, 1, c=color, linewidths=0, s=500)"
   ]
  },
  {
   "cell_type": "markdown",
   "metadata": {
    "heading_collapsed": true
   },
   "source": [
    "## jprint"
   ]
  },
  {
   "cell_type": "code",
   "execution_count": 16,
   "metadata": {
    "ExecuteTime": {
     "end_time": "2017-01-25T09:18:46.713086",
     "start_time": "2017-01-25T09:18:46.708955"
    },
    "collapsed": false,
    "hidden": true,
    "run_control": {
     "frozen": false,
     "read_only": false
    }
   },
   "outputs": [
    {
     "name": "stdout",
     "output_type": "stream",
     "text": [
      "Help on function jprint in module JGV_helper_fun:\n",
      "\n",
      "jprint(*args, **kwargs)\n",
      "    Format a string in HTML and print the output. Equivalent of print, but highly customizable\n",
      "    Many options can be passed to the function.\n",
      "    * args\n",
      "        One or several objects that can be cast in str\n",
      "    ** kwargs\n",
      "        Formatting options to tweak the html rendering \n",
      "        Boolean options : bold, italic, highlight, underlined, striked, subscripted, superscripted\n",
      "        String oprions: font, color, size, align, background_color\n",
      "\n"
     ]
    }
   ],
   "source": [
    "help(jprint)"
   ]
  },
  {
   "cell_type": "code",
   "execution_count": 51,
   "metadata": {
    "ExecuteTime": {
     "end_time": "2017-01-25T10:56:08.671028",
     "start_time": "2017-01-25T10:56:08.666578"
    },
    "collapsed": false,
    "hidden": true,
    "run_control": {
     "frozen": false,
     "read_only": false
    }
   },
   "outputs": [
    {
     "data": {
      "text/html": [
       "<p style=\"font-family:Serif;\"><b>This Function is better than the default print</b></p>"
      ],
      "text/plain": [
       "<IPython.core.display.HTML object>"
      ]
     },
     "metadata": {},
     "output_type": "display_data"
    }
   ],
   "source": [
    "jprint(\"This\", \"Function\", \"is\", \"better than the default print\", bold=True, font=\"Serif\")"
   ]
  },
  {
   "cell_type": "code",
   "execution_count": 70,
   "metadata": {
    "ExecuteTime": {
     "end_time": "2017-01-25T11:04:02.752472",
     "start_time": "2017-01-25T11:04:02.749156"
    },
    "collapsed": false,
    "hidden": true,
    "run_control": {
     "frozen": false,
     "read_only": false
    }
   },
   "outputs": [
    {
     "data": {
      "text/html": [
       "<p style=\"color:blue;font-size:200%;text-align:center;\">This <b>Function</b> is better<br> than the default print</p>"
      ],
      "text/plain": [
       "<IPython.core.display.HTML object>"
      ]
     },
     "metadata": {},
     "output_type": "display_data"
    }
   ],
   "source": [
    "jprint(\"This <b>Function</b> is better\\n than the default print\", color=\"blue\", align=\"center\", size = 200)"
   ]
  },
  {
   "cell_type": "markdown",
   "metadata": {
    "heading_collapsed": true
   },
   "source": [
    "# Reference"
   ]
  },
  {
   "cell_type": "code",
   "execution_count": 13,
   "metadata": {
    "ExecuteTime": {
     "end_time": "2017-01-25T15:02:13.686275",
     "start_time": "2017-01-25T15:02:13.681248"
    },
    "collapsed": false,
    "hidden": true,
    "run_control": {
     "frozen": false,
     "read_only": false
    }
   },
   "outputs": [
    {
     "name": "stdout",
     "output_type": "stream",
     "text": [
      "Help on class Reference in module Reference:\n",
      "\n",
      "class Reference(builtins.object)\n",
      " |  Methods defined here:\n",
      " |  \n",
      " |  __init__(self, fp, name=None, verbose=False)\n",
      " |       * fp\n",
      " |          A fasta file containing the reference sequences OR an tab separated index file containing at least 2 columns\n",
      " |          with the seqid and the length in bases (like a .fa.fai file generated by samtools faidx).\n",
      " |          The fasta option will take more time as the file has to be parsed to get the seqid and length of sequences.\n",
      " |          A 2 column index tsv file will be automatically generated for latter usage as an index file.\n",
      " |          Both fasta and infex file can be gziped\n",
      " |      *  name\n",
      " |          Name of the data file that will be used as track name for plotting. If not given, will be deduced from fp\n",
      " |          file name\n",
      " |      * verbose\n",
      " |          If True, will print more information during initialisation and calls of all the object methods.\n",
      " |  \n",
      " |  __repr__(self)\n",
      " |      Return repr(self).\n",
      " |  \n",
      " |  __str__(self)\n",
      " |      readable description of the object\n",
      " |  \n",
      " |  get_seqid_len(self, seqid)\n",
      " |      Return the length of a given seqid\n",
      " |  \n",
      " |  ----------------------------------------------------------------------\n",
      " |  Data descriptors defined here:\n",
      " |  \n",
      " |  __dict__\n",
      " |      dictionary for instance variables (if defined)\n",
      " |  \n",
      " |  __weakref__\n",
      " |      list of weak references to the object (if defined)\n",
      " |  \n",
      " |  seqid_list\n",
      " |      List of all the sequence ids found in the annotation file\n",
      "\n"
     ]
    }
   ],
   "source": [
    "help(Reference)"
   ]
  },
  {
   "cell_type": "markdown",
   "metadata": {
    "hidden": true
   },
   "source": [
    "**Test the instanciation of the Reference class from a fasta file**"
   ]
  },
  {
   "cell_type": "code",
   "execution_count": 14,
   "metadata": {
    "ExecuteTime": {
     "end_time": "2017-01-25T15:02:18.591791",
     "start_time": "2017-01-25T15:02:18.575007"
    },
    "collapsed": false,
    "hidden": true,
    "run_control": {
     "frozen": false,
     "read_only": false
    },
    "scrolled": true
   },
   "outputs": [
    {
     "data": {
      "text/html": [
       "<p>Reference instance<br>&emsp;name&emsp;ERCC<br>&emsp;verbose&emsp;False<br>&emsp;&emsp;seqid&emsp;length<br>&emsp;&emsp;ERCC-00104&emsp;2022<br>&emsp;&emsp;ERCC-00033&emsp;2022<br>&emsp;&emsp;ERCC-00025&emsp;1994<br>&emsp;&emsp;ERCC-00116&emsp;1991<br>&emsp;&emsp;ERCC-00014&emsp;1957<br>&emsp;&emsp;... total sequences&emsp;96<br></p>"
      ],
      "text/plain": [
       "<IPython.core.display.HTML object>"
      ]
     },
     "metadata": {},
     "output_type": "display_data"
    }
   ],
   "source": [
    "r = Reference (\"../test_data/ERCC.fa.gz\")\n",
    "print(r)"
   ]
  },
  {
   "cell_type": "markdown",
   "metadata": {
    "hidden": true
   },
   "source": [
    "**Test the instanciation of the Reference class from the auto generated fasta index**"
   ]
  },
  {
   "cell_type": "code",
   "execution_count": 15,
   "metadata": {
    "ExecuteTime": {
     "end_time": "2017-01-25T15:02:22.077937",
     "start_time": "2017-01-25T15:02:22.055477"
    },
    "collapsed": false,
    "hidden": true,
    "run_control": {
     "frozen": false,
     "read_only": false
    }
   },
   "outputs": [
    {
     "data": {
      "text/html": [
       "<p>Reference instance<br>&emsp;name&emsp;ERCC<br>&emsp;verbose&emsp;False<br>&emsp;&emsp;seqid&emsp;length<br>&emsp;&emsp;ERCC-00104&emsp;2022<br>&emsp;&emsp;ERCC-00033&emsp;2022<br>&emsp;&emsp;ERCC-00025&emsp;1994<br>&emsp;&emsp;ERCC-00116&emsp;1991<br>&emsp;&emsp;ERCC-00014&emsp;1957<br>&emsp;&emsp;... total sequences&emsp;96<br></p>"
      ],
      "text/plain": [
       "<IPython.core.display.HTML object>"
      ]
     },
     "metadata": {},
     "output_type": "display_data"
    }
   ],
   "source": [
    "r = Reference (\"../test_data/ERCC.tsv\")\n",
    "print(r)"
   ]
  },
  {
   "cell_type": "markdown",
   "metadata": {
    "hidden": true
   },
   "source": [
    "**Test self methods** "
   ]
  },
  {
   "cell_type": "code",
   "execution_count": 16,
   "metadata": {
    "ExecuteTime": {
     "end_time": "2017-01-25T15:02:23.146188",
     "start_time": "2017-01-25T15:02:23.141171"
    },
    "collapsed": false,
    "hidden": true,
    "run_control": {
     "frozen": false,
     "read_only": false
    }
   },
   "outputs": [
    {
     "data": {
      "text/plain": [
       "2022"
      ]
     },
     "execution_count": 16,
     "metadata": {},
     "output_type": "execute_result"
    }
   ],
   "source": [
    "r.get_seqid_len(\"ERCC-00033\")"
   ]
  },
  {
   "cell_type": "code",
   "execution_count": 17,
   "metadata": {
    "ExecuteTime": {
     "end_time": "2017-01-25T15:02:24.121912",
     "start_time": "2017-01-25T15:02:24.114867"
    },
    "collapsed": false,
    "hidden": true,
    "run_control": {
     "frozen": false,
     "read_only": false
    },
    "scrolled": true
   },
   "outputs": [
    {
     "data": {
      "text/html": [
       "<div>\n",
       "<table border=\"1\" class=\"dataframe\">\n",
       "  <thead>\n",
       "    <tr style=\"text-align: right;\">\n",
       "      <th></th>\n",
       "      <th>length</th>\n",
       "    </tr>\n",
       "    <tr>\n",
       "      <th>seqid</th>\n",
       "      <th></th>\n",
       "    </tr>\n",
       "  </thead>\n",
       "  <tbody>\n",
       "    <tr>\n",
       "      <th>ERCC-00104</th>\n",
       "      <td>2022</td>\n",
       "    </tr>\n",
       "    <tr>\n",
       "      <th>ERCC-00033</th>\n",
       "      <td>2022</td>\n",
       "    </tr>\n",
       "    <tr>\n",
       "      <th>ERCC-00025</th>\n",
       "      <td>1994</td>\n",
       "    </tr>\n",
       "    <tr>\n",
       "      <th>ERCC-00116</th>\n",
       "      <td>1991</td>\n",
       "    </tr>\n",
       "    <tr>\n",
       "      <th>ERCC-00014</th>\n",
       "      <td>1957</td>\n",
       "    </tr>\n",
       "  </tbody>\n",
       "</table>\n",
       "</div>"
      ],
      "text/plain": [
       "            length\n",
       "seqid             \n",
       "ERCC-00104    2022\n",
       "ERCC-00033    2022\n",
       "ERCC-00025    1994\n",
       "ERCC-00116    1991\n",
       "ERCC-00014    1957"
      ]
     },
     "execution_count": 17,
     "metadata": {},
     "output_type": "execute_result"
    }
   ],
   "source": [
    "r.seq_list.head()"
   ]
  },
  {
   "cell_type": "markdown",
   "metadata": {
    "heading_collapsed": true
   },
   "source": [
    "# Level"
   ]
  },
  {
   "cell_type": "code",
   "execution_count": 2,
   "metadata": {
    "ExecuteTime": {
     "end_time": "2017-02-06T18:30:35.450607",
     "start_time": "2017-02-06T18:30:35.445185"
    },
    "collapsed": false,
    "hidden": true,
    "run_control": {
     "frozen": false,
     "read_only": false
    },
    "scrolled": true
   },
   "outputs": [
    {
     "name": "stdout",
     "output_type": "stream",
     "text": [
      "Help on class Level in module Level:\n",
      "\n",
      "class Level(builtins.object)\n",
      " |  Compute the level of a given feature on the Annotation track to avoid annotation overlaping\n",
      " |  \n",
      " |  Methods defined here:\n",
      " |  \n",
      " |  __call__(self, ID, start, end, strand)\n",
      " |      Compute the level of an annnotation feature based on the instance options and the other feautures previously\n",
      " |      analysed, to avoid overlapping. Iterative call of the function has to be done with annotation features sorted\n",
      " |      by start coordinates.\n",
      " |      * ID\n",
      " |          Name of the feature to fit in a level\n",
      " |      * start\n",
      " |          Start coordinate of the feature to fit in a level, on the positive strand\n",
      " |      * end\n",
      " |          End coordinate of the feature to fit in a level, on the positive strand\n",
      " |      * strand\n",
      " |          Strand of the feature. Can be + - or None\n",
      " |  \n",
      " |  __init__(self, max_depth=10, offset=10, filter_pos=False, filter_neg=False, filter_unstrand=True)\n",
      " |      Define general options for Level class\n",
      " |      * max_depth\n",
      " |          Maximal total number of positive or negative levels.\n",
      " |      * offset\n",
      " |          Minimal distance between 2 contigous annotation features on the same level\n",
      " |      * filter_pos\n",
      " |          Filter-out annotation features on the positive strand [ DEFAULT: False ]\n",
      " |      * filter_neg\n",
      " |          Filter-out annotation features on the negative strand [ DEFAULT: False ]\n",
      " |      * filter_unstrand\n",
      " |          Filter-out annotation features with no strand specified [ DEFAULT: True ]\n",
      " |  \n",
      " |  __repr__(self)\n",
      " |      Return repr(self).\n",
      " |  \n",
      " |  __str__(self)\n",
      " |      readable description of the object\n",
      " |  \n",
      " |  ----------------------------------------------------------------------\n",
      " |  Data descriptors defined here:\n",
      " |  \n",
      " |  __dict__\n",
      " |      dictionary for instance variables (if defined)\n",
      " |  \n",
      " |  __weakref__\n",
      " |      list of weak references to the object (if defined)\n",
      " |  \n",
      " |  max_level\n",
      " |      Return the minimal level index\n",
      " |  \n",
      " |  min_level\n",
      " |      Return the minimal level index\n",
      " |  \n",
      " |  n_level\n",
      " |      Return the total number of levels index\n",
      "\n"
     ]
    }
   ],
   "source": [
    "help(Level)"
   ]
  },
  {
   "cell_type": "markdown",
   "metadata": {
    "hidden": true
   },
   "source": [
    "**Test instanciation**"
   ]
  },
  {
   "cell_type": "code",
   "execution_count": 11,
   "metadata": {
    "ExecuteTime": {
     "end_time": "2017-02-07T17:13:09.178047",
     "start_time": "2017-02-07T17:13:09.173076"
    },
    "collapsed": false,
    "hidden": true,
    "run_control": {
     "frozen": false,
     "read_only": false
    },
    "scrolled": true
   },
   "outputs": [
    {
     "data": {
      "text/html": [
       "<p>Level instance<br>&emsp;count&emsp;Counter()<br>&emsp;enhanced_feature&emsp;<class 'Level.enhanced_feature'><br>&emsp;filter_neg&emsp;False<br>&emsp;filter_pos&emsp;False<br>&emsp;filter_unstrand&emsp;True<br>&emsp;level_dict&emsp;{}<br>&emsp;max_depth&emsp;3<br>&emsp;neg_arrowstyle&emsp;<|-,head_width=1,head_length=2<br>&emsp;offset&emsp;10<br>&emsp;pos_arrowstyle&emsp;-|>,head_width=1,head_length=2<br>&emsp;unstrand_arrowstyle&emsp;-<br></p>"
      ],
      "text/plain": [
       "<IPython.core.display.HTML object>"
      ]
     },
     "metadata": {},
     "output_type": "display_data"
    }
   ],
   "source": [
    "l = Level (max_depth=3, offset=10, filter_pos=False, filter_neg=False, filter_unstrand=True)\n",
    "print(l)"
   ]
  },
  {
   "cell_type": "markdown",
   "metadata": {
    "hidden": true
   },
   "source": [
    "**Test object calling with various values of features**\n",
    "\n",
    "All should be valid except 4 and 10 "
   ]
  },
  {
   "cell_type": "code",
   "execution_count": 12,
   "metadata": {
    "ExecuteTime": {
     "end_time": "2017-02-07T17:13:12.059310",
     "start_time": "2017-02-07T17:13:12.038573"
    },
    "collapsed": false,
    "hidden": true,
    "run_control": {
     "frozen": false,
     "read_only": false
    }
   },
   "outputs": [
    {
     "data": {
      "text/html": [
       "<p>enhanced_feature(ID='1', start=10, end=20, arrowstyle='-|>,head_width=1,head_length=2', level=1)</p>"
      ],
      "text/plain": [
       "<IPython.core.display.HTML object>"
      ]
     },
     "metadata": {},
     "output_type": "display_data"
    },
    {
     "data": {
      "text/html": [
       "<p>enhanced_feature(ID='2', start=12, end=22, arrowstyle='-|>,head_width=1,head_length=2', level=2)</p>"
      ],
      "text/plain": [
       "<IPython.core.display.HTML object>"
      ]
     },
     "metadata": {},
     "output_type": "display_data"
    },
    {
     "data": {
      "text/html": [
       "<p>enhanced_feature(ID='3', start=14, end=24, arrowstyle='-|>,head_width=1,head_length=2', level=3)</p>"
      ],
      "text/plain": [
       "<IPython.core.display.HTML object>"
      ]
     },
     "metadata": {},
     "output_type": "display_data"
    },
    {
     "data": {
      "text/html": [
       "<p>None</p>"
      ],
      "text/plain": [
       "<IPython.core.display.HTML object>"
      ]
     },
     "metadata": {},
     "output_type": "display_data"
    },
    {
     "data": {
      "text/html": [
       "<p>enhanced_feature(ID='5', start=14, end=24, arrowstyle='<|-,head_width=1,head_length=2', level=-1)</p>"
      ],
      "text/plain": [
       "<IPython.core.display.HTML object>"
      ]
     },
     "metadata": {},
     "output_type": "display_data"
    },
    {
     "data": {
      "text/html": [
       "<p>enhanced_feature(ID='6', start=27, end=43, arrowstyle='<|-,head_width=1,head_length=2', level=-2)</p>"
      ],
      "text/plain": [
       "<IPython.core.display.HTML object>"
      ]
     },
     "metadata": {},
     "output_type": "display_data"
    },
    {
     "data": {
      "text/html": [
       "<p>enhanced_feature(ID='7', start=27, end=48, arrowstyle='<|-,head_width=1,head_length=2', level=-3)</p>"
      ],
      "text/plain": [
       "<IPython.core.display.HTML object>"
      ]
     },
     "metadata": {},
     "output_type": "display_data"
    },
    {
     "data": {
      "text/html": [
       "<p>enhanced_feature(ID='8', start=54, end=76, arrowstyle='<|-,head_width=1,head_length=2', level=-1)</p>"
      ],
      "text/plain": [
       "<IPython.core.display.HTML object>"
      ]
     },
     "metadata": {},
     "output_type": "display_data"
    },
    {
     "data": {
      "text/html": [
       "<p>enhanced_feature(ID='9', start=54, end=76, arrowstyle='-|>,head_width=1,head_length=2', level=1)</p>"
      ],
      "text/plain": [
       "<IPython.core.display.HTML object>"
      ]
     },
     "metadata": {},
     "output_type": "display_data"
    },
    {
     "data": {
      "text/html": [
       "<p>None</p>"
      ],
      "text/plain": [
       "<IPython.core.display.HTML object>"
      ]
     },
     "metadata": {},
     "output_type": "display_data"
    }
   ],
   "source": [
    "print(l(ID=\"1\", start=10, end=20, strand=\"+\"))\n",
    "print(l(ID=\"2\", start=12, end=22, strand=\"+\"))\n",
    "print(l(ID=\"3\", start=14, end=24, strand=\"+\"))\n",
    "print(l(ID=\"4\", start=23, end=26, strand=\"+\"))\n",
    "print(l(ID=\"5\", start=14, end=24, strand=\"-\"))\n",
    "print(l(ID=\"6\", start=27, end=43, strand=\"-\"))\n",
    "print(l(ID=\"7\", start=27, end=48, strand=\"-\"))\n",
    "print(l(ID=\"8\", start=54, end=76, strand=\"-\"))\n",
    "print(l(ID=\"9\", start=54, end=76, strand=\"+\"))\n",
    "print(l(ID=\"10\", start=54, end=76, strand=\".\"))"
   ]
  },
  {
   "cell_type": "markdown",
   "metadata": {
    "hidden": true
   },
   "source": [
    "Visualize changes in object self variable after calling"
   ]
  },
  {
   "cell_type": "code",
   "execution_count": 13,
   "metadata": {
    "ExecuteTime": {
     "end_time": "2017-02-07T17:13:14.537498",
     "start_time": "2017-02-07T17:13:14.533724"
    },
    "collapsed": false,
    "hidden": true,
    "run_control": {
     "frozen": false,
     "read_only": false
    }
   },
   "outputs": [
    {
     "data": {
      "text/html": [
       "<p>Level instance<br>&emsp;count&emsp;Counter({'all_features': 10, 'positive_features': 5, 'negative_features': 4})<br>&emsp;enhanced_feature&emsp;<class 'Level.enhanced_feature'><br>&emsp;filter_neg&emsp;False<br>&emsp;filter_pos&emsp;False<br>&emsp;filter_unstrand&emsp;True<br>&emsp;level_dict&emsp;{1: 76, 2: 22, 3: 24, -1: 76, -3: 48, -2: 43}<br>&emsp;max_depth&emsp;3<br>&emsp;neg_arrowstyle&emsp;<|-,head_width=1,head_length=2<br>&emsp;offset&emsp;10<br>&emsp;pos_arrowstyle&emsp;-|>,head_width=1,head_length=2<br>&emsp;unstrand_arrowstyle&emsp;-<br></p>"
      ],
      "text/plain": [
       "<IPython.core.display.HTML object>"
      ]
     },
     "metadata": {},
     "output_type": "display_data"
    }
   ],
   "source": [
    "print(l)"
   ]
  },
  {
   "cell_type": "markdown",
   "metadata": {
    "hidden": true
   },
   "source": [
    "**Alternative instanciation**\n",
    "\n",
    "All should be valid except 3,5,6,7 and 8 "
   ]
  },
  {
   "cell_type": "code",
   "execution_count": 17,
   "metadata": {
    "ExecuteTime": {
     "end_time": "2017-02-07T17:14:49.990322",
     "start_time": "2017-02-07T17:14:49.965185"
    },
    "collapsed": false,
    "hidden": true,
    "run_control": {
     "frozen": false,
     "read_only": false
    }
   },
   "outputs": [
    {
     "data": {
      "text/html": [
       "<p>enhanced_feature(ID='1', start=10, end=20, arrowstyle='-|>,head_width=1,head_length=2', level=1)</p>"
      ],
      "text/plain": [
       "<IPython.core.display.HTML object>"
      ]
     },
     "metadata": {},
     "output_type": "display_data"
    },
    {
     "data": {
      "text/html": [
       "<p>enhanced_feature(ID='2', start=12, end=22, arrowstyle='-|>,head_width=1,head_length=2', level=2)</p>"
      ],
      "text/plain": [
       "<IPython.core.display.HTML object>"
      ]
     },
     "metadata": {},
     "output_type": "display_data"
    },
    {
     "data": {
      "text/html": [
       "<p>None</p>"
      ],
      "text/plain": [
       "<IPython.core.display.HTML object>"
      ]
     },
     "metadata": {},
     "output_type": "display_data"
    },
    {
     "data": {
      "text/html": [
       "<p>enhanced_feature(ID='4', start=23, end=26, arrowstyle='-|>,head_width=1,head_length=2', level=1)</p>"
      ],
      "text/plain": [
       "<IPython.core.display.HTML object>"
      ]
     },
     "metadata": {},
     "output_type": "display_data"
    },
    {
     "data": {
      "text/html": [
       "<p>None</p>"
      ],
      "text/plain": [
       "<IPython.core.display.HTML object>"
      ]
     },
     "metadata": {},
     "output_type": "display_data"
    },
    {
     "data": {
      "text/html": [
       "<p>None</p>"
      ],
      "text/plain": [
       "<IPython.core.display.HTML object>"
      ]
     },
     "metadata": {},
     "output_type": "display_data"
    },
    {
     "data": {
      "text/html": [
       "<p>None</p>"
      ],
      "text/plain": [
       "<IPython.core.display.HTML object>"
      ]
     },
     "metadata": {},
     "output_type": "display_data"
    },
    {
     "data": {
      "text/html": [
       "<p>None</p>"
      ],
      "text/plain": [
       "<IPython.core.display.HTML object>"
      ]
     },
     "metadata": {},
     "output_type": "display_data"
    },
    {
     "data": {
      "text/html": [
       "<p>enhanced_feature(ID='9', start=54, end=76, arrowstyle='-', level=0)</p>"
      ],
      "text/plain": [
       "<IPython.core.display.HTML object>"
      ]
     },
     "metadata": {},
     "output_type": "display_data"
    },
    {
     "data": {
      "text/html": [
       "<p>enhanced_feature(ID='10', start=54, end=76, arrowstyle='-', level=0)</p>"
      ],
      "text/plain": [
       "<IPython.core.display.HTML object>"
      ]
     },
     "metadata": {},
     "output_type": "display_data"
    }
   ],
   "source": [
    "l = Level (max_depth=2, offset=2, filter_pos=False, filter_neg=True, filter_unstrand=False)\n",
    "\n",
    "print(l(ID=\"1\", start=10, end=20, strand=\"+\"))\n",
    "print(l(ID=\"2\", start=12, end=22, strand=\"+\"))\n",
    "print(l(ID=\"3\", start=14, end=24, strand=\"+\"))\n",
    "print(l(ID=\"4\", start=23, end=26, strand=\"+\"))\n",
    "print(l(ID=\"5\", start=14, end=24, strand=\"-\"))\n",
    "print(l(ID=\"6\", start=27, end=43, strand=\"-\"))\n",
    "print(l(ID=\"7\", start=27, end=48, strand=\"-\"))\n",
    "print(l(ID=\"8\", start=54, end=76, strand=\"-\"))\n",
    "print(l(ID=\"9\", start=54, end=76, strand=\".\"))\n",
    "print(l(ID=\"10\", start=54, end=76, strand=\".\"))"
   ]
  },
  {
   "cell_type": "markdown",
   "metadata": {
    "hidden": true
   },
   "source": [
    "**Try the object properties**"
   ]
  },
  {
   "cell_type": "code",
   "execution_count": 18,
   "metadata": {
    "ExecuteTime": {
     "end_time": "2017-02-07T17:17:00.522901",
     "start_time": "2017-02-07T17:17:00.519760"
    },
    "collapsed": false,
    "hidden": true,
    "run_control": {
     "frozen": false,
     "read_only": false
    }
   },
   "outputs": [
    {
     "data": {
      "text/plain": [
       "2"
      ]
     },
     "execution_count": 18,
     "metadata": {},
     "output_type": "execute_result"
    }
   ],
   "source": [
    "l.max_level"
   ]
  },
  {
   "cell_type": "code",
   "execution_count": 19,
   "metadata": {
    "ExecuteTime": {
     "end_time": "2017-02-07T17:17:01.199107",
     "start_time": "2017-02-07T17:17:01.195574"
    },
    "collapsed": false,
    "hidden": true,
    "run_control": {
     "frozen": false,
     "read_only": false
    }
   },
   "outputs": [
    {
     "data": {
      "text/plain": [
       "0"
      ]
     },
     "execution_count": 19,
     "metadata": {},
     "output_type": "execute_result"
    }
   ],
   "source": [
    "l.min_level"
   ]
  },
  {
   "cell_type": "code",
   "execution_count": 20,
   "metadata": {
    "ExecuteTime": {
     "end_time": "2017-02-07T17:17:01.814411",
     "start_time": "2017-02-07T17:17:01.810829"
    },
    "collapsed": false,
    "hidden": true,
    "run_control": {
     "frozen": false,
     "read_only": false
    }
   },
   "outputs": [
    {
     "data": {
      "text/plain": [
       "3"
      ]
     },
     "execution_count": 20,
     "metadata": {},
     "output_type": "execute_result"
    }
   ],
   "source": [
    "l.n_level"
   ]
  },
  {
   "cell_type": "markdown",
   "metadata": {},
   "source": [
    "# Annotation"
   ]
  },
  {
   "cell_type": "code",
   "execution_count": 38,
   "metadata": {
    "ExecuteTime": {
     "end_time": "2017-02-06T17:21:20.311512",
     "start_time": "2017-02-06T17:21:20.294230"
    },
    "collapsed": false,
    "run_control": {
     "frozen": false,
     "read_only": false
    }
   },
   "outputs": [
    {
     "name": "stdout",
     "output_type": "stream",
     "text": [
      "Help on class Annotation in module Annotation:\n",
      "\n",
      "class Annotation(builtins.object)\n",
      " |  Methods defined here:\n",
      " |  \n",
      " |  __init__(self, fp, name=None, verbose=False)\n",
      " |       * fp\n",
      " |          A standard gff3 file (http://www.ensembl.org/info/website/upload/gff3.html) or gtf\n",
      " |          (http://www.ensembl.org/info/website/upload/gff.html)containing features annotations. Could be uncompressed\n",
      " |          or archived in gz format. Ideally the file would be already indexed with tabix bgzip. If not the program\n",
      " |          will sort the features and index the file (can take time)\n",
      " |      *  name\n",
      " |          Name of the data file that will be used as track name for plotting. If not given, will be deduced from fp\n",
      " |          file name\n",
      " |      * verbose\n",
      " |          If True, will print more information during initialisation and calls of all the object methods.\n",
      " |  \n",
      " |  __repr__(self)\n",
      " |      Return repr(self).\n",
      " |  \n",
      " |  __str__(self)\n",
      " |      readable description of the object\n",
      " |  \n",
      " |  interval_features(self, seqid, start, end, feature_types=[])\n",
      " |      Parse the annotation file for the given seqid and interval and return a dataframe containing all the features\n",
      " |      found for each original line in the gff or gtf file. Features are identified by their ID for gff3 file. For gtf\n",
      " |      file the ID is parsed only for exon, cds, transcript or genes, if found.\n",
      " |      * seqid\n",
      " |          Name of the sequence from the initial fasta file to display\n",
      " |      * start\n",
      " |          Start of the window to display. If not given will start from 0 [ DEFAULT: None ]\n",
      " |      * end\n",
      " |          End of the window to display. If not given will start from end of the sequence [ DEFAULT: None ]\n",
      " |      * feature_types\n",
      " |          List of features types for which a track will be displayed if at least 1 feature of this type was found in\n",
      " |          the requested interval ( \"exon\"|\"transcript\"|\"gene\"|\"CDS\"...). If not given, all features type found in the\n",
      " |          interval will be displayed [ DEFAULT: [] ]\n",
      " |  \n",
      " |  ----------------------------------------------------------------------\n",
      " |  Data descriptors defined here:\n",
      " |  \n",
      " |  __dict__\n",
      " |      dictionary for instance variables (if defined)\n",
      " |  \n",
      " |  __weakref__\n",
      " |      list of weak references to the object (if defined)\n",
      " |  \n",
      " |  all_feature_count\n",
      " |      List of all the sequence ids found in the annotation file\n",
      " |  \n",
      " |  feature_type_count\n",
      " |      List of all the sequence ids found in the annotation file\n",
      " |  \n",
      " |  seqid_count\n",
      " |      List of all the sequence ids found in the annotation file\n",
      "\n"
     ]
    }
   ],
   "source": [
    "help(Annotation)"
   ]
  },
  {
   "cell_type": "code",
   "execution_count": null,
   "metadata": {
    "collapsed": true,
    "run_control": {
     "frozen": false,
     "read_only": false
    }
   },
   "outputs": [],
   "source": []
  },
  {
   "cell_type": "code",
   "execution_count": null,
   "metadata": {
    "collapsed": true,
    "run_control": {
     "frozen": false,
     "read_only": false
    }
   },
   "outputs": [],
   "source": []
  },
  {
   "cell_type": "code",
   "execution_count": null,
   "metadata": {
    "collapsed": true,
    "run_control": {
     "frozen": false,
     "read_only": false
    }
   },
   "outputs": [],
   "source": []
  },
  {
   "cell_type": "code",
   "execution_count": null,
   "metadata": {
    "collapsed": true,
    "run_control": {
     "frozen": false,
     "read_only": false
    }
   },
   "outputs": [],
   "source": []
  },
  {
   "cell_type": "code",
   "execution_count": null,
   "metadata": {
    "collapsed": true,
    "run_control": {
     "frozen": false,
     "read_only": false
    }
   },
   "outputs": [],
   "source": []
  },
  {
   "cell_type": "code",
   "execution_count": null,
   "metadata": {
    "collapsed": true,
    "run_control": {
     "frozen": false,
     "read_only": false
    }
   },
   "outputs": [],
   "source": []
  },
  {
   "cell_type": "code",
   "execution_count": null,
   "metadata": {
    "collapsed": true,
    "run_control": {
     "frozen": false,
     "read_only": false
    }
   },
   "outputs": [],
   "source": []
  }
 ],
 "metadata": {
  "celltoolbar": "Initialisation Cell",
  "kernelspec": {
   "display_name": "Python 3",
   "language": "python",
   "name": "python3"
  },
  "language_info": {
   "codemirror_mode": {
    "name": "ipython",
    "version": 3
   },
   "file_extension": ".py",
   "mimetype": "text/x-python",
   "name": "python",
   "nbconvert_exporter": "python",
   "pygments_lexer": "ipython3",
   "version": "3.5.2"
  },
  "widgets": {
   "state": {},
   "version": "1.1.1"
  }
 },
 "nbformat": 4,
 "nbformat_minor": 0
}
