{
 "cells": [
  {
   "cell_type": "markdown",
   "metadata": {},
   "source": [
    "# TEST JGV package\n",
    "** This notebook contains tests for all functions contained in JGV package **"
   ]
  },
  {
   "cell_type": "code",
   "execution_count": 1,
   "metadata": {
    "ExecuteTime": {
     "end_time": "2017-04-06T18:23:17.196108",
     "start_time": "2017-04-06T18:23:16.747845"
    },
    "collapsed": false,
    "init_cell": true,
    "run_control": {
     "frozen": false,
     "read_only": false
    }
   },
   "outputs": [
    {
     "data": {
      "text/html": [
       "<style>.container { width:90% !important; }</style>"
      ],
      "text/plain": [
       "<IPython.core.display.HTML object>"
      ]
     },
     "metadata": {},
     "output_type": "display_data"
    }
   ],
   "source": [
    "# For ipython inline ploting ploting\n",
    "%matplotlib inline\n",
    "\n",
    "# Larger display \n",
    "from IPython.core.display import display, HTML\n",
    "display(HTML(\"<style>.container { width:90% !important; }</style>\"))\n",
    "\n",
    "# Import of required packages\n",
    "import pandas as pd\n",
    "import pylab as pl\n",
    "import pysam\n",
    "from time import time\n",
    "\n",
    "# Import functions from JGV\n",
    "from JGV_helper_fun import *\n",
    "from Reference import *\n",
    "from Annotation import *\n",
    "from Alignment import *\n",
    "from Level import *\n",
    "from JGV import *"
   ]
  },
  {
   "cell_type": "markdown",
   "metadata": {
    "heading_collapsed": true
   },
   "source": [
    "### Folder setup and download test files"
   ]
  },
  {
   "cell_type": "code",
   "execution_count": 12,
   "metadata": {
    "ExecuteTime": {
     "end_time": "2017-03-27T11:43:12.843181",
     "start_time": "2017-03-27T11:42:17.568059"
    },
    "collapsed": false,
    "hidden": true,
    "run_control": {
     "frozen": false,
     "read_only": false
    },
    "scrolled": true
   },
   "outputs": [
    {
     "name": "stdout",
     "output_type": "stream",
     "text": [
      "--2017-03-27 11:42:17--  ftp://ftp.sanger.ac.uk/pub/gencode/Gencode_human/release_25/GRCh38.primary_assembly.genome.fa.gz\n",
      "           => ‘../dl_test_data/GRCh38_primary.fa.gz’\n",
      "Resolving ftp.sanger.ac.uk (ftp.sanger.ac.uk)... 193.62.203.17\n",
      "Connecting to ftp.sanger.ac.uk (ftp.sanger.ac.uk)|193.62.203.17|:21... connected.\n",
      "Logging in as anonymous ... Logged in!\n",
      "==> SYST ... done.    ==> PWD ... done.\n",
      "==> TYPE I ... done.  ==> CWD (1) /pub/gencode/Gencode_human/release_25 ... done.\n",
      "==> SIZE GRCh38.primary_assembly.genome.fa.gz ... 844691642\n",
      "==> PASV ... done.    ==> RETR GRCh38.primary_assembly.genome.fa.gz ... done.\n",
      "Length: 844691642 (806M) (unauthoritative)\n",
      "\n",
      "GRCh38.primary_asse 100%[===================>] 805.56M  24.5MB/s    in 30s     \n",
      "\n",
      "2017-03-27 11:42:47 (27.1 MB/s) - ‘../dl_test_data/GRCh38_primary.fa.gz’ saved [844691642]\n",
      "\n",
      "--2017-03-27 11:42:47--  ftp://ftp.sanger.ac.uk/pub/gencode/Gencode_human/release_25/gencode.v25.primary_assembly.annotation.gff3.gz\n",
      "           => ‘../dl_test_data/gencode_v25_primary.gff3.gz’\n",
      "Resolving ftp.sanger.ac.uk (ftp.sanger.ac.uk)... 193.62.203.17\n",
      "Connecting to ftp.sanger.ac.uk (ftp.sanger.ac.uk)|193.62.203.17|:21... connected.\n",
      "Logging in as anonymous ... Logged in!\n",
      "==> SYST ... done.    ==> PWD ... done.\n",
      "==> TYPE I ... done.  ==> CWD (1) /pub/gencode/Gencode_human/release_25 ... done.\n",
      "==> SIZE gencode.v25.primary_assembly.annotation.gff3.gz ... 46752876\n",
      "==> PASV ... done.    ==> RETR gencode.v25.primary_assembly.annotation.gff3.gz ... done.\n",
      "Length: 46752876 (45M) (unauthoritative)\n",
      "\n",
      "gencode.v25.primary 100%[===================>]  44.59M  12.7MB/s    in 3.9s    \n",
      "\n",
      "2017-03-27 11:42:51 (11.4 MB/s) - ‘../dl_test_data/gencode_v25_primary.gff3.gz’ saved [46752876]\n",
      "\n",
      "--2017-03-27 11:42:51--  ftp://ftp.sanger.ac.uk/pub/gencode/Gencode_human/release_25/gencode.v25.primary_assembly.annotation.gtf.gz\n",
      "           => ‘../dl_test_data/gencode_v25_primary.gtf.gz’\n",
      "Resolving ftp.sanger.ac.uk (ftp.sanger.ac.uk)... 193.62.203.17\n",
      "Connecting to ftp.sanger.ac.uk (ftp.sanger.ac.uk)|193.62.203.17|:21... connected.\n",
      "Logging in as anonymous ... Logged in!\n",
      "==> SYST ... done.    ==> PWD ... done.\n",
      "==> TYPE I ... done.  ==> CWD (1) /pub/gencode/Gencode_human/release_25 ... done.\n",
      "==> SIZE gencode.v25.primary_assembly.annotation.gtf.gz ... 38827267\n",
      "==> PASV ... done.    ==> RETR gencode.v25.primary_assembly.annotation.gtf.gz ... done.\n",
      "Length: 38827267 (37M) (unauthoritative)\n",
      "\n",
      "gencode.v25.primary 100%[===================>]  37.03M  10.0MB/s    in 4.1s    \n",
      "\n",
      "2017-03-27 11:42:56 (9.02 MB/s) - ‘../dl_test_data/gencode_v25_primary.gtf.gz’ saved [38827267]\n",
      "\n",
      "--2017-03-27 11:42:56--  ftp://ftp.sanger.ac.uk/pub/gencode/Gencode_human/release_25/gencode.v25.lncRNA_transcripts.fa.gz\n",
      "           => ‘../dl_test_data/gencode_v25_lncRNA_transcripts.fa.gz’\n",
      "Resolving ftp.sanger.ac.uk (ftp.sanger.ac.uk)... 193.62.203.17\n",
      "Connecting to ftp.sanger.ac.uk (ftp.sanger.ac.uk)|193.62.203.17|:21... connected.\n",
      "Logging in as anonymous ... Logged in!\n",
      "==> SYST ... done.    ==> PWD ... done.\n",
      "==> TYPE I ... done.  ==> CWD (1) /pub/gencode/Gencode_human/release_25 ... done.\n",
      "==> SIZE gencode.v25.lncRNA_transcripts.fa.gz ... 7230335\n",
      "==> PASV ... done.    ==> RETR gencode.v25.lncRNA_transcripts.fa.gz ... done.\n",
      "Length: 7230335 (6.9M) (unauthoritative)\n",
      "\n",
      "gencode.v25.lncRNA_ 100%[===================>]   6.89M  13.6MB/s    in 0.5s    \n",
      "\n",
      "2017-03-27 11:42:56 (13.6 MB/s) - ‘../dl_test_data/gencode_v25_lncRNA_transcripts.fa.gz’ saved [7230335]\n",
      "\n",
      "--2017-03-27 11:42:57--  ftp://ftp.sanger.ac.uk/pub/gencode/Gencode_human/release_25/gencode.v25.long_noncoding_RNAs.gff3.gz\n",
      "           => ‘../dl_test_data/gencode_v25_lncRNA.gff3.gz’\n",
      "Resolving ftp.sanger.ac.uk (ftp.sanger.ac.uk)... 193.62.203.17\n",
      "Connecting to ftp.sanger.ac.uk (ftp.sanger.ac.uk)|193.62.203.17|:21... connected.\n",
      "Logging in as anonymous ... Logged in!\n",
      "==> SYST ... done.    ==> PWD ... done.\n",
      "==> TYPE I ... done.  ==> CWD (1) /pub/gencode/Gencode_human/release_25 ... done.\n",
      "==> SIZE gencode.v25.long_noncoding_RNAs.gff3.gz ... 3255620\n",
      "==> PASV ... done.    ==> RETR gencode.v25.long_noncoding_RNAs.gff3.gz ... done.\n",
      "Length: 3255620 (3.1M) (unauthoritative)\n",
      "\n",
      "gencode.v25.long_no 100%[===================>]   3.10M  2.09MB/s    in 1.5s    \n",
      "\n",
      "2017-03-27 11:42:58 (2.09 MB/s) - ‘../dl_test_data/gencode_v25_lncRNA.gff3.gz’ saved [3255620]\n",
      "\n",
      "--2017-03-27 11:42:58--  http://fantom.gsc.riken.jp/5/suppl/Hon_et_al_2016/data/assembly/lv2_permissive/FANTOM_CAT.lv2_permissive.all_lncRNA.bed.gz\n",
      "Resolving fantom.gsc.riken.jp (fantom.gsc.riken.jp)... 134.160.84.66\n",
      "Connecting to fantom.gsc.riken.jp (fantom.gsc.riken.jp)|134.160.84.66|:80... connected.\n",
      "HTTP request sent, awaiting response... 200 OK\n",
      "Length: 4311175 (4.1M) [application/x-gzip]\n",
      "Saving to: ‘../dl_test_data/FANTOM_5_all_lncRNA.bed.gz’\n",
      "\n",
      "../dl_test_data/FAN 100%[===================>]   4.11M  1.16MB/s    in 4.1s    \n",
      "\n",
      "2017-03-27 11:43:03 (1.01 MB/s) - ‘../dl_test_data/FANTOM_5_all_lncRNA.bed.gz’ saved [4311175/4311175]\n",
      "\n",
      "--2017-03-27 11:43:03--  http://fantom.gsc.riken.jp/5/suppl/Hon_et_al_2016/data/assembly/lv2_permissive/FANTOM_CAT.lv2_permissive.all_lncRNA.gtf.gz\n",
      "Resolving fantom.gsc.riken.jp (fantom.gsc.riken.jp)... 134.160.84.66\n",
      "Connecting to fantom.gsc.riken.jp (fantom.gsc.riken.jp)|134.160.84.66|:80... connected.\n",
      "HTTP request sent, awaiting response... 200 OK\n",
      "Length: 7530977 (7.2M) [application/x-gzip]\n",
      "Saving to: ‘../dl_test_data/FANTOM_5_all_lncRNA.gtf.gz’\n",
      "\n",
      "../dl_test_data/FAN 100%[===================>]   7.18M  1.33MB/s    in 6.4s    \n",
      "\n",
      "2017-03-27 11:43:10 (1.13 MB/s) - ‘../dl_test_data/FANTOM_5_all_lncRNA.gtf.gz’ saved [7530977/7530977]\n",
      "\n",
      "--2017-03-27 11:43:10--  http://www.ebi.ac.uk/~aleg/data/share/1M.bam\n",
      "Resolving www.ebi.ac.uk (www.ebi.ac.uk)... 193.62.192.80\n",
      "Connecting to www.ebi.ac.uk (www.ebi.ac.uk)|193.62.192.80|:80... connected.\n",
      "HTTP request sent, awaiting response... 200 OK\n",
      "Length: 98262031 (94M) [text/plain]\n",
      "Saving to: ‘../dl_test_data/1M.bam’\n",
      "\n",
      "../dl_test_data/1M. 100%[===================>]  93.71M  39.0MB/s    in 2.4s    \n",
      "\n",
      "2017-03-27 11:43:12 (39.0 MB/s) - ‘../dl_test_data/1M.bam’ saved [98262031/98262031]\n",
      "\n"
     ]
    }
   ],
   "source": [
    "!mkdir -p \"../dl_test_data/\"\n",
    "!wget \"ftp://ftp.sanger.ac.uk/pub/gencode/Gencode_human/release_25/GRCh38.primary_assembly.genome.fa.gz\" -O \"../dl_test_data/GRCh38_primary.fa.gz\"\n",
    "!wget \"ftp://ftp.sanger.ac.uk/pub/gencode/Gencode_human/release_25/gencode.v25.primary_assembly.annotation.gff3.gz\" -O \"../dl_test_data/gencode_v25_primary.gff3.gz\"\n",
    "!wget \"ftp://ftp.sanger.ac.uk/pub/gencode/Gencode_human/release_25/gencode.v25.primary_assembly.annotation.gtf.gz\" -O \"../dl_test_data/gencode_v25_primary.gtf.gz\"\n",
    "!wget \"ftp://ftp.sanger.ac.uk/pub/gencode/Gencode_human/release_25/gencode.v25.lncRNA_transcripts.fa.gz\" -O \"../dl_test_data/gencode_v25_lncRNA_transcripts.fa.gz\"\n",
    "!wget \"ftp://ftp.sanger.ac.uk/pub/gencode/Gencode_human/release_25/gencode.v25.long_noncoding_RNAs.gff3.gz\" -O \"../dl_test_data/gencode_v25_lncRNA.gff3.gz\"\n",
    "!wget \"http://fantom.gsc.riken.jp/5/suppl/Hon_et_al_2016/data/assembly/lv2_permissive/FANTOM_CAT.lv2_permissive.all_lncRNA.bed.gz\" -O \"../dl_test_data/FANTOM_5_all_lncRNA.bed.gz\"\n",
    "!wget \"http://fantom.gsc.riken.jp/5/suppl/Hon_et_al_2016/data/assembly/lv2_permissive/FANTOM_CAT.lv2_permissive.all_lncRNA.gtf.gz\" -O \"../dl_test_data/FANTOM_5_all_lncRNA.gtf.gz\"\n",
    "!wget -v \"http://www.ebi.ac.uk/~aleg/data/share/1M.bam\" -O \"../dl_test_data/1M.bam\""
   ]
  },
  {
   "cell_type": "markdown",
   "metadata": {
    "hidden": true
   },
   "source": [
    "**Expand BAM to SAM using samtools**"
   ]
  },
  {
   "cell_type": "code",
   "execution_count": 12,
   "metadata": {
    "ExecuteTime": {
     "end_time": "2017-03-29T18:38:25.767660",
     "start_time": "2017-03-29T18:38:20.612908"
    },
    "collapsed": false,
    "hidden": true,
    "run_control": {
     "frozen": false,
     "read_only": false
    }
   },
   "outputs": [
    {
     "name": "stdout",
     "output_type": "stream",
     "text": [
      "samtools view: writing to standard output failed: Broken pipe\r\n",
      "samtools view: error closing standard output: -1\r\n"
     ]
    }
   ],
   "source": [
    "!samtools view -h \"../dl_test_data/1M.bam\" > \"../dl_test_data/1M.sam\"\n",
    "!samtools view -h \"../dl_test_data/1M.bam\" | head -n 100197 > \"../dl_test_data/100k.sam\"\n",
    "!samtools view \"../dl_test_data/1M.bam\" > \"../dl_test_data/1M_no_header.sam\""
   ]
  },
  {
   "cell_type": "code",
   "execution_count": 7,
   "metadata": {
    "ExecuteTime": {
     "end_time": "2017-03-27T16:43:10.007278",
     "start_time": "2017-03-27T16:43:09.877621"
    },
    "collapsed": false,
    "hidden": true,
    "run_control": {
     "frozen": false,
     "read_only": false
    },
    "scrolled": false
   },
   "outputs": [
    {
     "name": "stdout",
     "output_type": "stream",
     "text": [
      "total 1287848\r\n",
      "-rw-rw-r-- 1 aleg aleg  98262031 Feb  6 16:58 1M.bam\r\n",
      "-rw-rw-r-- 1 aleg aleg  10163815 Mar 27 16:35 1M.bed.gz\r\n",
      "-rw-rw-r-- 1 aleg aleg 257702066 Mar 27 16:43 1M.sam\r\n",
      "-rw-rw-r-- 1 aleg aleg   4311175 Mar 22 08:21 FANTOM_5_all_lncRNA.bed.gz\r\n",
      "-rw-rw-r-- 1 aleg aleg   7530977 Mar 22 08:21 FANTOM_5_all_lncRNA.gtf.gz\r\n",
      "-rw-rw-r-- 1 aleg aleg   3255620 Mar 27 11:42 gencode_v25_lncRNA.gff3.gz\r\n",
      "-rw-rw-r-- 1 aleg aleg   7230335 Mar 27 11:42 gencode_v25_lncRNA_transcripts.fa.gz\r\n",
      "-rw-rw-r-- 1 aleg aleg  46752876 Mar 27 11:42 gencode_v25_primary.gff3.gz\r\n",
      "-rw-rw-r-- 1 aleg aleg  38827267 Mar 27 11:42 gencode_v25_primary.gtf.gz\r\n",
      "-rw-rw-r-- 1 aleg aleg 844691642 Mar 27 11:42 GRCh38_primary.fa.gz\r\n"
     ]
    }
   ],
   "source": [
    "!ls -l \"../dl_test_data/\""
   ]
  },
  {
   "cell_type": "markdown",
   "metadata": {
    "hidden": true
   },
   "source": [
    "---"
   ]
  },
  {
   "cell_type": "markdown",
   "metadata": {
    "heading_collapsed": true
   },
   "source": [
    "# JGV_helper_fun"
   ]
  },
  {
   "cell_type": "markdown",
   "metadata": {
    "heading_collapsed": true,
    "hidden": true
   },
   "source": [
    "## extensions"
   ]
  },
  {
   "cell_type": "code",
   "execution_count": 9,
   "metadata": {
    "ExecuteTime": {
     "end_time": "2017-01-25T15:01:58.551722",
     "start_time": "2017-01-25T15:01:58.548237"
    },
    "collapsed": false,
    "hidden": true,
    "run_control": {
     "frozen": false,
     "read_only": false
    },
    "scrolled": true
   },
   "outputs": [
    {
     "name": "stdout",
     "output_type": "stream",
     "text": [
      "Help on function extensions in module JGV_helper_fun:\n",
      "\n",
      "extensions(fp)\n",
      "    Return the extension of a file in lower-case.\n",
      "    If the file is gziped the method will output the base extension + the archive extension\n",
      "\n"
     ]
    }
   ],
   "source": [
    "help (extensions)"
   ]
  },
  {
   "cell_type": "code",
   "execution_count": 3,
   "metadata": {
    "ExecuteTime": {
     "end_time": "2017-01-25T15:01:28.290982",
     "start_time": "2017-01-25T15:01:28.281515"
    },
    "collapsed": false,
    "hidden": true,
    "run_control": {
     "frozen": false,
     "read_only": false
    }
   },
   "outputs": [
    {
     "data": {
      "text/plain": [
       "['ipynb']"
      ]
     },
     "execution_count": 3,
     "metadata": {},
     "output_type": "execute_result"
    }
   ],
   "source": [
    "extensions(\"./JGV_Test_Notebook.ipynb\")"
   ]
  },
  {
   "cell_type": "code",
   "execution_count": 4,
   "metadata": {
    "ExecuteTime": {
     "end_time": "2017-01-25T15:01:29.591354",
     "start_time": "2017-01-25T15:01:29.586581"
    },
    "collapsed": false,
    "hidden": true,
    "run_control": {
     "frozen": false,
     "read_only": false
    }
   },
   "outputs": [
    {
     "data": {
      "text/plain": [
       "['fa', 'gz']"
      ]
     },
     "execution_count": 4,
     "metadata": {},
     "output_type": "execute_result"
    }
   ],
   "source": [
    "extensions(\"../test_data/GRCh38_primary.fa.gz\")"
   ]
  },
  {
   "cell_type": "code",
   "execution_count": 5,
   "metadata": {
    "ExecuteTime": {
     "end_time": "2017-01-25T15:01:30.892399",
     "start_time": "2017-01-25T15:01:30.879073"
    },
    "collapsed": false,
    "hidden": true,
    "run_control": {
     "frozen": false,
     "read_only": false
    }
   },
   "outputs": [
    {
     "data": {
      "text/plain": [
       "[]"
      ]
     },
     "execution_count": 5,
     "metadata": {},
     "output_type": "execute_result"
    }
   ],
   "source": [
    "extensions(\"../test_data/GRCh38_primary\")"
   ]
  },
  {
   "cell_type": "markdown",
   "metadata": {
    "heading_collapsed": true,
    "hidden": true
   },
   "source": [
    "## file_basename"
   ]
  },
  {
   "cell_type": "code",
   "execution_count": 8,
   "metadata": {
    "ExecuteTime": {
     "end_time": "2017-01-25T15:01:55.675212",
     "start_time": "2017-01-25T15:01:55.672173"
    },
    "collapsed": false,
    "hidden": true,
    "run_control": {
     "frozen": false,
     "read_only": false
    }
   },
   "outputs": [
    {
     "name": "stdout",
     "output_type": "stream",
     "text": [
      "Help on function file_basename in module JGV_helper_fun:\n",
      "\n",
      "file_basename(fp)\n",
      "    Return the base name of a file without extension nor path.\n",
      "    If the file is gziped the method will output the name without extension + the archive extension\n",
      "\n"
     ]
    }
   ],
   "source": [
    "help(file_basename)"
   ]
  },
  {
   "cell_type": "code",
   "execution_count": 12,
   "metadata": {
    "ExecuteTime": {
     "end_time": "2017-01-25T10:33:00.268303",
     "start_time": "2017-01-25T10:33:00.264339"
    },
    "collapsed": false,
    "hidden": true,
    "run_control": {
     "frozen": false,
     "read_only": false
    }
   },
   "outputs": [
    {
     "data": {
      "text/plain": [
       "'Annotation'"
      ]
     },
     "execution_count": 12,
     "metadata": {},
     "output_type": "execute_result"
    }
   ],
   "source": [
    "file_basename(\"./Annotation.py\")"
   ]
  },
  {
   "cell_type": "code",
   "execution_count": 15,
   "metadata": {
    "ExecuteTime": {
     "end_time": "2017-01-25T10:34:55.125050",
     "start_time": "2017-01-25T10:34:55.118099"
    },
    "collapsed": false,
    "hidden": true,
    "run_control": {
     "frozen": false,
     "read_only": false
    }
   },
   "outputs": [
    {
     "data": {
      "text/plain": [
       "'10M_sample'"
      ]
     },
     "execution_count": 15,
     "metadata": {},
     "output_type": "execute_result"
    }
   ],
   "source": [
    "file_basename(\"../test_data/10M_sample.bam\")"
   ]
  },
  {
   "cell_type": "code",
   "execution_count": 16,
   "metadata": {
    "ExecuteTime": {
     "end_time": "2017-01-25T10:35:15.707067",
     "start_time": "2017-01-25T10:35:15.703915"
    },
    "collapsed": false,
    "hidden": true,
    "run_control": {
     "frozen": false,
     "read_only": false
    }
   },
   "outputs": [
    {
     "data": {
      "text/plain": [
       "'NONCODE2016_human_hg38_lncRNA_sorted'"
      ]
     },
     "execution_count": 16,
     "metadata": {},
     "output_type": "execute_result"
    }
   ],
   "source": [
    "file_basename(\"../test_data/NONCODE2016_human_hg38_lncRNA_sorted.gtf.gz\")"
   ]
  },
  {
   "cell_type": "markdown",
   "metadata": {
    "ExecuteTime": {
     "end_time": "2017-01-25T09:16:47.219378",
     "start_time": "2017-01-25T09:16:47.215434"
    },
    "collapsed": true,
    "heading_collapsed": true,
    "hidden": true
   },
   "source": [
    "## dir_path"
   ]
  },
  {
   "cell_type": "code",
   "execution_count": 7,
   "metadata": {
    "ExecuteTime": {
     "end_time": "2017-01-25T15:01:52.387592",
     "start_time": "2017-01-25T15:01:52.383913"
    },
    "collapsed": false,
    "hidden": true,
    "run_control": {
     "frozen": false,
     "read_only": false
    }
   },
   "outputs": [
    {
     "name": "stdout",
     "output_type": "stream",
     "text": [
      "Help on function dir_path in module JGV_helper_fun:\n",
      "\n",
      "dir_path(fp)\n",
      "    Return the directory path of a file\n",
      "\n"
     ]
    }
   ],
   "source": [
    "help(dir_path)"
   ]
  },
  {
   "cell_type": "code",
   "execution_count": 6,
   "metadata": {
    "ExecuteTime": {
     "end_time": "2017-01-25T15:01:49.361760",
     "start_time": "2017-01-25T15:01:49.355770"
    },
    "collapsed": false,
    "hidden": true,
    "run_control": {
     "frozen": false,
     "read_only": false
    }
   },
   "outputs": [
    {
     "data": {
      "text/plain": [
       "'../test_data'"
      ]
     },
     "execution_count": 6,
     "metadata": {},
     "output_type": "execute_result"
    }
   ],
   "source": [
    "dir_path(\"../test_data/NONCODE2016_human_hg38_lncRNA_sorted.gtf.gz\")"
   ]
  },
  {
   "cell_type": "code",
   "execution_count": 18,
   "metadata": {
    "ExecuteTime": {
     "end_time": "2017-01-25T10:35:53.550251",
     "start_time": "2017-01-25T10:35:53.546776"
    },
    "collapsed": false,
    "hidden": true,
    "run_control": {
     "frozen": false,
     "read_only": false
    }
   },
   "outputs": [
    {
     "data": {
      "text/plain": [
       "'.'"
      ]
     },
     "execution_count": 18,
     "metadata": {},
     "output_type": "execute_result"
    }
   ],
   "source": [
    "dir_path(\"./JGV.py\")"
   ]
  },
  {
   "cell_type": "markdown",
   "metadata": {
    "heading_collapsed": true,
    "hidden": true
   },
   "source": [
    "## color_palette"
   ]
  },
  {
   "cell_type": "code",
   "execution_count": 10,
   "metadata": {
    "ExecuteTime": {
     "end_time": "2017-01-25T15:02:06.343289",
     "start_time": "2017-01-25T15:02:06.339477"
    },
    "collapsed": false,
    "hidden": true,
    "run_control": {
     "frozen": false,
     "read_only": false
    }
   },
   "outputs": [
    {
     "name": "stdout",
     "output_type": "stream",
     "text": [
      "Help on function color_palette in module JGV_helper_fun:\n",
      "\n",
      "color_palette(n, colormap='brg')\n",
      "    Return a list of n length with gradient colors from a given matplot lib colormap palette\n",
      "    * n         Number of color scalar in the list\n",
      "    * colormap  colormap color palette from matplotlib package.\n",
      "                See http://matplotlib.org/examples/color/colormaps_reference.html\n",
      "                example : inferno magma hot blues cool spring winter brg ocean hsv jet ... [DEFAULT: brg]\n",
      "\n"
     ]
    }
   ],
   "source": [
    "help(color_palette)"
   ]
  },
  {
   "cell_type": "code",
   "execution_count": 11,
   "metadata": {
    "ExecuteTime": {
     "end_time": "2017-01-25T15:02:07.830924",
     "start_time": "2017-01-25T15:02:07.823822"
    },
    "collapsed": false,
    "hidden": true,
    "run_control": {
     "frozen": false,
     "read_only": false
    },
    "scrolled": true
   },
   "outputs": [
    {
     "data": {
      "text/html": [
       "<p>[(0.26851000000000003, 0.0096050000000000007, 0.33542699999999998, 1.0), (0.28086800000000001, 0.160771, 0.47289900000000001, 1.0), (0.243113, 0.29209200000000002, 0.53851599999999999, 1.0), (0.19063099999999999, 0.40706100000000001, 0.55608900000000006, 1.0), (0.14760699999999999, 0.51173299999999999, 0.55704900000000002, 1.0), (0.11948300000000001, 0.61481699999999995, 0.53769199999999995, 1.0), (0.20221900000000001, 0.71527200000000002, 0.47608400000000001, 1.0), (0.41291299999999997, 0.803041, 0.357269, 1.0), (0.688944, 0.865448, 0.182725, 1.0), (0.97441699999999998, 0.90359, 0.130215, 1.0)]</p>"
      ],
      "text/plain": [
       "<IPython.core.display.HTML object>"
      ]
     },
     "metadata": {},
     "output_type": "display_data"
    }
   ],
   "source": [
    "c= color_palette (n=10, colormap=\"viridis\")\n",
    "print(c)"
   ]
  },
  {
   "cell_type": "code",
   "execution_count": 12,
   "metadata": {
    "ExecuteTime": {
     "end_time": "2017-01-25T15:02:09.105480",
     "start_time": "2017-01-25T15:02:08.955514"
    },
    "collapsed": false,
    "hidden": true,
    "run_control": {
     "frozen": false,
     "read_only": false
    }
   },
   "outputs": [
    {
     "data": {
      "image/png": "[encoded data removed]",
      "text/plain": [
       "<matplotlib.figure.Figure at 0x7f578c0f3b00>"
      ]
     },
     "metadata": {},
     "output_type": "display_data"
    }
   ],
   "source": [
    "c= color_palette (n=20, colormap=\"Reds\")\n",
    "pl.figure(figsize=(20,1))\n",
    "pl.axis(\"off\")\n",
    "for i, color in enumerate(c):\n",
    "    pl.scatter(i, 1, c=color, linewidths=0, s=500)"
   ]
  },
  {
   "cell_type": "markdown",
   "metadata": {
    "heading_collapsed": true,
    "hidden": true
   },
   "source": [
    "## jprint"
   ]
  },
  {
   "cell_type": "code",
   "execution_count": 16,
   "metadata": {
    "ExecuteTime": {
     "end_time": "2017-01-25T09:18:46.713086",
     "start_time": "2017-01-25T09:18:46.708955"
    },
    "collapsed": false,
    "hidden": true,
    "run_control": {
     "frozen": false,
     "read_only": false
    }
   },
   "outputs": [
    {
     "name": "stdout",
     "output_type": "stream",
     "text": [
      "Help on function jprint in module JGV_helper_fun:\n",
      "\n",
      "jprint(*args, **kwargs)\n",
      "    Format a string in HTML and print the output. Equivalent of print, but highly customizable\n",
      "    Many options can be passed to the function.\n",
      "    * args\n",
      "        One or several objects that can be cast in str\n",
      "    ** kwargs\n",
      "        Formatting options to tweak the html rendering \n",
      "        Boolean options : bold, italic, highlight, underlined, striked, subscripted, superscripted\n",
      "        String oprions: font, color, size, align, background_color\n",
      "\n"
     ]
    }
   ],
   "source": [
    "help(jprint)"
   ]
  },
  {
   "cell_type": "code",
   "execution_count": 51,
   "metadata": {
    "ExecuteTime": {
     "end_time": "2017-01-25T10:56:08.671028",
     "start_time": "2017-01-25T10:56:08.666578"
    },
    "collapsed": false,
    "hidden": true,
    "run_control": {
     "frozen": false,
     "read_only": false
    }
   },
   "outputs": [
    {
     "data": {
      "text/html": [
       "<p style=\"font-family:Serif;\"><b>This Function is better than the default print</b></p>"
      ],
      "text/plain": [
       "<IPython.core.display.HTML object>"
      ]
     },
     "metadata": {},
     "output_type": "display_data"
    }
   ],
   "source": [
    "jprint(\"This\", \"Function\", \"is\", \"better than the default print\", bold=True, font=\"Serif\")"
   ]
  },
  {
   "cell_type": "code",
   "execution_count": 70,
   "metadata": {
    "ExecuteTime": {
     "end_time": "2017-01-25T11:04:02.752472",
     "start_time": "2017-01-25T11:04:02.749156"
    },
    "collapsed": false,
    "hidden": true,
    "run_control": {
     "frozen": false,
     "read_only": false
    }
   },
   "outputs": [
    {
     "data": {
      "text/html": [
       "<p style=\"color:blue;font-size:200%;text-align:center;\">This <b>Function</b> is better<br> than the default print</p>"
      ],
      "text/plain": [
       "<IPython.core.display.HTML object>"
      ]
     },
     "metadata": {},
     "output_type": "display_data"
    }
   ],
   "source": [
    "jprint(\"This <b>Function</b> is better\\n than the default print\", color=\"blue\", align=\"center\", size = 200)"
   ]
  },
  {
   "cell_type": "markdown",
   "metadata": {
    "heading_collapsed": true
   },
   "source": [
    "# Reference"
   ]
  },
  {
   "cell_type": "code",
   "execution_count": 2,
   "metadata": {
    "ExecuteTime": {
     "end_time": "2017-03-28T16:36:44.534662",
     "start_time": "2017-03-28T16:36:44.526209"
    },
    "collapsed": false,
    "hidden": true,
    "run_control": {
     "frozen": false,
     "read_only": false
    }
   },
   "outputs": [
    {
     "name": "stdout",
     "output_type": "stream",
     "text": [
      "Help on class Reference in module Reference:\n",
      "\n",
      "class Reference(builtins.object)\n",
      " |  Parse a fasta reference file or a fasta index and save the list of reference sequences ids and their lengths\n",
      " |  \n",
      " |  Methods defined here:\n",
      " |  \n",
      " |  __init__(self, fp, name=None, verbose=False, ref_list=[], output_index=False)\n",
      " |       * fp\n",
      " |          A fasta file containing the reference sequences OR an tab separated index file containing at least 2 columns\n",
      " |          with the refid and the length in bases (like a .fa.fai file generated by samtools faidx, or with the\n",
      " |          output_index option of this function)\n",
      " |          The fasta option will take more time as the file has to be parsed to get the refid and length of sequences.\n",
      " |          Both fasta and infex file can be gziped\n",
      " |      *  name\n",
      " |          Name of the data file that will be used as track name for plotting. If not given, will be deduced from fp\n",
      " |          file name\n",
      " |      * verbose\n",
      " |          If True, will print more information during initialisation and calls of all the object methods\n",
      " |          [ DEFAULT: False ]\n",
      " |      * ref_list\n",
      " |          list of reference sequence id to select from the data file, by default all [ DEFAULT: [] ]\n",
      " |      * output_index\n",
      " |          If True will write a simple A 2 column index tsv file containing the Reference sequenc ids and their lengths\n",
      " |          [ DEFAULT: False ]\n",
      " |  \n",
      " |  __repr__(self)\n",
      " |      Return repr(self).\n",
      " |  \n",
      " |  __str__(self)\n",
      " |      readable description of the object\n",
      " |  \n",
      " |  get_refid_len(self, refid)\n",
      " |      Return the length of a given refid\n",
      " |  \n",
      " |  ----------------------------------------------------------------------\n",
      " |  Data descriptors defined here:\n",
      " |  \n",
      " |  __dict__\n",
      " |      dictionary for instance variables (if defined)\n",
      " |  \n",
      " |  __weakref__\n",
      " |      list of weak references to the object (if defined)\n",
      " |  \n",
      " |  refid_count\n",
      " |      List of all the sequence ids found in the annotation file\n",
      " |  \n",
      " |  refid_list\n",
      " |      List of all the sequence ids found in the annotation file\n",
      "\n"
     ]
    }
   ],
   "source": [
    "help(Reference)"
   ]
  },
  {
   "cell_type": "markdown",
   "metadata": {
    "hidden": true
   },
   "source": [
    "**Test the instanciation of the Reference class from a fasta files**"
   ]
  },
  {
   "cell_type": "code",
   "execution_count": 6,
   "metadata": {
    "ExecuteTime": {
     "end_time": "2017-03-28T16:40:11.782386",
     "start_time": "2017-03-28T16:40:11.760122"
    },
    "collapsed": false,
    "hidden": true,
    "run_control": {
     "frozen": false,
     "read_only": false
    },
    "scrolled": true
   },
   "outputs": [
    {
     "data": {
      "text/html": [
       "<p>Parsing fasta file</p>"
      ],
      "text/plain": [
       "<IPython.core.display.HTML object>"
      ]
     },
     "metadata": {},
     "output_type": "display_data"
    },
    {
     "data": {
      "text/html": [
       "<p>Write a fasta index file: ../test_data/ERCC.tsv</p>"
      ],
      "text/plain": [
       "<IPython.core.display.HTML object>"
      ]
     },
     "metadata": {},
     "output_type": "display_data"
    },
    {
     "data": {
      "text/html": [
       "<p>Found 11 reference sequences</p>"
      ],
      "text/plain": [
       "<IPython.core.display.HTML object>"
      ]
     },
     "metadata": {},
     "output_type": "display_data"
    },
    {
     "data": {
      "text/html": [
       "<p>Reference instance<br>&emsp;&emsp;ERCC-00104&emsp;length: 2022<br>&emsp;&emsp;ERCC-00033&emsp;length: 2022<br>&emsp;&emsp;ERCC-00025&emsp;length: 1994<br>&emsp;&emsp;ERCC-00116&emsp;length: 1991<br>&emsp;&emsp;ERCC-00014&emsp;length: 1957<br>&emsp;&emsp;ERCC-00099&emsp;length: 1350<br>&emsp;&emsp;ERCC-00044&emsp;length: 1156<br>&emsp;&emsp;ERCC-00098&emsp;length: 1143<br>&emsp;&emsp;ERCC-00031&emsp;length: 1138<br>&emsp;&emsp;ERCC-00069&emsp;length: 1137<br>&emsp;&emsp;ERCC-00058&emsp;length: 1136<br>&emsp;ext&emsp;fa<br>&emsp;fp&emsp;../test_data/ERCC.fa.gz<br>&emsp;name&emsp;ERCC<br>&emsp;verbose&emsp;True<br></p>"
      ],
      "text/plain": [
       "<IPython.core.display.HTML object>"
      ]
     },
     "metadata": {},
     "output_type": "display_data"
    }
   ],
   "source": [
    "l = ['ERCC-00104', 'ERCC-00033', 'ERCC-00025', 'ERCC-00116', 'ERCC-00014', 'ERCC-00099', 'ERCC-00044', 'ERCC-00098', 'ERCC-00031', 'ERCC-00069', 'ERCC-00058']\n",
    "r = Reference (\"../test_data/ERCC.fa.gz\", verbose=True, ref_list=l, output_index=True)\n",
    "print(r)"
   ]
  },
  {
   "cell_type": "code",
   "execution_count": 10,
   "metadata": {
    "ExecuteTime": {
     "end_time": "2017-03-28T16:42:12.729774",
     "start_time": "2017-03-28T16:41:28.529899"
    },
    "collapsed": false,
    "hidden": true,
    "run_control": {
     "frozen": false,
     "read_only": false
    },
    "scrolled": true
   },
   "outputs": [
    {
     "data": {
      "text/html": [
       "<p>Parsing fasta file</p>"
      ],
      "text/plain": [
       "<IPython.core.display.HTML object>"
      ]
     },
     "metadata": {},
     "output_type": "display_data"
    },
    {
     "data": {
      "text/html": [
       "<p>Write a fasta index file: ../dl_test_data/GRCh38_primary.tsv</p>"
      ],
      "text/plain": [
       "<IPython.core.display.HTML object>"
      ]
     },
     "metadata": {},
     "output_type": "display_data"
    },
    {
     "data": {
      "text/html": [
       "<p>Found 25 reference sequences</p>"
      ],
      "text/plain": [
       "<IPython.core.display.HTML object>"
      ]
     },
     "metadata": {},
     "output_type": "display_data"
    },
    {
     "data": {
      "text/html": [
       "<p>Reference instance<br>&emsp;&emsp;chr1&emsp;length: 248956422<br>&emsp;&emsp;chr2&emsp;length: 242193529<br>&emsp;&emsp;chr3&emsp;length: 198295559<br>&emsp;&emsp;chr4&emsp;length: 190214555<br>&emsp;&emsp;chr5&emsp;length: 181538259<br>&emsp;&emsp;chr6&emsp;length: 170805979<br>&emsp;&emsp;chr7&emsp;length: 159345973<br>&emsp;&emsp;chrX&emsp;length: 156040895<br>&emsp;&emsp;chr8&emsp;length: 145138636<br>&emsp;&emsp;chr9&emsp;length: 138394717<br>&emsp;&emsp;chr11&emsp;length: 135086622<br>&emsp;&emsp;chr10&emsp;length: 133797422<br>&emsp;&emsp;chr12&emsp;length: 133275309<br>&emsp;&emsp;chr13&emsp;length: 114364328<br>&emsp;&emsp;chr14&emsp;length: 107043718<br>&emsp;&emsp;chr15&emsp;length: 101991189<br>&emsp;&emsp;chr16&emsp;length: 90338345<br>&emsp;&emsp;chr17&emsp;length: 83257441<br>&emsp;&emsp;chr18&emsp;length: 80373285<br>&emsp;&emsp;chr20&emsp;length: 64444167<br>&emsp;&emsp;chr19&emsp;length: 58617616<br>&emsp;&emsp;chrY&emsp;length: 57227415<br>&emsp;&emsp;chr22&emsp;length: 50818468<br>&emsp;&emsp;chr21&emsp;length: 46709983<br>&emsp;&emsp;chrM&emsp;length: 16569<br>&emsp;ext&emsp;fa<br>&emsp;fp&emsp;../dl_test_data/GRCh38_primary.fa.gz<br>&emsp;name&emsp;GRCh38_primary<br>&emsp;verbose&emsp;True<br></p>"
      ],
      "text/plain": [
       "<IPython.core.display.HTML object>"
      ]
     },
     "metadata": {},
     "output_type": "display_data"
    }
   ],
   "source": [
    "l = ['chr1', 'chr2', 'chr3', 'chr4', 'chr5', 'chr6', 'chr7', 'chr8', 'chr9', 'chr10', 'chr11', 'chr12', 'chr13', 'chr14', 'chr15', 'chr16', 'chr17', 'chr18', 'chr19', 'chr20', 'chr21', 'chr22', 'chrX', 'chrY', 'chrM']\n",
    "r = Reference (\"../dl_test_data/GRCh38_primary.fa.gz\", verbose=True, ref_list=l, output_index=True)\n",
    "print(r)"
   ]
  },
  {
   "cell_type": "markdown",
   "metadata": {
    "hidden": true
   },
   "source": [
    "**Test the instanciation of the Reference class from a fasta index**"
   ]
  },
  {
   "cell_type": "code",
   "execution_count": 2,
   "metadata": {
    "ExecuteTime": {
     "end_time": "2017-03-28T16:45:14.657367",
     "start_time": "2017-03-28T16:45:14.643419"
    },
    "collapsed": false,
    "hidden": true,
    "run_control": {
     "frozen": false,
     "read_only": false
    },
    "scrolled": false
   },
   "outputs": [
    {
     "data": {
      "text/html": [
       "<p>Assume the file is a fasta index</p>"
      ],
      "text/plain": [
       "<IPython.core.display.HTML object>"
      ]
     },
     "metadata": {},
     "output_type": "display_data"
    },
    {
     "data": {
      "text/html": [
       "<p>Found 3 reference sequences</p>"
      ],
      "text/plain": [
       "<IPython.core.display.HTML object>"
      ]
     },
     "metadata": {},
     "output_type": "display_data"
    },
    {
     "data": {
      "text/html": [
       "<p>Reference instance<br>&emsp;&emsp;ERCC-00033&emsp;length: 2022<br>&emsp;&emsp;ERCC-00104&emsp;length: 2022<br>&emsp;&emsp;ERCC-00025&emsp;length: 1994<br>&emsp;ext&emsp;tsv<br>&emsp;fp&emsp;../test_data/ERCC.tsv<br>&emsp;name&emsp;ERCC<br>&emsp;verbose&emsp;True<br></p>"
      ],
      "text/plain": [
       "<IPython.core.display.HTML object>"
      ]
     },
     "metadata": {},
     "output_type": "display_data"
    }
   ],
   "source": [
    "l = ['ERCC-00104', 'ERCC-00033', 'ERCC-00025']\n",
    "r = Reference (\"../test_data/ERCC.tsv\", verbose=True, ref_list=l)\n",
    "print(r)"
   ]
  },
  {
   "cell_type": "code",
   "execution_count": 2,
   "metadata": {
    "ExecuteTime": {
     "end_time": "2017-03-28T16:43:41.401853",
     "start_time": "2017-03-28T16:43:41.392584"
    },
    "collapsed": false,
    "hidden": true,
    "run_control": {
     "frozen": false,
     "read_only": false
    },
    "scrolled": false
   },
   "outputs": [
    {
     "data": {
      "text/html": [
       "<p>Assume the file is a fasta index</p>"
      ],
      "text/plain": [
       "<IPython.core.display.HTML object>"
      ]
     },
     "metadata": {},
     "output_type": "display_data"
    },
    {
     "data": {
      "text/html": [
       "<p>Found 25 reference sequences</p>"
      ],
      "text/plain": [
       "<IPython.core.display.HTML object>"
      ]
     },
     "metadata": {},
     "output_type": "display_data"
    },
    {
     "data": {
      "text/html": [
       "<p>Reference instance<br>&emsp;&emsp;chr1&emsp;length: 248956422<br>&emsp;&emsp;chr2&emsp;length: 242193529<br>&emsp;&emsp;chr3&emsp;length: 198295559<br>&emsp;&emsp;chr4&emsp;length: 190214555<br>&emsp;&emsp;chr5&emsp;length: 181538259<br>&emsp;&emsp;chr6&emsp;length: 170805979<br>&emsp;&emsp;chr7&emsp;length: 159345973<br>&emsp;&emsp;chrX&emsp;length: 156040895<br>&emsp;&emsp;chr8&emsp;length: 145138636<br>&emsp;&emsp;chr9&emsp;length: 138394717<br>&emsp;&emsp;chr11&emsp;length: 135086622<br>&emsp;&emsp;chr10&emsp;length: 133797422<br>&emsp;&emsp;chr12&emsp;length: 133275309<br>&emsp;&emsp;chr13&emsp;length: 114364328<br>&emsp;&emsp;chr14&emsp;length: 107043718<br>&emsp;&emsp;chr15&emsp;length: 101991189<br>&emsp;&emsp;chr16&emsp;length: 90338345<br>&emsp;&emsp;chr17&emsp;length: 83257441<br>&emsp;&emsp;chr18&emsp;length: 80373285<br>&emsp;&emsp;chr20&emsp;length: 64444167<br>&emsp;&emsp;chr19&emsp;length: 58617616<br>&emsp;&emsp;chrY&emsp;length: 57227415<br>&emsp;&emsp;chr22&emsp;length: 50818468<br>&emsp;&emsp;chr21&emsp;length: 46709983<br>&emsp;&emsp;chrM&emsp;length: 16569<br>&emsp;ext&emsp;tsv<br>&emsp;fp&emsp;../dl_test_data/GRCh38_primary.tsv<br>&emsp;name&emsp;GRCh38_primary<br>&emsp;verbose&emsp;True<br></p>"
      ],
      "text/plain": [
       "<IPython.core.display.HTML object>"
      ]
     },
     "metadata": {},
     "output_type": "display_data"
    }
   ],
   "source": [
    "r = Reference (\"../dl_test_data/GRCh38_primary.tsv\", verbose=True)\n",
    "print(r)"
   ]
  },
  {
   "cell_type": "markdown",
   "metadata": {
    "hidden": true
   },
   "source": [
    "**Test property methods**"
   ]
  },
  {
   "cell_type": "code",
   "execution_count": 2,
   "metadata": {
    "ExecuteTime": {
     "end_time": "2017-03-28T16:53:41.894588",
     "start_time": "2017-03-28T16:53:41.876303"
    },
    "collapsed": false,
    "hidden": true,
    "run_control": {
     "frozen": false,
     "read_only": false
    }
   },
   "outputs": [
    {
     "data": {
      "text/html": [
       "<p>Number of refid:  25</p>"
      ],
      "text/plain": [
       "<IPython.core.display.HTML object>"
      ]
     },
     "metadata": {},
     "output_type": "display_data"
    },
    {
     "data": {
      "text/html": [
       "<p>List of refid:<br> ['chr1', 'chr2', 'chr3', 'chr4', 'chr5', 'chr6', 'chr7', 'chrX', 'chr8', 'chr9', 'chr11', 'chr10', 'chr12', 'chr13', 'chr14', 'chr15', 'chr16', 'chr17', 'chr18', 'chr20', 'chr19', 'chrY', 'chr22', 'chr21', 'chrM']</p>"
      ],
      "text/plain": [
       "<IPython.core.display.HTML object>"
      ]
     },
     "metadata": {},
     "output_type": "display_data"
    }
   ],
   "source": [
    "r = Reference (\"../dl_test_data/GRCh38_primary.tsv\")\n",
    "\n",
    "print (\"Number of refid: \", r.refid_count)\n",
    "print (\"List of refid:\\n\", r.refid_list)"
   ]
  },
  {
   "cell_type": "markdown",
   "metadata": {
    "hidden": true
   },
   "source": [
    "**Test get_refid_len method** "
   ]
  },
  {
   "cell_type": "code",
   "execution_count": 3,
   "metadata": {
    "ExecuteTime": {
     "end_time": "2017-03-28T16:53:48.274527",
     "start_time": "2017-03-28T16:53:48.265080"
    },
    "collapsed": false,
    "hidden": true,
    "run_control": {
     "frozen": false,
     "read_only": false
    },
    "scrolled": false
   },
   "outputs": [
    {
     "data": {
      "text/plain": [
       "145138636"
      ]
     },
     "execution_count": 3,
     "metadata": {},
     "output_type": "execute_result"
    }
   ],
   "source": [
    "r = Reference (\"../dl_test_data/GRCh38_primary.tsv\")\n",
    "r.get_refid_len(\"chr8\")"
   ]
  },
  {
   "cell_type": "code",
   "execution_count": 4,
   "metadata": {
    "ExecuteTime": {
     "end_time": "2017-03-28T16:54:04.371627",
     "start_time": "2017-03-28T16:54:04.360894"
    },
    "collapsed": true,
    "hidden": true,
    "run_control": {
     "frozen": false,
     "read_only": false
    }
   },
   "outputs": [],
   "source": [
    "r = Reference (\"../dl_test_data/GRCh38_primary.tsv\")\n",
    "r.get_refid_len(\"chrINVALID\")"
   ]
  },
  {
   "cell_type": "markdown",
   "metadata": {
    "heading_collapsed": true
   },
   "source": [
    "# Level"
   ]
  },
  {
   "cell_type": "code",
   "execution_count": 2,
   "metadata": {
    "ExecuteTime": {
     "end_time": "2017-02-06T18:30:35.450607",
     "start_time": "2017-02-06T18:30:35.445185"
    },
    "collapsed": false,
    "hidden": true,
    "run_control": {
     "frozen": false,
     "read_only": false
    },
    "scrolled": true
   },
   "outputs": [
    {
     "name": "stdout",
     "output_type": "stream",
     "text": [
      "Help on class Level in module Level:\n",
      "\n",
      "class Level(builtins.object)\n",
      " |  Compute the level of a given feature on the Annotation track to avoid annotation overlaping\n",
      " |  \n",
      " |  Methods defined here:\n",
      " |  \n",
      " |  __call__(self, ID, start, end, strand)\n",
      " |      Compute the level of an annnotation feature based on the instance options and the other feautures previously\n",
      " |      analysed, to avoid overlapping. Iterative call of the function has to be done with annotation features sorted\n",
      " |      by start coordinates.\n",
      " |      * ID\n",
      " |          Name of the feature to fit in a level\n",
      " |      * start\n",
      " |          Start coordinate of the feature to fit in a level, on the positive strand\n",
      " |      * end\n",
      " |          End coordinate of the feature to fit in a level, on the positive strand\n",
      " |      * strand\n",
      " |          Strand of the feature. Can be + - or None\n",
      " |  \n",
      " |  __init__(self, max_depth=10, offset=10, filter_pos=False, filter_neg=False, filter_unstrand=True)\n",
      " |      Define general options for Level class\n",
      " |      * max_depth\n",
      " |          Maximal total number of positive or negative levels.\n",
      " |      * offset\n",
      " |          Minimal distance between 2 contigous annotation features on the same level\n",
      " |      * filter_pos\n",
      " |          Filter-out annotation features on the positive strand [ DEFAULT: False ]\n",
      " |      * filter_neg\n",
      " |          Filter-out annotation features on the negative strand [ DEFAULT: False ]\n",
      " |      * filter_unstrand\n",
      " |          Filter-out annotation features with no strand specified [ DEFAULT: True ]\n",
      " |  \n",
      " |  __repr__(self)\n",
      " |      Return repr(self).\n",
      " |  \n",
      " |  __str__(self)\n",
      " |      readable description of the object\n",
      " |  \n",
      " |  ----------------------------------------------------------------------\n",
      " |  Data descriptors defined here:\n",
      " |  \n",
      " |  __dict__\n",
      " |      dictionary for instance variables (if defined)\n",
      " |  \n",
      " |  __weakref__\n",
      " |      list of weak references to the object (if defined)\n",
      " |  \n",
      " |  max_level\n",
      " |      Return the minimal level index\n",
      " |  \n",
      " |  min_level\n",
      " |      Return the minimal level index\n",
      " |  \n",
      " |  n_level\n",
      " |      Return the total number of levels index\n",
      "\n"
     ]
    }
   ],
   "source": [
    "help(Level)"
   ]
  },
  {
   "cell_type": "markdown",
   "metadata": {
    "hidden": true
   },
   "source": [
    "**Test instanciation**"
   ]
  },
  {
   "cell_type": "code",
   "execution_count": 11,
   "metadata": {
    "ExecuteTime": {
     "end_time": "2017-02-07T17:13:09.178047",
     "start_time": "2017-02-07T17:13:09.173076"
    },
    "collapsed": false,
    "hidden": true,
    "run_control": {
     "frozen": false,
     "read_only": false
    },
    "scrolled": true
   },
   "outputs": [
    {
     "data": {
      "text/html": [
       "<p>Level instance<br>&emsp;count&emsp;Counter()<br>&emsp;enhanced_feature&emsp;<class 'Level.enhanced_feature'><br>&emsp;filter_neg&emsp;False<br>&emsp;filter_pos&emsp;False<br>&emsp;filter_unstrand&emsp;True<br>&emsp;level_dict&emsp;{}<br>&emsp;max_depth&emsp;3<br>&emsp;neg_arrowstyle&emsp;<|-,head_width=1,head_length=2<br>&emsp;offset&emsp;10<br>&emsp;pos_arrowstyle&emsp;-|>,head_width=1,head_length=2<br>&emsp;unstrand_arrowstyle&emsp;-<br></p>"
      ],
      "text/plain": [
       "<IPython.core.display.HTML object>"
      ]
     },
     "metadata": {},
     "output_type": "display_data"
    }
   ],
   "source": [
    "l = Level (max_depth=3, offset=10, filter_pos=False, filter_neg=False, filter_unstrand=True)\n",
    "print(l)"
   ]
  },
  {
   "cell_type": "markdown",
   "metadata": {
    "hidden": true
   },
   "source": [
    "**Test object calling with various values of features**\n",
    "\n",
    "All should be valid except 4 and 10 "
   ]
  },
  {
   "cell_type": "code",
   "execution_count": 12,
   "metadata": {
    "ExecuteTime": {
     "end_time": "2017-02-07T17:13:12.059310",
     "start_time": "2017-02-07T17:13:12.038573"
    },
    "collapsed": false,
    "hidden": true,
    "run_control": {
     "frozen": false,
     "read_only": false
    }
   },
   "outputs": [
    {
     "data": {
      "text/html": [
       "<p>enhanced_feature(ID='1', start=10, end=20, arrowstyle='-|>,head_width=1,head_length=2', level=1)</p>"
      ],
      "text/plain": [
       "<IPython.core.display.HTML object>"
      ]
     },
     "metadata": {},
     "output_type": "display_data"
    },
    {
     "data": {
      "text/html": [
       "<p>enhanced_feature(ID='2', start=12, end=22, arrowstyle='-|>,head_width=1,head_length=2', level=2)</p>"
      ],
      "text/plain": [
       "<IPython.core.display.HTML object>"
      ]
     },
     "metadata": {},
     "output_type": "display_data"
    },
    {
     "data": {
      "text/html": [
       "<p>enhanced_feature(ID='3', start=14, end=24, arrowstyle='-|>,head_width=1,head_length=2', level=3)</p>"
      ],
      "text/plain": [
       "<IPython.core.display.HTML object>"
      ]
     },
     "metadata": {},
     "output_type": "display_data"
    },
    {
     "data": {
      "text/html": [
       "<p>None</p>"
      ],
      "text/plain": [
       "<IPython.core.display.HTML object>"
      ]
     },
     "metadata": {},
     "output_type": "display_data"
    },
    {
     "data": {
      "text/html": [
       "<p>enhanced_feature(ID='5', start=14, end=24, arrowstyle='<|-,head_width=1,head_length=2', level=-1)</p>"
      ],
      "text/plain": [
       "<IPython.core.display.HTML object>"
      ]
     },
     "metadata": {},
     "output_type": "display_data"
    },
    {
     "data": {
      "text/html": [
       "<p>enhanced_feature(ID='6', start=27, end=43, arrowstyle='<|-,head_width=1,head_length=2', level=-2)</p>"
      ],
      "text/plain": [
       "<IPython.core.display.HTML object>"
      ]
     },
     "metadata": {},
     "output_type": "display_data"
    },
    {
     "data": {
      "text/html": [
       "<p>enhanced_feature(ID='7', start=27, end=48, arrowstyle='<|-,head_width=1,head_length=2', level=-3)</p>"
      ],
      "text/plain": [
       "<IPython.core.display.HTML object>"
      ]
     },
     "metadata": {},
     "output_type": "display_data"
    },
    {
     "data": {
      "text/html": [
       "<p>enhanced_feature(ID='8', start=54, end=76, arrowstyle='<|-,head_width=1,head_length=2', level=-1)</p>"
      ],
      "text/plain": [
       "<IPython.core.display.HTML object>"
      ]
     },
     "metadata": {},
     "output_type": "display_data"
    },
    {
     "data": {
      "text/html": [
       "<p>enhanced_feature(ID='9', start=54, end=76, arrowstyle='-|>,head_width=1,head_length=2', level=1)</p>"
      ],
      "text/plain": [
       "<IPython.core.display.HTML object>"
      ]
     },
     "metadata": {},
     "output_type": "display_data"
    },
    {
     "data": {
      "text/html": [
       "<p>None</p>"
      ],
      "text/plain": [
       "<IPython.core.display.HTML object>"
      ]
     },
     "metadata": {},
     "output_type": "display_data"
    }
   ],
   "source": [
    "print(l(ID=\"1\", start=10, end=20, strand=\"+\"))\n",
    "print(l(ID=\"2\", start=12, end=22, strand=\"+\"))\n",
    "print(l(ID=\"3\", start=14, end=24, strand=\"+\"))\n",
    "print(l(ID=\"4\", start=23, end=26, strand=\"+\"))\n",
    "print(l(ID=\"5\", start=14, end=24, strand=\"-\"))\n",
    "print(l(ID=\"6\", start=27, end=43, strand=\"-\"))\n",
    "print(l(ID=\"7\", start=27, end=48, strand=\"-\"))\n",
    "print(l(ID=\"8\", start=54, end=76, strand=\"-\"))\n",
    "print(l(ID=\"9\", start=54, end=76, strand=\"+\"))\n",
    "print(l(ID=\"10\", start=54, end=76, strand=\".\"))"
   ]
  },
  {
   "cell_type": "markdown",
   "metadata": {
    "hidden": true
   },
   "source": [
    "Visualize changes in object self variable after calling"
   ]
  },
  {
   "cell_type": "code",
   "execution_count": 13,
   "metadata": {
    "ExecuteTime": {
     "end_time": "2017-02-07T17:13:14.537498",
     "start_time": "2017-02-07T17:13:14.533724"
    },
    "collapsed": false,
    "hidden": true,
    "run_control": {
     "frozen": false,
     "read_only": false
    }
   },
   "outputs": [
    {
     "data": {
      "text/html": [
       "<p>Level instance<br>&emsp;count&emsp;Counter({'all_features': 10, 'positive_features': 5, 'negative_features': 4})<br>&emsp;enhanced_feature&emsp;<class 'Level.enhanced_feature'><br>&emsp;filter_neg&emsp;False<br>&emsp;filter_pos&emsp;False<br>&emsp;filter_unstrand&emsp;True<br>&emsp;level_dict&emsp;{1: 76, 2: 22, 3: 24, -1: 76, -3: 48, -2: 43}<br>&emsp;max_depth&emsp;3<br>&emsp;neg_arrowstyle&emsp;<|-,head_width=1,head_length=2<br>&emsp;offset&emsp;10<br>&emsp;pos_arrowstyle&emsp;-|>,head_width=1,head_length=2<br>&emsp;unstrand_arrowstyle&emsp;-<br></p>"
      ],
      "text/plain": [
       "<IPython.core.display.HTML object>"
      ]
     },
     "metadata": {},
     "output_type": "display_data"
    }
   ],
   "source": [
    "print(l)"
   ]
  },
  {
   "cell_type": "markdown",
   "metadata": {
    "hidden": true
   },
   "source": [
    "**Alternative instanciation**\n",
    "\n",
    "All should be valid except 3,5,6,7 and 8 "
   ]
  },
  {
   "cell_type": "code",
   "execution_count": 17,
   "metadata": {
    "ExecuteTime": {
     "end_time": "2017-02-07T17:14:49.990322",
     "start_time": "2017-02-07T17:14:49.965185"
    },
    "collapsed": false,
    "hidden": true,
    "run_control": {
     "frozen": false,
     "read_only": false
    }
   },
   "outputs": [
    {
     "data": {
      "text/html": [
       "<p>enhanced_feature(ID='1', start=10, end=20, arrowstyle='-|>,head_width=1,head_length=2', level=1)</p>"
      ],
      "text/plain": [
       "<IPython.core.display.HTML object>"
      ]
     },
     "metadata": {},
     "output_type": "display_data"
    },
    {
     "data": {
      "text/html": [
       "<p>enhanced_feature(ID='2', start=12, end=22, arrowstyle='-|>,head_width=1,head_length=2', level=2)</p>"
      ],
      "text/plain": [
       "<IPython.core.display.HTML object>"
      ]
     },
     "metadata": {},
     "output_type": "display_data"
    },
    {
     "data": {
      "text/html": [
       "<p>None</p>"
      ],
      "text/plain": [
       "<IPython.core.display.HTML object>"
      ]
     },
     "metadata": {},
     "output_type": "display_data"
    },
    {
     "data": {
      "text/html": [
       "<p>enhanced_feature(ID='4', start=23, end=26, arrowstyle='-|>,head_width=1,head_length=2', level=1)</p>"
      ],
      "text/plain": [
       "<IPython.core.display.HTML object>"
      ]
     },
     "metadata": {},
     "output_type": "display_data"
    },
    {
     "data": {
      "text/html": [
       "<p>None</p>"
      ],
      "text/plain": [
       "<IPython.core.display.HTML object>"
      ]
     },
     "metadata": {},
     "output_type": "display_data"
    },
    {
     "data": {
      "text/html": [
       "<p>None</p>"
      ],
      "text/plain": [
       "<IPython.core.display.HTML object>"
      ]
     },
     "metadata": {},
     "output_type": "display_data"
    },
    {
     "data": {
      "text/html": [
       "<p>None</p>"
      ],
      "text/plain": [
       "<IPython.core.display.HTML object>"
      ]
     },
     "metadata": {},
     "output_type": "display_data"
    },
    {
     "data": {
      "text/html": [
       "<p>None</p>"
      ],
      "text/plain": [
       "<IPython.core.display.HTML object>"
      ]
     },
     "metadata": {},
     "output_type": "display_data"
    },
    {
     "data": {
      "text/html": [
       "<p>enhanced_feature(ID='9', start=54, end=76, arrowstyle='-', level=0)</p>"
      ],
      "text/plain": [
       "<IPython.core.display.HTML object>"
      ]
     },
     "metadata": {},
     "output_type": "display_data"
    },
    {
     "data": {
      "text/html": [
       "<p>enhanced_feature(ID='10', start=54, end=76, arrowstyle='-', level=0)</p>"
      ],
      "text/plain": [
       "<IPython.core.display.HTML object>"
      ]
     },
     "metadata": {},
     "output_type": "display_data"
    }
   ],
   "source": [
    "l = Level (max_depth=2, offset=2, filter_pos=False, filter_neg=True, filter_unstrand=False)\n",
    "\n",
    "print(l(ID=\"1\", start=10, end=20, strand=\"+\"))\n",
    "print(l(ID=\"2\", start=12, end=22, strand=\"+\"))\n",
    "print(l(ID=\"3\", start=14, end=24, strand=\"+\"))\n",
    "print(l(ID=\"4\", start=23, end=26, strand=\"+\"))\n",
    "print(l(ID=\"5\", start=14, end=24, strand=\"-\"))\n",
    "print(l(ID=\"6\", start=27, end=43, strand=\"-\"))\n",
    "print(l(ID=\"7\", start=27, end=48, strand=\"-\"))\n",
    "print(l(ID=\"8\", start=54, end=76, strand=\"-\"))\n",
    "print(l(ID=\"9\", start=54, end=76, strand=\".\"))\n",
    "print(l(ID=\"10\", start=54, end=76, strand=\".\"))"
   ]
  },
  {
   "cell_type": "markdown",
   "metadata": {
    "hidden": true
   },
   "source": [
    "**Try the object properties**"
   ]
  },
  {
   "cell_type": "code",
   "execution_count": 18,
   "metadata": {
    "ExecuteTime": {
     "end_time": "2017-02-07T17:17:00.522901",
     "start_time": "2017-02-07T17:17:00.519760"
    },
    "collapsed": false,
    "hidden": true,
    "run_control": {
     "frozen": false,
     "read_only": false
    }
   },
   "outputs": [
    {
     "data": {
      "text/plain": [
       "2"
      ]
     },
     "execution_count": 18,
     "metadata": {},
     "output_type": "execute_result"
    }
   ],
   "source": [
    "l.max_level"
   ]
  },
  {
   "cell_type": "code",
   "execution_count": 19,
   "metadata": {
    "ExecuteTime": {
     "end_time": "2017-02-07T17:17:01.199107",
     "start_time": "2017-02-07T17:17:01.195574"
    },
    "collapsed": false,
    "hidden": true,
    "run_control": {
     "frozen": false,
     "read_only": false
    }
   },
   "outputs": [
    {
     "data": {
      "text/plain": [
       "0"
      ]
     },
     "execution_count": 19,
     "metadata": {},
     "output_type": "execute_result"
    }
   ],
   "source": [
    "l.min_level"
   ]
  },
  {
   "cell_type": "code",
   "execution_count": 20,
   "metadata": {
    "ExecuteTime": {
     "end_time": "2017-02-07T17:17:01.814411",
     "start_time": "2017-02-07T17:17:01.810829"
    },
    "collapsed": false,
    "hidden": true,
    "run_control": {
     "frozen": false,
     "read_only": false
    }
   },
   "outputs": [
    {
     "data": {
      "text/plain": [
       "3"
      ]
     },
     "execution_count": 20,
     "metadata": {},
     "output_type": "execute_result"
    }
   ],
   "source": [
    "l.n_level"
   ]
  },
  {
   "cell_type": "markdown",
   "metadata": {},
   "source": [
    "# Annotation"
   ]
  },
  {
   "cell_type": "code",
   "execution_count": 3,
   "metadata": {
    "ExecuteTime": {
     "end_time": "2017-03-28T12:07:40.806013",
     "start_time": "2017-03-28T12:07:40.801010"
    },
    "collapsed": false,
    "run_control": {
     "frozen": false,
     "read_only": false
    },
    "scrolled": true
   },
   "outputs": [
    {
     "name": "stdout",
     "output_type": "stream",
     "text": [
      "Help on class Annotation in module Annotation:\n",
      "\n",
      "class Annotation(builtins.object)\n",
      " |  Parse data from a file containing genomic annotation in GFF3, GTF or BED format.\n",
      " |  Can return the list of annotations for a given interval\n",
      " |  \n",
      " |  Methods defined here:\n",
      " |  \n",
      " |  __init__(self, fp, name=None, verbose=False, ref_list=[])\n",
      " |       * fp\n",
      " |          An URL to a standard genomic file containing features annotations among the following format:\n",
      " |            gff3: http://www.ensembl.org/info/website/upload/gff3.html\n",
      " |            gtf:  http://www.ensembl.org/info/website/upload/gff.html\n",
      " |            bed:  http://www.ensembl.org/info/website/upload/bed.html\n",
      " |          Valid URL schemes include http, ftp, s3, and file.\n",
      " |          The file can eventually be compressed in ‘gzip’, ‘bz2’, ‘zip’ or ‘xz’\n",
      " |      *  name\n",
      " |          Name of the data file that will be used as track name for plotting. If not given, will be deduced from fp\n",
      " |          file name  [ DEFAULT: None ]\n",
      " |      * verbose\n",
      " |          If True, will print more information during initialisation and calls of all the object methods\n",
      " |          [ DEFAULT: False ]\n",
      " |      * ref_list\n",
      " |          list of reference sequence id to select from the data file[ DEFAULT: [] ]\n",
      " |  \n",
      " |  __repr__(self)\n",
      " |      Return repr(self).\n",
      " |  \n",
      " |  __str__(self)\n",
      " |      readable description of the object\n",
      " |  \n",
      " |  interval_features(self, refid, start, end, feature_type=None)\n",
      " |      Parse the annotation file for the given refid and interval and return a dataframe containing all the features\n",
      " |      found for each original line. Features are identified by their ID field for gff3 files, by the entire\n",
      " |      attribute field for the bed files and by the first element in the attribute field for the gtf files\n",
      " |      * refid\n",
      " |          ID of the reference sequence to fetch\n",
      " |      * start\n",
      " |          Start of the window to display.\n",
      " |      * end\n",
      " |          End of the window to display.\n",
      " |      * feature_types\n",
      " |          Name of a valid feature type ( \"exon\"|\"transcript\"|\"gene\"|\"CDS\"...) or list of names of feature type for\n",
      " |          which a row will be returned. The option is not available for bed files. If not given, all features type\n",
      " |          found in the interval will be returned [ DEFAULT: None ]\n",
      " |  \n",
      " |  ----------------------------------------------------------------------\n",
      " |  Data descriptors defined here:\n",
      " |  \n",
      " |  __dict__\n",
      " |      dictionary for instance variables (if defined)\n",
      " |  \n",
      " |  __weakref__\n",
      " |      list of weak references to the object (if defined)\n",
      " |  \n",
      " |  feature_count\n",
      " |      Number of features collected\n",
      " |  \n",
      " |  refid_count\n",
      " |      Number of unique reference sequence ids found\n",
      " |  \n",
      " |  refid_count_uniq\n",
      " |      List of unique reference sequence ids with count of associated features\n",
      " |  \n",
      " |  refid_list\n",
      " |      List of unique reference sequence ids found\n",
      " |  \n",
      " |  type_count\n",
      " |      Number of unique feature type found\n",
      " |  \n",
      " |  type_count_uniq\n",
      " |      List of unique feature types with count of associated features\n",
      " |  \n",
      " |  type_list\n",
      " |      List of unique feature type found\n",
      "\n"
     ]
    }
   ],
   "source": [
    "help(Annotation)"
   ]
  },
  {
   "cell_type": "markdown",
   "metadata": {},
   "source": [
    "**Test instantiation**"
   ]
  },
  {
   "cell_type": "code",
   "execution_count": 3,
   "metadata": {
    "ExecuteTime": {
     "end_time": "2017-03-28T10:32:52.975518",
     "start_time": "2017-03-28T10:31:37.254913"
    },
    "collapsed": false,
    "run_control": {
     "frozen": false,
     "read_only": false
    },
    "scrolled": true
   },
   "outputs": [
    {
     "data": {
      "text/html": [
       "<p>Use BED parser to parse annotations in  FANTOM_5_all_lncRNA</p>"
      ],
      "text/plain": [
       "<IPython.core.display.HTML object>"
      ]
     },
     "metadata": {},
     "output_type": "display_data"
    },
    {
     "data": {
      "text/html": [
       "<p>Sort annotation features by coordinates</p>"
      ],
      "text/plain": [
       "<IPython.core.display.HTML object>"
      ]
     },
     "metadata": {},
     "output_type": "display_data"
    },
    {
     "data": {
      "text/html": [
       "<p>Annotation features count:172328</p>"
      ],
      "text/plain": [
       "<IPython.core.display.HTML object>"
      ]
     },
     "metadata": {},
     "output_type": "display_data"
    },
    {
     "data": {
      "text/html": [
       "<p>refid count:23</p>"
      ],
      "text/plain": [
       "<IPython.core.display.HTML object>"
      ]
     },
     "metadata": {},
     "output_type": "display_data"
    },
    {
     "data": {
      "text/html": [
       "<p>Feature type count:1</p>"
      ],
      "text/plain": [
       "<IPython.core.display.HTML object>"
      ]
     },
     "metadata": {},
     "output_type": "display_data"
    },
    {
     "data": {
      "text/html": [
       "<p>Annotation instance<br>&emsp;ext&emsp;bed<br>&emsp;fp&emsp;../dl_test_data/FANTOM_5_all_lncRNA.bed.gz<br>&emsp;name&emsp;FANTOM_5_all_lncRNA<br>&emsp;verbose&emsp;True<br></p>"
      ],
      "text/plain": [
       "<IPython.core.display.HTML object>"
      ]
     },
     "metadata": {},
     "output_type": "display_data"
    },
    {
     "data": {
      "text/html": [
       "<p>Use GTF parser to parse annotations in FANTOM_5_all_lncRNA</p>"
      ],
      "text/plain": [
       "<IPython.core.display.HTML object>"
      ]
     },
     "metadata": {},
     "output_type": "display_data"
    },
    {
     "data": {
      "text/html": [
       "<p>Sort annotation features by coordinates</p>"
      ],
      "text/plain": [
       "<IPython.core.display.HTML object>"
      ]
     },
     "metadata": {},
     "output_type": "display_data"
    },
    {
     "data": {
      "text/html": [
       "<p>Annotation features count:629137</p>"
      ],
      "text/plain": [
       "<IPython.core.display.HTML object>"
      ]
     },
     "metadata": {},
     "output_type": "display_data"
    },
    {
     "data": {
      "text/html": [
       "<p>refid count:23</p>"
      ],
      "text/plain": [
       "<IPython.core.display.HTML object>"
      ]
     },
     "metadata": {},
     "output_type": "display_data"
    },
    {
     "data": {
      "text/html": [
       "<p>Feature type count:3</p>"
      ],
      "text/plain": [
       "<IPython.core.display.HTML object>"
      ]
     },
     "metadata": {},
     "output_type": "display_data"
    },
    {
     "data": {
      "text/html": [
       "<p>Annotation instance<br>&emsp;ext&emsp;gtf<br>&emsp;fp&emsp;../dl_test_data/FANTOM_5_all_lncRNA.gtf.gz<br>&emsp;name&emsp;FANTOM_5_all_lncRNA<br>&emsp;verbose&emsp;True<br></p>"
      ],
      "text/plain": [
       "<IPython.core.display.HTML object>"
      ]
     },
     "metadata": {},
     "output_type": "display_data"
    },
    {
     "data": {
      "text/html": [
       "<p>Use GFF3 parser to parse annotations in  gencode_v25_lncRNA</p>"
      ],
      "text/plain": [
       "<IPython.core.display.HTML object>"
      ]
     },
     "metadata": {},
     "output_type": "display_data"
    },
    {
     "data": {
      "text/html": [
       "<p>Sort annotation features by coordinates</p>"
      ],
      "text/plain": [
       "<IPython.core.display.HTML object>"
      ]
     },
     "metadata": {},
     "output_type": "display_data"
    },
    {
     "data": {
      "text/html": [
       "<p>Annotation features count:123589</p>"
      ],
      "text/plain": [
       "<IPython.core.display.HTML object>"
      ]
     },
     "metadata": {},
     "output_type": "display_data"
    },
    {
     "data": {
      "text/html": [
       "<p>refid count:23</p>"
      ],
      "text/plain": [
       "<IPython.core.display.HTML object>"
      ]
     },
     "metadata": {},
     "output_type": "display_data"
    },
    {
     "data": {
      "text/html": [
       "<p>Feature type count:3</p>"
      ],
      "text/plain": [
       "<IPython.core.display.HTML object>"
      ]
     },
     "metadata": {},
     "output_type": "display_data"
    },
    {
     "data": {
      "text/html": [
       "<p>Annotation instance<br>&emsp;ext&emsp;gff3<br>&emsp;fp&emsp;../dl_test_data/gencode_v25_lncRNA.gff3.gz<br>&emsp;name&emsp;gencode_v25_lncRNA<br>&emsp;verbose&emsp;True<br></p>"
      ],
      "text/plain": [
       "<IPython.core.display.HTML object>"
      ]
     },
     "metadata": {},
     "output_type": "display_data"
    },
    {
     "data": {
      "text/html": [
       "<p>Use GFF3 parser to parse annotations in  gencode_v25_primary</p>"
      ],
      "text/plain": [
       "<IPython.core.display.HTML object>"
      ]
     },
     "metadata": {},
     "output_type": "display_data"
    },
    {
     "data": {
      "text/html": [
       "<p>Sort annotation features by coordinates</p>"
      ],
      "text/plain": [
       "<IPython.core.display.HTML object>"
      ]
     },
     "metadata": {},
     "output_type": "display_data"
    },
    {
     "data": {
      "text/html": [
       "<p>Annotation features count:2521027</p>"
      ],
      "text/plain": [
       "<IPython.core.display.HTML object>"
      ]
     },
     "metadata": {},
     "output_type": "display_data"
    },
    {
     "data": {
      "text/html": [
       "<p>refid count:24</p>"
      ],
      "text/plain": [
       "<IPython.core.display.HTML object>"
      ]
     },
     "metadata": {},
     "output_type": "display_data"
    },
    {
     "data": {
      "text/html": [
       "<p>Feature type count:9</p>"
      ],
      "text/plain": [
       "<IPython.core.display.HTML object>"
      ]
     },
     "metadata": {},
     "output_type": "display_data"
    },
    {
     "data": {
      "text/html": [
       "<p>Annotation instance<br>&emsp;ext&emsp;gff3<br>&emsp;fp&emsp;../dl_test_data/gencode_v25_primary.gff3.gz<br>&emsp;name&emsp;gencode_v25_primary<br>&emsp;verbose&emsp;True<br></p>"
      ],
      "text/plain": [
       "<IPython.core.display.HTML object>"
      ]
     },
     "metadata": {},
     "output_type": "display_data"
    },
    {
     "data": {
      "text/html": [
       "<p>Use GTF parser to parse annotations in gencode_v25_primary</p>"
      ],
      "text/plain": [
       "<IPython.core.display.HTML object>"
      ]
     },
     "metadata": {},
     "output_type": "display_data"
    },
    {
     "data": {
      "text/html": [
       "<p>Sort annotation features by coordinates</p>"
      ],
      "text/plain": [
       "<IPython.core.display.HTML object>"
      ]
     },
     "metadata": {},
     "output_type": "display_data"
    },
    {
     "data": {
      "text/html": [
       "<p>Annotation features count:2523557</p>"
      ],
      "text/plain": [
       "<IPython.core.display.HTML object>"
      ]
     },
     "metadata": {},
     "output_type": "display_data"
    },
    {
     "data": {
      "text/html": [
       "<p>refid count:24</p>"
      ],
      "text/plain": [
       "<IPython.core.display.HTML object>"
      ]
     },
     "metadata": {},
     "output_type": "display_data"
    },
    {
     "data": {
      "text/html": [
       "<p>Feature type count:8</p>"
      ],
      "text/plain": [
       "<IPython.core.display.HTML object>"
      ]
     },
     "metadata": {},
     "output_type": "display_data"
    },
    {
     "data": {
      "text/html": [
       "<p>Annotation instance<br>&emsp;ext&emsp;gtf<br>&emsp;fp&emsp;../dl_test_data/gencode_v25_primary.gtf.gz<br>&emsp;name&emsp;gencode_v25_primary<br>&emsp;verbose&emsp;True<br></p>"
      ],
      "text/plain": [
       "<IPython.core.display.HTML object>"
      ]
     },
     "metadata": {},
     "output_type": "display_data"
    }
   ],
   "source": [
    "file_list = [\n",
    "    \"../dl_test_data/FANTOM_5_all_lncRNA.bed.gz\",\n",
    "    \"../dl_test_data/FANTOM_5_all_lncRNA.gtf.gz\",\n",
    "    \"../dl_test_data/gencode_v25_lncRNA.gff3.gz\",\n",
    "    \"../dl_test_data/gencode_v25_primary.gff3.gz\",\n",
    "    \"../dl_test_data/gencode_v25_primary.gtf.gz\" ]\n",
    "\n",
    "ref_list = [\"chr1\", \"chr2\", \"chr3\", \"chr4\", \"chr5\", \"chr6\", \"chr7\", \"chr8\", \"chr9\", \"chr10\", \"chr11\", \"chr12\", \"chr13\", \"chr14\", \"chr15\", \"chr16\", \"chr17\", \"chr18\", \"chr19\", \"chr20\", \"chr21\", \"chrX\", \"chrY\", \"chrM\"]\n",
    "\n",
    "for fp in file_list:\n",
    "    a = Annotation (fp, verbose=True, ref_list=ref_list)\n",
    "    print (a)"
   ]
  },
  {
   "cell_type": "markdown",
   "metadata": {},
   "source": [
    "**Test property methods**"
   ]
  },
  {
   "cell_type": "code",
   "execution_count": 4,
   "metadata": {
    "ExecuteTime": {
     "end_time": "2017-03-28T10:32:56.056496",
     "start_time": "2017-03-28T10:32:52.976897"
    },
    "collapsed": false,
    "run_control": {
     "frozen": false,
     "read_only": false
    },
    "scrolled": true
   },
   "outputs": [
    {
     "data": {
      "text/html": [
       "<p>feature count: 29651</p>"
      ],
      "text/plain": [
       "<IPython.core.display.HTML object>"
      ]
     },
     "metadata": {},
     "output_type": "display_data"
    },
    {
     "data": {
      "text/html": [
       "<p>refid count: 3</p>"
      ],
      "text/plain": [
       "<IPython.core.display.HTML object>"
      ]
     },
     "metadata": {},
     "output_type": "display_data"
    },
    {
     "data": {
      "text/html": [
       "<p>type count: 3</p>"
      ],
      "text/plain": [
       "<IPython.core.display.HTML object>"
      ]
     },
     "metadata": {},
     "output_type": "display_data"
    },
    {
     "data": {
      "text/plain": [
       "['chr21', 'chrX', 'chrY']"
      ]
     },
     "metadata": {},
     "output_type": "display_data"
    },
    {
     "data": {
      "text/plain": [
       "['exon', 'gene', 'transcript']"
      ]
     },
     "metadata": {},
     "output_type": "display_data"
    },
    {
     "data": {
      "text/html": [
       "<div>\n",
       "<table border=\"1\" class=\"dataframe\">\n",
       "  <thead>\n",
       "    <tr style=\"text-align: right;\">\n",
       "      <th></th>\n",
       "      <th>count</th>\n",
       "    </tr>\n",
       "    <tr>\n",
       "      <th>refid</th>\n",
       "      <th></th>\n",
       "    </tr>\n",
       "  </thead>\n",
       "  <tbody>\n",
       "    <tr>\n",
       "      <th>chrX</th>\n",
       "      <td>18119</td>\n",
       "    </tr>\n",
       "    <tr>\n",
       "      <th>chr21</th>\n",
       "      <td>10177</td>\n",
       "    </tr>\n",
       "    <tr>\n",
       "      <th>chrY</th>\n",
       "      <td>1355</td>\n",
       "    </tr>\n",
       "  </tbody>\n",
       "</table>\n",
       "</div>"
      ],
      "text/plain": [
       "       count\n",
       "refid       \n",
       "chrX   18119\n",
       "chr21  10177\n",
       "chrY    1355"
      ]
     },
     "metadata": {},
     "output_type": "display_data"
    },
    {
     "data": {
      "text/html": [
       "<div>\n",
       "<table border=\"1\" class=\"dataframe\">\n",
       "  <thead>\n",
       "    <tr style=\"text-align: right;\">\n",
       "      <th></th>\n",
       "      <th>count</th>\n",
       "    </tr>\n",
       "    <tr>\n",
       "      <th>type</th>\n",
       "      <th></th>\n",
       "    </tr>\n",
       "  </thead>\n",
       "  <tbody>\n",
       "    <tr>\n",
       "      <th>exon</th>\n",
       "      <td>18542</td>\n",
       "    </tr>\n",
       "    <tr>\n",
       "      <th>transcript</th>\n",
       "      <td>8084</td>\n",
       "    </tr>\n",
       "    <tr>\n",
       "      <th>gene</th>\n",
       "      <td>3025</td>\n",
       "    </tr>\n",
       "  </tbody>\n",
       "</table>\n",
       "</div>"
      ],
      "text/plain": [
       "            count\n",
       "type             \n",
       "exon        18542\n",
       "transcript   8084\n",
       "gene         3025"
      ]
     },
     "metadata": {},
     "output_type": "display_data"
    }
   ],
   "source": [
    "a = Annotation (\"../dl_test_data/FANTOM_5_all_lncRNA.gtf.gz\", ref_list = [\"chr21\", \"chrX\", \"chrY\", \"chrM\"])\n",
    "\n",
    "print (\"feature count:\", a.feature_count)\n",
    "print (\"refid count:\", a.refid_count)\n",
    "print (\"type count:\", a.type_count)\n",
    "\n",
    "display(a.refid_list)\n",
    "display(a.type_list)\n",
    "display(a.refid_count_uniq.head())\n",
    "display(a.type_count_uniq.head())"
   ]
  },
  {
   "cell_type": "code",
   "execution_count": 5,
   "metadata": {
    "ExecuteTime": {
     "end_time": "2017-03-28T10:33:13.548917",
     "start_time": "2017-03-28T10:32:56.058192"
    },
    "collapsed": false,
    "run_control": {
     "frozen": false,
     "read_only": false
    },
    "scrolled": false
   },
   "outputs": [
    {
     "data": {
      "text/html": [
       "<p>feature count: 118607</p>"
      ],
      "text/plain": [
       "<IPython.core.display.HTML object>"
      ]
     },
     "metadata": {},
     "output_type": "display_data"
    },
    {
     "data": {
      "text/html": [
       "<p>refid count: 4</p>"
      ],
      "text/plain": [
       "<IPython.core.display.HTML object>"
      ]
     },
     "metadata": {},
     "output_type": "display_data"
    },
    {
     "data": {
      "text/html": [
       "<p>type count: 8</p>"
      ],
      "text/plain": [
       "<IPython.core.display.HTML object>"
      ]
     },
     "metadata": {},
     "output_type": "display_data"
    },
    {
     "data": {
      "text/plain": [
       "['chr21', 'chrM', 'chrX', 'chrY']"
      ]
     },
     "metadata": {},
     "output_type": "display_data"
    },
    {
     "data": {
      "text/plain": [
       "['exon',\n",
       " 'CDS',\n",
       " 'gene',\n",
       " 'transcript',\n",
       " 'stop_codon',\n",
       " 'three_prime_UTR',\n",
       " 'five_prime_UTR',\n",
       " 'start_codon']"
      ]
     },
     "metadata": {},
     "output_type": "display_data"
    },
    {
     "data": {
      "text/html": [
       "<div>\n",
       "<table border=\"1\" class=\"dataframe\">\n",
       "  <thead>\n",
       "    <tr style=\"text-align: right;\">\n",
       "      <th></th>\n",
       "      <th>count</th>\n",
       "    </tr>\n",
       "    <tr>\n",
       "      <th>refid</th>\n",
       "      <th></th>\n",
       "    </tr>\n",
       "  </thead>\n",
       "  <tbody>\n",
       "    <tr>\n",
       "      <th>chrX</th>\n",
       "      <td>80432</td>\n",
       "    </tr>\n",
       "    <tr>\n",
       "      <th>chr21</th>\n",
       "      <td>28902</td>\n",
       "    </tr>\n",
       "    <tr>\n",
       "      <th>chrY</th>\n",
       "      <td>9135</td>\n",
       "    </tr>\n",
       "    <tr>\n",
       "      <th>chrM</th>\n",
       "      <td>138</td>\n",
       "    </tr>\n",
       "  </tbody>\n",
       "</table>\n",
       "</div>"
      ],
      "text/plain": [
       "       count\n",
       "refid       \n",
       "chrX   80432\n",
       "chr21  28902\n",
       "chrY    9135\n",
       "chrM     138"
      ]
     },
     "metadata": {},
     "output_type": "display_data"
    },
    {
     "data": {
      "text/html": [
       "<div>\n",
       "<table border=\"1\" class=\"dataframe\">\n",
       "  <thead>\n",
       "    <tr style=\"text-align: right;\">\n",
       "      <th></th>\n",
       "      <th>count</th>\n",
       "    </tr>\n",
       "    <tr>\n",
       "      <th>type</th>\n",
       "      <th></th>\n",
       "    </tr>\n",
       "  </thead>\n",
       "  <tbody>\n",
       "    <tr>\n",
       "      <th>exon</th>\n",
       "      <td>53953</td>\n",
       "    </tr>\n",
       "    <tr>\n",
       "      <th>CDS</th>\n",
       "      <td>32193</td>\n",
       "    </tr>\n",
       "    <tr>\n",
       "      <th>transcript</th>\n",
       "      <td>9385</td>\n",
       "    </tr>\n",
       "    <tr>\n",
       "      <th>five_prime_UTR</th>\n",
       "      <td>6856</td>\n",
       "    </tr>\n",
       "    <tr>\n",
       "      <th>three_prime_UTR</th>\n",
       "      <td>5158</td>\n",
       "    </tr>\n",
       "  </tbody>\n",
       "</table>\n",
       "</div>"
      ],
      "text/plain": [
       "                 count\n",
       "type                  \n",
       "exon             53953\n",
       "CDS              32193\n",
       "transcript        9385\n",
       "five_prime_UTR    6856\n",
       "three_prime_UTR   5158"
      ]
     },
     "metadata": {},
     "output_type": "display_data"
    }
   ],
   "source": [
    "a = Annotation (\"../dl_test_data/gencode_v25_primary.gff3.gz\", ref_list = [\"chr21\", \"chrX\", \"chrY\", \"chrM\"])\n",
    "\n",
    "print (\"feature count:\", a.feature_count)\n",
    "print (\"refid count:\", a.refid_count)\n",
    "print (\"type count:\", a.type_count)\n",
    "\n",
    "display(a.refid_list)\n",
    "display(a.type_list)\n",
    "display(a.refid_count_uniq.head())\n",
    "display(a.type_count_uniq.head())"
   ]
  },
  {
   "cell_type": "markdown",
   "metadata": {},
   "source": [
    "**test the interval_features method**"
   ]
  },
  {
   "cell_type": "code",
   "execution_count": 6,
   "metadata": {
    "ExecuteTime": {
     "end_time": "2017-03-28T10:33:14.138512",
     "start_time": "2017-03-28T10:33:13.550657"
    },
    "collapsed": false,
    "run_control": {
     "frozen": false,
     "read_only": false
    }
   },
   "outputs": [
    {
     "data": {
      "text/html": [
       "<p>Use BED parser to parse annotations in  FANTOM_5_all_lncRNA</p>"
      ],
      "text/plain": [
       "<IPython.core.display.HTML object>"
      ]
     },
     "metadata": {},
     "output_type": "display_data"
    },
    {
     "data": {
      "text/html": [
       "<p>Sort annotation features by coordinates</p>"
      ],
      "text/plain": [
       "<IPython.core.display.HTML object>"
      ]
     },
     "metadata": {},
     "output_type": "display_data"
    },
    {
     "data": {
      "text/html": [
       "<p>Annotation features count:175031</p>"
      ],
      "text/plain": [
       "<IPython.core.display.HTML object>"
      ]
     },
     "metadata": {},
     "output_type": "display_data"
    },
    {
     "data": {
      "text/html": [
       "<p>refid count:24</p>"
      ],
      "text/plain": [
       "<IPython.core.display.HTML object>"
      ]
     },
     "metadata": {},
     "output_type": "display_data"
    },
    {
     "data": {
      "text/html": [
       "<p>Feature type count:1</p>"
      ],
      "text/plain": [
       "<IPython.core.display.HTML object>"
      ]
     },
     "metadata": {},
     "output_type": "display_data"
    }
   ],
   "source": [
    "a = Annotation (\"../dl_test_data/FANTOM_5_all_lncRNA.bed.gz\", verbose=True)"
   ]
  },
  {
   "cell_type": "code",
   "execution_count": 7,
   "metadata": {
    "ExecuteTime": {
     "end_time": "2017-03-28T10:33:14.173079",
     "start_time": "2017-03-28T10:33:14.139716"
    },
    "collapsed": false,
    "run_control": {
     "frozen": false,
     "read_only": false
    }
   },
   "outputs": [
    {
     "data": {
      "text/html": [
       "<div>\n",
       "<table border=\"1\" class=\"dataframe\">\n",
       "  <thead>\n",
       "    <tr style=\"text-align: right;\">\n",
       "      <th></th>\n",
       "      <th>refid</th>\n",
       "      <th>start</th>\n",
       "      <th>end</th>\n",
       "      <th>strand</th>\n",
       "      <th>ID</th>\n",
       "      <th>type</th>\n",
       "    </tr>\n",
       "  </thead>\n",
       "  <tbody>\n",
       "    <tr>\n",
       "      <th>0</th>\n",
       "      <td>chrX</td>\n",
       "      <td>70225</td>\n",
       "      <td>70724</td>\n",
       "      <td>+</td>\n",
       "      <td>CATG00000110193.1|HBMT00001528801.1</td>\n",
       "      <td>unknown</td>\n",
       "    </tr>\n",
       "    <tr>\n",
       "      <th>1</th>\n",
       "      <td>chrX</td>\n",
       "      <td>70225</td>\n",
       "      <td>71012</td>\n",
       "      <td>+</td>\n",
       "      <td>CATG00000110193.1|ENCT00000463832.1</td>\n",
       "      <td>unknown</td>\n",
       "    </tr>\n",
       "    <tr>\n",
       "      <th>2</th>\n",
       "      <td>chrX</td>\n",
       "      <td>70225</td>\n",
       "      <td>71610</td>\n",
       "      <td>+</td>\n",
       "      <td>CATG00000110193.1|ENCT00000463833.1</td>\n",
       "      <td>unknown</td>\n",
       "    </tr>\n",
       "    <tr>\n",
       "      <th>3</th>\n",
       "      <td>chrX</td>\n",
       "      <td>184125</td>\n",
       "      <td>192877</td>\n",
       "      <td>-</td>\n",
       "      <td>CATG00000112915.1|ENCT00000473979.1</td>\n",
       "      <td>unknown</td>\n",
       "    </tr>\n",
       "    <tr>\n",
       "      <th>4</th>\n",
       "      <td>chrX</td>\n",
       "      <td>192544</td>\n",
       "      <td>192877</td>\n",
       "      <td>-</td>\n",
       "      <td>CATG00000112915.1|FTMT29000000005.1</td>\n",
       "      <td>unknown</td>\n",
       "    </tr>\n",
       "  </tbody>\n",
       "</table>\n",
       "</div>"
      ],
      "text/plain": [
       "  refid   start     end strand                                   ID     type\n",
       "0  chrX   70225   70724      +  CATG00000110193.1|HBMT00001528801.1  unknown\n",
       "1  chrX   70225   71012      +  CATG00000110193.1|ENCT00000463832.1  unknown\n",
       "2  chrX   70225   71610      +  CATG00000110193.1|ENCT00000463833.1  unknown\n",
       "3  chrX  184125  192877      -  CATG00000112915.1|ENCT00000473979.1  unknown\n",
       "4  chrX  192544  192877      -  CATG00000112915.1|FTMT29000000005.1  unknown"
      ]
     },
     "execution_count": 7,
     "metadata": {},
     "output_type": "execute_result"
    }
   ],
   "source": [
    "a.interval_features(\"chrX\", start=70723, end=1456774, feature_type=None).head()"
   ]
  },
  {
   "cell_type": "code",
   "execution_count": 8,
   "metadata": {
    "ExecuteTime": {
     "end_time": "2017-03-28T10:33:14.188873",
     "start_time": "2017-03-28T10:33:14.174533"
    },
    "collapsed": false,
    "run_control": {
     "frozen": false,
     "read_only": false
    }
   },
   "outputs": [
    {
     "data": {
      "text/html": [
       "<p>Incompatible options. Bed files do not allow to identify feature_type</p>"
      ],
      "text/plain": [
       "<IPython.core.display.HTML object>"
      ]
     },
     "metadata": {},
     "output_type": "display_data"
    },
    {
     "data": {
      "text/html": [
       "<div>\n",
       "<table border=\"1\" class=\"dataframe\">\n",
       "  <thead>\n",
       "    <tr style=\"text-align: right;\">\n",
       "      <th></th>\n",
       "      <th>refid</th>\n",
       "      <th>start</th>\n",
       "      <th>end</th>\n",
       "      <th>strand</th>\n",
       "      <th>ID</th>\n",
       "      <th>type</th>\n",
       "    </tr>\n",
       "  </thead>\n",
       "  <tbody>\n",
       "  </tbody>\n",
       "</table>\n",
       "</div>"
      ],
      "text/plain": [
       "Empty DataFrame\n",
       "Columns: [refid, start, end, strand, ID, type]\n",
       "Index: []"
      ]
     },
     "execution_count": 8,
     "metadata": {},
     "output_type": "execute_result"
    }
   ],
   "source": [
    "a.interval_features(\"chrX\", start=71011, end=200000, feature_type=[\"exon\"]).head()"
   ]
  },
  {
   "cell_type": "code",
   "execution_count": 9,
   "metadata": {
    "ExecuteTime": {
     "end_time": "2017-03-28T10:33:18.487291",
     "start_time": "2017-03-28T10:33:14.190158"
    },
    "collapsed": false,
    "run_control": {
     "frozen": false,
     "read_only": false
    }
   },
   "outputs": [
    {
     "data": {
      "text/html": [
       "<p>Use GTF parser to parse annotations in FANTOM_5_all_lncRNA</p>"
      ],
      "text/plain": [
       "<IPython.core.display.HTML object>"
      ]
     },
     "metadata": {},
     "output_type": "display_data"
    },
    {
     "data": {
      "text/html": [
       "<p>Sort annotation features by coordinates</p>"
      ],
      "text/plain": [
       "<IPython.core.display.HTML object>"
      ]
     },
     "metadata": {},
     "output_type": "display_data"
    },
    {
     "data": {
      "text/html": [
       "<p>Annotation features count:639324</p>"
      ],
      "text/plain": [
       "<IPython.core.display.HTML object>"
      ]
     },
     "metadata": {},
     "output_type": "display_data"
    },
    {
     "data": {
      "text/html": [
       "<p>refid count:24</p>"
      ],
      "text/plain": [
       "<IPython.core.display.HTML object>"
      ]
     },
     "metadata": {},
     "output_type": "display_data"
    },
    {
     "data": {
      "text/html": [
       "<p>Feature type count:3</p>"
      ],
      "text/plain": [
       "<IPython.core.display.HTML object>"
      ]
     },
     "metadata": {},
     "output_type": "display_data"
    }
   ],
   "source": [
    "a = Annotation (\"../dl_test_data/FANTOM_5_all_lncRNA.gtf.gz\", verbose=True)"
   ]
  },
  {
   "cell_type": "code",
   "execution_count": 10,
   "metadata": {
    "ExecuteTime": {
     "end_time": "2017-03-28T10:33:18.546107",
     "start_time": "2017-03-28T10:33:18.488957"
    },
    "collapsed": false,
    "run_control": {
     "frozen": false,
     "read_only": false
    },
    "scrolled": true
   },
   "outputs": [
    {
     "data": {
      "text/html": [
       "<div>\n",
       "<table border=\"1\" class=\"dataframe\">\n",
       "  <thead>\n",
       "    <tr style=\"text-align: right;\">\n",
       "      <th></th>\n",
       "      <th>refid</th>\n",
       "      <th>start</th>\n",
       "      <th>end</th>\n",
       "      <th>strand</th>\n",
       "      <th>ID</th>\n",
       "      <th>type</th>\n",
       "    </tr>\n",
       "  </thead>\n",
       "  <tbody>\n",
       "    <tr>\n",
       "      <th>0</th>\n",
       "      <td>chrX</td>\n",
       "      <td>70226</td>\n",
       "      <td>71012</td>\n",
       "      <td>+</td>\n",
       "      <td>CATG00000110193.1</td>\n",
       "      <td>transcript</td>\n",
       "    </tr>\n",
       "    <tr>\n",
       "      <th>1</th>\n",
       "      <td>chrX</td>\n",
       "      <td>70226</td>\n",
       "      <td>71012</td>\n",
       "      <td>+</td>\n",
       "      <td>CATG00000110193.1</td>\n",
       "      <td>exon</td>\n",
       "    </tr>\n",
       "    <tr>\n",
       "      <th>2</th>\n",
       "      <td>chrX</td>\n",
       "      <td>70226</td>\n",
       "      <td>71610</td>\n",
       "      <td>+</td>\n",
       "      <td>CATG00000110193.1</td>\n",
       "      <td>transcript</td>\n",
       "    </tr>\n",
       "    <tr>\n",
       "      <th>3</th>\n",
       "      <td>chrX</td>\n",
       "      <td>70226</td>\n",
       "      <td>71610</td>\n",
       "      <td>+</td>\n",
       "      <td>CATG00000110193.1</td>\n",
       "      <td>exon</td>\n",
       "    </tr>\n",
       "    <tr>\n",
       "      <th>4</th>\n",
       "      <td>chrX</td>\n",
       "      <td>184126</td>\n",
       "      <td>184535</td>\n",
       "      <td>-</td>\n",
       "      <td>CATG00000112915.1</td>\n",
       "      <td>exon</td>\n",
       "    </tr>\n",
       "  </tbody>\n",
       "</table>\n",
       "</div>"
      ],
      "text/plain": [
       "  refid   start     end strand                 ID        type\n",
       "0  chrX   70226   71012      +  CATG00000110193.1  transcript\n",
       "1  chrX   70226   71012      +  CATG00000110193.1        exon\n",
       "2  chrX   70226   71610      +  CATG00000110193.1  transcript\n",
       "3  chrX   70226   71610      +  CATG00000110193.1        exon\n",
       "4  chrX  184126  184535      -  CATG00000112915.1        exon"
      ]
     },
     "execution_count": 10,
     "metadata": {},
     "output_type": "execute_result"
    }
   ],
   "source": [
    "a.interval_features(\"chrX\", start=71011, end=200000, feature_type=[\"exon\", \"transcript\"]).head()"
   ]
  },
  {
   "cell_type": "code",
   "execution_count": 11,
   "metadata": {
    "ExecuteTime": {
     "end_time": "2017-03-28T10:33:18.600952",
     "start_time": "2017-03-28T10:33:18.547951"
    },
    "collapsed": false,
    "run_control": {
     "frozen": false,
     "read_only": false
    }
   },
   "outputs": [
    {
     "data": {
      "text/html": [
       "<p>No feature found within the requested feature types</p>"
      ],
      "text/plain": [
       "<IPython.core.display.HTML object>"
      ]
     },
     "metadata": {},
     "output_type": "display_data"
    },
    {
     "data": {
      "text/html": [
       "<div>\n",
       "<table border=\"1\" class=\"dataframe\">\n",
       "  <thead>\n",
       "    <tr style=\"text-align: right;\">\n",
       "      <th></th>\n",
       "      <th>refid</th>\n",
       "      <th>start</th>\n",
       "      <th>end</th>\n",
       "      <th>strand</th>\n",
       "      <th>ID</th>\n",
       "      <th>type</th>\n",
       "    </tr>\n",
       "  </thead>\n",
       "  <tbody>\n",
       "  </tbody>\n",
       "</table>\n",
       "</div>"
      ],
      "text/plain": [
       "Empty DataFrame\n",
       "Columns: [refid, start, end, strand, ID, type]\n",
       "Index: []"
      ]
     },
     "execution_count": 11,
     "metadata": {},
     "output_type": "execute_result"
    }
   ],
   "source": [
    "a.interval_features(\"chrX\", start=71011, end=200000, feature_type=\"CDS\").head()"
   ]
  },
  {
   "cell_type": "code",
   "execution_count": 12,
   "metadata": {
    "ExecuteTime": {
     "end_time": "2017-03-28T10:33:18.636214",
     "start_time": "2017-03-28T10:33:18.602363"
    },
    "collapsed": false,
    "run_control": {
     "frozen": false,
     "read_only": false
    }
   },
   "outputs": [
    {
     "data": {
      "text/html": [
       "<p>The reference chrINVALID is not in the list of references with alignment</p>"
      ],
      "text/plain": [
       "<IPython.core.display.HTML object>"
      ]
     },
     "metadata": {},
     "output_type": "display_data"
    },
    {
     "data": {
      "text/html": [
       "<div>\n",
       "<table border=\"1\" class=\"dataframe\">\n",
       "  <thead>\n",
       "    <tr style=\"text-align: right;\">\n",
       "      <th></th>\n",
       "      <th>refid</th>\n",
       "      <th>start</th>\n",
       "      <th>end</th>\n",
       "      <th>strand</th>\n",
       "      <th>ID</th>\n",
       "      <th>type</th>\n",
       "    </tr>\n",
       "  </thead>\n",
       "  <tbody>\n",
       "  </tbody>\n",
       "</table>\n",
       "</div>"
      ],
      "text/plain": [
       "Empty DataFrame\n",
       "Columns: [refid, start, end, strand, ID, type]\n",
       "Index: []"
      ]
     },
     "execution_count": 12,
     "metadata": {},
     "output_type": "execute_result"
    }
   ],
   "source": [
    "a.interval_features(\"chrINVALID\", start=71011, end=200000, feature_type=[\"exon\"]).head()"
   ]
  },
  {
   "cell_type": "code",
   "execution_count": 13,
   "metadata": {
    "ExecuteTime": {
     "end_time": "2017-03-28T10:33:18.672431",
     "start_time": "2017-03-28T10:33:18.637153"
    },
    "collapsed": false,
    "run_control": {
     "frozen": false,
     "read_only": false
    }
   },
   "outputs": [
    {
     "data": {
      "text/html": [
       "<p>Invalid coordinates: End must be greater than Start</p>"
      ],
      "text/plain": [
       "<IPython.core.display.HTML object>"
      ]
     },
     "metadata": {},
     "output_type": "display_data"
    },
    {
     "data": {
      "text/html": [
       "<div>\n",
       "<table border=\"1\" class=\"dataframe\">\n",
       "  <thead>\n",
       "    <tr style=\"text-align: right;\">\n",
       "      <th></th>\n",
       "      <th>refid</th>\n",
       "      <th>start</th>\n",
       "      <th>end</th>\n",
       "      <th>strand</th>\n",
       "      <th>ID</th>\n",
       "      <th>type</th>\n",
       "    </tr>\n",
       "  </thead>\n",
       "  <tbody>\n",
       "  </tbody>\n",
       "</table>\n",
       "</div>"
      ],
      "text/plain": [
       "Empty DataFrame\n",
       "Columns: [refid, start, end, strand, ID, type]\n",
       "Index: []"
      ]
     },
     "execution_count": 13,
     "metadata": {},
     "output_type": "execute_result"
    }
   ],
   "source": [
    "a.interval_features(\"chrX\", start=200000, end=10000).head()"
   ]
  },
  {
   "cell_type": "markdown",
   "metadata": {
    "collapsed": true,
    "run_control": {
     "frozen": false,
     "read_only": false
    }
   },
   "source": [
    "# Alignment"
   ]
  },
  {
   "cell_type": "code",
   "execution_count": 2,
   "metadata": {
    "ExecuteTime": {
     "end_time": "2017-03-29T18:14:55.213256",
     "start_time": "2017-03-29T18:14:55.206045"
    },
    "collapsed": false,
    "run_control": {
     "frozen": false,
     "read_only": false
    },
    "scrolled": true
   },
   "outputs": [
    {
     "name": "stdout",
     "output_type": "stream",
     "text": [
      "Help on class Alignment in module Alignment:\n",
      "\n",
      "class Alignment(builtins.object)\n",
      " |  Parse data and compute the base resolution coverage from a file containing aligned reads in BAM, SAM or BED format.\n",
      " |  Can return the coverage for a given interval\n",
      " |  \n",
      " |  Methods defined here:\n",
      " |  \n",
      " |  __init__(self, fp, name=None, verbose=False, min_coverage=5, ref_list=[], output_bed=False)\n",
      " |       * fp\n",
      " |           A standard BAM or SAM (http://samtools.sourceforge.net/SAM1.pdf) containing aligned reads and a standard\n",
      " |           header. The files do not need to be sorted or indexed.\n",
      " |           One can also use a 6 fields bed (chrom, chromStart, chromEnd, name, score, strand (Much faster than from a\n",
      " |           Bam/Sam file, can be gzipped). http://www.ensembl.org/info/website/upload/bed.html\n",
      " |      *  name\n",
      " |          Name of the data file that will be used as track name for plotting. If not given, will be deduced from fp\n",
      " |          file name  [ DEFAULT: None ]\n",
      " |      * verbose\n",
      " |          If True, will print more information during initialisation and calls of all the object methods\n",
      " |          [ DEFAULT: False ]\n",
      " |      * min_coverage\n",
      " |          Minimal coverage to compute the data. If less, the coverage will be considered null. Not used for\n",
      " |          if fp is a bed coverage file [ DEFAULT: 5 ]\n",
      " |      * ref_list\n",
      " |          list of reference sequence id to select from the data file, by default all, Not used for if fp is a bed\n",
      " |          coverage file [ DEFAULT: [] ]\n",
      " |      * output_bed\n",
      " |          If True will be write a 6 columns compressed bed file containing the coverage values for + and - strand\n",
      " |          excluding positions with coverage lesser than min_coverage.the option will apply only is the input file is\n",
      " |          BAM or SAM. [ DEFAULT: False ]\n",
      " |  \n",
      " |  __repr__(self)\n",
      " |      Return repr(self).\n",
      " |  \n",
      " |  __str__(self)\n",
      " |      readable description of the object\n",
      " |  \n",
      " |  interval_coverage(self, refid, start, end, bins=500, bin_repr_fun='max')\n",
      " |       Parse the alignment file for a given refid and interval. The interval is splited in a number of windows equal to\n",
      " |       bins, for which the coverage in computed. The method return a dataframe containing the starting positions of\n",
      " |       the windows and the coverage for the + and - strands. If the refid or the coordinates are invalid a zero filled\n",
      " |       dataframe will be returned.\n",
      " |       * seqid\n",
      " |           Name of the sequence from the original fasta file to display\n",
      " |       * start\n",
      " |           Start of the window to display. The coordinate is not verified, if outside of the range it will\n",
      " |           return empty bins\n",
      " |       * end\n",
      " |           End of the window to display. The coordinate is not verified, if outside of the range it will\n",
      " |           return empty bins\n",
      " |      * bins\n",
      " |           Number of alignment count bins to divide the displayed window. Low number will result in low resolution\n",
      " |           high value could result in a long ploting time. The valur is automatically adjust is lower than base\n",
      " |           resolution, ie if the requested interval is lower than the number of bins [ DEFAULT: 500 ]\n",
      " |       * bin_repr_fun\n",
      " |           Function to represent each bin (\"max\", \"mean\" and \"sum\") [ DEFAULT: \"max\" ]\n",
      " |  \n",
      " |  ----------------------------------------------------------------------\n",
      " |  Data descriptors defined here:\n",
      " |  \n",
      " |  __dict__\n",
      " |      dictionary for instance variables (if defined)\n",
      " |  \n",
      " |  __weakref__\n",
      " |      list of weak references to the object (if defined)\n",
      " |  \n",
      " |  refid_count\n",
      " |      Number of unique reference sequence ids found\n",
      " |  \n",
      " |  refid_list\n",
      " |      List of unique reference sequence ids found\n",
      " |  \n",
      " |  refid_nbases\n",
      " |      List of unique reference sequence ids found associated with their base coverage\n",
      "\n"
     ]
    }
   ],
   "source": [
    "help(Alignment)"
   ]
  },
  {
   "cell_type": "markdown",
   "metadata": {},
   "source": [
    "**Test instantiation from BAM, SAM and BED files**"
   ]
  },
  {
   "cell_type": "code",
   "execution_count": 3,
   "metadata": {
    "ExecuteTime": {
     "end_time": "2017-04-06T15:56:25.814804",
     "start_time": "2017-04-06T15:53:54.697316"
    },
    "collapsed": false,
    "run_control": {
     "frozen": false,
     "read_only": false
    },
    "scrolled": false
   },
   "outputs": [
    {
     "data": {
      "text/html": [
       "<p>Compute coverage from bam/sam file  ../dl_test_data/1M.bam</p>"
      ],
      "text/plain": [
       "<IPython.core.display.HTML object>"
      ]
     },
     "metadata": {},
     "output_type": "display_data"
    },
    {
     "data": {
      "text/html": [
       "<p>&emsp;Tally coverage for each base</p>"
      ],
      "text/plain": [
       "<IPython.core.display.HTML object>"
      ]
     },
     "metadata": {},
     "output_type": "display_data"
    },
    {
     "data": {
      "text/html": [
       "<p>&emsp;Filter and sort the coverage results by position</p>"
      ],
      "text/plain": [
       "<IPython.core.display.HTML object>"
      ]
     },
     "metadata": {},
     "output_type": "display_data"
    },
    {
     "data": {
      "text/html": [
       "<p>Write coverage data in file  ../dl_test_data/1M.bed.gz</p>"
      ],
      "text/plain": [
       "<IPython.core.display.HTML object>"
      ]
     },
     "metadata": {},
     "output_type": "display_data"
    },
    {
     "data": {
      "text/html": [
       "<p>&emsp;Total base coverage 24786158 in 25 reference sequences</p>"
      ],
      "text/plain": [
       "<IPython.core.display.HTML object>"
      ]
     },
     "metadata": {},
     "output_type": "display_data"
    },
    {
     "data": {
      "text/html": [
       "<p>Alignment instance<br>&emsp;chr1&emsp;nbases:1672759<br>&emsp;chr14&emsp;nbases:969619<br>&emsp;chr2&emsp;nbases:1684153<br>&emsp;chr16&emsp;nbases:1905311<br>&emsp;chr21&emsp;nbases:4551459<br>&emsp;chr9&emsp;nbases:534310<br>&emsp;chr3&emsp;nbases:1656105<br>&emsp;chr18&emsp;nbases:39978<br>&emsp;chr15&emsp;nbases:299921<br>&emsp;chr20&emsp;nbases:1115702<br>&emsp;chr7&emsp;nbases:372747<br>&emsp;chr8&emsp;nbases:373550<br>&emsp;chr22&emsp;nbases:332211<br>&emsp;chr10&emsp;nbases:354604<br>&emsp;chr11&emsp;nbases:963085<br>&emsp;chr5&emsp;nbases:253869<br>&emsp;chr13&emsp;nbases:91130<br>&emsp;chr17&emsp;nbases:1317502<br>&emsp;chr19&emsp;nbases:1027703<br>&emsp;chrX&emsp;nbases:717252<br>&emsp;chr12&emsp;nbases:888997<br>&emsp;chr4&emsp;nbases:491060<br>&emsp;chr6&emsp;nbases:1265690<br>&emsp;chrM&emsp;nbases:1849737<br>&emsp;chrY&emsp;nbases:57704<br>&emsp;ext&emsp;bam<br>&emsp;fp&emsp;../dl_test_data/1M.bam<br>&emsp;name&emsp;1M<br>&emsp;nbases&emsp;24786158<br>&emsp;outfp&emsp;../dl_test_data/1M.bed.gz<br>&emsp;verbose&emsp;True<br></p>"
      ],
      "text/plain": [
       "<IPython.core.display.HTML object>"
      ]
     },
     "metadata": {},
     "output_type": "display_data"
    },
    {
     "data": {
      "text/html": [
       "<p>Execution time =  70.56 s</p>"
      ],
      "text/plain": [
       "<IPython.core.display.HTML object>"
      ]
     },
     "metadata": {},
     "output_type": "display_data"
    },
    {
     "data": {
      "text/html": [
       "<p>Compute coverage from bam/sam file  ../dl_test_data/1M.sam</p>"
      ],
      "text/plain": [
       "<IPython.core.display.HTML object>"
      ]
     },
     "metadata": {},
     "output_type": "display_data"
    },
    {
     "data": {
      "text/html": [
       "<p>&emsp;Tally coverage for each base</p>"
      ],
      "text/plain": [
       "<IPython.core.display.HTML object>"
      ]
     },
     "metadata": {},
     "output_type": "display_data"
    },
    {
     "data": {
      "text/html": [
       "<p>&emsp;Filter and sort the coverage results by position</p>"
      ],
      "text/plain": [
       "<IPython.core.display.HTML object>"
      ]
     },
     "metadata": {},
     "output_type": "display_data"
    },
    {
     "data": {
      "text/html": [
       "<p>Write coverage data in file  ../dl_test_data/1M.bed.gz</p>"
      ],
      "text/plain": [
       "<IPython.core.display.HTML object>"
      ]
     },
     "metadata": {},
     "output_type": "display_data"
    },
    {
     "data": {
      "text/html": [
       "<p>&emsp;Total base coverage 24786158 in 25 reference sequences</p>"
      ],
      "text/plain": [
       "<IPython.core.display.HTML object>"
      ]
     },
     "metadata": {},
     "output_type": "display_data"
    },
    {
     "data": {
      "text/html": [
       "<p>Alignment instance<br>&emsp;chr1&emsp;nbases:1672759<br>&emsp;chr14&emsp;nbases:969619<br>&emsp;chr2&emsp;nbases:1684153<br>&emsp;chr16&emsp;nbases:1905311<br>&emsp;chr21&emsp;nbases:4551459<br>&emsp;chr9&emsp;nbases:534310<br>&emsp;chr3&emsp;nbases:1656105<br>&emsp;chr18&emsp;nbases:39978<br>&emsp;chr15&emsp;nbases:299921<br>&emsp;chr20&emsp;nbases:1115702<br>&emsp;chr7&emsp;nbases:372747<br>&emsp;chr8&emsp;nbases:373550<br>&emsp;chr22&emsp;nbases:332211<br>&emsp;chr10&emsp;nbases:354604<br>&emsp;chr11&emsp;nbases:963085<br>&emsp;chr5&emsp;nbases:253869<br>&emsp;chr13&emsp;nbases:91130<br>&emsp;chr17&emsp;nbases:1317502<br>&emsp;chr19&emsp;nbases:1027703<br>&emsp;chrX&emsp;nbases:717252<br>&emsp;chr12&emsp;nbases:888997<br>&emsp;chr4&emsp;nbases:491060<br>&emsp;chr6&emsp;nbases:1265690<br>&emsp;chrM&emsp;nbases:1849737<br>&emsp;chrY&emsp;nbases:57704<br>&emsp;ext&emsp;sam<br>&emsp;fp&emsp;../dl_test_data/1M.sam<br>&emsp;name&emsp;1M<br>&emsp;nbases&emsp;24786158<br>&emsp;outfp&emsp;../dl_test_data/1M.bed.gz<br>&emsp;verbose&emsp;True<br></p>"
      ],
      "text/plain": [
       "<IPython.core.display.HTML object>"
      ]
     },
     "metadata": {},
     "output_type": "display_data"
    },
    {
     "data": {
      "text/html": [
       "<p>Execution time =  70.63 s</p>"
      ],
      "text/plain": [
       "<IPython.core.display.HTML object>"
      ]
     },
     "metadata": {},
     "output_type": "display_data"
    },
    {
     "data": {
      "text/html": [
       "<p>Compute coverage from bam/sam file  ../dl_test_data/100k.sam</p>"
      ],
      "text/plain": [
       "<IPython.core.display.HTML object>"
      ]
     },
     "metadata": {},
     "output_type": "display_data"
    },
    {
     "data": {
      "text/html": [
       "<p>&emsp;Tally coverage for each base</p>"
      ],
      "text/plain": [
       "<IPython.core.display.HTML object>"
      ]
     },
     "metadata": {},
     "output_type": "display_data"
    },
    {
     "data": {
      "text/html": [
       "<p>&emsp;Filter and sort the coverage results by position</p>"
      ],
      "text/plain": [
       "<IPython.core.display.HTML object>"
      ]
     },
     "metadata": {},
     "output_type": "display_data"
    },
    {
     "data": {
      "text/html": [
       "<p>Write coverage data in file  ../dl_test_data/100k.bed.gz</p>"
      ],
      "text/plain": [
       "<IPython.core.display.HTML object>"
      ]
     },
     "metadata": {},
     "output_type": "display_data"
    },
    {
     "data": {
      "text/html": [
       "<p>&emsp;Total base coverage 989837 in 25 reference sequences</p>"
      ],
      "text/plain": [
       "<IPython.core.display.HTML object>"
      ]
     },
     "metadata": {},
     "output_type": "display_data"
    },
    {
     "data": {
      "text/html": [
       "<p>Alignment instance<br>&emsp;chr1&emsp;nbases:75763<br>&emsp;chr14&emsp;nbases:32674<br>&emsp;chr2&emsp;nbases:51270<br>&emsp;chr16&emsp;nbases:27312<br>&emsp;chr21&emsp;nbases:351150<br>&emsp;chr9&emsp;nbases:7747<br>&emsp;chr3&emsp;nbases:63794<br>&emsp;chr18&emsp;nbases:60<br>&emsp;chr15&emsp;nbases:1703<br>&emsp;chr20&emsp;nbases:26905<br>&emsp;chr7&emsp;nbases:5132<br>&emsp;chr8&emsp;nbases:4186<br>&emsp;chr22&emsp;nbases:2625<br>&emsp;chr10&emsp;nbases:7164<br>&emsp;chr11&emsp;nbases:27229<br>&emsp;chr5&emsp;nbases:1525<br>&emsp;chr13&emsp;nbases:931<br>&emsp;chr17&emsp;nbases:13445<br>&emsp;chr19&emsp;nbases:23847<br>&emsp;chrX&emsp;nbases:4491<br>&emsp;chr12&emsp;nbases:36391<br>&emsp;chr4&emsp;nbases:20578<br>&emsp;chr6&emsp;nbases:44164<br>&emsp;chrM&emsp;nbases:159751<br>&emsp;chrY&emsp;nbases:0<br>&emsp;ext&emsp;sam<br>&emsp;fp&emsp;../dl_test_data/100k.sam<br>&emsp;name&emsp;100k<br>&emsp;nbases&emsp;989837<br>&emsp;outfp&emsp;../dl_test_data/100k.bed.gz<br>&emsp;verbose&emsp;True<br></p>"
      ],
      "text/plain": [
       "<IPython.core.display.HTML object>"
      ]
     },
     "metadata": {},
     "output_type": "display_data"
    },
    {
     "data": {
      "text/html": [
       "<p>Execution time =  5.94 s</p>"
      ],
      "text/plain": [
       "<IPython.core.display.HTML object>"
      ]
     },
     "metadata": {},
     "output_type": "display_data"
    },
    {
     "data": {
      "text/html": [
       "<p>Extract coverage from bed file ../dl_test_data/1M.bed.gz</p>"
      ],
      "text/plain": [
       "<IPython.core.display.HTML object>"
      ]
     },
     "metadata": {},
     "output_type": "display_data"
    },
    {
     "data": {
      "text/html": [
       "<p>&emsp;Extract base coverage data</p>"
      ],
      "text/plain": [
       "<IPython.core.display.HTML object>"
      ]
     },
     "metadata": {},
     "output_type": "display_data"
    },
    {
     "data": {
      "text/html": [
       "<p>&emsp;Sort the coverage results by position</p>"
      ],
      "text/plain": [
       "<IPython.core.display.HTML object>"
      ]
     },
     "metadata": {},
     "output_type": "display_data"
    },
    {
     "data": {
      "text/html": [
       "<p>&emsp;Total base coverage 24786158 in 25 reference sequences</p>"
      ],
      "text/plain": [
       "<IPython.core.display.HTML object>"
      ]
     },
     "metadata": {},
     "output_type": "display_data"
    },
    {
     "data": {
      "text/html": [
       "<p>Alignment instance<br>&emsp;chr1&emsp;nbases:1672759<br>&emsp;chr14&emsp;nbases:969619<br>&emsp;chr2&emsp;nbases:1684153<br>&emsp;chr16&emsp;nbases:1905311<br>&emsp;chr21&emsp;nbases:4551459<br>&emsp;chr9&emsp;nbases:534310<br>&emsp;chr3&emsp;nbases:1656105<br>&emsp;chr18&emsp;nbases:39978<br>&emsp;chr15&emsp;nbases:299921<br>&emsp;chr20&emsp;nbases:1115702<br>&emsp;chr7&emsp;nbases:372747<br>&emsp;chr8&emsp;nbases:373550<br>&emsp;chr22&emsp;nbases:332211<br>&emsp;chr10&emsp;nbases:354604<br>&emsp;chr11&emsp;nbases:963085<br>&emsp;chr5&emsp;nbases:253869<br>&emsp;chr13&emsp;nbases:91130<br>&emsp;chr17&emsp;nbases:1317502<br>&emsp;chr19&emsp;nbases:1027703<br>&emsp;chrX&emsp;nbases:717252<br>&emsp;chr12&emsp;nbases:888997<br>&emsp;chr4&emsp;nbases:491060<br>&emsp;chr6&emsp;nbases:1265690<br>&emsp;chrM&emsp;nbases:1849737<br>&emsp;chrY&emsp;nbases:57704<br>&emsp;ext&emsp;bed<br>&emsp;fp&emsp;../dl_test_data/1M.bed.gz<br>&emsp;name&emsp;1M<br>&emsp;nbases&emsp;24786158<br>&emsp;verbose&emsp;True<br></p>"
      ],
      "text/plain": [
       "<IPython.core.display.HTML object>"
      ]
     },
     "metadata": {},
     "output_type": "display_data"
    },
    {
     "data": {
      "text/html": [
       "<p>Execution time =  3.77 s</p>"
      ],
      "text/plain": [
       "<IPython.core.display.HTML object>"
      ]
     },
     "metadata": {},
     "output_type": "display_data"
    },
    {
     "data": {
      "text/html": [
       "<p>Extract coverage from bed file ../dl_test_data/100k.bed.gz</p>"
      ],
      "text/plain": [
       "<IPython.core.display.HTML object>"
      ]
     },
     "metadata": {},
     "output_type": "display_data"
    },
    {
     "data": {
      "text/html": [
       "<p>&emsp;Extract base coverage data</p>"
      ],
      "text/plain": [
       "<IPython.core.display.HTML object>"
      ]
     },
     "metadata": {},
     "output_type": "display_data"
    },
    {
     "data": {
      "text/html": [
       "<p>&emsp;Sort the coverage results by position</p>"
      ],
      "text/plain": [
       "<IPython.core.display.HTML object>"
      ]
     },
     "metadata": {},
     "output_type": "display_data"
    },
    {
     "data": {
      "text/html": [
       "<p>&emsp;Total base coverage 989837 in 24 reference sequences</p>"
      ],
      "text/plain": [
       "<IPython.core.display.HTML object>"
      ]
     },
     "metadata": {},
     "output_type": "display_data"
    },
    {
     "data": {
      "text/html": [
       "<p>Alignment instance<br>&emsp;chr1&emsp;nbases:75763<br>&emsp;chr14&emsp;nbases:32674<br>&emsp;chr2&emsp;nbases:51270<br>&emsp;chr16&emsp;nbases:27312<br>&emsp;chr21&emsp;nbases:351150<br>&emsp;chr9&emsp;nbases:7747<br>&emsp;chr3&emsp;nbases:63794<br>&emsp;chr18&emsp;nbases:60<br>&emsp;chr15&emsp;nbases:1703<br>&emsp;chr20&emsp;nbases:26905<br>&emsp;chr7&emsp;nbases:5132<br>&emsp;chr8&emsp;nbases:4186<br>&emsp;chr22&emsp;nbases:2625<br>&emsp;chr10&emsp;nbases:7164<br>&emsp;chr11&emsp;nbases:27229<br>&emsp;chr5&emsp;nbases:1525<br>&emsp;chr13&emsp;nbases:931<br>&emsp;chr17&emsp;nbases:13445<br>&emsp;chr19&emsp;nbases:23847<br>&emsp;chrX&emsp;nbases:4491<br>&emsp;chr12&emsp;nbases:36391<br>&emsp;chr4&emsp;nbases:20578<br>&emsp;chr6&emsp;nbases:44164<br>&emsp;chrM&emsp;nbases:159751<br>&emsp;ext&emsp;bed<br>&emsp;fp&emsp;../dl_test_data/100k.bed.gz<br>&emsp;name&emsp;100k<br>&emsp;nbases&emsp;989837<br>&emsp;verbose&emsp;True<br></p>"
      ],
      "text/plain": [
       "<IPython.core.display.HTML object>"
      ]
     },
     "metadata": {},
     "output_type": "display_data"
    },
    {
     "data": {
      "text/html": [
       "<p>Execution time =  0.2 s</p>"
      ],
      "text/plain": [
       "<IPython.core.display.HTML object>"
      ]
     },
     "metadata": {},
     "output_type": "display_data"
    }
   ],
   "source": [
    "file_list = [\"../dl_test_data/1M.bam\", \"../dl_test_data/1M.sam\",\"../dl_test_data/100k.sam\", \"../dl_test_data/1M.bed.gz\", \"../dl_test_data/100k.bed.gz\"]\n",
    "l = ['chr1', 'chr2', 'chr3', 'chr4', 'chr5', 'chr6', 'chr7', 'chr8', 'chr9', 'chr10', 'chr11', 'chr12', 'chr13', 'chr14', 'chr15', 'chr16', 'chr17', 'chr18', 'chr19', 'chr20', 'chr21', 'chr22', 'chrX', 'chrY', 'chrM']\n",
    "\n",
    "for fp in file_list:\n",
    "    s = time()\n",
    "    print(Alignment (fp, verbose=True, ref_list=l, min_coverage=5, output_bed=True))\n",
    "    print (\"Execution time = \", round(time()-s, 2), \"s\")"
   ]
  },
  {
   "cell_type": "markdown",
   "metadata": {},
   "source": [
    "**Suposed to fail if no header in the sam/bam file**"
   ]
  },
  {
   "cell_type": "code",
   "execution_count": 2,
   "metadata": {
    "ExecuteTime": {
     "end_time": "2017-04-06T15:53:43.709363",
     "start_time": "2017-04-06T15:53:43.587747"
    },
    "collapsed": false,
    "run_control": {
     "frozen": false,
     "read_only": false
    },
    "scrolled": false
   },
   "outputs": [
    {
     "data": {
      "text/html": [
       "<p>Compute coverage from bam/sam file  ../dl_test_data/1M_no_header.sam</p>"
      ],
      "text/plain": [
       "<IPython.core.display.HTML object>"
      ]
     },
     "metadata": {},
     "output_type": "display_data"
    },
    {
     "ename": "ValueError",
     "evalue": "file has no sequences defined (mode='r') - is it SAM/BAM format? Consider opening with check_seq=True",
     "output_type": "error",
     "traceback": [
      "\u001b[1;31m---------------------------------------------------------------------------\u001b[0m",
      "\u001b[1;31mValueError\u001b[0m                                Traceback (most recent call last)",
      "\u001b[1;32m<ipython-input-2-f97c5963f970>\u001b[0m in \u001b[0;36m<module>\u001b[1;34m()\u001b[0m\n\u001b[1;32m----> 1\u001b[1;33m \u001b[0ma\u001b[0m \u001b[1;33m=\u001b[0m \u001b[0mAlignment\u001b[0m \u001b[1;33m(\u001b[0m\u001b[0mfp\u001b[0m\u001b[1;33m=\u001b[0m\u001b[1;34m\"../dl_test_data/1M_no_header.sam\"\u001b[0m\u001b[1;33m,\u001b[0m \u001b[0mverbose\u001b[0m\u001b[1;33m=\u001b[0m\u001b[1;32mTrue\u001b[0m\u001b[1;33m)\u001b[0m\u001b[1;33m\u001b[0m\u001b[0m\n\u001b[0m",
      "\u001b[1;32m/home/aleg/Programming/Python3/JupyterGenoViewer/JGV/Alignment.py\u001b[0m in \u001b[0;36m__init__\u001b[1;34m(self, fp, name, verbose, min_coverage, ref_list, output_bed)\u001b[0m\n\u001b[0;32m     82\u001b[0m         \u001b[1;32mif\u001b[0m \u001b[0mself\u001b[0m\u001b[1;33m.\u001b[0m\u001b[0mext\u001b[0m \u001b[1;32min\u001b[0m \u001b[1;33m[\u001b[0m\u001b[1;34m\"bam\"\u001b[0m\u001b[1;33m,\u001b[0m\u001b[1;34m\"sam\"\u001b[0m\u001b[1;33m]\u001b[0m\u001b[1;33m:\u001b[0m\u001b[1;33m\u001b[0m\u001b[0m\n\u001b[0;32m     83\u001b[0m             \u001b[1;32mif\u001b[0m \u001b[0mself\u001b[0m\u001b[1;33m.\u001b[0m\u001b[0mverbose\u001b[0m\u001b[1;33m:\u001b[0m \u001b[0mprint\u001b[0m\u001b[1;33m(\u001b[0m\u001b[1;34m\"Compute coverage from bam/sam file \"\u001b[0m\u001b[1;33m,\u001b[0m \u001b[0mself\u001b[0m\u001b[1;33m.\u001b[0m\u001b[0mfp\u001b[0m\u001b[1;33m)\u001b[0m\u001b[1;33m\u001b[0m\u001b[0m\n\u001b[1;32m---> 84\u001b[1;33m             \u001b[0mself\u001b[0m\u001b[1;33m.\u001b[0m\u001b[0md\u001b[0m \u001b[1;33m=\u001b[0m \u001b[0mself\u001b[0m\u001b[1;33m.\u001b[0m\u001b[0m_bam_parser\u001b[0m\u001b[1;33m(\u001b[0m\u001b[0mfp\u001b[0m\u001b[1;33m,\u001b[0m \u001b[0mmin_coverage\u001b[0m\u001b[1;33m,\u001b[0m \u001b[0mref_list\u001b[0m\u001b[1;33m)\u001b[0m\u001b[1;33m\u001b[0m\u001b[0m\n\u001b[0m\u001b[0;32m     85\u001b[0m             \u001b[1;32mif\u001b[0m \u001b[0moutput_bed\u001b[0m\u001b[1;33m:\u001b[0m\u001b[1;33m\u001b[0m\u001b[0m\n\u001b[0;32m     86\u001b[0m                 \u001b[1;31m#assert access(output_file, W_OK), \"{} is not writable\".format(fp)\u001b[0m\u001b[1;33m\u001b[0m\u001b[1;33m\u001b[0m\u001b[0m\n",
      "\u001b[1;32m/home/aleg/Programming/Python3/JupyterGenoViewer/JGV/Alignment.py\u001b[0m in \u001b[0;36m_bam_parser\u001b[1;34m(self, fp, min_coverage, ref_list)\u001b[0m\n\u001b[0;32m    140\u001b[0m         \u001b[1;34m\"\"\"Parse a sam or bam formated file\"\"\"\u001b[0m\u001b[1;33m\u001b[0m\u001b[0m\n\u001b[0;32m    141\u001b[0m         \u001b[0md\u001b[0m \u001b[1;33m=\u001b[0m \u001b[0mOrderedDict\u001b[0m\u001b[1;33m(\u001b[0m\u001b[1;33m)\u001b[0m\u001b[1;33m\u001b[0m\u001b[0m\n\u001b[1;32m--> 142\u001b[1;33m         \u001b[1;32mwith\u001b[0m \u001b[0mpysam\u001b[0m\u001b[1;33m.\u001b[0m\u001b[0mAlignmentFile\u001b[0m\u001b[1;33m(\u001b[0m\u001b[0mfp\u001b[0m\u001b[1;33m)\u001b[0m \u001b[1;32mas\u001b[0m \u001b[0mbam\u001b[0m\u001b[1;33m:\u001b[0m\u001b[1;33m\u001b[0m\u001b[0m\n\u001b[0m\u001b[0;32m    143\u001b[0m             \u001b[1;31m# Compute the genomic coverage for each reads\u001b[0m\u001b[1;33m\u001b[0m\u001b[1;33m\u001b[0m\u001b[0m\n\u001b[0;32m    144\u001b[0m             \u001b[1;32mif\u001b[0m \u001b[0mself\u001b[0m\u001b[1;33m.\u001b[0m\u001b[0mverbose\u001b[0m\u001b[1;33m:\u001b[0m \u001b[0mprint\u001b[0m\u001b[1;33m(\u001b[0m\u001b[1;34m\"\\tTally coverage for each base\"\u001b[0m\u001b[1;33m)\u001b[0m\u001b[1;33m\u001b[0m\u001b[0m\n",
      "\u001b[1;32mpysam/calignmentfile.pyx\u001b[0m in \u001b[0;36mpysam.calignmentfile.AlignmentFile.__cinit__ (pysam/calignmentfile.c:4932)\u001b[1;34m()\u001b[0m\n",
      "\u001b[1;32mpysam/calignmentfile.pyx\u001b[0m in \u001b[0;36mpysam.calignmentfile.AlignmentFile._open (pysam/calignmentfile.c:7639)\u001b[1;34m()\u001b[0m\n",
      "\u001b[1;31mValueError\u001b[0m: file has no sequences defined (mode='r') - is it SAM/BAM format? Consider opening with check_seq=True"
     ]
    }
   ],
   "source": [
    "a = Alignment (fp=\"../dl_test_data/1M_no_header.sam\", verbose=True)"
   ]
  },
  {
   "cell_type": "markdown",
   "metadata": {},
   "source": [
    "**Test property methods**"
   ]
  },
  {
   "cell_type": "code",
   "execution_count": 5,
   "metadata": {
    "ExecuteTime": {
     "end_time": "2017-03-29T18:23:52.512029",
     "start_time": "2017-03-29T18:23:48.701260"
    },
    "collapsed": false,
    "run_control": {
     "frozen": false,
     "read_only": false
    }
   },
   "outputs": [
    {
     "data": {
      "text/html": [
       "<p>Extract coverage from bed file ../dl_test_data/1M.bed.gz</p>"
      ],
      "text/plain": [
       "<IPython.core.display.HTML object>"
      ]
     },
     "metadata": {},
     "output_type": "display_data"
    },
    {
     "data": {
      "text/html": [
       "<p>&emsp;Extract base coverage data</p>"
      ],
      "text/plain": [
       "<IPython.core.display.HTML object>"
      ]
     },
     "metadata": {},
     "output_type": "display_data"
    },
    {
     "data": {
      "text/html": [
       "<p>&emsp;Sort the coverage results by position</p>"
      ],
      "text/plain": [
       "<IPython.core.display.HTML object>"
      ]
     },
     "metadata": {},
     "output_type": "display_data"
    },
    {
     "data": {
      "text/html": [
       "<p>&emsp;Total base coverage 24786158 in 25 reference sequences</p>"
      ],
      "text/plain": [
       "<IPython.core.display.HTML object>"
      ]
     },
     "metadata": {},
     "output_type": "display_data"
    },
    {
     "data": {
      "text/html": [
       "<p>Number of refid:  25</p>"
      ],
      "text/plain": [
       "<IPython.core.display.HTML object>"
      ]
     },
     "metadata": {},
     "output_type": "display_data"
    },
    {
     "data": {
      "text/html": [
       "<p>List of refid:<br> ['chr1', 'chr14', 'chr2', 'chr16', 'chr21', 'chr9', 'chr3', 'chr18', 'chr15', 'chr20', 'chr7', 'chr8', 'chr22', 'chr10', 'chr11', 'chr5', 'chr13', 'chr17', 'chr19', 'chrX', 'chr12', 'chr4', 'chr6', 'chrM', 'chrY']</p>"
      ],
      "text/plain": [
       "<IPython.core.display.HTML object>"
      ]
     },
     "metadata": {},
     "output_type": "display_data"
    },
    {
     "data": {
      "text/html": [
       "<p>Base coverage of the reference sequence:<br> chr21    4551459<br>chr16    1905311<br>chrM     1849737<br>chr2     1684153<br>chr1     1672759<br>chr3     1656105<br>chr17    1317502<br>chr6     1265690<br>chr20    1115702<br>chr19    1027703<br>chr14     969619<br>chr11     963085<br>chr12     888997<br>chrX      717252<br>chr9      534310<br>chr4      491060<br>chr8      373550<br>chr7      372747<br>chr10     354604<br>chr22     332211<br>chr15     299921<br>chr5      253869<br>chr13      91130<br>chrY       57704<br>chr18      39978<br>Name: nbases, dtype: int64</p>"
      ],
      "text/plain": [
       "<IPython.core.display.HTML object>"
      ]
     },
     "metadata": {},
     "output_type": "display_data"
    }
   ],
   "source": [
    "a = Alignment (fp=\"../dl_test_data/1M.bed.gz\", verbose=True)\n",
    "print (\"Number of refid: \", a.refid_count)\n",
    "print (\"List of refid:\\n\", a.refid_list)\n",
    "print (\"Base coverage of the reference sequence:\\n\", a.refid_nbases)"
   ]
  },
  {
   "cell_type": "code",
   "execution_count": 6,
   "metadata": {
    "ExecuteTime": {
     "end_time": "2017-03-29T18:24:30.037452",
     "start_time": "2017-03-29T18:24:12.359723"
    },
    "collapsed": false,
    "run_control": {
     "frozen": false,
     "read_only": false
    }
   },
   "outputs": [
    {
     "data": {
      "text/html": [
       "<p>Compute coverage from bam/sam file  ../dl_test_data/1M.bam</p>"
      ],
      "text/plain": [
       "<IPython.core.display.HTML object>"
      ]
     },
     "metadata": {},
     "output_type": "display_data"
    },
    {
     "data": {
      "text/html": [
       "<p>&emsp;Tally coverage for each base</p>"
      ],
      "text/plain": [
       "<IPython.core.display.HTML object>"
      ]
     },
     "metadata": {},
     "output_type": "display_data"
    },
    {
     "data": {
      "text/html": [
       "<p>&emsp;Filter and sort the coverage results by position</p>"
      ],
      "text/plain": [
       "<IPython.core.display.HTML object>"
      ]
     },
     "metadata": {},
     "output_type": "display_data"
    },
    {
     "data": {
      "text/html": [
       "<p>&emsp;Total base coverage 12914559 in 10 reference sequences</p>"
      ],
      "text/plain": [
       "<IPython.core.display.HTML object>"
      ]
     },
     "metadata": {},
     "output_type": "display_data"
    },
    {
     "data": {
      "text/html": [
       "<p>Number of refid:  10</p>"
      ],
      "text/plain": [
       "<IPython.core.display.HTML object>"
      ]
     },
     "metadata": {},
     "output_type": "display_data"
    },
    {
     "data": {
      "text/html": [
       "<p>List of refid:<br> ['chr16', 'chr21', 'chr18', 'chr20', 'chr22', 'chr17', 'chr19', 'chrX', 'chrM', 'chrY']</p>"
      ],
      "text/plain": [
       "<IPython.core.display.HTML object>"
      ]
     },
     "metadata": {},
     "output_type": "display_data"
    },
    {
     "data": {
      "text/html": [
       "<p>Base coverage of the reference sequence:<br> chr21    4551459<br>chr16    1905311<br>chrM     1849737<br>chr17    1317502<br>chr20    1115702<br>chr19    1027703<br>chrX      717252<br>chr22     332211<br>chrY       57704<br>chr18      39978<br>Name: nbases, dtype: int64</p>"
      ],
      "text/plain": [
       "<IPython.core.display.HTML object>"
      ]
     },
     "metadata": {},
     "output_type": "display_data"
    }
   ],
   "source": [
    "l = ['chr16', 'chr17', 'chr18', 'chr19', 'chr20', 'chr21', 'chr22', 'chrX', 'chrY', 'chrM']\n",
    "a = Alignment (fp=\"../dl_test_data/1M.bam\", verbose=True, ref_list=l)\n",
    "print (\"Number of refid: \", a.refid_count)\n",
    "print (\"List of refid:\\n\", a.refid_list)\n",
    "print (\"Base coverage of the reference sequence:\\n\", a.refid_nbases)"
   ]
  },
  {
   "cell_type": "markdown",
   "metadata": {},
   "source": [
    "**test interval_coverage method**"
   ]
  },
  {
   "cell_type": "code",
   "execution_count": 7,
   "metadata": {
    "ExecuteTime": {
     "end_time": "2017-03-29T18:25:23.701727",
     "start_time": "2017-03-29T18:25:19.794710"
    },
    "collapsed": false,
    "run_control": {
     "frozen": false,
     "read_only": false
    }
   },
   "outputs": [
    {
     "data": {
      "text/html": [
       "<p>Extract coverage from bed file ../dl_test_data/1M.bed.gz</p>"
      ],
      "text/plain": [
       "<IPython.core.display.HTML object>"
      ]
     },
     "metadata": {},
     "output_type": "display_data"
    },
    {
     "data": {
      "text/html": [
       "<p>&emsp;Extract base coverage data</p>"
      ],
      "text/plain": [
       "<IPython.core.display.HTML object>"
      ]
     },
     "metadata": {},
     "output_type": "display_data"
    },
    {
     "data": {
      "text/html": [
       "<p>&emsp;Sort the coverage results by position</p>"
      ],
      "text/plain": [
       "<IPython.core.display.HTML object>"
      ]
     },
     "metadata": {},
     "output_type": "display_data"
    },
    {
     "data": {
      "text/html": [
       "<p>&emsp;Total base coverage 24786158 in 25 reference sequences</p>"
      ],
      "text/plain": [
       "<IPython.core.display.HTML object>"
      ]
     },
     "metadata": {},
     "output_type": "display_data"
    }
   ],
   "source": [
    "a = Alignment (fp=\"../dl_test_data/1M.bed.gz\", verbose=True)"
   ]
  },
  {
   "cell_type": "code",
   "execution_count": 8,
   "metadata": {
    "ExecuteTime": {
     "end_time": "2017-03-29T18:25:25.152825",
     "start_time": "2017-03-29T18:25:24.569981"
    },
    "collapsed": false,
    "run_control": {
     "frozen": false,
     "read_only": false
    }
   },
   "outputs": [
    {
     "data": {
      "text/html": [
       "<p>Compute coverage from the windows: chrM:500-10000</p>"
      ],
      "text/plain": [
       "<IPython.core.display.HTML object>"
      ]
     },
     "metadata": {},
     "output_type": "display_data"
    },
    {
     "data": {
      "text/html": [
       "<p>&emsp;Define size of each bin: 47.5</p>"
      ],
      "text/plain": [
       "<IPython.core.display.HTML object>"
      ]
     },
     "metadata": {},
     "output_type": "display_data"
    },
    {
     "data": {
      "text/html": [
       "<p>&emsp;Compute coverage...</p>"
      ],
      "text/plain": [
       "<IPython.core.display.HTML object>"
      ]
     },
     "metadata": {},
     "output_type": "display_data"
    },
    {
     "data": {
      "text/html": [
       "<div>\n",
       "<table border=\"1\" class=\"dataframe\">\n",
       "  <thead>\n",
       "    <tr style=\"text-align: right;\">\n",
       "      <th></th>\n",
       "      <th>+</th>\n",
       "      <th>-</th>\n",
       "    </tr>\n",
       "  </thead>\n",
       "  <tbody>\n",
       "    <tr>\n",
       "      <th>500</th>\n",
       "      <td>0</td>\n",
       "      <td>0</td>\n",
       "    </tr>\n",
       "    <tr>\n",
       "      <th>547</th>\n",
       "      <td>0</td>\n",
       "      <td>0</td>\n",
       "    </tr>\n",
       "    <tr>\n",
       "      <th>595</th>\n",
       "      <td>0</td>\n",
       "      <td>0</td>\n",
       "    </tr>\n",
       "    <tr>\n",
       "      <th>642</th>\n",
       "      <td>165</td>\n",
       "      <td>0</td>\n",
       "    </tr>\n",
       "    <tr>\n",
       "      <th>690</th>\n",
       "      <td>228</td>\n",
       "      <td>8</td>\n",
       "    </tr>\n",
       "  </tbody>\n",
       "</table>\n",
       "</div>"
      ],
      "text/plain": [
       "       +  -\n",
       "500    0  0\n",
       "547    0  0\n",
       "595    0  0\n",
       "642  165  0\n",
       "690  228  8"
      ]
     },
     "metadata": {},
     "output_type": "display_data"
    },
    {
     "data": {
      "text/plain": [
       "<matplotlib.axes._subplots.AxesSubplot at 0x7f21d6dd0a58>"
      ]
     },
     "execution_count": 8,
     "metadata": {},
     "output_type": "execute_result"
    },
    {
     "data": {
      "image/png": "[encoded data removed]",
      "text/plain": [
       "<matplotlib.figure.Figure at 0x7f220c36ef28>"
      ]
     },
     "metadata": {},
     "output_type": "display_data"
    }
   ],
   "source": [
    "df = a.interval_coverage(refid=\"chrM\", start=500, end=10000, bins=200, bin_repr_fun='max')\n",
    "display(df.head(5))\n",
    "df.plot.area(figsize=(30, 4))"
   ]
  },
  {
   "cell_type": "code",
   "execution_count": 9,
   "metadata": {
    "ExecuteTime": {
     "end_time": "2017-03-29T18:25:27.900775",
     "start_time": "2017-03-29T18:25:26.785751"
    },
    "collapsed": false,
    "run_control": {
     "frozen": false,
     "read_only": false
    },
    "scrolled": false
   },
   "outputs": [
    {
     "data": {
      "text/html": [
       "<p>Compute coverage from the windows: chr1:0-300000000</p>"
      ],
      "text/plain": [
       "<IPython.core.display.HTML object>"
      ]
     },
     "metadata": {},
     "output_type": "display_data"
    },
    {
     "data": {
      "text/html": [
       "<p>&emsp;Define size of each bin: 600000.0</p>"
      ],
      "text/plain": [
       "<IPython.core.display.HTML object>"
      ]
     },
     "metadata": {},
     "output_type": "display_data"
    },
    {
     "data": {
      "text/html": [
       "<p>&emsp;Compute coverage...</p>"
      ],
      "text/plain": [
       "<IPython.core.display.HTML object>"
      ]
     },
     "metadata": {},
     "output_type": "display_data"
    },
    {
     "data": {
      "text/html": [
       "<div>\n",
       "<table border=\"1\" class=\"dataframe\">\n",
       "  <thead>\n",
       "    <tr style=\"text-align: right;\">\n",
       "      <th></th>\n",
       "      <th>+</th>\n",
       "      <th>-</th>\n",
       "    </tr>\n",
       "  </thead>\n",
       "  <tbody>\n",
       "    <tr>\n",
       "      <th>0</th>\n",
       "      <td>0.03275</td>\n",
       "      <td>0.0320333</td>\n",
       "    </tr>\n",
       "    <tr>\n",
       "      <th>600000</th>\n",
       "      <td>0.194345</td>\n",
       "      <td>0.196758</td>\n",
       "    </tr>\n",
       "    <tr>\n",
       "      <th>1200000</th>\n",
       "      <td>0.167758</td>\n",
       "      <td>0.156655</td>\n",
       "    </tr>\n",
       "    <tr>\n",
       "      <th>1800000</th>\n",
       "      <td>0.000535</td>\n",
       "      <td>0.000838333</td>\n",
       "    </tr>\n",
       "    <tr>\n",
       "      <th>2400000</th>\n",
       "      <td>0.00483333</td>\n",
       "      <td>0.00194667</td>\n",
       "    </tr>\n",
       "  </tbody>\n",
       "</table>\n",
       "</div>"
      ],
      "text/plain": [
       "                  +            -\n",
       "0           0.03275    0.0320333\n",
       "600000     0.194345     0.196758\n",
       "1200000    0.167758     0.156655\n",
       "1800000    0.000535  0.000838333\n",
       "2400000  0.00483333   0.00194667"
      ]
     },
     "metadata": {},
     "output_type": "display_data"
    },
    {
     "data": {
      "text/plain": [
       "<matplotlib.axes._subplots.AxesSubplot at 0x7f21d8a93c50>"
      ]
     },
     "execution_count": 9,
     "metadata": {},
     "output_type": "execute_result"
    },
    {
     "data": {
      "image/png": "[encoded data removed]",
      "text/plain": [
       "<matplotlib.figure.Figure at 0x7f21d64942b0>"
      ]
     },
     "metadata": {},
     "output_type": "display_data"
    }
   ],
   "source": [
    "df = a.interval_coverage(refid=\"chr1\", start=0, end=300000000, bins=500, bin_repr_fun='mean')\n",
    "display(df.head(5))\n",
    "df.plot.area(figsize=(30, 4))"
   ]
  },
  {
   "cell_type": "code",
   "execution_count": 10,
   "metadata": {
    "ExecuteTime": {
     "end_time": "2017-03-29T18:25:30.209719",
     "start_time": "2017-03-29T18:25:29.688976"
    },
    "collapsed": false,
    "run_control": {
     "frozen": false,
     "read_only": false
    },
    "scrolled": true
   },
   "outputs": [
    {
     "data": {
      "text/html": [
       "<p>Compute coverage from the windows: chr47:0-300000000</p>"
      ],
      "text/plain": [
       "<IPython.core.display.HTML object>"
      ]
     },
     "metadata": {},
     "output_type": "display_data"
    },
    {
     "data": {
      "text/html": [
       "<p>&emsp;Define size of each bin: 600000.0</p>"
      ],
      "text/plain": [
       "<IPython.core.display.HTML object>"
      ]
     },
     "metadata": {},
     "output_type": "display_data"
    },
    {
     "data": {
      "text/html": [
       "<p>&emsp;The reference chr47 is not in the list of references with alignment</p>"
      ],
      "text/plain": [
       "<IPython.core.display.HTML object>"
      ]
     },
     "metadata": {},
     "output_type": "display_data"
    },
    {
     "data": {
      "text/html": [
       "<div>\n",
       "<table border=\"1\" class=\"dataframe\">\n",
       "  <thead>\n",
       "    <tr style=\"text-align: right;\">\n",
       "      <th></th>\n",
       "      <th>+</th>\n",
       "      <th>-</th>\n",
       "    </tr>\n",
       "  </thead>\n",
       "  <tbody>\n",
       "    <tr>\n",
       "      <th>0</th>\n",
       "      <td>0</td>\n",
       "      <td>0</td>\n",
       "    </tr>\n",
       "    <tr>\n",
       "      <th>600000</th>\n",
       "      <td>0</td>\n",
       "      <td>0</td>\n",
       "    </tr>\n",
       "    <tr>\n",
       "      <th>1200000</th>\n",
       "      <td>0</td>\n",
       "      <td>0</td>\n",
       "    </tr>\n",
       "    <tr>\n",
       "      <th>1800000</th>\n",
       "      <td>0</td>\n",
       "      <td>0</td>\n",
       "    </tr>\n",
       "    <tr>\n",
       "      <th>2400000</th>\n",
       "      <td>0</td>\n",
       "      <td>0</td>\n",
       "    </tr>\n",
       "  </tbody>\n",
       "</table>\n",
       "</div>"
      ],
      "text/plain": [
       "         +  -\n",
       "0        0  0\n",
       "600000   0  0\n",
       "1200000  0  0\n",
       "1800000  0  0\n",
       "2400000  0  0"
      ]
     },
     "metadata": {},
     "output_type": "display_data"
    },
    {
     "data": {
      "text/plain": [
       "<matplotlib.axes._subplots.AxesSubplot at 0x7f21d734f240>"
      ]
     },
     "execution_count": 10,
     "metadata": {},
     "output_type": "execute_result"
    },
    {
     "data": {
      "image/png": "[encoded data removed]",
      "text/plain": [
       "<matplotlib.figure.Figure at 0x7f21d734ff60>"
      ]
     },
     "metadata": {},
     "output_type": "display_data"
    }
   ],
   "source": [
    "df = a.interval_coverage(refid=\"chr47\", start=0, end=300000000)\n",
    "display(df.head(5))\n",
    "df.plot.area(figsize=(30, 4))"
   ]
  },
  {
   "cell_type": "code",
   "execution_count": 11,
   "metadata": {
    "ExecuteTime": {
     "end_time": "2017-03-29T18:25:31.510176",
     "start_time": "2017-03-29T18:25:31.115751"
    },
    "collapsed": false,
    "run_control": {
     "frozen": false,
     "read_only": false
    },
    "scrolled": true
   },
   "outputs": [
    {
     "data": {
      "text/html": [
       "<p>Compute coverage from the windows: chr7:1997-97495</p>"
      ],
      "text/plain": [
       "<IPython.core.display.HTML object>"
      ]
     },
     "metadata": {},
     "output_type": "display_data"
    },
    {
     "data": {
      "text/html": [
       "<p>&emsp;Define size of each bin: 954.98</p>"
      ],
      "text/plain": [
       "<IPython.core.display.HTML object>"
      ]
     },
     "metadata": {},
     "output_type": "display_data"
    },
    {
     "data": {
      "text/html": [
       "<p>&emsp;Compute coverage...</p>"
      ],
      "text/plain": [
       "<IPython.core.display.HTML object>"
      ]
     },
     "metadata": {},
     "output_type": "display_data"
    },
    {
     "data": {
      "text/html": [
       "<p>&emsp;Null coverage for both strands in the requested interval</p>"
      ],
      "text/plain": [
       "<IPython.core.display.HTML object>"
      ]
     },
     "metadata": {},
     "output_type": "display_data"
    },
    {
     "data": {
      "text/html": [
       "<div>\n",
       "<table border=\"1\" class=\"dataframe\">\n",
       "  <thead>\n",
       "    <tr style=\"text-align: right;\">\n",
       "      <th></th>\n",
       "      <th>+</th>\n",
       "      <th>-</th>\n",
       "    </tr>\n",
       "  </thead>\n",
       "  <tbody>\n",
       "    <tr>\n",
       "      <th>1997</th>\n",
       "      <td>0</td>\n",
       "      <td>0</td>\n",
       "    </tr>\n",
       "    <tr>\n",
       "      <th>2951</th>\n",
       "      <td>0</td>\n",
       "      <td>0</td>\n",
       "    </tr>\n",
       "    <tr>\n",
       "      <th>3906</th>\n",
       "      <td>0</td>\n",
       "      <td>0</td>\n",
       "    </tr>\n",
       "    <tr>\n",
       "      <th>4861</th>\n",
       "      <td>0</td>\n",
       "      <td>0</td>\n",
       "    </tr>\n",
       "    <tr>\n",
       "      <th>5816</th>\n",
       "      <td>0</td>\n",
       "      <td>0</td>\n",
       "    </tr>\n",
       "  </tbody>\n",
       "</table>\n",
       "</div>"
      ],
      "text/plain": [
       "      +  -\n",
       "1997  0  0\n",
       "2951  0  0\n",
       "3906  0  0\n",
       "4861  0  0\n",
       "5816  0  0"
      ]
     },
     "metadata": {},
     "output_type": "display_data"
    },
    {
     "data": {
      "text/plain": [
       "<matplotlib.axes._subplots.AxesSubplot at 0x7f21d7693d68>"
      ]
     },
     "execution_count": 11,
     "metadata": {},
     "output_type": "execute_result"
    },
    {
     "data": {
      "image/png": "[encoded data removed]",
      "text/plain": [
       "<matplotlib.figure.Figure at 0x7f21d734f5c0>"
      ]
     },
     "metadata": {},
     "output_type": "display_data"
    }
   ],
   "source": [
    "df = a.interval_coverage(refid=\"chr7\", start=1997, end=97495, bins=100, bin_repr_fun='max')\n",
    "display(df.head(5))\n",
    "df.plot.area(figsize=(30, 4))"
   ]
  },
  {
   "cell_type": "markdown",
   "metadata": {},
   "source": [
    "# JGV"
   ]
  },
  {
   "cell_type": "code",
   "execution_count": 4,
   "metadata": {
    "ExecuteTime": {
     "end_time": "2017-04-05T15:23:31.077749",
     "start_time": "2017-04-05T15:23:31.072750"
    },
    "collapsed": false,
    "run_control": {
     "frozen": false,
     "read_only": false
    },
    "scrolled": true
   },
   "outputs": [
    {
     "name": "stdout",
     "output_type": "stream",
     "text": [
      "Help on class JGV in module JGV:\n",
      "\n",
      "class JGV(builtins.object)\n",
      " |  Methods defined here:\n",
      " |  \n",
      " |  __init__(self, fp, name=None, verbose=False, ref_list=[], output_index=False)\n",
      " |       * fp\n",
      " |          A fasta file containing the reference sequences OR an tab separated index file containing at least 2 columns\n",
      " |          with the seqid and the length in bases (like a .fa.fai file generated by samtools faidx).\n",
      " |          The fasta option will take more time as the file has to be parsed to get the seqid and length of sequences.\n",
      " |          A 2 column index tsv file will be automatically generated for latter usage as an index file.\n",
      " |          Both fasta and infex file can be gziped\n",
      " |      *  name\n",
      " |          Name of the data file that will be used as track name for plotting. If not given, will be deduced from fp\n",
      " |          file name\n",
      " |      * verbose\n",
      " |          If True, will print more information during initialisation and calls of all the object methods.\n",
      " |  \n",
      " |  __str__(self)\n",
      " |      readable description of the object\n",
      " |  \n",
      " |  add_alignment(self, fp, name=None, min_coverage=5, output_bed=False)\n",
      " |       * fp\n",
      " |           A standard BAM or SAM (http://samtools.sourceforge.net/SAM1.pdf) containing aligned reads and a standard\n",
      " |           header. The files do not need to be sorted or indexed.\n",
      " |           One can also use a 6 fields bed (chrom, chromStart, chromEnd, name, score, strand) file with a hastaged\n",
      " |           commented header listing the reference sequences id and length, similar to the format generated by the\n",
      " |           output_bed option (Much faster than from a Bam/Sam file, can be gzipped).\n",
      " |           http://www.ensembl.org/info/website/upload/bed.html\n",
      " |      *  name\n",
      " |          Name of the data file that will be used as track name for plotting. If not given, will be deduced from fp\n",
      " |          file name  [ DEFAULT: None ]\n",
      " |      * min_coverage\n",
      " |          Minimal coverage to compute the data. If less, the coverage will be considered null. Not used for\n",
      " |          if fp is a bed coverage file [ DEFAULT: 5 ]\n",
      " |      * output_bed\n",
      " |          If True will be write a 6 columns compressed bed file containing the coverage values for + and - strand\n",
      " |          excluding positions with coverage lesser than min_coverage.the option will apply only is the input file is\n",
      " |          BAM or SAM. The file starts with a header consisting of a list of the ID of the reference sequences and\n",
      " |          their length [ DEFAULT: False ]. Example:\n",
      " |            #chr20    64444167\n",
      " |            #chr21    46709983\n",
      " |            chr20     276516  276516  pos1    5       +\n",
      " |            chr20     276517  276517  pos2    5       +\n",
      " |  \n",
      " |  add_annotation(self, fp, name=None)\n",
      " |       * fp\n",
      " |          An URL to a standard genomic file containing features annotations among the following format:\n",
      " |            gff3: http://www.ensembl.org/info/website/upload/gff3.html\n",
      " |            gtf:  http://www.ensembl.org/info/website/upload/gff.html\n",
      " |            bed:  http://www.ensembl.org/info/website/upload/bed.html\n",
      " |          Valid URL schemes include http, ftp, s3, and file.\n",
      " |          The file can eventually be compressed in ‘gzip’, ‘bz2’, ‘zip’ or ‘xz’\n",
      " |      *  name\n",
      " |          Name of the data file that will be used as track name for plotting. If not given, will be deduced from fp\n",
      " |          file name  [ DEFAULT: None ]\n",
      " |  \n",
      " |  alignment_summary(self)\n",
      " |      Display table summarizing annotation file information\n",
      " |  \n",
      " |  annotation_summary(self)\n",
      " |      Display table summarizing annotation file information\n",
      " |  \n",
      " |  interval(self, seqid, start=None, end=None, plot_style='ggplot', figwidth=30, figheight=50, alignment_n_step=500, alignment_mode='auto', alignment_track_height=5, alignment_yscale='linear', alignment_color='cadetblue', annotation_feature_types=[], annotation_mode='auto', annotation_track_height=2, annotation_offset=None, annotation_max_depth=10, annotation_label=False, annotation_color='cadetblue', **kwargs)\n",
      " |  \n",
      " |  refid_coverage_plot(self, norm_depth=True, norm_len=True, plot_style='ggplot', figsize=[30, 10], log=False, refid_list=[], **kwargs)\n",
      " |      *  norm_len\n",
      " |      \n",
      " |      *  norm_depth\n",
      " |      \n",
      " |      *  plot_style\n",
      " |          Default plot style for pyplot ('grayscale'|'bmh'|'ggplot'|'dark_background'|'classic'|'fivethirtyeight'...)[ DEFAULT: \"ggplot\" ]\n",
      " |      *  figsize\n",
      " |          Width of the ploting area\n",
      " |      *  figheight\n",
      " |          Heigth of the ploting area\n",
      " |      *  log\n",
      " |          if True the yscale will be log10 else it will be linear [ DEFAULT: True ]\n",
      " |      *  kwargs\n",
      " |          Additional parameters for plot appearance derived from pylab basic plot arguments such as: color, alpha, fontsize...\n",
      " |  \n",
      " |  ----------------------------------------------------------------------\n",
      " |  Data descriptors defined here:\n",
      " |  \n",
      " |  __dict__\n",
      " |      dictionary for instance variables (if defined)\n",
      " |  \n",
      " |  __weakref__\n",
      " |      list of weak references to the object (if defined)\n",
      "\n"
     ]
    }
   ],
   "source": [
    "help(JGV)"
   ]
  },
  {
   "cell_type": "markdown",
   "metadata": {},
   "source": [
    "**Test Instantiation**"
   ]
  },
  {
   "cell_type": "code",
   "execution_count": 2,
   "metadata": {
    "ExecuteTime": {
     "end_time": "2017-04-06T13:54:45.129762",
     "start_time": "2017-04-06T13:54:45.114236"
    },
    "collapsed": false,
    "run_control": {
     "frozen": false,
     "read_only": false
    },
    "scrolled": false
   },
   "outputs": [
    {
     "data": {
      "text/html": [
       "<p><b>Add reference genome file</b></p>"
      ],
      "text/plain": [
       "<IPython.core.display.HTML object>"
      ]
     },
     "metadata": {},
     "output_type": "display_data"
    },
    {
     "data": {
      "text/html": [
       "<p>Assume the file is a fasta index</p>"
      ],
      "text/plain": [
       "<IPython.core.display.HTML object>"
      ]
     },
     "metadata": {},
     "output_type": "display_data"
    },
    {
     "data": {
      "text/html": [
       "<p>&emsp;Found 25 reference sequences</p>"
      ],
      "text/plain": [
       "<IPython.core.display.HTML object>"
      ]
     },
     "metadata": {},
     "output_type": "display_data"
    }
   ],
   "source": [
    "fp = \"../dl_test_data/GRCh38_primary.tsv\"\n",
    "l = ['chr1', 'chr2', 'chr3', 'chr4', 'chr5', 'chr6', 'chr7', 'chr8', 'chr9', 'chr10', 'chr11', 'chr12', 'chr13', 'chr14', 'chr15', 'chr16', 'chr17', 'chr18', 'chr19', 'chr20', 'chr21', 'chr22', 'chrX', 'chrY', 'chrM']\n",
    "j = JGV(fp=fp, ref_list=l, verbose=True)"
   ]
  },
  {
   "cell_type": "code",
   "execution_count": 3,
   "metadata": {
    "ExecuteTime": {
     "end_time": "2017-04-06T13:55:21.345871",
     "start_time": "2017-04-06T13:54:45.999666"
    },
    "collapsed": false,
    "run_control": {
     "frozen": false,
     "read_only": false
    },
    "scrolled": true
   },
   "outputs": [
    {
     "data": {
      "text/html": [
       "<p><b>Add annotation file</b></p>"
      ],
      "text/plain": [
       "<IPython.core.display.HTML object>"
      ]
     },
     "metadata": {},
     "output_type": "display_data"
    },
    {
     "data": {
      "text/html": [
       "<p>Use GFF3 parser to parse annotations in  gencode_v25_primary</p>"
      ],
      "text/plain": [
       "<IPython.core.display.HTML object>"
      ]
     },
     "metadata": {},
     "output_type": "display_data"
    },
    {
     "data": {
      "text/html": [
       "<p>&emsp;Sort annotation features by coordinates</p>"
      ],
      "text/plain": [
       "<IPython.core.display.HTML object>"
      ]
     },
     "metadata": {},
     "output_type": "display_data"
    },
    {
     "data": {
      "text/html": [
       "<p>&emsp;Found 2577236 features in 25 reference sequences</p>"
      ],
      "text/plain": [
       "<IPython.core.display.HTML object>"
      ]
     },
     "metadata": {},
     "output_type": "display_data"
    }
   ],
   "source": [
    "j.add_annotation(\"../dl_test_data/gencode_v25_primary.gff3.gz\")"
   ]
  },
  {
   "cell_type": "code",
   "execution_count": 4,
   "metadata": {
    "ExecuteTime": {
     "end_time": "2017-04-06T13:55:26.189381",
     "start_time": "2017-04-06T13:55:21.347260"
    },
    "collapsed": false,
    "run_control": {
     "frozen": false,
     "read_only": false
    },
    "scrolled": false
   },
   "outputs": [
    {
     "data": {
      "text/html": [
       "<p><b>Add annotation file</b></p>"
      ],
      "text/plain": [
       "<IPython.core.display.HTML object>"
      ]
     },
     "metadata": {},
     "output_type": "display_data"
    },
    {
     "data": {
      "text/html": [
       "<p>Use GTF parser to parse annotations in FANTOM_5_all_lncRNA</p>"
      ],
      "text/plain": [
       "<IPython.core.display.HTML object>"
      ]
     },
     "metadata": {},
     "output_type": "display_data"
    },
    {
     "data": {
      "text/html": [
       "<p>&emsp;Sort annotation features by coordinates</p>"
      ],
      "text/plain": [
       "<IPython.core.display.HTML object>"
      ]
     },
     "metadata": {},
     "output_type": "display_data"
    },
    {
     "data": {
      "text/html": [
       "<p>&emsp;Found 639324 features in 24 reference sequences</p>"
      ],
      "text/plain": [
       "<IPython.core.display.HTML object>"
      ]
     },
     "metadata": {},
     "output_type": "display_data"
    },
    {
     "name": "stderr",
     "output_type": "stream",
     "text": [
      "/home/aleg/Programming/Python3/JupyterGenoViewer/JGV/JGV.py:117: UserWarning: No annotation found for chrM\n",
      "  warnings.warn(\"No annotation found for {}\".format(refid))\n"
     ]
    }
   ],
   "source": [
    "j.add_annotation(\"../dl_test_data/FANTOM_5_all_lncRNA.gtf.gz\")"
   ]
  },
  {
   "cell_type": "code",
   "execution_count": 5,
   "metadata": {
    "ExecuteTime": {
     "end_time": "2017-04-06T13:55:30.351229",
     "start_time": "2017-04-06T13:55:26.190804"
    },
    "collapsed": false,
    "run_control": {
     "frozen": false,
     "read_only": false
    }
   },
   "outputs": [
    {
     "data": {
      "text/html": [
       "<p><b>Add alignment file</b></p>"
      ],
      "text/plain": [
       "<IPython.core.display.HTML object>"
      ]
     },
     "metadata": {},
     "output_type": "display_data"
    },
    {
     "data": {
      "text/html": [
       "<p>Extract coverage from bed file ../dl_test_data/1M.bed.gz</p>"
      ],
      "text/plain": [
       "<IPython.core.display.HTML object>"
      ]
     },
     "metadata": {},
     "output_type": "display_data"
    },
    {
     "data": {
      "text/html": [
       "<p>&emsp;Extract base coverage data</p>"
      ],
      "text/plain": [
       "<IPython.core.display.HTML object>"
      ]
     },
     "metadata": {},
     "output_type": "display_data"
    },
    {
     "data": {
      "text/html": [
       "<p>&emsp;Sort the coverage results by position</p>"
      ],
      "text/plain": [
       "<IPython.core.display.HTML object>"
      ]
     },
     "metadata": {},
     "output_type": "display_data"
    },
    {
     "data": {
      "text/html": [
       "<p>&emsp;Total base coverage 24786158 in 25 reference sequences</p>"
      ],
      "text/plain": [
       "<IPython.core.display.HTML object>"
      ]
     },
     "metadata": {},
     "output_type": "display_data"
    }
   ],
   "source": [
    "j.add_alignment(\"../dl_test_data/1M.bed.gz\")"
   ]
  },
  {
   "cell_type": "code",
   "execution_count": 6,
   "metadata": {
    "ExecuteTime": {
     "end_time": "2017-04-06T13:55:35.498099",
     "start_time": "2017-04-06T13:55:30.352583"
    },
    "collapsed": false,
    "run_control": {
     "frozen": false,
     "read_only": false
    },
    "scrolled": true
   },
   "outputs": [
    {
     "data": {
      "text/html": [
       "<p><b>Add alignment file</b></p>"
      ],
      "text/plain": [
       "<IPython.core.display.HTML object>"
      ]
     },
     "metadata": {},
     "output_type": "display_data"
    },
    {
     "data": {
      "text/html": [
       "<p>Compute coverage from bam/sam file  ../dl_test_data/100k.sam</p>"
      ],
      "text/plain": [
       "<IPython.core.display.HTML object>"
      ]
     },
     "metadata": {},
     "output_type": "display_data"
    },
    {
     "data": {
      "text/html": [
       "<p>&emsp;Tally coverage for each base</p>"
      ],
      "text/plain": [
       "<IPython.core.display.HTML object>"
      ]
     },
     "metadata": {},
     "output_type": "display_data"
    },
    {
     "data": {
      "text/html": [
       "<p>&emsp;Filter and sort the coverage results by position</p>"
      ],
      "text/plain": [
       "<IPython.core.display.HTML object>"
      ]
     },
     "metadata": {},
     "output_type": "display_data"
    },
    {
     "data": {
      "text/html": [
       "<p>&emsp;Total base coverage 989837 in 25 reference sequences</p>"
      ],
      "text/plain": [
       "<IPython.core.display.HTML object>"
      ]
     },
     "metadata": {},
     "output_type": "display_data"
    }
   ],
   "source": [
    "j.add_alignment(\"../dl_test_data/100k.sam\")"
   ]
  },
  {
   "cell_type": "code",
   "execution_count": 7,
   "metadata": {
    "ExecuteTime": {
     "end_time": "2017-04-06T13:21:54.457991",
     "start_time": "2017-04-06T13:21:54.454182"
    },
    "collapsed": false,
    "run_control": {
     "frozen": false,
     "read_only": false
    },
    "scrolled": true
   },
   "outputs": [
    {
     "data": {
      "text/html": [
       "<p>JGV instance<br>&emsp;Parameters list<br>&emsp;alignments&emsp;[Alignment-1M / Base coverage 24786158, Alignment-100k / Base coverage 989837]<br>&emsp;annotations&emsp;[Annotation-gencode_v25_primary / Feature count 2577236, Annotation-FANTOM_5_all_lncRNA / Feature count 639324]<br>&emsp;ref_list&emsp;['chr1', 'chr2', 'chr3', 'chr4', 'chr5', 'chr6', 'chr7', 'chr8', 'chr9', 'chr10', 'chr11', 'chr12', 'chr13', 'chr14', 'chr15', 'chr16', 'chr17', 'chr18', 'chr19', 'chr20', 'chr21', 'chr22', 'chrX', 'chrY', 'chrM']<br>&emsp;reference&emsp;Reference instance<br>&emsp;&emsp;chr1&emsp;length: 248956422<br>&emsp;&emsp;chr2&emsp;length: 242193529<br>&emsp;&emsp;chr3&emsp;length: 198295559<br>&emsp;&emsp;chr4&emsp;length: 190214555<br>&emsp;&emsp;chr5&emsp;length: 181538259<br>&emsp;&emsp;chr6&emsp;length: 170805979<br>&emsp;&emsp;chr7&emsp;length: 159345973<br>&emsp;&emsp;chrX&emsp;length: 156040895<br>&emsp;&emsp;chr8&emsp;length: 145138636<br>&emsp;&emsp;chr9&emsp;length: 138394717<br>&emsp;&emsp;chr11&emsp;length: 135086622<br>&emsp;&emsp;chr10&emsp;length: 133797422<br>&emsp;&emsp;chr12&emsp;length: 133275309<br>&emsp;&emsp;chr13&emsp;length: 114364328<br>&emsp;&emsp;chr14&emsp;length: 107043718<br>&emsp;&emsp;chr15&emsp;length: 101991189<br>&emsp;&emsp;chr16&emsp;length: 90338345<br>&emsp;&emsp;chr17&emsp;length: 83257441<br>&emsp;&emsp;chr18&emsp;length: 80373285<br>&emsp;&emsp;chr20&emsp;length: 64444167<br>&emsp;&emsp;chr19&emsp;length: 58617616<br>&emsp;&emsp;chrY&emsp;length: 57227415<br>&emsp;&emsp;chr22&emsp;length: 50818468<br>&emsp;&emsp;chr21&emsp;length: 46709983<br>&emsp;&emsp;chrM&emsp;length: 16569<br>&emsp;ext&emsp;tsv<br>&emsp;fp&emsp;../dl_test_data/GRCh38_primary.tsv<br>&emsp;name&emsp;GRCh38_primary<br>&emsp;verbose&emsp;True<br><br>&emsp;verbose&emsp;True<br></p>"
      ],
      "text/plain": [
       "<IPython.core.display.HTML object>"
      ]
     },
     "metadata": {},
     "output_type": "display_data"
    }
   ],
   "source": [
    "print(j)"
   ]
  },
  {
   "cell_type": "markdown",
   "metadata": {},
   "source": [
    "**Test the annotation_summary function without and with annotation track**"
   ]
  },
  {
   "cell_type": "code",
   "execution_count": 5,
   "metadata": {
    "ExecuteTime": {
     "end_time": "2017-04-06T17:05:36.332239",
     "start_time": "2017-04-06T17:05:27.026805"
    },
    "collapsed": false,
    "run_control": {
     "frozen": false,
     "read_only": false
    }
   },
   "outputs": [],
   "source": [
    "# create an empty jgv instance\n",
    "fp = \"../dl_test_data/GRCh38_primary.tsv\"\n",
    "l = ['chr1', 'chr2', 'chr3', 'chr4', 'chr5', 'chr6', 'chr7', 'chr8', 'chr9', 'chr10', 'chr11', 'chr12', 'chr13', 'chr14', 'chr15', 'chr16', 'chr17', 'chr18', 'chr19', 'chr20', 'chr21', 'chr22', 'chrX', 'chrY', 'chrM']\n",
    "\n",
    "# JGV object with 2 annotations and 2 alignment tracks\n",
    "j = JGV(fp=fp, ref_list=l)\n",
    "j.add_annotation(\"../dl_test_data/FANTOM_5_all_lncRNA.gtf.gz\")\n",
    "j.add_annotation(\"../dl_test_data/gencode_v25_lncRNA.gff3.gz\")\n",
    "j.add_alignment(\"../dl_test_data/1M.bed.gz\")\n",
    "j.add_alignment(\"../dl_test_data/100k.bed.gz\")\n",
    "\n",
    "# Empty JGV object\n",
    "j2 = JGV(fp=fp, ref_list=l)"
   ]
  },
  {
   "cell_type": "code",
   "execution_count": 6,
   "metadata": {
    "ExecuteTime": {
     "end_time": "2017-04-06T17:05:38.335873",
     "start_time": "2017-04-06T17:05:38.128762"
    },
    "collapsed": false,
    "run_control": {
     "frozen": false,
     "read_only": false
    },
    "scrolled": true
   },
   "outputs": [
    {
     "data": {
      "text/html": [
       "<p><b>Counts per Annotation file</b></p>"
      ],
      "text/plain": [
       "<IPython.core.display.HTML object>"
      ]
     },
     "metadata": {},
     "output_type": "display_data"
    },
    {
     "data": {
      "text/html": [
       "<div>\n",
       "<table border=\"1\" class=\"dataframe\">\n",
       "  <thead>\n",
       "    <tr style=\"text-align: right;\">\n",
       "      <th></th>\n",
       "      <th>Feature count</th>\n",
       "      <th>Refid count</th>\n",
       "      <th>Feature type count</th>\n",
       "    </tr>\n",
       "  </thead>\n",
       "  <tbody>\n",
       "    <tr>\n",
       "      <th>FANTOM_5_all_lncRNA</th>\n",
       "      <td>639324.0</td>\n",
       "      <td>24.0</td>\n",
       "      <td>3.0</td>\n",
       "    </tr>\n",
       "    <tr>\n",
       "      <th>gencode_v25_lncRNA</th>\n",
       "      <td>126383.0</td>\n",
       "      <td>24.0</td>\n",
       "      <td>3.0</td>\n",
       "    </tr>\n",
       "  </tbody>\n",
       "</table>\n",
       "</div>"
      ],
      "text/plain": [
       "                     Feature count  Refid count  Feature type count\n",
       "FANTOM_5_all_lncRNA       639324.0         24.0                 3.0\n",
       "gencode_v25_lncRNA        126383.0         24.0                 3.0"
      ]
     },
     "metadata": {},
     "output_type": "display_data"
    },
    {
     "data": {
      "text/html": [
       "<p><b>Counts per Reference sequence</b></p>"
      ],
      "text/plain": [
       "<IPython.core.display.HTML object>"
      ]
     },
     "metadata": {},
     "output_type": "display_data"
    },
    {
     "data": {
      "text/html": [
       "<div>\n",
       "<table border=\"1\" class=\"dataframe\">\n",
       "  <thead>\n",
       "    <tr style=\"text-align: right;\">\n",
       "      <th></th>\n",
       "      <th>FANTOM_5_all_lncRNA</th>\n",
       "      <th>gencode_v25_lncRNA</th>\n",
       "    </tr>\n",
       "    <tr>\n",
       "      <th>refid</th>\n",
       "      <th></th>\n",
       "      <th></th>\n",
       "    </tr>\n",
       "  </thead>\n",
       "  <tbody>\n",
       "    <tr>\n",
       "      <th>chr1</th>\n",
       "      <td>53694</td>\n",
       "      <td>10896</td>\n",
       "    </tr>\n",
       "    <tr>\n",
       "      <th>chr10</th>\n",
       "      <td>28426</td>\n",
       "      <td>5201</td>\n",
       "    </tr>\n",
       "    <tr>\n",
       "      <th>chr11</th>\n",
       "      <td>27163</td>\n",
       "      <td>5558</td>\n",
       "    </tr>\n",
       "    <tr>\n",
       "      <th>chr12</th>\n",
       "      <td>31213</td>\n",
       "      <td>6458</td>\n",
       "    </tr>\n",
       "    <tr>\n",
       "      <th>chr13</th>\n",
       "      <td>18958</td>\n",
       "      <td>3554</td>\n",
       "    </tr>\n",
       "    <tr>\n",
       "      <th>chr14</th>\n",
       "      <td>23327</td>\n",
       "      <td>4259</td>\n",
       "    </tr>\n",
       "    <tr>\n",
       "      <th>chr15</th>\n",
       "      <td>24038</td>\n",
       "      <td>5065</td>\n",
       "    </tr>\n",
       "    <tr>\n",
       "      <th>chr16</th>\n",
       "      <td>20408</td>\n",
       "      <td>5446</td>\n",
       "    </tr>\n",
       "    <tr>\n",
       "      <th>chr17</th>\n",
       "      <td>24604</td>\n",
       "      <td>6194</td>\n",
       "    </tr>\n",
       "    <tr>\n",
       "      <th>chr18</th>\n",
       "      <td>15787</td>\n",
       "      <td>3302</td>\n",
       "    </tr>\n",
       "    <tr>\n",
       "      <th>chr19</th>\n",
       "      <td>19569</td>\n",
       "      <td>4741</td>\n",
       "    </tr>\n",
       "    <tr>\n",
       "      <th>chr2</th>\n",
       "      <td>55904</td>\n",
       "      <td>13051</td>\n",
       "    </tr>\n",
       "    <tr>\n",
       "      <th>chr20</th>\n",
       "      <td>16589</td>\n",
       "      <td>3063</td>\n",
       "    </tr>\n",
       "    <tr>\n",
       "      <th>chr21</th>\n",
       "      <td>10177</td>\n",
       "      <td>2780</td>\n",
       "    </tr>\n",
       "    <tr>\n",
       "      <th>chr22</th>\n",
       "      <td>10187</td>\n",
       "      <td>2794</td>\n",
       "    </tr>\n",
       "    <tr>\n",
       "      <th>chr3</th>\n",
       "      <td>39353</td>\n",
       "      <td>8302</td>\n",
       "    </tr>\n",
       "    <tr>\n",
       "      <th>chr4</th>\n",
       "      <td>33650</td>\n",
       "      <td>5568</td>\n",
       "    </tr>\n",
       "    <tr>\n",
       "      <th>chr5</th>\n",
       "      <td>36594</td>\n",
       "      <td>6628</td>\n",
       "    </tr>\n",
       "    <tr>\n",
       "      <th>chr6</th>\n",
       "      <td>40392</td>\n",
       "      <td>5487</td>\n",
       "    </tr>\n",
       "    <tr>\n",
       "      <th>chr7</th>\n",
       "      <td>33329</td>\n",
       "      <td>5589</td>\n",
       "    </tr>\n",
       "    <tr>\n",
       "      <th>chr8</th>\n",
       "      <td>32179</td>\n",
       "      <td>5530</td>\n",
       "    </tr>\n",
       "    <tr>\n",
       "      <th>chr9</th>\n",
       "      <td>24309</td>\n",
       "      <td>4120</td>\n",
       "    </tr>\n",
       "    <tr>\n",
       "      <th>chrX</th>\n",
       "      <td>18119</td>\n",
       "      <td>2265</td>\n",
       "    </tr>\n",
       "    <tr>\n",
       "      <th>chrY</th>\n",
       "      <td>1355</td>\n",
       "      <td>532</td>\n",
       "    </tr>\n",
       "  </tbody>\n",
       "</table>\n",
       "</div>"
      ],
      "text/plain": [
       "       FANTOM_5_all_lncRNA  gencode_v25_lncRNA\n",
       "refid                                         \n",
       "chr1                 53694               10896\n",
       "chr10                28426                5201\n",
       "chr11                27163                5558\n",
       "chr12                31213                6458\n",
       "chr13                18958                3554\n",
       "chr14                23327                4259\n",
       "chr15                24038                5065\n",
       "chr16                20408                5446\n",
       "chr17                24604                6194\n",
       "chr18                15787                3302\n",
       "chr19                19569                4741\n",
       "chr2                 55904               13051\n",
       "chr20                16589                3063\n",
       "chr21                10177                2780\n",
       "chr22                10187                2794\n",
       "chr3                 39353                8302\n",
       "chr4                 33650                5568\n",
       "chr5                 36594                6628\n",
       "chr6                 40392                5487\n",
       "chr7                 33329                5589\n",
       "chr8                 32179                5530\n",
       "chr9                 24309                4120\n",
       "chrX                 18119                2265\n",
       "chrY                  1355                 532"
      ]
     },
     "metadata": {},
     "output_type": "display_data"
    },
    {
     "data": {
      "text/html": [
       "<p><b>Counts per feature types</b></p>"
      ],
      "text/plain": [
       "<IPython.core.display.HTML object>"
      ]
     },
     "metadata": {},
     "output_type": "display_data"
    },
    {
     "data": {
      "text/html": [
       "<div>\n",
       "<table border=\"1\" class=\"dataframe\">\n",
       "  <thead>\n",
       "    <tr style=\"text-align: right;\">\n",
       "      <th></th>\n",
       "      <th>FANTOM_5_all_lncRNA</th>\n",
       "      <th>gencode_v25_lncRNA</th>\n",
       "    </tr>\n",
       "    <tr>\n",
       "      <th>type</th>\n",
       "      <th></th>\n",
       "      <th></th>\n",
       "    </tr>\n",
       "  </thead>\n",
       "  <tbody>\n",
       "    <tr>\n",
       "      <th>exon</th>\n",
       "      <td>401161</td>\n",
       "      <td>82924</td>\n",
       "    </tr>\n",
       "    <tr>\n",
       "      <th>transcript</th>\n",
       "      <td>175031</td>\n",
       "      <td>27692</td>\n",
       "    </tr>\n",
       "    <tr>\n",
       "      <th>gene</th>\n",
       "      <td>63132</td>\n",
       "      <td>15767</td>\n",
       "    </tr>\n",
       "  </tbody>\n",
       "</table>\n",
       "</div>"
      ],
      "text/plain": [
       "            FANTOM_5_all_lncRNA  gencode_v25_lncRNA\n",
       "type                                               \n",
       "exon                     401161               82924\n",
       "transcript               175031               27692\n",
       "gene                      63132               15767"
      ]
     },
     "metadata": {},
     "output_type": "display_data"
    }
   ],
   "source": [
    "j.annotation_summary()"
   ]
  },
  {
   "cell_type": "code",
   "execution_count": 7,
   "metadata": {
    "ExecuteTime": {
     "end_time": "2017-04-06T17:05:42.858273",
     "start_time": "2017-04-06T17:05:42.854301"
    },
    "collapsed": false,
    "run_control": {
     "frozen": false,
     "read_only": false
    }
   },
   "outputs": [
    {
     "name": "stderr",
     "output_type": "stream",
     "text": [
      "/home/aleg/Programming/Python3/JupyterGenoViewer/JGV/JGV.py:172: UserWarning: No annotation track loaded\n",
      "  warnings.warn(\"No annotation track loaded\")\n"
     ]
    }
   ],
   "source": [
    "j2.annotation_summary()"
   ]
  },
  {
   "cell_type": "markdown",
   "metadata": {},
   "source": [
    "**Test the alignment_summary function without and with alignment track**"
   ]
  },
  {
   "cell_type": "code",
   "execution_count": 8,
   "metadata": {
    "ExecuteTime": {
     "end_time": "2017-04-06T17:05:44.910404",
     "start_time": "2017-04-06T17:05:44.856422"
    },
    "collapsed": false,
    "run_control": {
     "frozen": false,
     "read_only": false
    },
    "scrolled": true
   },
   "outputs": [
    {
     "data": {
      "text/html": [
       "<p><b>Counts per Alignment file</b></p>"
      ],
      "text/plain": [
       "<IPython.core.display.HTML object>"
      ]
     },
     "metadata": {},
     "output_type": "display_data"
    },
    {
     "data": {
      "text/html": [
       "<div>\n",
       "<table border=\"1\" class=\"dataframe\">\n",
       "  <thead>\n",
       "    <tr style=\"text-align: right;\">\n",
       "      <th></th>\n",
       "      <th>Refid count</th>\n",
       "      <th>Base coverage</th>\n",
       "    </tr>\n",
       "  </thead>\n",
       "  <tbody>\n",
       "    <tr>\n",
       "      <th>1M</th>\n",
       "      <td>25.0</td>\n",
       "      <td>24786158.0</td>\n",
       "    </tr>\n",
       "    <tr>\n",
       "      <th>100k</th>\n",
       "      <td>24.0</td>\n",
       "      <td>989837.0</td>\n",
       "    </tr>\n",
       "  </tbody>\n",
       "</table>\n",
       "</div>"
      ],
      "text/plain": [
       "      Refid count  Base coverage\n",
       "1M           25.0     24786158.0\n",
       "100k         24.0       989837.0"
      ]
     },
     "metadata": {},
     "output_type": "display_data"
    },
    {
     "data": {
      "text/html": [
       "<p><b>Counts per Reference sequence</b></p>"
      ],
      "text/plain": [
       "<IPython.core.display.HTML object>"
      ]
     },
     "metadata": {},
     "output_type": "display_data"
    },
    {
     "data": {
      "text/html": [
       "<div>\n",
       "<table border=\"1\" class=\"dataframe\">\n",
       "  <thead>\n",
       "    <tr style=\"text-align: right;\">\n",
       "      <th></th>\n",
       "      <th>1M</th>\n",
       "      <th>100k</th>\n",
       "    </tr>\n",
       "  </thead>\n",
       "  <tbody>\n",
       "    <tr>\n",
       "      <th>chr1</th>\n",
       "      <td>1672759</td>\n",
       "      <td>75763.0</td>\n",
       "    </tr>\n",
       "    <tr>\n",
       "      <th>chr10</th>\n",
       "      <td>354604</td>\n",
       "      <td>7164.0</td>\n",
       "    </tr>\n",
       "    <tr>\n",
       "      <th>chr11</th>\n",
       "      <td>963085</td>\n",
       "      <td>27229.0</td>\n",
       "    </tr>\n",
       "    <tr>\n",
       "      <th>chr12</th>\n",
       "      <td>888997</td>\n",
       "      <td>36391.0</td>\n",
       "    </tr>\n",
       "    <tr>\n",
       "      <th>chr13</th>\n",
       "      <td>91130</td>\n",
       "      <td>931.0</td>\n",
       "    </tr>\n",
       "    <tr>\n",
       "      <th>chr14</th>\n",
       "      <td>969619</td>\n",
       "      <td>32674.0</td>\n",
       "    </tr>\n",
       "    <tr>\n",
       "      <th>chr15</th>\n",
       "      <td>299921</td>\n",
       "      <td>1703.0</td>\n",
       "    </tr>\n",
       "    <tr>\n",
       "      <th>chr16</th>\n",
       "      <td>1905311</td>\n",
       "      <td>27312.0</td>\n",
       "    </tr>\n",
       "    <tr>\n",
       "      <th>chr17</th>\n",
       "      <td>1317502</td>\n",
       "      <td>13445.0</td>\n",
       "    </tr>\n",
       "    <tr>\n",
       "      <th>chr18</th>\n",
       "      <td>39978</td>\n",
       "      <td>60.0</td>\n",
       "    </tr>\n",
       "    <tr>\n",
       "      <th>chr19</th>\n",
       "      <td>1027703</td>\n",
       "      <td>23847.0</td>\n",
       "    </tr>\n",
       "    <tr>\n",
       "      <th>chr2</th>\n",
       "      <td>1684153</td>\n",
       "      <td>51270.0</td>\n",
       "    </tr>\n",
       "    <tr>\n",
       "      <th>chr20</th>\n",
       "      <td>1115702</td>\n",
       "      <td>26905.0</td>\n",
       "    </tr>\n",
       "    <tr>\n",
       "      <th>chr21</th>\n",
       "      <td>4551459</td>\n",
       "      <td>351150.0</td>\n",
       "    </tr>\n",
       "    <tr>\n",
       "      <th>chr22</th>\n",
       "      <td>332211</td>\n",
       "      <td>2625.0</td>\n",
       "    </tr>\n",
       "    <tr>\n",
       "      <th>chr3</th>\n",
       "      <td>1656105</td>\n",
       "      <td>63794.0</td>\n",
       "    </tr>\n",
       "    <tr>\n",
       "      <th>chr4</th>\n",
       "      <td>491060</td>\n",
       "      <td>20578.0</td>\n",
       "    </tr>\n",
       "    <tr>\n",
       "      <th>chr5</th>\n",
       "      <td>253869</td>\n",
       "      <td>1525.0</td>\n",
       "    </tr>\n",
       "    <tr>\n",
       "      <th>chr6</th>\n",
       "      <td>1265690</td>\n",
       "      <td>44164.0</td>\n",
       "    </tr>\n",
       "    <tr>\n",
       "      <th>chr7</th>\n",
       "      <td>372747</td>\n",
       "      <td>5132.0</td>\n",
       "    </tr>\n",
       "    <tr>\n",
       "      <th>chr8</th>\n",
       "      <td>373550</td>\n",
       "      <td>4186.0</td>\n",
       "    </tr>\n",
       "    <tr>\n",
       "      <th>chr9</th>\n",
       "      <td>534310</td>\n",
       "      <td>7747.0</td>\n",
       "    </tr>\n",
       "    <tr>\n",
       "      <th>chrM</th>\n",
       "      <td>1849737</td>\n",
       "      <td>159751.0</td>\n",
       "    </tr>\n",
       "    <tr>\n",
       "      <th>chrX</th>\n",
       "      <td>717252</td>\n",
       "      <td>4491.0</td>\n",
       "    </tr>\n",
       "    <tr>\n",
       "      <th>chrY</th>\n",
       "      <td>57704</td>\n",
       "      <td>NaN</td>\n",
       "    </tr>\n",
       "  </tbody>\n",
       "</table>\n",
       "</div>"
      ],
      "text/plain": [
       "            1M      100k\n",
       "chr1   1672759   75763.0\n",
       "chr10   354604    7164.0\n",
       "chr11   963085   27229.0\n",
       "chr12   888997   36391.0\n",
       "chr13    91130     931.0\n",
       "chr14   969619   32674.0\n",
       "chr15   299921    1703.0\n",
       "chr16  1905311   27312.0\n",
       "chr17  1317502   13445.0\n",
       "chr18    39978      60.0\n",
       "chr19  1027703   23847.0\n",
       "chr2   1684153   51270.0\n",
       "chr20  1115702   26905.0\n",
       "chr21  4551459  351150.0\n",
       "chr22   332211    2625.0\n",
       "chr3   1656105   63794.0\n",
       "chr4    491060   20578.0\n",
       "chr5    253869    1525.0\n",
       "chr6   1265690   44164.0\n",
       "chr7    372747    5132.0\n",
       "chr8    373550    4186.0\n",
       "chr9    534310    7747.0\n",
       "chrM   1849737  159751.0\n",
       "chrX    717252    4491.0\n",
       "chrY     57704       NaN"
      ]
     },
     "metadata": {},
     "output_type": "display_data"
    }
   ],
   "source": [
    "j.alignment_summary()"
   ]
  },
  {
   "cell_type": "code",
   "execution_count": 9,
   "metadata": {
    "ExecuteTime": {
     "end_time": "2017-04-06T17:05:51.674936",
     "start_time": "2017-04-06T17:05:51.670029"
    },
    "collapsed": false,
    "run_control": {
     "frozen": false,
     "read_only": false
    }
   },
   "outputs": [
    {
     "name": "stderr",
     "output_type": "stream",
     "text": [
      "/home/aleg/Programming/Python3/JupyterGenoViewer/JGV/JGV.py:200: UserWarning: No alignment track loaded\n",
      "  warnings.warn(\"No alignment track loaded\")\n"
     ]
    }
   ],
   "source": [
    "j2.alignment_summary()"
   ]
  },
  {
   "cell_type": "markdown",
   "metadata": {},
   "source": [
    "**Test refid_coverage_plot**"
   ]
  },
  {
   "cell_type": "code",
   "execution_count": 5,
   "metadata": {
    "ExecuteTime": {
     "end_time": "2017-04-06T17:11:13.609741",
     "start_time": "2017-04-06T17:11:04.189046"
    },
    "collapsed": true
   },
   "outputs": [],
   "source": [
    "# Create fast instances of IGV\n",
    "fp = \"../dl_test_data/GRCh38_primary.tsv\"\n",
    "l = ['chr1', 'chr2', 'chr3', 'chr4', 'chr5', 'chr6', 'chr7', 'chr8', 'chr9', 'chr10', 'chr11', 'chr12', 'chr13', 'chr14', 'chr15', 'chr16', 'chr17', 'chr18', 'chr19', 'chr20', 'chr21', 'chr22', 'chrX', 'chrY', 'chrM']\n",
    "\n",
    "# JGV object with 2 annotations and 2 alignment tracks\n",
    "j = JGV(fp=fp, ref_list=l)\n",
    "j.add_annotation(\"../dl_test_data/FANTOM_5_all_lncRNA.gtf.gz\")\n",
    "j.add_annotation(\"../dl_test_data/gencode_v25_lncRNA.gff3.gz\")\n",
    "j.add_alignment(\"../dl_test_data/1M.bed.gz\")\n",
    "j.add_alignment(\"../dl_test_data/100k.bed.gz\")\n",
    "\n",
    "# Empty JGV object\n",
    "j2 = JGV(fp=fp, ref_list=l)"
   ]
  },
  {
   "cell_type": "code",
   "execution_count": 3,
   "metadata": {
    "ExecuteTime": {
     "end_time": "2017-04-06T17:09:42.765604",
     "start_time": "2017-04-06T17:09:42.279257"
    },
    "collapsed": false,
    "run_control": {
     "frozen": false,
     "read_only": false
    },
    "scrolled": true
   },
   "outputs": [
    {
     "data": {
      "text/html": [
       "<div>\n",
       "<table border=\"1\" class=\"dataframe\">\n",
       "  <thead>\n",
       "    <tr style=\"text-align: right;\">\n",
       "      <th></th>\n",
       "      <th>1M</th>\n",
       "      <th>100k</th>\n",
       "    </tr>\n",
       "  </thead>\n",
       "  <tbody>\n",
       "    <tr>\n",
       "      <th>chr1</th>\n",
       "      <td>0.271082</td>\n",
       "      <td>0.307447</td>\n",
       "    </tr>\n",
       "    <tr>\n",
       "      <th>chr10</th>\n",
       "      <td>0.106927</td>\n",
       "      <td>0.054093</td>\n",
       "    </tr>\n",
       "    <tr>\n",
       "      <th>chr11</th>\n",
       "      <td>0.287636</td>\n",
       "      <td>0.203637</td>\n",
       "    </tr>\n",
       "    <tr>\n",
       "      <th>chr12</th>\n",
       "      <td>0.269117</td>\n",
       "      <td>0.275855</td>\n",
       "    </tr>\n",
       "    <tr>\n",
       "      <th>chr13</th>\n",
       "      <td>0.032149</td>\n",
       "      <td>0.008224</td>\n",
       "    </tr>\n",
       "    <tr>\n",
       "      <th>chr14</th>\n",
       "      <td>0.365452</td>\n",
       "      <td>0.308374</td>\n",
       "    </tr>\n",
       "    <tr>\n",
       "      <th>chr15</th>\n",
       "      <td>0.118641</td>\n",
       "      <td>0.016869</td>\n",
       "    </tr>\n",
       "    <tr>\n",
       "      <th>chr16</th>\n",
       "      <td>0.850912</td>\n",
       "      <td>0.305434</td>\n",
       "    </tr>\n",
       "    <tr>\n",
       "      <th>chr17</th>\n",
       "      <td>0.638438</td>\n",
       "      <td>0.163145</td>\n",
       "    </tr>\n",
       "    <tr>\n",
       "      <th>chr18</th>\n",
       "      <td>0.020068</td>\n",
       "      <td>0.000754</td>\n",
       "    </tr>\n",
       "    <tr>\n",
       "      <th>chr19</th>\n",
       "      <td>0.707343</td>\n",
       "      <td>0.411000</td>\n",
       "    </tr>\n",
       "    <tr>\n",
       "      <th>chr2</th>\n",
       "      <td>0.280550</td>\n",
       "      <td>0.213864</td>\n",
       "    </tr>\n",
       "    <tr>\n",
       "      <th>chr20</th>\n",
       "      <td>0.698482</td>\n",
       "      <td>0.421780</td>\n",
       "    </tr>\n",
       "    <tr>\n",
       "      <th>chr21</th>\n",
       "      <td>3.931259</td>\n",
       "      <td>7.594851</td>\n",
       "    </tr>\n",
       "    <tr>\n",
       "      <th>chr22</th>\n",
       "      <td>0.263744</td>\n",
       "      <td>0.052185</td>\n",
       "    </tr>\n",
       "    <tr>\n",
       "      <th>chr3</th>\n",
       "      <td>0.336950</td>\n",
       "      <td>0.325015</td>\n",
       "    </tr>\n",
       "    <tr>\n",
       "      <th>chr4</th>\n",
       "      <td>0.104155</td>\n",
       "      <td>0.109294</td>\n",
       "    </tr>\n",
       "    <tr>\n",
       "      <th>chr5</th>\n",
       "      <td>0.056420</td>\n",
       "      <td>0.008487</td>\n",
       "    </tr>\n",
       "    <tr>\n",
       "      <th>chr6</th>\n",
       "      <td>0.298961</td>\n",
       "      <td>0.261217</td>\n",
       "    </tr>\n",
       "    <tr>\n",
       "      <th>chr7</th>\n",
       "      <td>0.094376</td>\n",
       "      <td>0.032537</td>\n",
       "    </tr>\n",
       "    <tr>\n",
       "      <th>chr8</th>\n",
       "      <td>0.103838</td>\n",
       "      <td>0.029138</td>\n",
       "    </tr>\n",
       "    <tr>\n",
       "      <th>chr9</th>\n",
       "      <td>0.155763</td>\n",
       "      <td>0.056552</td>\n",
       "    </tr>\n",
       "    <tr>\n",
       "      <th>chrM</th>\n",
       "      <td>4504.063161</td>\n",
       "      <td>9740.552777</td>\n",
       "    </tr>\n",
       "    <tr>\n",
       "      <th>chrX</th>\n",
       "      <td>0.185449</td>\n",
       "      <td>0.029076</td>\n",
       "    </tr>\n",
       "    <tr>\n",
       "      <th>chrY</th>\n",
       "      <td>0.040681</td>\n",
       "      <td>NaN</td>\n",
       "    </tr>\n",
       "  </tbody>\n",
       "</table>\n",
       "</div>"
      ],
      "text/plain": [
       "                1M         100k\n",
       "chr1      0.271082     0.307447\n",
       "chr10     0.106927     0.054093\n",
       "chr11     0.287636     0.203637\n",
       "chr12     0.269117     0.275855\n",
       "chr13     0.032149     0.008224\n",
       "chr14     0.365452     0.308374\n",
       "chr15     0.118641     0.016869\n",
       "chr16     0.850912     0.305434\n",
       "chr17     0.638438     0.163145\n",
       "chr18     0.020068     0.000754\n",
       "chr19     0.707343     0.411000\n",
       "chr2      0.280550     0.213864\n",
       "chr20     0.698482     0.421780\n",
       "chr21     3.931259     7.594851\n",
       "chr22     0.263744     0.052185\n",
       "chr3      0.336950     0.325015\n",
       "chr4      0.104155     0.109294\n",
       "chr5      0.056420     0.008487\n",
       "chr6      0.298961     0.261217\n",
       "chr7      0.094376     0.032537\n",
       "chr8      0.103838     0.029138\n",
       "chr9      0.155763     0.056552\n",
       "chrM   4504.063161  9740.552777\n",
       "chrX      0.185449     0.029076\n",
       "chrY      0.040681          NaN"
      ]
     },
     "execution_count": 3,
     "metadata": {},
     "output_type": "execute_result"
    },
    {
     "data": {
      "image/png": "[encoded data removed]",
      "text/plain": [
       "<matplotlib.figure.Figure at 0x7fa71032d470>"
      ]
     },
     "metadata": {},
     "output_type": "display_data"
    }
   ],
   "source": [
    "j.refid_coverage_plot()"
   ]
  },
  {
   "cell_type": "code",
   "execution_count": 6,
   "metadata": {
    "ExecuteTime": {
     "end_time": "2017-04-06T17:34:11.299628",
     "start_time": "2017-04-06T17:34:10.205977"
    },
    "collapsed": false,
    "run_control": {
     "frozen": false,
     "read_only": false
    },
    "scrolled": true
   },
   "outputs": [
    {
     "data": {
      "image/png": "[encoded data removed]",
      "text/plain": [
       "<matplotlib.figure.Figure at 0x7fc91ea47e48>"
      ]
     },
     "metadata": {},
     "output_type": "display_data"
    }
   ],
   "source": [
    "r = j.refid_coverage_plot(\n",
    "    norm_depth = True,\n",
    "    norm_len =  True,\n",
    "    plot_style=\"ggplot\",\n",
    "    figwidth = 30,\n",
    "    figheight = 10, \n",
    "    log = True,\n",
    "    ref_list = ['chr1', 'chr2', 'chr3', 'chr4', 'chr5', 'chr6', 'chr7', 'chr8', 'chr9', 'chr10', 'chr11', 'chr12', 'chr13', 'chr14', 'chr15', 'chr16', 'chr17', 'chr18', 'chr19', 'chr20', 'chr21', 'chr22', 'chrX', 'chrY'],\n",
    "    color=(\"dodgerblue\", \"green\"),\n",
    "    alpha=0.5,\n",
    "    fontsize=16)"
   ]
  },
  {
   "cell_type": "markdown",
   "metadata": {
    "collapsed": true,
    "run_control": {
     "frozen": false,
     "read_only": false
    }
   },
   "source": [
    "**Test interval_plot**"
   ]
  },
  {
   "cell_type": "code",
   "execution_count": 4,
   "metadata": {
    "ExecuteTime": {
     "end_time": "2017-04-06T18:23:44.733509",
     "start_time": "2017-04-06T18:23:40.726593"
    },
    "collapsed": false,
    "run_control": {
     "frozen": false,
     "read_only": false
    },
    "scrolled": false
   },
   "outputs": [],
   "source": [
    "# Create fast instances of IGV\n",
    "fp = \"../dl_test_data/GRCh38_primary.tsv\"\n",
    "l = ['chr1', 'chr2', 'chr3', 'chr4', 'chr5', 'chr6', 'chr7', 'chr8', 'chr9', 'chr10', 'chr11', 'chr12', 'chr13', 'chr14', 'chr15', 'chr16', 'chr17', 'chr18', 'chr19', 'chr20', 'chr21', 'chr22', 'chrX', 'chrY', 'chrM']\n",
    "\n",
    "# JGV object with 2 annotations and 2 alignment tracks\n",
    "j = JGV(fp=fp, ref_list=l)\n",
    "#j.add_annotation(\"../dl_test_data/FANTOM_5_all_lncRNA.gtf.gz\")\n",
    "#j.add_annotation(\"../dl_test_data/gencode_v25_lncRNA.gff3.gz\")\n",
    "j.add_alignment(\"../dl_test_data/1M.bed.gz\")\n",
    "j.add_alignment(\"../dl_test_data/100k.bed.gz\")\n",
    "\n",
    "# Empty JGV object\n",
    "j2 = JGV(fp=fp, ref_list=l)"
   ]
  },
  {
   "cell_type": "code",
   "execution_count": 5,
   "metadata": {
    "ExecuteTime": {
     "end_time": "2017-04-06T18:23:48.581494",
     "start_time": "2017-04-06T18:23:46.813117"
    },
    "collapsed": false,
    "run_control": {
     "frozen": false,
     "read_only": false
    },
    "scrolled": false
   },
   "outputs": [
    {
     "data": {
      "image/png": "[encoded data removed]",
      "text/plain": [
       "<matplotlib.figure.Figure at 0x7fd2ee771160>"
      ]
     },
     "metadata": {},
     "output_type": "display_data"
    }
   ],
   "source": [
    "j.interval_plot(refid=\"chr1\", start=162000000,figwidth=30)"
   ]
  },
  {
   "cell_type": "code",
   "execution_count": null,
   "metadata": {
    "collapsed": true,
    "run_control": {
     "frozen": false,
     "read_only": false
    }
   },
   "outputs": [],
   "source": []
  },
  {
   "cell_type": "code",
   "execution_count": null,
   "metadata": {
    "collapsed": true,
    "run_control": {
     "frozen": false,
     "read_only": false
    }
   },
   "outputs": [],
   "source": []
  },
  {
   "cell_type": "code",
   "execution_count": null,
   "metadata": {
    "collapsed": true,
    "run_control": {
     "frozen": false,
     "read_only": false
    }
   },
   "outputs": [],
   "source": []
  },
  {
   "cell_type": "code",
   "execution_count": null,
   "metadata": {
    "collapsed": true,
    "run_control": {
     "frozen": false,
     "read_only": false
    }
   },
   "outputs": [],
   "source": []
  },
  {
   "cell_type": "code",
   "execution_count": null,
   "metadata": {
    "collapsed": true,
    "run_control": {
     "frozen": false,
     "read_only": false
    }
   },
   "outputs": [],
   "source": []
  },
  {
   "cell_type": "code",
   "execution_count": null,
   "metadata": {
    "collapsed": true,
    "run_control": {
     "frozen": false,
     "read_only": false
    }
   },
   "outputs": [],
   "source": []
  }
 ],
 "metadata": {
  "celltoolbar": "Initialisation Cell",
  "kernelspec": {
   "display_name": "Python 3",
   "language": "python",
   "name": "python3"
  },
  "language_info": {
   "codemirror_mode": {
    "name": "ipython",
    "version": 3
   },
   "file_extension": ".py",
   "mimetype": "text/x-python",
   "name": "python",
   "nbconvert_exporter": "python",
   "pygments_lexer": "ipython3",
   "version": "3.5.2"
  },
  "widgets": {
   "state": {},
   "version": "1.1.1"
  }
 },
 "nbformat": 4,
 "nbformat_minor": 0
}
