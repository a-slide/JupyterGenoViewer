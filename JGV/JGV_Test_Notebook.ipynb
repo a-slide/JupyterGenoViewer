{
 "cells": [
  {
   "cell_type": "markdown",
   "metadata": {},
   "source": [
    "# TEST JGV package\n",
    "** This notebook contains tests for all functions contained in JGV package **"
   ]
  },
  {
   "cell_type": "code",
   "execution_count": 3,
   "metadata": {
    "ExecuteTime": {
     "end_time": "2017-03-28T17:12:24.716352",
     "start_time": "2017-03-28T17:12:24.702197"
    },
    "collapsed": false,
    "init_cell": true,
    "run_control": {
     "frozen": false,
     "read_only": false
    }
   },
   "outputs": [
    {
     "data": {
      "text/html": [
       "<style>.container { width:90% !important; }</style>"
      ],
      "text/plain": [
       "<IPython.core.display.HTML object>"
      ]
     },
     "metadata": {},
     "output_type": "display_data"
    }
   ],
   "source": [
    "# For ipython inline ploting ploting\n",
    "%matplotlib inline\n",
    "\n",
    "# Larger display \n",
    "from IPython.core.display import display, HTML\n",
    "display(HTML(\"<style>.container { width:90% !important; }</style>\"))\n",
    "\n",
    "# Import of required packages\n",
    "import pandas as pd\n",
    "import pylab as pl\n",
    "import pysam\n",
    "from time import time\n",
    "\n",
    "# Import functions from JGV\n",
    "from JGV_helper_fun import *\n",
    "from Reference import *\n",
    "from Annotation import *\n",
    "from Alignment import *\n",
    "from Level import *\n",
    "from JGV import *"
   ]
  },
  {
   "cell_type": "markdown",
   "metadata": {
    "heading_collapsed": true
   },
   "source": [
    "### Folder setup and download test files"
   ]
  },
  {
   "cell_type": "code",
   "execution_count": 12,
   "metadata": {
    "ExecuteTime": {
     "end_time": "2017-03-27T11:43:12.843181",
     "start_time": "2017-03-27T11:42:17.568059"
    },
    "collapsed": false,
    "hidden": true,
    "run_control": {
     "frozen": false,
     "read_only": false
    },
    "scrolled": true
   },
   "outputs": [
    {
     "name": "stdout",
     "output_type": "stream",
     "text": [
      "--2017-03-27 11:42:17--  ftp://ftp.sanger.ac.uk/pub/gencode/Gencode_human/release_25/GRCh38.primary_assembly.genome.fa.gz\n",
      "           => ‘../dl_test_data/GRCh38_primary.fa.gz’\n",
      "Resolving ftp.sanger.ac.uk (ftp.sanger.ac.uk)... 193.62.203.17\n",
      "Connecting to ftp.sanger.ac.uk (ftp.sanger.ac.uk)|193.62.203.17|:21... connected.\n",
      "Logging in as anonymous ... Logged in!\n",
      "==> SYST ... done.    ==> PWD ... done.\n",
      "==> TYPE I ... done.  ==> CWD (1) /pub/gencode/Gencode_human/release_25 ... done.\n",
      "==> SIZE GRCh38.primary_assembly.genome.fa.gz ... 844691642\n",
      "==> PASV ... done.    ==> RETR GRCh38.primary_assembly.genome.fa.gz ... done.\n",
      "Length: 844691642 (806M) (unauthoritative)\n",
      "\n",
      "GRCh38.primary_asse 100%[===================>] 805.56M  24.5MB/s    in 30s     \n",
      "\n",
      "2017-03-27 11:42:47 (27.1 MB/s) - ‘../dl_test_data/GRCh38_primary.fa.gz’ saved [844691642]\n",
      "\n",
      "--2017-03-27 11:42:47--  ftp://ftp.sanger.ac.uk/pub/gencode/Gencode_human/release_25/gencode.v25.primary_assembly.annotation.gff3.gz\n",
      "           => ‘../dl_test_data/gencode_v25_primary.gff3.gz’\n",
      "Resolving ftp.sanger.ac.uk (ftp.sanger.ac.uk)... 193.62.203.17\n",
      "Connecting to ftp.sanger.ac.uk (ftp.sanger.ac.uk)|193.62.203.17|:21... connected.\n",
      "Logging in as anonymous ... Logged in!\n",
      "==> SYST ... done.    ==> PWD ... done.\n",
      "==> TYPE I ... done.  ==> CWD (1) /pub/gencode/Gencode_human/release_25 ... done.\n",
      "==> SIZE gencode.v25.primary_assembly.annotation.gff3.gz ... 46752876\n",
      "==> PASV ... done.    ==> RETR gencode.v25.primary_assembly.annotation.gff3.gz ... done.\n",
      "Length: 46752876 (45M) (unauthoritative)\n",
      "\n",
      "gencode.v25.primary 100%[===================>]  44.59M  12.7MB/s    in 3.9s    \n",
      "\n",
      "2017-03-27 11:42:51 (11.4 MB/s) - ‘../dl_test_data/gencode_v25_primary.gff3.gz’ saved [46752876]\n",
      "\n",
      "--2017-03-27 11:42:51--  ftp://ftp.sanger.ac.uk/pub/gencode/Gencode_human/release_25/gencode.v25.primary_assembly.annotation.gtf.gz\n",
      "           => ‘../dl_test_data/gencode_v25_primary.gtf.gz’\n",
      "Resolving ftp.sanger.ac.uk (ftp.sanger.ac.uk)... 193.62.203.17\n",
      "Connecting to ftp.sanger.ac.uk (ftp.sanger.ac.uk)|193.62.203.17|:21... connected.\n",
      "Logging in as anonymous ... Logged in!\n",
      "==> SYST ... done.    ==> PWD ... done.\n",
      "==> TYPE I ... done.  ==> CWD (1) /pub/gencode/Gencode_human/release_25 ... done.\n",
      "==> SIZE gencode.v25.primary_assembly.annotation.gtf.gz ... 38827267\n",
      "==> PASV ... done.    ==> RETR gencode.v25.primary_assembly.annotation.gtf.gz ... done.\n",
      "Length: 38827267 (37M) (unauthoritative)\n",
      "\n",
      "gencode.v25.primary 100%[===================>]  37.03M  10.0MB/s    in 4.1s    \n",
      "\n",
      "2017-03-27 11:42:56 (9.02 MB/s) - ‘../dl_test_data/gencode_v25_primary.gtf.gz’ saved [38827267]\n",
      "\n",
      "--2017-03-27 11:42:56--  ftp://ftp.sanger.ac.uk/pub/gencode/Gencode_human/release_25/gencode.v25.lncRNA_transcripts.fa.gz\n",
      "           => ‘../dl_test_data/gencode_v25_lncRNA_transcripts.fa.gz’\n",
      "Resolving ftp.sanger.ac.uk (ftp.sanger.ac.uk)... 193.62.203.17\n",
      "Connecting to ftp.sanger.ac.uk (ftp.sanger.ac.uk)|193.62.203.17|:21... connected.\n",
      "Logging in as anonymous ... Logged in!\n",
      "==> SYST ... done.    ==> PWD ... done.\n",
      "==> TYPE I ... done.  ==> CWD (1) /pub/gencode/Gencode_human/release_25 ... done.\n",
      "==> SIZE gencode.v25.lncRNA_transcripts.fa.gz ... 7230335\n",
      "==> PASV ... done.    ==> RETR gencode.v25.lncRNA_transcripts.fa.gz ... done.\n",
      "Length: 7230335 (6.9M) (unauthoritative)\n",
      "\n",
      "gencode.v25.lncRNA_ 100%[===================>]   6.89M  13.6MB/s    in 0.5s    \n",
      "\n",
      "2017-03-27 11:42:56 (13.6 MB/s) - ‘../dl_test_data/gencode_v25_lncRNA_transcripts.fa.gz’ saved [7230335]\n",
      "\n",
      "--2017-03-27 11:42:57--  ftp://ftp.sanger.ac.uk/pub/gencode/Gencode_human/release_25/gencode.v25.long_noncoding_RNAs.gff3.gz\n",
      "           => ‘../dl_test_data/gencode_v25_lncRNA.gff3.gz’\n",
      "Resolving ftp.sanger.ac.uk (ftp.sanger.ac.uk)... 193.62.203.17\n",
      "Connecting to ftp.sanger.ac.uk (ftp.sanger.ac.uk)|193.62.203.17|:21... connected.\n",
      "Logging in as anonymous ... Logged in!\n",
      "==> SYST ... done.    ==> PWD ... done.\n",
      "==> TYPE I ... done.  ==> CWD (1) /pub/gencode/Gencode_human/release_25 ... done.\n",
      "==> SIZE gencode.v25.long_noncoding_RNAs.gff3.gz ... 3255620\n",
      "==> PASV ... done.    ==> RETR gencode.v25.long_noncoding_RNAs.gff3.gz ... done.\n",
      "Length: 3255620 (3.1M) (unauthoritative)\n",
      "\n",
      "gencode.v25.long_no 100%[===================>]   3.10M  2.09MB/s    in 1.5s    \n",
      "\n",
      "2017-03-27 11:42:58 (2.09 MB/s) - ‘../dl_test_data/gencode_v25_lncRNA.gff3.gz’ saved [3255620]\n",
      "\n",
      "--2017-03-27 11:42:58--  http://fantom.gsc.riken.jp/5/suppl/Hon_et_al_2016/data/assembly/lv2_permissive/FANTOM_CAT.lv2_permissive.all_lncRNA.bed.gz\n",
      "Resolving fantom.gsc.riken.jp (fantom.gsc.riken.jp)... 134.160.84.66\n",
      "Connecting to fantom.gsc.riken.jp (fantom.gsc.riken.jp)|134.160.84.66|:80... connected.\n",
      "HTTP request sent, awaiting response... 200 OK\n",
      "Length: 4311175 (4.1M) [application/x-gzip]\n",
      "Saving to: ‘../dl_test_data/FANTOM_5_all_lncRNA.bed.gz’\n",
      "\n",
      "../dl_test_data/FAN 100%[===================>]   4.11M  1.16MB/s    in 4.1s    \n",
      "\n",
      "2017-03-27 11:43:03 (1.01 MB/s) - ‘../dl_test_data/FANTOM_5_all_lncRNA.bed.gz’ saved [4311175/4311175]\n",
      "\n",
      "--2017-03-27 11:43:03--  http://fantom.gsc.riken.jp/5/suppl/Hon_et_al_2016/data/assembly/lv2_permissive/FANTOM_CAT.lv2_permissive.all_lncRNA.gtf.gz\n",
      "Resolving fantom.gsc.riken.jp (fantom.gsc.riken.jp)... 134.160.84.66\n",
      "Connecting to fantom.gsc.riken.jp (fantom.gsc.riken.jp)|134.160.84.66|:80... connected.\n",
      "HTTP request sent, awaiting response... 200 OK\n",
      "Length: 7530977 (7.2M) [application/x-gzip]\n",
      "Saving to: ‘../dl_test_data/FANTOM_5_all_lncRNA.gtf.gz’\n",
      "\n",
      "../dl_test_data/FAN 100%[===================>]   7.18M  1.33MB/s    in 6.4s    \n",
      "\n",
      "2017-03-27 11:43:10 (1.13 MB/s) - ‘../dl_test_data/FANTOM_5_all_lncRNA.gtf.gz’ saved [7530977/7530977]\n",
      "\n",
      "--2017-03-27 11:43:10--  http://www.ebi.ac.uk/~aleg/data/share/1M.bam\n",
      "Resolving www.ebi.ac.uk (www.ebi.ac.uk)... 193.62.192.80\n",
      "Connecting to www.ebi.ac.uk (www.ebi.ac.uk)|193.62.192.80|:80... connected.\n",
      "HTTP request sent, awaiting response... 200 OK\n",
      "Length: 98262031 (94M) [text/plain]\n",
      "Saving to: ‘../dl_test_data/1M.bam’\n",
      "\n",
      "../dl_test_data/1M. 100%[===================>]  93.71M  39.0MB/s    in 2.4s    \n",
      "\n",
      "2017-03-27 11:43:12 (39.0 MB/s) - ‘../dl_test_data/1M.bam’ saved [98262031/98262031]\n",
      "\n"
     ]
    }
   ],
   "source": [
    "!mkdir -p \"../dl_test_data/\"\n",
    "!wget \"ftp://ftp.sanger.ac.uk/pub/gencode/Gencode_human/release_25/GRCh38.primary_assembly.genome.fa.gz\" -O \"../dl_test_data/GRCh38_primary.fa.gz\"\n",
    "!wget \"ftp://ftp.sanger.ac.uk/pub/gencode/Gencode_human/release_25/gencode.v25.primary_assembly.annotation.gff3.gz\" -O \"../dl_test_data/gencode_v25_primary.gff3.gz\"\n",
    "!wget \"ftp://ftp.sanger.ac.uk/pub/gencode/Gencode_human/release_25/gencode.v25.primary_assembly.annotation.gtf.gz\" -O \"../dl_test_data/gencode_v25_primary.gtf.gz\"\n",
    "!wget \"ftp://ftp.sanger.ac.uk/pub/gencode/Gencode_human/release_25/gencode.v25.lncRNA_transcripts.fa.gz\" -O \"../dl_test_data/gencode_v25_lncRNA_transcripts.fa.gz\"\n",
    "!wget \"ftp://ftp.sanger.ac.uk/pub/gencode/Gencode_human/release_25/gencode.v25.long_noncoding_RNAs.gff3.gz\" -O \"../dl_test_data/gencode_v25_lncRNA.gff3.gz\"\n",
    "!wget \"http://fantom.gsc.riken.jp/5/suppl/Hon_et_al_2016/data/assembly/lv2_permissive/FANTOM_CAT.lv2_permissive.all_lncRNA.bed.gz\" -O \"../dl_test_data/FANTOM_5_all_lncRNA.bed.gz\"\n",
    "!wget \"http://fantom.gsc.riken.jp/5/suppl/Hon_et_al_2016/data/assembly/lv2_permissive/FANTOM_CAT.lv2_permissive.all_lncRNA.gtf.gz\" -O \"../dl_test_data/FANTOM_5_all_lncRNA.gtf.gz\"\n",
    "!wget -v \"http://www.ebi.ac.uk/~aleg/data/share/1M.bam\" -O \"../dl_test_data/1M.bam\""
   ]
  },
  {
   "cell_type": "markdown",
   "metadata": {
    "hidden": true
   },
   "source": [
    "**Expand BAM to SAM using samtools**"
   ]
  },
  {
   "cell_type": "code",
   "execution_count": 4,
   "metadata": {
    "ExecuteTime": {
     "end_time": "2017-03-28T10:24:41.917008",
     "start_time": "2017-03-28T10:24:37.147037"
    },
    "collapsed": false,
    "hidden": true,
    "run_control": {
     "frozen": false,
     "read_only": false
    }
   },
   "outputs": [],
   "source": [
    "!samtools view -h \"../dl_test_data/1M.bam\" > \"../dl_test_data/1M.sam\"\n",
    "!samtools view \"../dl_test_data/1M.bam\" > \"../dl_test_data/1M_no_header.sam\""
   ]
  },
  {
   "cell_type": "code",
   "execution_count": 7,
   "metadata": {
    "ExecuteTime": {
     "end_time": "2017-03-27T16:43:10.007278",
     "start_time": "2017-03-27T16:43:09.877621"
    },
    "collapsed": false,
    "hidden": true,
    "run_control": {
     "frozen": false,
     "read_only": false
    },
    "scrolled": false
   },
   "outputs": [
    {
     "name": "stdout",
     "output_type": "stream",
     "text": [
      "total 1287848\r\n",
      "-rw-rw-r-- 1 aleg aleg  98262031 Feb  6 16:58 1M.bam\r\n",
      "-rw-rw-r-- 1 aleg aleg  10163815 Mar 27 16:35 1M.bed.gz\r\n",
      "-rw-rw-r-- 1 aleg aleg 257702066 Mar 27 16:43 1M.sam\r\n",
      "-rw-rw-r-- 1 aleg aleg   4311175 Mar 22 08:21 FANTOM_5_all_lncRNA.bed.gz\r\n",
      "-rw-rw-r-- 1 aleg aleg   7530977 Mar 22 08:21 FANTOM_5_all_lncRNA.gtf.gz\r\n",
      "-rw-rw-r-- 1 aleg aleg   3255620 Mar 27 11:42 gencode_v25_lncRNA.gff3.gz\r\n",
      "-rw-rw-r-- 1 aleg aleg   7230335 Mar 27 11:42 gencode_v25_lncRNA_transcripts.fa.gz\r\n",
      "-rw-rw-r-- 1 aleg aleg  46752876 Mar 27 11:42 gencode_v25_primary.gff3.gz\r\n",
      "-rw-rw-r-- 1 aleg aleg  38827267 Mar 27 11:42 gencode_v25_primary.gtf.gz\r\n",
      "-rw-rw-r-- 1 aleg aleg 844691642 Mar 27 11:42 GRCh38_primary.fa.gz\r\n"
     ]
    }
   ],
   "source": [
    "!ls -l \"../dl_test_data/\""
   ]
  },
  {
   "cell_type": "markdown",
   "metadata": {
    "hidden": true
   },
   "source": [
    "---"
   ]
  },
  {
   "cell_type": "markdown",
   "metadata": {
    "heading_collapsed": true
   },
   "source": [
    "# JGV_helper_fun"
   ]
  },
  {
   "cell_type": "markdown",
   "metadata": {
    "heading_collapsed": true,
    "hidden": true
   },
   "source": [
    "## extensions"
   ]
  },
  {
   "cell_type": "code",
   "execution_count": 9,
   "metadata": {
    "ExecuteTime": {
     "end_time": "2017-01-25T15:01:58.551722",
     "start_time": "2017-01-25T15:01:58.548237"
    },
    "collapsed": false,
    "hidden": true,
    "run_control": {
     "frozen": false,
     "read_only": false
    },
    "scrolled": true
   },
   "outputs": [
    {
     "name": "stdout",
     "output_type": "stream",
     "text": [
      "Help on function extensions in module JGV_helper_fun:\n",
      "\n",
      "extensions(fp)\n",
      "    Return the extension of a file in lower-case.\n",
      "    If the file is gziped the method will output the base extension + the archive extension\n",
      "\n"
     ]
    }
   ],
   "source": [
    "help (extensions)"
   ]
  },
  {
   "cell_type": "code",
   "execution_count": 3,
   "metadata": {
    "ExecuteTime": {
     "end_time": "2017-01-25T15:01:28.290982",
     "start_time": "2017-01-25T15:01:28.281515"
    },
    "collapsed": false,
    "hidden": true,
    "run_control": {
     "frozen": false,
     "read_only": false
    }
   },
   "outputs": [
    {
     "data": {
      "text/plain": [
       "['ipynb']"
      ]
     },
     "execution_count": 3,
     "metadata": {},
     "output_type": "execute_result"
    }
   ],
   "source": [
    "extensions(\"./JGV_Test_Notebook.ipynb\")"
   ]
  },
  {
   "cell_type": "code",
   "execution_count": 4,
   "metadata": {
    "ExecuteTime": {
     "end_time": "2017-01-25T15:01:29.591354",
     "start_time": "2017-01-25T15:01:29.586581"
    },
    "collapsed": false,
    "hidden": true,
    "run_control": {
     "frozen": false,
     "read_only": false
    }
   },
   "outputs": [
    {
     "data": {
      "text/plain": [
       "['fa', 'gz']"
      ]
     },
     "execution_count": 4,
     "metadata": {},
     "output_type": "execute_result"
    }
   ],
   "source": [
    "extensions(\"../test_data/GRCh38_primary.fa.gz\")"
   ]
  },
  {
   "cell_type": "code",
   "execution_count": 5,
   "metadata": {
    "ExecuteTime": {
     "end_time": "2017-01-25T15:01:30.892399",
     "start_time": "2017-01-25T15:01:30.879073"
    },
    "collapsed": false,
    "hidden": true,
    "run_control": {
     "frozen": false,
     "read_only": false
    }
   },
   "outputs": [
    {
     "data": {
      "text/plain": [
       "[]"
      ]
     },
     "execution_count": 5,
     "metadata": {},
     "output_type": "execute_result"
    }
   ],
   "source": [
    "extensions(\"../test_data/GRCh38_primary\")"
   ]
  },
  {
   "cell_type": "markdown",
   "metadata": {
    "heading_collapsed": true,
    "hidden": true
   },
   "source": [
    "## file_basename"
   ]
  },
  {
   "cell_type": "code",
   "execution_count": 8,
   "metadata": {
    "ExecuteTime": {
     "end_time": "2017-01-25T15:01:55.675212",
     "start_time": "2017-01-25T15:01:55.672173"
    },
    "collapsed": false,
    "hidden": true,
    "run_control": {
     "frozen": false,
     "read_only": false
    }
   },
   "outputs": [
    {
     "name": "stdout",
     "output_type": "stream",
     "text": [
      "Help on function file_basename in module JGV_helper_fun:\n",
      "\n",
      "file_basename(fp)\n",
      "    Return the base name of a file without extension nor path.\n",
      "    If the file is gziped the method will output the name without extension + the archive extension\n",
      "\n"
     ]
    }
   ],
   "source": [
    "help(file_basename)"
   ]
  },
  {
   "cell_type": "code",
   "execution_count": 12,
   "metadata": {
    "ExecuteTime": {
     "end_time": "2017-01-25T10:33:00.268303",
     "start_time": "2017-01-25T10:33:00.264339"
    },
    "collapsed": false,
    "hidden": true,
    "run_control": {
     "frozen": false,
     "read_only": false
    }
   },
   "outputs": [
    {
     "data": {
      "text/plain": [
       "'Annotation'"
      ]
     },
     "execution_count": 12,
     "metadata": {},
     "output_type": "execute_result"
    }
   ],
   "source": [
    "file_basename(\"./Annotation.py\")"
   ]
  },
  {
   "cell_type": "code",
   "execution_count": 15,
   "metadata": {
    "ExecuteTime": {
     "end_time": "2017-01-25T10:34:55.125050",
     "start_time": "2017-01-25T10:34:55.118099"
    },
    "collapsed": false,
    "hidden": true,
    "run_control": {
     "frozen": false,
     "read_only": false
    }
   },
   "outputs": [
    {
     "data": {
      "text/plain": [
       "'10M_sample'"
      ]
     },
     "execution_count": 15,
     "metadata": {},
     "output_type": "execute_result"
    }
   ],
   "source": [
    "file_basename(\"../test_data/10M_sample.bam\")"
   ]
  },
  {
   "cell_type": "code",
   "execution_count": 16,
   "metadata": {
    "ExecuteTime": {
     "end_time": "2017-01-25T10:35:15.707067",
     "start_time": "2017-01-25T10:35:15.703915"
    },
    "collapsed": false,
    "hidden": true,
    "run_control": {
     "frozen": false,
     "read_only": false
    }
   },
   "outputs": [
    {
     "data": {
      "text/plain": [
       "'NONCODE2016_human_hg38_lncRNA_sorted'"
      ]
     },
     "execution_count": 16,
     "metadata": {},
     "output_type": "execute_result"
    }
   ],
   "source": [
    "file_basename(\"../test_data/NONCODE2016_human_hg38_lncRNA_sorted.gtf.gz\")"
   ]
  },
  {
   "cell_type": "markdown",
   "metadata": {
    "ExecuteTime": {
     "end_time": "2017-01-25T09:16:47.219378",
     "start_time": "2017-01-25T09:16:47.215434"
    },
    "collapsed": true,
    "heading_collapsed": true,
    "hidden": true
   },
   "source": [
    "## dir_path"
   ]
  },
  {
   "cell_type": "code",
   "execution_count": 7,
   "metadata": {
    "ExecuteTime": {
     "end_time": "2017-01-25T15:01:52.387592",
     "start_time": "2017-01-25T15:01:52.383913"
    },
    "collapsed": false,
    "hidden": true,
    "run_control": {
     "frozen": false,
     "read_only": false
    }
   },
   "outputs": [
    {
     "name": "stdout",
     "output_type": "stream",
     "text": [
      "Help on function dir_path in module JGV_helper_fun:\n",
      "\n",
      "dir_path(fp)\n",
      "    Return the directory path of a file\n",
      "\n"
     ]
    }
   ],
   "source": [
    "help(dir_path)"
   ]
  },
  {
   "cell_type": "code",
   "execution_count": 6,
   "metadata": {
    "ExecuteTime": {
     "end_time": "2017-01-25T15:01:49.361760",
     "start_time": "2017-01-25T15:01:49.355770"
    },
    "collapsed": false,
    "hidden": true,
    "run_control": {
     "frozen": false,
     "read_only": false
    }
   },
   "outputs": [
    {
     "data": {
      "text/plain": [
       "'../test_data'"
      ]
     },
     "execution_count": 6,
     "metadata": {},
     "output_type": "execute_result"
    }
   ],
   "source": [
    "dir_path(\"../test_data/NONCODE2016_human_hg38_lncRNA_sorted.gtf.gz\")"
   ]
  },
  {
   "cell_type": "code",
   "execution_count": 18,
   "metadata": {
    "ExecuteTime": {
     "end_time": "2017-01-25T10:35:53.550251",
     "start_time": "2017-01-25T10:35:53.546776"
    },
    "collapsed": false,
    "hidden": true,
    "run_control": {
     "frozen": false,
     "read_only": false
    }
   },
   "outputs": [
    {
     "data": {
      "text/plain": [
       "'.'"
      ]
     },
     "execution_count": 18,
     "metadata": {},
     "output_type": "execute_result"
    }
   ],
   "source": [
    "dir_path(\"./JGV.py\")"
   ]
  },
  {
   "cell_type": "markdown",
   "metadata": {
    "heading_collapsed": true,
    "hidden": true
   },
   "source": [
    "## color_palette"
   ]
  },
  {
   "cell_type": "code",
   "execution_count": 10,
   "metadata": {
    "ExecuteTime": {
     "end_time": "2017-01-25T15:02:06.343289",
     "start_time": "2017-01-25T15:02:06.339477"
    },
    "collapsed": false,
    "hidden": true,
    "run_control": {
     "frozen": false,
     "read_only": false
    }
   },
   "outputs": [
    {
     "name": "stdout",
     "output_type": "stream",
     "text": [
      "Help on function color_palette in module JGV_helper_fun:\n",
      "\n",
      "color_palette(n, colormap='brg')\n",
      "    Return a list of n length with gradient colors from a given matplot lib colormap palette\n",
      "    * n         Number of color scalar in the list\n",
      "    * colormap  colormap color palette from matplotlib package.\n",
      "                See http://matplotlib.org/examples/color/colormaps_reference.html\n",
      "                example : inferno magma hot blues cool spring winter brg ocean hsv jet ... [DEFAULT: brg]\n",
      "\n"
     ]
    }
   ],
   "source": [
    "help(color_palette)"
   ]
  },
  {
   "cell_type": "code",
   "execution_count": 11,
   "metadata": {
    "ExecuteTime": {
     "end_time": "2017-01-25T15:02:07.830924",
     "start_time": "2017-01-25T15:02:07.823822"
    },
    "collapsed": false,
    "hidden": true,
    "run_control": {
     "frozen": false,
     "read_only": false
    },
    "scrolled": true
   },
   "outputs": [
    {
     "data": {
      "text/html": [
       "<p>[(0.26851000000000003, 0.0096050000000000007, 0.33542699999999998, 1.0), (0.28086800000000001, 0.160771, 0.47289900000000001, 1.0), (0.243113, 0.29209200000000002, 0.53851599999999999, 1.0), (0.19063099999999999, 0.40706100000000001, 0.55608900000000006, 1.0), (0.14760699999999999, 0.51173299999999999, 0.55704900000000002, 1.0), (0.11948300000000001, 0.61481699999999995, 0.53769199999999995, 1.0), (0.20221900000000001, 0.71527200000000002, 0.47608400000000001, 1.0), (0.41291299999999997, 0.803041, 0.357269, 1.0), (0.688944, 0.865448, 0.182725, 1.0), (0.97441699999999998, 0.90359, 0.130215, 1.0)]</p>"
      ],
      "text/plain": [
       "<IPython.core.display.HTML object>"
      ]
     },
     "metadata": {},
     "output_type": "display_data"
    }
   ],
   "source": [
    "c= color_palette (n=10, colormap=\"viridis\")\n",
    "print(c)"
   ]
  },
  {
   "cell_type": "code",
   "execution_count": 12,
   "metadata": {
    "ExecuteTime": {
     "end_time": "2017-01-25T15:02:09.105480",
     "start_time": "2017-01-25T15:02:08.955514"
    },
    "collapsed": false,
    "hidden": true,
    "run_control": {
     "frozen": false,
     "read_only": false
    }
   },
   "outputs": [
    {
     "data": {
      "image/png": "[encoded data removed]",
      "text/plain": [
       "<matplotlib.figure.Figure at 0x7f578c0f3b00>"
      ]
     },
     "metadata": {},
     "output_type": "display_data"
    }
   ],
   "source": [
    "c= color_palette (n=20, colormap=\"Reds\")\n",
    "pl.figure(figsize=(20,1))\n",
    "pl.axis(\"off\")\n",
    "for i, color in enumerate(c):\n",
    "    pl.scatter(i, 1, c=color, linewidths=0, s=500)"
   ]
  },
  {
   "cell_type": "markdown",
   "metadata": {
    "heading_collapsed": true,
    "hidden": true
   },
   "source": [
    "## jprint"
   ]
  },
  {
   "cell_type": "code",
   "execution_count": 16,
   "metadata": {
    "ExecuteTime": {
     "end_time": "2017-01-25T09:18:46.713086",
     "start_time": "2017-01-25T09:18:46.708955"
    },
    "collapsed": false,
    "hidden": true,
    "run_control": {
     "frozen": false,
     "read_only": false
    }
   },
   "outputs": [
    {
     "name": "stdout",
     "output_type": "stream",
     "text": [
      "Help on function jprint in module JGV_helper_fun:\n",
      "\n",
      "jprint(*args, **kwargs)\n",
      "    Format a string in HTML and print the output. Equivalent of print, but highly customizable\n",
      "    Many options can be passed to the function.\n",
      "    * args\n",
      "        One or several objects that can be cast in str\n",
      "    ** kwargs\n",
      "        Formatting options to tweak the html rendering \n",
      "        Boolean options : bold, italic, highlight, underlined, striked, subscripted, superscripted\n",
      "        String oprions: font, color, size, align, background_color\n",
      "\n"
     ]
    }
   ],
   "source": [
    "help(jprint)"
   ]
  },
  {
   "cell_type": "code",
   "execution_count": 51,
   "metadata": {
    "ExecuteTime": {
     "end_time": "2017-01-25T10:56:08.671028",
     "start_time": "2017-01-25T10:56:08.666578"
    },
    "collapsed": false,
    "hidden": true,
    "run_control": {
     "frozen": false,
     "read_only": false
    }
   },
   "outputs": [
    {
     "data": {
      "text/html": [
       "<p style=\"font-family:Serif;\"><b>This Function is better than the default print</b></p>"
      ],
      "text/plain": [
       "<IPython.core.display.HTML object>"
      ]
     },
     "metadata": {},
     "output_type": "display_data"
    }
   ],
   "source": [
    "jprint(\"This\", \"Function\", \"is\", \"better than the default print\", bold=True, font=\"Serif\")"
   ]
  },
  {
   "cell_type": "code",
   "execution_count": 70,
   "metadata": {
    "ExecuteTime": {
     "end_time": "2017-01-25T11:04:02.752472",
     "start_time": "2017-01-25T11:04:02.749156"
    },
    "collapsed": false,
    "hidden": true,
    "run_control": {
     "frozen": false,
     "read_only": false
    }
   },
   "outputs": [
    {
     "data": {
      "text/html": [
       "<p style=\"color:blue;font-size:200%;text-align:center;\">This <b>Function</b> is better<br> than the default print</p>"
      ],
      "text/plain": [
       "<IPython.core.display.HTML object>"
      ]
     },
     "metadata": {},
     "output_type": "display_data"
    }
   ],
   "source": [
    "jprint(\"This <b>Function</b> is better\\n than the default print\", color=\"blue\", align=\"center\", size = 200)"
   ]
  },
  {
   "cell_type": "markdown",
   "metadata": {
    "heading_collapsed": true
   },
   "source": [
    "# Reference"
   ]
  },
  {
   "cell_type": "code",
   "execution_count": 2,
   "metadata": {
    "ExecuteTime": {
     "end_time": "2017-03-28T16:36:44.534662",
     "start_time": "2017-03-28T16:36:44.526209"
    },
    "collapsed": false,
    "hidden": true,
    "run_control": {
     "frozen": false,
     "read_only": false
    }
   },
   "outputs": [
    {
     "name": "stdout",
     "output_type": "stream",
     "text": [
      "Help on class Reference in module Reference:\n",
      "\n",
      "class Reference(builtins.object)\n",
      " |  Parse a fasta reference file or a fasta index and save the list of reference sequences ids and their lengths\n",
      " |  \n",
      " |  Methods defined here:\n",
      " |  \n",
      " |  __init__(self, fp, name=None, verbose=False, ref_list=[], output_index=False)\n",
      " |       * fp\n",
      " |          A fasta file containing the reference sequences OR an tab separated index file containing at least 2 columns\n",
      " |          with the refid and the length in bases (like a .fa.fai file generated by samtools faidx, or with the\n",
      " |          output_index option of this function)\n",
      " |          The fasta option will take more time as the file has to be parsed to get the refid and length of sequences.\n",
      " |          Both fasta and infex file can be gziped\n",
      " |      *  name\n",
      " |          Name of the data file that will be used as track name for plotting. If not given, will be deduced from fp\n",
      " |          file name\n",
      " |      * verbose\n",
      " |          If True, will print more information during initialisation and calls of all the object methods\n",
      " |          [ DEFAULT: False ]\n",
      " |      * ref_list\n",
      " |          list of reference sequence id to select from the data file, by default all [ DEFAULT: [] ]\n",
      " |      * output_index\n",
      " |          If True will write a simple A 2 column index tsv file containing the Reference sequenc ids and their lengths\n",
      " |          [ DEFAULT: False ]\n",
      " |  \n",
      " |  __repr__(self)\n",
      " |      Return repr(self).\n",
      " |  \n",
      " |  __str__(self)\n",
      " |      readable description of the object\n",
      " |  \n",
      " |  get_refid_len(self, refid)\n",
      " |      Return the length of a given refid\n",
      " |  \n",
      " |  ----------------------------------------------------------------------\n",
      " |  Data descriptors defined here:\n",
      " |  \n",
      " |  __dict__\n",
      " |      dictionary for instance variables (if defined)\n",
      " |  \n",
      " |  __weakref__\n",
      " |      list of weak references to the object (if defined)\n",
      " |  \n",
      " |  refid_count\n",
      " |      List of all the sequence ids found in the annotation file\n",
      " |  \n",
      " |  refid_list\n",
      " |      List of all the sequence ids found in the annotation file\n",
      "\n"
     ]
    }
   ],
   "source": [
    "help(Reference)"
   ]
  },
  {
   "cell_type": "markdown",
   "metadata": {
    "hidden": true
   },
   "source": [
    "**Test the instanciation of the Reference class from a fasta files**"
   ]
  },
  {
   "cell_type": "code",
   "execution_count": 6,
   "metadata": {
    "ExecuteTime": {
     "end_time": "2017-03-28T16:40:11.782386",
     "start_time": "2017-03-28T16:40:11.760122"
    },
    "collapsed": false,
    "hidden": true,
    "run_control": {
     "frozen": false,
     "read_only": false
    },
    "scrolled": true
   },
   "outputs": [
    {
     "data": {
      "text/html": [
       "<p>Parsing fasta file</p>"
      ],
      "text/plain": [
       "<IPython.core.display.HTML object>"
      ]
     },
     "metadata": {},
     "output_type": "display_data"
    },
    {
     "data": {
      "text/html": [
       "<p>Write a fasta index file: ../test_data/ERCC.tsv</p>"
      ],
      "text/plain": [
       "<IPython.core.display.HTML object>"
      ]
     },
     "metadata": {},
     "output_type": "display_data"
    },
    {
     "data": {
      "text/html": [
       "<p>Found 11 reference sequences</p>"
      ],
      "text/plain": [
       "<IPython.core.display.HTML object>"
      ]
     },
     "metadata": {},
     "output_type": "display_data"
    },
    {
     "data": {
      "text/html": [
       "<p>Reference instance<br>&emsp;&emsp;ERCC-00104&emsp;length: 2022<br>&emsp;&emsp;ERCC-00033&emsp;length: 2022<br>&emsp;&emsp;ERCC-00025&emsp;length: 1994<br>&emsp;&emsp;ERCC-00116&emsp;length: 1991<br>&emsp;&emsp;ERCC-00014&emsp;length: 1957<br>&emsp;&emsp;ERCC-00099&emsp;length: 1350<br>&emsp;&emsp;ERCC-00044&emsp;length: 1156<br>&emsp;&emsp;ERCC-00098&emsp;length: 1143<br>&emsp;&emsp;ERCC-00031&emsp;length: 1138<br>&emsp;&emsp;ERCC-00069&emsp;length: 1137<br>&emsp;&emsp;ERCC-00058&emsp;length: 1136<br>&emsp;ext&emsp;fa<br>&emsp;fp&emsp;../test_data/ERCC.fa.gz<br>&emsp;name&emsp;ERCC<br>&emsp;verbose&emsp;True<br></p>"
      ],
      "text/plain": [
       "<IPython.core.display.HTML object>"
      ]
     },
     "metadata": {},
     "output_type": "display_data"
    }
   ],
   "source": [
    "l = ['ERCC-00104', 'ERCC-00033', 'ERCC-00025', 'ERCC-00116', 'ERCC-00014', 'ERCC-00099', 'ERCC-00044', 'ERCC-00098', 'ERCC-00031', 'ERCC-00069', 'ERCC-00058']\n",
    "r = Reference (\"../test_data/ERCC.fa.gz\", verbose=True, ref_list=l, output_index=True)\n",
    "print(r)"
   ]
  },
  {
   "cell_type": "code",
   "execution_count": 10,
   "metadata": {
    "ExecuteTime": {
     "end_time": "2017-03-28T16:42:12.729774",
     "start_time": "2017-03-28T16:41:28.529899"
    },
    "collapsed": false,
    "hidden": true,
    "scrolled": true
   },
   "outputs": [
    {
     "data": {
      "text/html": [
       "<p>Parsing fasta file</p>"
      ],
      "text/plain": [
       "<IPython.core.display.HTML object>"
      ]
     },
     "metadata": {},
     "output_type": "display_data"
    },
    {
     "data": {
      "text/html": [
       "<p>Write a fasta index file: ../dl_test_data/GRCh38_primary.tsv</p>"
      ],
      "text/plain": [
       "<IPython.core.display.HTML object>"
      ]
     },
     "metadata": {},
     "output_type": "display_data"
    },
    {
     "data": {
      "text/html": [
       "<p>Found 25 reference sequences</p>"
      ],
      "text/plain": [
       "<IPython.core.display.HTML object>"
      ]
     },
     "metadata": {},
     "output_type": "display_data"
    },
    {
     "data": {
      "text/html": [
       "<p>Reference instance<br>&emsp;&emsp;chr1&emsp;length: 248956422<br>&emsp;&emsp;chr2&emsp;length: 242193529<br>&emsp;&emsp;chr3&emsp;length: 198295559<br>&emsp;&emsp;chr4&emsp;length: 190214555<br>&emsp;&emsp;chr5&emsp;length: 181538259<br>&emsp;&emsp;chr6&emsp;length: 170805979<br>&emsp;&emsp;chr7&emsp;length: 159345973<br>&emsp;&emsp;chrX&emsp;length: 156040895<br>&emsp;&emsp;chr8&emsp;length: 145138636<br>&emsp;&emsp;chr9&emsp;length: 138394717<br>&emsp;&emsp;chr11&emsp;length: 135086622<br>&emsp;&emsp;chr10&emsp;length: 133797422<br>&emsp;&emsp;chr12&emsp;length: 133275309<br>&emsp;&emsp;chr13&emsp;length: 114364328<br>&emsp;&emsp;chr14&emsp;length: 107043718<br>&emsp;&emsp;chr15&emsp;length: 101991189<br>&emsp;&emsp;chr16&emsp;length: 90338345<br>&emsp;&emsp;chr17&emsp;length: 83257441<br>&emsp;&emsp;chr18&emsp;length: 80373285<br>&emsp;&emsp;chr20&emsp;length: 64444167<br>&emsp;&emsp;chr19&emsp;length: 58617616<br>&emsp;&emsp;chrY&emsp;length: 57227415<br>&emsp;&emsp;chr22&emsp;length: 50818468<br>&emsp;&emsp;chr21&emsp;length: 46709983<br>&emsp;&emsp;chrM&emsp;length: 16569<br>&emsp;ext&emsp;fa<br>&emsp;fp&emsp;../dl_test_data/GRCh38_primary.fa.gz<br>&emsp;name&emsp;GRCh38_primary<br>&emsp;verbose&emsp;True<br></p>"
      ],
      "text/plain": [
       "<IPython.core.display.HTML object>"
      ]
     },
     "metadata": {},
     "output_type": "display_data"
    }
   ],
   "source": [
    "l = ['chr1', 'chr2', 'chr3', 'chr4', 'chr5', 'chr6', 'chr7', 'chr8', 'chr9', 'chr10', 'chr11', 'chr12', 'chr13', 'chr14', 'chr15', 'chr16', 'chr17', 'chr18', 'chr19', 'chr20', 'chr21', 'chr22', 'chrX', 'chrY', 'chrM']\n",
    "r = Reference (\"../dl_test_data/GRCh38_primary.fa.gz\", verbose=True, ref_list=l, output_index=True)\n",
    "print(r)"
   ]
  },
  {
   "cell_type": "markdown",
   "metadata": {
    "hidden": true
   },
   "source": [
    "**Test the instanciation of the Reference class from a fasta index**"
   ]
  },
  {
   "cell_type": "code",
   "execution_count": 2,
   "metadata": {
    "ExecuteTime": {
     "end_time": "2017-03-28T16:45:14.657367",
     "start_time": "2017-03-28T16:45:14.643419"
    },
    "collapsed": false,
    "hidden": true,
    "run_control": {
     "frozen": false,
     "read_only": false
    },
    "scrolled": false
   },
   "outputs": [
    {
     "data": {
      "text/html": [
       "<p>Assume the file is a fasta index</p>"
      ],
      "text/plain": [
       "<IPython.core.display.HTML object>"
      ]
     },
     "metadata": {},
     "output_type": "display_data"
    },
    {
     "data": {
      "text/html": [
       "<p>Found 3 reference sequences</p>"
      ],
      "text/plain": [
       "<IPython.core.display.HTML object>"
      ]
     },
     "metadata": {},
     "output_type": "display_data"
    },
    {
     "data": {
      "text/html": [
       "<p>Reference instance<br>&emsp;&emsp;ERCC-00033&emsp;length: 2022<br>&emsp;&emsp;ERCC-00104&emsp;length: 2022<br>&emsp;&emsp;ERCC-00025&emsp;length: 1994<br>&emsp;ext&emsp;tsv<br>&emsp;fp&emsp;../test_data/ERCC.tsv<br>&emsp;name&emsp;ERCC<br>&emsp;verbose&emsp;True<br></p>"
      ],
      "text/plain": [
       "<IPython.core.display.HTML object>"
      ]
     },
     "metadata": {},
     "output_type": "display_data"
    }
   ],
   "source": [
    "l = ['ERCC-00104', 'ERCC-00033', 'ERCC-00025']\n",
    "r = Reference (\"../test_data/ERCC.tsv\", verbose=True, ref_list=l)\n",
    "print(r)"
   ]
  },
  {
   "cell_type": "code",
   "execution_count": 2,
   "metadata": {
    "ExecuteTime": {
     "end_time": "2017-03-28T16:43:41.401853",
     "start_time": "2017-03-28T16:43:41.392584"
    },
    "collapsed": false,
    "hidden": true,
    "scrolled": false
   },
   "outputs": [
    {
     "data": {
      "text/html": [
       "<p>Assume the file is a fasta index</p>"
      ],
      "text/plain": [
       "<IPython.core.display.HTML object>"
      ]
     },
     "metadata": {},
     "output_type": "display_data"
    },
    {
     "data": {
      "text/html": [
       "<p>Found 25 reference sequences</p>"
      ],
      "text/plain": [
       "<IPython.core.display.HTML object>"
      ]
     },
     "metadata": {},
     "output_type": "display_data"
    },
    {
     "data": {
      "text/html": [
       "<p>Reference instance<br>&emsp;&emsp;chr1&emsp;length: 248956422<br>&emsp;&emsp;chr2&emsp;length: 242193529<br>&emsp;&emsp;chr3&emsp;length: 198295559<br>&emsp;&emsp;chr4&emsp;length: 190214555<br>&emsp;&emsp;chr5&emsp;length: 181538259<br>&emsp;&emsp;chr6&emsp;length: 170805979<br>&emsp;&emsp;chr7&emsp;length: 159345973<br>&emsp;&emsp;chrX&emsp;length: 156040895<br>&emsp;&emsp;chr8&emsp;length: 145138636<br>&emsp;&emsp;chr9&emsp;length: 138394717<br>&emsp;&emsp;chr11&emsp;length: 135086622<br>&emsp;&emsp;chr10&emsp;length: 133797422<br>&emsp;&emsp;chr12&emsp;length: 133275309<br>&emsp;&emsp;chr13&emsp;length: 114364328<br>&emsp;&emsp;chr14&emsp;length: 107043718<br>&emsp;&emsp;chr15&emsp;length: 101991189<br>&emsp;&emsp;chr16&emsp;length: 90338345<br>&emsp;&emsp;chr17&emsp;length: 83257441<br>&emsp;&emsp;chr18&emsp;length: 80373285<br>&emsp;&emsp;chr20&emsp;length: 64444167<br>&emsp;&emsp;chr19&emsp;length: 58617616<br>&emsp;&emsp;chrY&emsp;length: 57227415<br>&emsp;&emsp;chr22&emsp;length: 50818468<br>&emsp;&emsp;chr21&emsp;length: 46709983<br>&emsp;&emsp;chrM&emsp;length: 16569<br>&emsp;ext&emsp;tsv<br>&emsp;fp&emsp;../dl_test_data/GRCh38_primary.tsv<br>&emsp;name&emsp;GRCh38_primary<br>&emsp;verbose&emsp;True<br></p>"
      ],
      "text/plain": [
       "<IPython.core.display.HTML object>"
      ]
     },
     "metadata": {},
     "output_type": "display_data"
    }
   ],
   "source": [
    "r = Reference (\"../dl_test_data/GRCh38_primary.tsv\", verbose=True)\n",
    "print(r)"
   ]
  },
  {
   "cell_type": "markdown",
   "metadata": {
    "hidden": true
   },
   "source": [
    "**Test property methods**"
   ]
  },
  {
   "cell_type": "code",
   "execution_count": 2,
   "metadata": {
    "ExecuteTime": {
     "end_time": "2017-03-28T16:53:41.894588",
     "start_time": "2017-03-28T16:53:41.876303"
    },
    "collapsed": false,
    "hidden": true
   },
   "outputs": [
    {
     "data": {
      "text/html": [
       "<p>Number of refid:  25</p>"
      ],
      "text/plain": [
       "<IPython.core.display.HTML object>"
      ]
     },
     "metadata": {},
     "output_type": "display_data"
    },
    {
     "data": {
      "text/html": [
       "<p>List of refid:<br> ['chr1', 'chr2', 'chr3', 'chr4', 'chr5', 'chr6', 'chr7', 'chrX', 'chr8', 'chr9', 'chr11', 'chr10', 'chr12', 'chr13', 'chr14', 'chr15', 'chr16', 'chr17', 'chr18', 'chr20', 'chr19', 'chrY', 'chr22', 'chr21', 'chrM']</p>"
      ],
      "text/plain": [
       "<IPython.core.display.HTML object>"
      ]
     },
     "metadata": {},
     "output_type": "display_data"
    }
   ],
   "source": [
    "r = Reference (\"../dl_test_data/GRCh38_primary.tsv\")\n",
    "\n",
    "print (\"Number of refid: \", r.refid_count)\n",
    "print (\"List of refid:\\n\", r.refid_list)"
   ]
  },
  {
   "cell_type": "markdown",
   "metadata": {
    "hidden": true
   },
   "source": [
    "**Test get_refid_len method** "
   ]
  },
  {
   "cell_type": "code",
   "execution_count": 3,
   "metadata": {
    "ExecuteTime": {
     "end_time": "2017-03-28T16:53:48.274527",
     "start_time": "2017-03-28T16:53:48.265080"
    },
    "collapsed": false,
    "hidden": true,
    "run_control": {
     "frozen": false,
     "read_only": false
    },
    "scrolled": false
   },
   "outputs": [
    {
     "data": {
      "text/plain": [
       "145138636"
      ]
     },
     "execution_count": 3,
     "metadata": {},
     "output_type": "execute_result"
    }
   ],
   "source": [
    "r = Reference (\"../dl_test_data/GRCh38_primary.tsv\")\n",
    "r.get_refid_len(\"chr8\")"
   ]
  },
  {
   "cell_type": "code",
   "execution_count": 4,
   "metadata": {
    "ExecuteTime": {
     "end_time": "2017-03-28T16:54:04.371627",
     "start_time": "2017-03-28T16:54:04.360894"
    },
    "collapsed": true,
    "hidden": true
   },
   "outputs": [],
   "source": [
    "r = Reference (\"../dl_test_data/GRCh38_primary.tsv\")\n",
    "r.get_refid_len(\"chrINVALID\")"
   ]
  },
  {
   "cell_type": "markdown",
   "metadata": {
    "heading_collapsed": true
   },
   "source": [
    "# Level"
   ]
  },
  {
   "cell_type": "code",
   "execution_count": 2,
   "metadata": {
    "ExecuteTime": {
     "end_time": "2017-02-06T18:30:35.450607",
     "start_time": "2017-02-06T18:30:35.445185"
    },
    "collapsed": false,
    "hidden": true,
    "run_control": {
     "frozen": false,
     "read_only": false
    },
    "scrolled": true
   },
   "outputs": [
    {
     "name": "stdout",
     "output_type": "stream",
     "text": [
      "Help on class Level in module Level:\n",
      "\n",
      "class Level(builtins.object)\n",
      " |  Compute the level of a given feature on the Annotation track to avoid annotation overlaping\n",
      " |  \n",
      " |  Methods defined here:\n",
      " |  \n",
      " |  __call__(self, ID, start, end, strand)\n",
      " |      Compute the level of an annnotation feature based on the instance options and the other feautures previously\n",
      " |      analysed, to avoid overlapping. Iterative call of the function has to be done with annotation features sorted\n",
      " |      by start coordinates.\n",
      " |      * ID\n",
      " |          Name of the feature to fit in a level\n",
      " |      * start\n",
      " |          Start coordinate of the feature to fit in a level, on the positive strand\n",
      " |      * end\n",
      " |          End coordinate of the feature to fit in a level, on the positive strand\n",
      " |      * strand\n",
      " |          Strand of the feature. Can be + - or None\n",
      " |  \n",
      " |  __init__(self, max_depth=10, offset=10, filter_pos=False, filter_neg=False, filter_unstrand=True)\n",
      " |      Define general options for Level class\n",
      " |      * max_depth\n",
      " |          Maximal total number of positive or negative levels.\n",
      " |      * offset\n",
      " |          Minimal distance between 2 contigous annotation features on the same level\n",
      " |      * filter_pos\n",
      " |          Filter-out annotation features on the positive strand [ DEFAULT: False ]\n",
      " |      * filter_neg\n",
      " |          Filter-out annotation features on the negative strand [ DEFAULT: False ]\n",
      " |      * filter_unstrand\n",
      " |          Filter-out annotation features with no strand specified [ DEFAULT: True ]\n",
      " |  \n",
      " |  __repr__(self)\n",
      " |      Return repr(self).\n",
      " |  \n",
      " |  __str__(self)\n",
      " |      readable description of the object\n",
      " |  \n",
      " |  ----------------------------------------------------------------------\n",
      " |  Data descriptors defined here:\n",
      " |  \n",
      " |  __dict__\n",
      " |      dictionary for instance variables (if defined)\n",
      " |  \n",
      " |  __weakref__\n",
      " |      list of weak references to the object (if defined)\n",
      " |  \n",
      " |  max_level\n",
      " |      Return the minimal level index\n",
      " |  \n",
      " |  min_level\n",
      " |      Return the minimal level index\n",
      " |  \n",
      " |  n_level\n",
      " |      Return the total number of levels index\n",
      "\n"
     ]
    }
   ],
   "source": [
    "help(Level)"
   ]
  },
  {
   "cell_type": "markdown",
   "metadata": {
    "hidden": true
   },
   "source": [
    "**Test instanciation**"
   ]
  },
  {
   "cell_type": "code",
   "execution_count": 11,
   "metadata": {
    "ExecuteTime": {
     "end_time": "2017-02-07T17:13:09.178047",
     "start_time": "2017-02-07T17:13:09.173076"
    },
    "collapsed": false,
    "hidden": true,
    "run_control": {
     "frozen": false,
     "read_only": false
    },
    "scrolled": true
   },
   "outputs": [
    {
     "data": {
      "text/html": [
       "<p>Level instance<br>&emsp;count&emsp;Counter()<br>&emsp;enhanced_feature&emsp;<class 'Level.enhanced_feature'><br>&emsp;filter_neg&emsp;False<br>&emsp;filter_pos&emsp;False<br>&emsp;filter_unstrand&emsp;True<br>&emsp;level_dict&emsp;{}<br>&emsp;max_depth&emsp;3<br>&emsp;neg_arrowstyle&emsp;<|-,head_width=1,head_length=2<br>&emsp;offset&emsp;10<br>&emsp;pos_arrowstyle&emsp;-|>,head_width=1,head_length=2<br>&emsp;unstrand_arrowstyle&emsp;-<br></p>"
      ],
      "text/plain": [
       "<IPython.core.display.HTML object>"
      ]
     },
     "metadata": {},
     "output_type": "display_data"
    }
   ],
   "source": [
    "l = Level (max_depth=3, offset=10, filter_pos=False, filter_neg=False, filter_unstrand=True)\n",
    "print(l)"
   ]
  },
  {
   "cell_type": "markdown",
   "metadata": {
    "hidden": true
   },
   "source": [
    "**Test object calling with various values of features**\n",
    "\n",
    "All should be valid except 4 and 10 "
   ]
  },
  {
   "cell_type": "code",
   "execution_count": 12,
   "metadata": {
    "ExecuteTime": {
     "end_time": "2017-02-07T17:13:12.059310",
     "start_time": "2017-02-07T17:13:12.038573"
    },
    "collapsed": false,
    "hidden": true,
    "run_control": {
     "frozen": false,
     "read_only": false
    }
   },
   "outputs": [
    {
     "data": {
      "text/html": [
       "<p>enhanced_feature(ID='1', start=10, end=20, arrowstyle='-|>,head_width=1,head_length=2', level=1)</p>"
      ],
      "text/plain": [
       "<IPython.core.display.HTML object>"
      ]
     },
     "metadata": {},
     "output_type": "display_data"
    },
    {
     "data": {
      "text/html": [
       "<p>enhanced_feature(ID='2', start=12, end=22, arrowstyle='-|>,head_width=1,head_length=2', level=2)</p>"
      ],
      "text/plain": [
       "<IPython.core.display.HTML object>"
      ]
     },
     "metadata": {},
     "output_type": "display_data"
    },
    {
     "data": {
      "text/html": [
       "<p>enhanced_feature(ID='3', start=14, end=24, arrowstyle='-|>,head_width=1,head_length=2', level=3)</p>"
      ],
      "text/plain": [
       "<IPython.core.display.HTML object>"
      ]
     },
     "metadata": {},
     "output_type": "display_data"
    },
    {
     "data": {
      "text/html": [
       "<p>None</p>"
      ],
      "text/plain": [
       "<IPython.core.display.HTML object>"
      ]
     },
     "metadata": {},
     "output_type": "display_data"
    },
    {
     "data": {
      "text/html": [
       "<p>enhanced_feature(ID='5', start=14, end=24, arrowstyle='<|-,head_width=1,head_length=2', level=-1)</p>"
      ],
      "text/plain": [
       "<IPython.core.display.HTML object>"
      ]
     },
     "metadata": {},
     "output_type": "display_data"
    },
    {
     "data": {
      "text/html": [
       "<p>enhanced_feature(ID='6', start=27, end=43, arrowstyle='<|-,head_width=1,head_length=2', level=-2)</p>"
      ],
      "text/plain": [
       "<IPython.core.display.HTML object>"
      ]
     },
     "metadata": {},
     "output_type": "display_data"
    },
    {
     "data": {
      "text/html": [
       "<p>enhanced_feature(ID='7', start=27, end=48, arrowstyle='<|-,head_width=1,head_length=2', level=-3)</p>"
      ],
      "text/plain": [
       "<IPython.core.display.HTML object>"
      ]
     },
     "metadata": {},
     "output_type": "display_data"
    },
    {
     "data": {
      "text/html": [
       "<p>enhanced_feature(ID='8', start=54, end=76, arrowstyle='<|-,head_width=1,head_length=2', level=-1)</p>"
      ],
      "text/plain": [
       "<IPython.core.display.HTML object>"
      ]
     },
     "metadata": {},
     "output_type": "display_data"
    },
    {
     "data": {
      "text/html": [
       "<p>enhanced_feature(ID='9', start=54, end=76, arrowstyle='-|>,head_width=1,head_length=2', level=1)</p>"
      ],
      "text/plain": [
       "<IPython.core.display.HTML object>"
      ]
     },
     "metadata": {},
     "output_type": "display_data"
    },
    {
     "data": {
      "text/html": [
       "<p>None</p>"
      ],
      "text/plain": [
       "<IPython.core.display.HTML object>"
      ]
     },
     "metadata": {},
     "output_type": "display_data"
    }
   ],
   "source": [
    "print(l(ID=\"1\", start=10, end=20, strand=\"+\"))\n",
    "print(l(ID=\"2\", start=12, end=22, strand=\"+\"))\n",
    "print(l(ID=\"3\", start=14, end=24, strand=\"+\"))\n",
    "print(l(ID=\"4\", start=23, end=26, strand=\"+\"))\n",
    "print(l(ID=\"5\", start=14, end=24, strand=\"-\"))\n",
    "print(l(ID=\"6\", start=27, end=43, strand=\"-\"))\n",
    "print(l(ID=\"7\", start=27, end=48, strand=\"-\"))\n",
    "print(l(ID=\"8\", start=54, end=76, strand=\"-\"))\n",
    "print(l(ID=\"9\", start=54, end=76, strand=\"+\"))\n",
    "print(l(ID=\"10\", start=54, end=76, strand=\".\"))"
   ]
  },
  {
   "cell_type": "markdown",
   "metadata": {
    "hidden": true
   },
   "source": [
    "Visualize changes in object self variable after calling"
   ]
  },
  {
   "cell_type": "code",
   "execution_count": 13,
   "metadata": {
    "ExecuteTime": {
     "end_time": "2017-02-07T17:13:14.537498",
     "start_time": "2017-02-07T17:13:14.533724"
    },
    "collapsed": false,
    "hidden": true,
    "run_control": {
     "frozen": false,
     "read_only": false
    }
   },
   "outputs": [
    {
     "data": {
      "text/html": [
       "<p>Level instance<br>&emsp;count&emsp;Counter({'all_features': 10, 'positive_features': 5, 'negative_features': 4})<br>&emsp;enhanced_feature&emsp;<class 'Level.enhanced_feature'><br>&emsp;filter_neg&emsp;False<br>&emsp;filter_pos&emsp;False<br>&emsp;filter_unstrand&emsp;True<br>&emsp;level_dict&emsp;{1: 76, 2: 22, 3: 24, -1: 76, -3: 48, -2: 43}<br>&emsp;max_depth&emsp;3<br>&emsp;neg_arrowstyle&emsp;<|-,head_width=1,head_length=2<br>&emsp;offset&emsp;10<br>&emsp;pos_arrowstyle&emsp;-|>,head_width=1,head_length=2<br>&emsp;unstrand_arrowstyle&emsp;-<br></p>"
      ],
      "text/plain": [
       "<IPython.core.display.HTML object>"
      ]
     },
     "metadata": {},
     "output_type": "display_data"
    }
   ],
   "source": [
    "print(l)"
   ]
  },
  {
   "cell_type": "markdown",
   "metadata": {
    "hidden": true
   },
   "source": [
    "**Alternative instanciation**\n",
    "\n",
    "All should be valid except 3,5,6,7 and 8 "
   ]
  },
  {
   "cell_type": "code",
   "execution_count": 17,
   "metadata": {
    "ExecuteTime": {
     "end_time": "2017-02-07T17:14:49.990322",
     "start_time": "2017-02-07T17:14:49.965185"
    },
    "collapsed": false,
    "hidden": true,
    "run_control": {
     "frozen": false,
     "read_only": false
    }
   },
   "outputs": [
    {
     "data": {
      "text/html": [
       "<p>enhanced_feature(ID='1', start=10, end=20, arrowstyle='-|>,head_width=1,head_length=2', level=1)</p>"
      ],
      "text/plain": [
       "<IPython.core.display.HTML object>"
      ]
     },
     "metadata": {},
     "output_type": "display_data"
    },
    {
     "data": {
      "text/html": [
       "<p>enhanced_feature(ID='2', start=12, end=22, arrowstyle='-|>,head_width=1,head_length=2', level=2)</p>"
      ],
      "text/plain": [
       "<IPython.core.display.HTML object>"
      ]
     },
     "metadata": {},
     "output_type": "display_data"
    },
    {
     "data": {
      "text/html": [
       "<p>None</p>"
      ],
      "text/plain": [
       "<IPython.core.display.HTML object>"
      ]
     },
     "metadata": {},
     "output_type": "display_data"
    },
    {
     "data": {
      "text/html": [
       "<p>enhanced_feature(ID='4', start=23, end=26, arrowstyle='-|>,head_width=1,head_length=2', level=1)</p>"
      ],
      "text/plain": [
       "<IPython.core.display.HTML object>"
      ]
     },
     "metadata": {},
     "output_type": "display_data"
    },
    {
     "data": {
      "text/html": [
       "<p>None</p>"
      ],
      "text/plain": [
       "<IPython.core.display.HTML object>"
      ]
     },
     "metadata": {},
     "output_type": "display_data"
    },
    {
     "data": {
      "text/html": [
       "<p>None</p>"
      ],
      "text/plain": [
       "<IPython.core.display.HTML object>"
      ]
     },
     "metadata": {},
     "output_type": "display_data"
    },
    {
     "data": {
      "text/html": [
       "<p>None</p>"
      ],
      "text/plain": [
       "<IPython.core.display.HTML object>"
      ]
     },
     "metadata": {},
     "output_type": "display_data"
    },
    {
     "data": {
      "text/html": [
       "<p>None</p>"
      ],
      "text/plain": [
       "<IPython.core.display.HTML object>"
      ]
     },
     "metadata": {},
     "output_type": "display_data"
    },
    {
     "data": {
      "text/html": [
       "<p>enhanced_feature(ID='9', start=54, end=76, arrowstyle='-', level=0)</p>"
      ],
      "text/plain": [
       "<IPython.core.display.HTML object>"
      ]
     },
     "metadata": {},
     "output_type": "display_data"
    },
    {
     "data": {
      "text/html": [
       "<p>enhanced_feature(ID='10', start=54, end=76, arrowstyle='-', level=0)</p>"
      ],
      "text/plain": [
       "<IPython.core.display.HTML object>"
      ]
     },
     "metadata": {},
     "output_type": "display_data"
    }
   ],
   "source": [
    "l = Level (max_depth=2, offset=2, filter_pos=False, filter_neg=True, filter_unstrand=False)\n",
    "\n",
    "print(l(ID=\"1\", start=10, end=20, strand=\"+\"))\n",
    "print(l(ID=\"2\", start=12, end=22, strand=\"+\"))\n",
    "print(l(ID=\"3\", start=14, end=24, strand=\"+\"))\n",
    "print(l(ID=\"4\", start=23, end=26, strand=\"+\"))\n",
    "print(l(ID=\"5\", start=14, end=24, strand=\"-\"))\n",
    "print(l(ID=\"6\", start=27, end=43, strand=\"-\"))\n",
    "print(l(ID=\"7\", start=27, end=48, strand=\"-\"))\n",
    "print(l(ID=\"8\", start=54, end=76, strand=\"-\"))\n",
    "print(l(ID=\"9\", start=54, end=76, strand=\".\"))\n",
    "print(l(ID=\"10\", start=54, end=76, strand=\".\"))"
   ]
  },
  {
   "cell_type": "markdown",
   "metadata": {
    "hidden": true
   },
   "source": [
    "**Try the object properties**"
   ]
  },
  {
   "cell_type": "code",
   "execution_count": 18,
   "metadata": {
    "ExecuteTime": {
     "end_time": "2017-02-07T17:17:00.522901",
     "start_time": "2017-02-07T17:17:00.519760"
    },
    "collapsed": false,
    "hidden": true,
    "run_control": {
     "frozen": false,
     "read_only": false
    }
   },
   "outputs": [
    {
     "data": {
      "text/plain": [
       "2"
      ]
     },
     "execution_count": 18,
     "metadata": {},
     "output_type": "execute_result"
    }
   ],
   "source": [
    "l.max_level"
   ]
  },
  {
   "cell_type": "code",
   "execution_count": 19,
   "metadata": {
    "ExecuteTime": {
     "end_time": "2017-02-07T17:17:01.199107",
     "start_time": "2017-02-07T17:17:01.195574"
    },
    "collapsed": false,
    "hidden": true,
    "run_control": {
     "frozen": false,
     "read_only": false
    }
   },
   "outputs": [
    {
     "data": {
      "text/plain": [
       "0"
      ]
     },
     "execution_count": 19,
     "metadata": {},
     "output_type": "execute_result"
    }
   ],
   "source": [
    "l.min_level"
   ]
  },
  {
   "cell_type": "code",
   "execution_count": 20,
   "metadata": {
    "ExecuteTime": {
     "end_time": "2017-02-07T17:17:01.814411",
     "start_time": "2017-02-07T17:17:01.810829"
    },
    "collapsed": false,
    "hidden": true,
    "run_control": {
     "frozen": false,
     "read_only": false
    }
   },
   "outputs": [
    {
     "data": {
      "text/plain": [
       "3"
      ]
     },
     "execution_count": 20,
     "metadata": {},
     "output_type": "execute_result"
    }
   ],
   "source": [
    "l.n_level"
   ]
  },
  {
   "cell_type": "markdown",
   "metadata": {},
   "source": [
    "# Annotation"
   ]
  },
  {
   "cell_type": "code",
   "execution_count": 3,
   "metadata": {
    "ExecuteTime": {
     "end_time": "2017-03-28T12:07:40.806013",
     "start_time": "2017-03-28T12:07:40.801010"
    },
    "collapsed": false,
    "run_control": {
     "frozen": false,
     "read_only": false
    },
    "scrolled": true
   },
   "outputs": [
    {
     "name": "stdout",
     "output_type": "stream",
     "text": [
      "Help on class Annotation in module Annotation:\n",
      "\n",
      "class Annotation(builtins.object)\n",
      " |  Parse data from a file containing genomic annotation in GFF3, GTF or BED format.\n",
      " |  Can return the list of annotations for a given interval\n",
      " |  \n",
      " |  Methods defined here:\n",
      " |  \n",
      " |  __init__(self, fp, name=None, verbose=False, ref_list=[])\n",
      " |       * fp\n",
      " |          An URL to a standard genomic file containing features annotations among the following format:\n",
      " |            gff3: http://www.ensembl.org/info/website/upload/gff3.html\n",
      " |            gtf:  http://www.ensembl.org/info/website/upload/gff.html\n",
      " |            bed:  http://www.ensembl.org/info/website/upload/bed.html\n",
      " |          Valid URL schemes include http, ftp, s3, and file.\n",
      " |          The file can eventually be compressed in ‘gzip’, ‘bz2’, ‘zip’ or ‘xz’\n",
      " |      *  name\n",
      " |          Name of the data file that will be used as track name for plotting. If not given, will be deduced from fp\n",
      " |          file name  [ DEFAULT: None ]\n",
      " |      * verbose\n",
      " |          If True, will print more information during initialisation and calls of all the object methods\n",
      " |          [ DEFAULT: False ]\n",
      " |      * ref_list\n",
      " |          list of reference sequence id to select from the data file[ DEFAULT: [] ]\n",
      " |  \n",
      " |  __repr__(self)\n",
      " |      Return repr(self).\n",
      " |  \n",
      " |  __str__(self)\n",
      " |      readable description of the object\n",
      " |  \n",
      " |  interval_features(self, refid, start, end, feature_type=None)\n",
      " |      Parse the annotation file for the given refid and interval and return a dataframe containing all the features\n",
      " |      found for each original line. Features are identified by their ID field for gff3 files, by the entire\n",
      " |      attribute field for the bed files and by the first element in the attribute field for the gtf files\n",
      " |      * refid\n",
      " |          ID of the reference sequence to fetch\n",
      " |      * start\n",
      " |          Start of the window to display.\n",
      " |      * end\n",
      " |          End of the window to display.\n",
      " |      * feature_types\n",
      " |          Name of a valid feature type ( \"exon\"|\"transcript\"|\"gene\"|\"CDS\"...) or list of names of feature type for\n",
      " |          which a row will be returned. The option is not available for bed files. If not given, all features type\n",
      " |          found in the interval will be returned [ DEFAULT: None ]\n",
      " |  \n",
      " |  ----------------------------------------------------------------------\n",
      " |  Data descriptors defined here:\n",
      " |  \n",
      " |  __dict__\n",
      " |      dictionary for instance variables (if defined)\n",
      " |  \n",
      " |  __weakref__\n",
      " |      list of weak references to the object (if defined)\n",
      " |  \n",
      " |  feature_count\n",
      " |      Number of features collected\n",
      " |  \n",
      " |  refid_count\n",
      " |      Number of unique reference sequence ids found\n",
      " |  \n",
      " |  refid_count_uniq\n",
      " |      List of unique reference sequence ids with count of associated features\n",
      " |  \n",
      " |  refid_list\n",
      " |      List of unique reference sequence ids found\n",
      " |  \n",
      " |  type_count\n",
      " |      Number of unique feature type found\n",
      " |  \n",
      " |  type_count_uniq\n",
      " |      List of unique feature types with count of associated features\n",
      " |  \n",
      " |  type_list\n",
      " |      List of unique feature type found\n",
      "\n"
     ]
    }
   ],
   "source": [
    "help(Annotation)"
   ]
  },
  {
   "cell_type": "markdown",
   "metadata": {},
   "source": [
    "**Test instantiation**"
   ]
  },
  {
   "cell_type": "code",
   "execution_count": 3,
   "metadata": {
    "ExecuteTime": {
     "end_time": "2017-03-28T10:32:52.975518",
     "start_time": "2017-03-28T10:31:37.254913"
    },
    "collapsed": false,
    "run_control": {
     "frozen": false,
     "read_only": false
    },
    "scrolled": true
   },
   "outputs": [
    {
     "data": {
      "text/html": [
       "<p>Use BED parser to parse annotations in  FANTOM_5_all_lncRNA</p>"
      ],
      "text/plain": [
       "<IPython.core.display.HTML object>"
      ]
     },
     "metadata": {},
     "output_type": "display_data"
    },
    {
     "data": {
      "text/html": [
       "<p>Sort annotation features by coordinates</p>"
      ],
      "text/plain": [
       "<IPython.core.display.HTML object>"
      ]
     },
     "metadata": {},
     "output_type": "display_data"
    },
    {
     "data": {
      "text/html": [
       "<p>Annotation features count:172328</p>"
      ],
      "text/plain": [
       "<IPython.core.display.HTML object>"
      ]
     },
     "metadata": {},
     "output_type": "display_data"
    },
    {
     "data": {
      "text/html": [
       "<p>refid count:23</p>"
      ],
      "text/plain": [
       "<IPython.core.display.HTML object>"
      ]
     },
     "metadata": {},
     "output_type": "display_data"
    },
    {
     "data": {
      "text/html": [
       "<p>Feature type count:1</p>"
      ],
      "text/plain": [
       "<IPython.core.display.HTML object>"
      ]
     },
     "metadata": {},
     "output_type": "display_data"
    },
    {
     "data": {
      "text/html": [
       "<p>Annotation instance<br>&emsp;ext&emsp;bed<br>&emsp;fp&emsp;../dl_test_data/FANTOM_5_all_lncRNA.bed.gz<br>&emsp;name&emsp;FANTOM_5_all_lncRNA<br>&emsp;verbose&emsp;True<br></p>"
      ],
      "text/plain": [
       "<IPython.core.display.HTML object>"
      ]
     },
     "metadata": {},
     "output_type": "display_data"
    },
    {
     "data": {
      "text/html": [
       "<p>Use GTF parser to parse annotations in FANTOM_5_all_lncRNA</p>"
      ],
      "text/plain": [
       "<IPython.core.display.HTML object>"
      ]
     },
     "metadata": {},
     "output_type": "display_data"
    },
    {
     "data": {
      "text/html": [
       "<p>Sort annotation features by coordinates</p>"
      ],
      "text/plain": [
       "<IPython.core.display.HTML object>"
      ]
     },
     "metadata": {},
     "output_type": "display_data"
    },
    {
     "data": {
      "text/html": [
       "<p>Annotation features count:629137</p>"
      ],
      "text/plain": [
       "<IPython.core.display.HTML object>"
      ]
     },
     "metadata": {},
     "output_type": "display_data"
    },
    {
     "data": {
      "text/html": [
       "<p>refid count:23</p>"
      ],
      "text/plain": [
       "<IPython.core.display.HTML object>"
      ]
     },
     "metadata": {},
     "output_type": "display_data"
    },
    {
     "data": {
      "text/html": [
       "<p>Feature type count:3</p>"
      ],
      "text/plain": [
       "<IPython.core.display.HTML object>"
      ]
     },
     "metadata": {},
     "output_type": "display_data"
    },
    {
     "data": {
      "text/html": [
       "<p>Annotation instance<br>&emsp;ext&emsp;gtf<br>&emsp;fp&emsp;../dl_test_data/FANTOM_5_all_lncRNA.gtf.gz<br>&emsp;name&emsp;FANTOM_5_all_lncRNA<br>&emsp;verbose&emsp;True<br></p>"
      ],
      "text/plain": [
       "<IPython.core.display.HTML object>"
      ]
     },
     "metadata": {},
     "output_type": "display_data"
    },
    {
     "data": {
      "text/html": [
       "<p>Use GFF3 parser to parse annotations in  gencode_v25_lncRNA</p>"
      ],
      "text/plain": [
       "<IPython.core.display.HTML object>"
      ]
     },
     "metadata": {},
     "output_type": "display_data"
    },
    {
     "data": {
      "text/html": [
       "<p>Sort annotation features by coordinates</p>"
      ],
      "text/plain": [
       "<IPython.core.display.HTML object>"
      ]
     },
     "metadata": {},
     "output_type": "display_data"
    },
    {
     "data": {
      "text/html": [
       "<p>Annotation features count:123589</p>"
      ],
      "text/plain": [
       "<IPython.core.display.HTML object>"
      ]
     },
     "metadata": {},
     "output_type": "display_data"
    },
    {
     "data": {
      "text/html": [
       "<p>refid count:23</p>"
      ],
      "text/plain": [
       "<IPython.core.display.HTML object>"
      ]
     },
     "metadata": {},
     "output_type": "display_data"
    },
    {
     "data": {
      "text/html": [
       "<p>Feature type count:3</p>"
      ],
      "text/plain": [
       "<IPython.core.display.HTML object>"
      ]
     },
     "metadata": {},
     "output_type": "display_data"
    },
    {
     "data": {
      "text/html": [
       "<p>Annotation instance<br>&emsp;ext&emsp;gff3<br>&emsp;fp&emsp;../dl_test_data/gencode_v25_lncRNA.gff3.gz<br>&emsp;name&emsp;gencode_v25_lncRNA<br>&emsp;verbose&emsp;True<br></p>"
      ],
      "text/plain": [
       "<IPython.core.display.HTML object>"
      ]
     },
     "metadata": {},
     "output_type": "display_data"
    },
    {
     "data": {
      "text/html": [
       "<p>Use GFF3 parser to parse annotations in  gencode_v25_primary</p>"
      ],
      "text/plain": [
       "<IPython.core.display.HTML object>"
      ]
     },
     "metadata": {},
     "output_type": "display_data"
    },
    {
     "data": {
      "text/html": [
       "<p>Sort annotation features by coordinates</p>"
      ],
      "text/plain": [
       "<IPython.core.display.HTML object>"
      ]
     },
     "metadata": {},
     "output_type": "display_data"
    },
    {
     "data": {
      "text/html": [
       "<p>Annotation features count:2521027</p>"
      ],
      "text/plain": [
       "<IPython.core.display.HTML object>"
      ]
     },
     "metadata": {},
     "output_type": "display_data"
    },
    {
     "data": {
      "text/html": [
       "<p>refid count:24</p>"
      ],
      "text/plain": [
       "<IPython.core.display.HTML object>"
      ]
     },
     "metadata": {},
     "output_type": "display_data"
    },
    {
     "data": {
      "text/html": [
       "<p>Feature type count:9</p>"
      ],
      "text/plain": [
       "<IPython.core.display.HTML object>"
      ]
     },
     "metadata": {},
     "output_type": "display_data"
    },
    {
     "data": {
      "text/html": [
       "<p>Annotation instance<br>&emsp;ext&emsp;gff3<br>&emsp;fp&emsp;../dl_test_data/gencode_v25_primary.gff3.gz<br>&emsp;name&emsp;gencode_v25_primary<br>&emsp;verbose&emsp;True<br></p>"
      ],
      "text/plain": [
       "<IPython.core.display.HTML object>"
      ]
     },
     "metadata": {},
     "output_type": "display_data"
    },
    {
     "data": {
      "text/html": [
       "<p>Use GTF parser to parse annotations in gencode_v25_primary</p>"
      ],
      "text/plain": [
       "<IPython.core.display.HTML object>"
      ]
     },
     "metadata": {},
     "output_type": "display_data"
    },
    {
     "data": {
      "text/html": [
       "<p>Sort annotation features by coordinates</p>"
      ],
      "text/plain": [
       "<IPython.core.display.HTML object>"
      ]
     },
     "metadata": {},
     "output_type": "display_data"
    },
    {
     "data": {
      "text/html": [
       "<p>Annotation features count:2523557</p>"
      ],
      "text/plain": [
       "<IPython.core.display.HTML object>"
      ]
     },
     "metadata": {},
     "output_type": "display_data"
    },
    {
     "data": {
      "text/html": [
       "<p>refid count:24</p>"
      ],
      "text/plain": [
       "<IPython.core.display.HTML object>"
      ]
     },
     "metadata": {},
     "output_type": "display_data"
    },
    {
     "data": {
      "text/html": [
       "<p>Feature type count:8</p>"
      ],
      "text/plain": [
       "<IPython.core.display.HTML object>"
      ]
     },
     "metadata": {},
     "output_type": "display_data"
    },
    {
     "data": {
      "text/html": [
       "<p>Annotation instance<br>&emsp;ext&emsp;gtf<br>&emsp;fp&emsp;../dl_test_data/gencode_v25_primary.gtf.gz<br>&emsp;name&emsp;gencode_v25_primary<br>&emsp;verbose&emsp;True<br></p>"
      ],
      "text/plain": [
       "<IPython.core.display.HTML object>"
      ]
     },
     "metadata": {},
     "output_type": "display_data"
    }
   ],
   "source": [
    "file_list = [\n",
    "    \"../dl_test_data/FANTOM_5_all_lncRNA.bed.gz\",\n",
    "    \"../dl_test_data/FANTOM_5_all_lncRNA.gtf.gz\",\n",
    "    \"../dl_test_data/gencode_v25_lncRNA.gff3.gz\",\n",
    "    \"../dl_test_data/gencode_v25_primary.gff3.gz\",\n",
    "    \"../dl_test_data/gencode_v25_primary.gtf.gz\" ]\n",
    "\n",
    "ref_list = [\"chr1\", \"chr2\", \"chr3\", \"chr4\", \"chr5\", \"chr6\", \"chr7\", \"chr8\", \"chr9\", \"chr10\", \"chr11\", \"chr12\", \"chr13\", \"chr14\", \"chr15\", \"chr16\", \"chr17\", \"chr18\", \"chr19\", \"chr20\", \"chr21\", \"chrX\", \"chrY\", \"chrM\"]\n",
    "\n",
    "for fp in file_list:\n",
    "    a = Annotation (fp, verbose=True, ref_list=ref_list)\n",
    "    print (a)"
   ]
  },
  {
   "cell_type": "markdown",
   "metadata": {},
   "source": [
    "**Test property methods**"
   ]
  },
  {
   "cell_type": "code",
   "execution_count": 4,
   "metadata": {
    "ExecuteTime": {
     "end_time": "2017-03-28T10:32:56.056496",
     "start_time": "2017-03-28T10:32:52.976897"
    },
    "collapsed": false,
    "run_control": {
     "frozen": false,
     "read_only": false
    },
    "scrolled": true
   },
   "outputs": [
    {
     "data": {
      "text/html": [
       "<p>feature count: 29651</p>"
      ],
      "text/plain": [
       "<IPython.core.display.HTML object>"
      ]
     },
     "metadata": {},
     "output_type": "display_data"
    },
    {
     "data": {
      "text/html": [
       "<p>refid count: 3</p>"
      ],
      "text/plain": [
       "<IPython.core.display.HTML object>"
      ]
     },
     "metadata": {},
     "output_type": "display_data"
    },
    {
     "data": {
      "text/html": [
       "<p>type count: 3</p>"
      ],
      "text/plain": [
       "<IPython.core.display.HTML object>"
      ]
     },
     "metadata": {},
     "output_type": "display_data"
    },
    {
     "data": {
      "text/plain": [
       "['chr21', 'chrX', 'chrY']"
      ]
     },
     "metadata": {},
     "output_type": "display_data"
    },
    {
     "data": {
      "text/plain": [
       "['exon', 'gene', 'transcript']"
      ]
     },
     "metadata": {},
     "output_type": "display_data"
    },
    {
     "data": {
      "text/html": [
       "<div>\n",
       "<table border=\"1\" class=\"dataframe\">\n",
       "  <thead>\n",
       "    <tr style=\"text-align: right;\">\n",
       "      <th></th>\n",
       "      <th>count</th>\n",
       "    </tr>\n",
       "    <tr>\n",
       "      <th>refid</th>\n",
       "      <th></th>\n",
       "    </tr>\n",
       "  </thead>\n",
       "  <tbody>\n",
       "    <tr>\n",
       "      <th>chrX</th>\n",
       "      <td>18119</td>\n",
       "    </tr>\n",
       "    <tr>\n",
       "      <th>chr21</th>\n",
       "      <td>10177</td>\n",
       "    </tr>\n",
       "    <tr>\n",
       "      <th>chrY</th>\n",
       "      <td>1355</td>\n",
       "    </tr>\n",
       "  </tbody>\n",
       "</table>\n",
       "</div>"
      ],
      "text/plain": [
       "       count\n",
       "refid       \n",
       "chrX   18119\n",
       "chr21  10177\n",
       "chrY    1355"
      ]
     },
     "metadata": {},
     "output_type": "display_data"
    },
    {
     "data": {
      "text/html": [
       "<div>\n",
       "<table border=\"1\" class=\"dataframe\">\n",
       "  <thead>\n",
       "    <tr style=\"text-align: right;\">\n",
       "      <th></th>\n",
       "      <th>count</th>\n",
       "    </tr>\n",
       "    <tr>\n",
       "      <th>type</th>\n",
       "      <th></th>\n",
       "    </tr>\n",
       "  </thead>\n",
       "  <tbody>\n",
       "    <tr>\n",
       "      <th>exon</th>\n",
       "      <td>18542</td>\n",
       "    </tr>\n",
       "    <tr>\n",
       "      <th>transcript</th>\n",
       "      <td>8084</td>\n",
       "    </tr>\n",
       "    <tr>\n",
       "      <th>gene</th>\n",
       "      <td>3025</td>\n",
       "    </tr>\n",
       "  </tbody>\n",
       "</table>\n",
       "</div>"
      ],
      "text/plain": [
       "            count\n",
       "type             \n",
       "exon        18542\n",
       "transcript   8084\n",
       "gene         3025"
      ]
     },
     "metadata": {},
     "output_type": "display_data"
    }
   ],
   "source": [
    "a = Annotation (\"../dl_test_data/FANTOM_5_all_lncRNA.gtf.gz\", ref_list = [\"chr21\", \"chrX\", \"chrY\", \"chrM\"])\n",
    "\n",
    "print (\"feature count:\", a.feature_count)\n",
    "print (\"refid count:\", a.refid_count)\n",
    "print (\"type count:\", a.type_count)\n",
    "\n",
    "display(a.refid_list)\n",
    "display(a.type_list)\n",
    "display(a.refid_count_uniq.head())\n",
    "display(a.type_count_uniq.head())"
   ]
  },
  {
   "cell_type": "code",
   "execution_count": 5,
   "metadata": {
    "ExecuteTime": {
     "end_time": "2017-03-28T10:33:13.548917",
     "start_time": "2017-03-28T10:32:56.058192"
    },
    "collapsed": false,
    "run_control": {
     "frozen": false,
     "read_only": false
    },
    "scrolled": false
   },
   "outputs": [
    {
     "data": {
      "text/html": [
       "<p>feature count: 118607</p>"
      ],
      "text/plain": [
       "<IPython.core.display.HTML object>"
      ]
     },
     "metadata": {},
     "output_type": "display_data"
    },
    {
     "data": {
      "text/html": [
       "<p>refid count: 4</p>"
      ],
      "text/plain": [
       "<IPython.core.display.HTML object>"
      ]
     },
     "metadata": {},
     "output_type": "display_data"
    },
    {
     "data": {
      "text/html": [
       "<p>type count: 8</p>"
      ],
      "text/plain": [
       "<IPython.core.display.HTML object>"
      ]
     },
     "metadata": {},
     "output_type": "display_data"
    },
    {
     "data": {
      "text/plain": [
       "['chr21', 'chrM', 'chrX', 'chrY']"
      ]
     },
     "metadata": {},
     "output_type": "display_data"
    },
    {
     "data": {
      "text/plain": [
       "['exon',\n",
       " 'CDS',\n",
       " 'gene',\n",
       " 'transcript',\n",
       " 'stop_codon',\n",
       " 'three_prime_UTR',\n",
       " 'five_prime_UTR',\n",
       " 'start_codon']"
      ]
     },
     "metadata": {},
     "output_type": "display_data"
    },
    {
     "data": {
      "text/html": [
       "<div>\n",
       "<table border=\"1\" class=\"dataframe\">\n",
       "  <thead>\n",
       "    <tr style=\"text-align: right;\">\n",
       "      <th></th>\n",
       "      <th>count</th>\n",
       "    </tr>\n",
       "    <tr>\n",
       "      <th>refid</th>\n",
       "      <th></th>\n",
       "    </tr>\n",
       "  </thead>\n",
       "  <tbody>\n",
       "    <tr>\n",
       "      <th>chrX</th>\n",
       "      <td>80432</td>\n",
       "    </tr>\n",
       "    <tr>\n",
       "      <th>chr21</th>\n",
       "      <td>28902</td>\n",
       "    </tr>\n",
       "    <tr>\n",
       "      <th>chrY</th>\n",
       "      <td>9135</td>\n",
       "    </tr>\n",
       "    <tr>\n",
       "      <th>chrM</th>\n",
       "      <td>138</td>\n",
       "    </tr>\n",
       "  </tbody>\n",
       "</table>\n",
       "</div>"
      ],
      "text/plain": [
       "       count\n",
       "refid       \n",
       "chrX   80432\n",
       "chr21  28902\n",
       "chrY    9135\n",
       "chrM     138"
      ]
     },
     "metadata": {},
     "output_type": "display_data"
    },
    {
     "data": {
      "text/html": [
       "<div>\n",
       "<table border=\"1\" class=\"dataframe\">\n",
       "  <thead>\n",
       "    <tr style=\"text-align: right;\">\n",
       "      <th></th>\n",
       "      <th>count</th>\n",
       "    </tr>\n",
       "    <tr>\n",
       "      <th>type</th>\n",
       "      <th></th>\n",
       "    </tr>\n",
       "  </thead>\n",
       "  <tbody>\n",
       "    <tr>\n",
       "      <th>exon</th>\n",
       "      <td>53953</td>\n",
       "    </tr>\n",
       "    <tr>\n",
       "      <th>CDS</th>\n",
       "      <td>32193</td>\n",
       "    </tr>\n",
       "    <tr>\n",
       "      <th>transcript</th>\n",
       "      <td>9385</td>\n",
       "    </tr>\n",
       "    <tr>\n",
       "      <th>five_prime_UTR</th>\n",
       "      <td>6856</td>\n",
       "    </tr>\n",
       "    <tr>\n",
       "      <th>three_prime_UTR</th>\n",
       "      <td>5158</td>\n",
       "    </tr>\n",
       "  </tbody>\n",
       "</table>\n",
       "</div>"
      ],
      "text/plain": [
       "                 count\n",
       "type                  \n",
       "exon             53953\n",
       "CDS              32193\n",
       "transcript        9385\n",
       "five_prime_UTR    6856\n",
       "three_prime_UTR   5158"
      ]
     },
     "metadata": {},
     "output_type": "display_data"
    }
   ],
   "source": [
    "a = Annotation (\"../dl_test_data/gencode_v25_primary.gff3.gz\", ref_list = [\"chr21\", \"chrX\", \"chrY\", \"chrM\"])\n",
    "\n",
    "print (\"feature count:\", a.feature_count)\n",
    "print (\"refid count:\", a.refid_count)\n",
    "print (\"type count:\", a.type_count)\n",
    "\n",
    "display(a.refid_list)\n",
    "display(a.type_list)\n",
    "display(a.refid_count_uniq.head())\n",
    "display(a.type_count_uniq.head())"
   ]
  },
  {
   "cell_type": "markdown",
   "metadata": {},
   "source": [
    "**test the interval_features method**"
   ]
  },
  {
   "cell_type": "code",
   "execution_count": 6,
   "metadata": {
    "ExecuteTime": {
     "end_time": "2017-03-28T10:33:14.138512",
     "start_time": "2017-03-28T10:33:13.550657"
    },
    "collapsed": false,
    "run_control": {
     "frozen": false,
     "read_only": false
    }
   },
   "outputs": [
    {
     "data": {
      "text/html": [
       "<p>Use BED parser to parse annotations in  FANTOM_5_all_lncRNA</p>"
      ],
      "text/plain": [
       "<IPython.core.display.HTML object>"
      ]
     },
     "metadata": {},
     "output_type": "display_data"
    },
    {
     "data": {
      "text/html": [
       "<p>Sort annotation features by coordinates</p>"
      ],
      "text/plain": [
       "<IPython.core.display.HTML object>"
      ]
     },
     "metadata": {},
     "output_type": "display_data"
    },
    {
     "data": {
      "text/html": [
       "<p>Annotation features count:175031</p>"
      ],
      "text/plain": [
       "<IPython.core.display.HTML object>"
      ]
     },
     "metadata": {},
     "output_type": "display_data"
    },
    {
     "data": {
      "text/html": [
       "<p>refid count:24</p>"
      ],
      "text/plain": [
       "<IPython.core.display.HTML object>"
      ]
     },
     "metadata": {},
     "output_type": "display_data"
    },
    {
     "data": {
      "text/html": [
       "<p>Feature type count:1</p>"
      ],
      "text/plain": [
       "<IPython.core.display.HTML object>"
      ]
     },
     "metadata": {},
     "output_type": "display_data"
    }
   ],
   "source": [
    "a = Annotation (\"../dl_test_data/FANTOM_5_all_lncRNA.bed.gz\", verbose=True)"
   ]
  },
  {
   "cell_type": "code",
   "execution_count": 7,
   "metadata": {
    "ExecuteTime": {
     "end_time": "2017-03-28T10:33:14.173079",
     "start_time": "2017-03-28T10:33:14.139716"
    },
    "collapsed": false,
    "run_control": {
     "frozen": false,
     "read_only": false
    }
   },
   "outputs": [
    {
     "data": {
      "text/html": [
       "<div>\n",
       "<table border=\"1\" class=\"dataframe\">\n",
       "  <thead>\n",
       "    <tr style=\"text-align: right;\">\n",
       "      <th></th>\n",
       "      <th>refid</th>\n",
       "      <th>start</th>\n",
       "      <th>end</th>\n",
       "      <th>strand</th>\n",
       "      <th>ID</th>\n",
       "      <th>type</th>\n",
       "    </tr>\n",
       "  </thead>\n",
       "  <tbody>\n",
       "    <tr>\n",
       "      <th>0</th>\n",
       "      <td>chrX</td>\n",
       "      <td>70225</td>\n",
       "      <td>70724</td>\n",
       "      <td>+</td>\n",
       "      <td>CATG00000110193.1|HBMT00001528801.1</td>\n",
       "      <td>unknown</td>\n",
       "    </tr>\n",
       "    <tr>\n",
       "      <th>1</th>\n",
       "      <td>chrX</td>\n",
       "      <td>70225</td>\n",
       "      <td>71012</td>\n",
       "      <td>+</td>\n",
       "      <td>CATG00000110193.1|ENCT00000463832.1</td>\n",
       "      <td>unknown</td>\n",
       "    </tr>\n",
       "    <tr>\n",
       "      <th>2</th>\n",
       "      <td>chrX</td>\n",
       "      <td>70225</td>\n",
       "      <td>71610</td>\n",
       "      <td>+</td>\n",
       "      <td>CATG00000110193.1|ENCT00000463833.1</td>\n",
       "      <td>unknown</td>\n",
       "    </tr>\n",
       "    <tr>\n",
       "      <th>3</th>\n",
       "      <td>chrX</td>\n",
       "      <td>184125</td>\n",
       "      <td>192877</td>\n",
       "      <td>-</td>\n",
       "      <td>CATG00000112915.1|ENCT00000473979.1</td>\n",
       "      <td>unknown</td>\n",
       "    </tr>\n",
       "    <tr>\n",
       "      <th>4</th>\n",
       "      <td>chrX</td>\n",
       "      <td>192544</td>\n",
       "      <td>192877</td>\n",
       "      <td>-</td>\n",
       "      <td>CATG00000112915.1|FTMT29000000005.1</td>\n",
       "      <td>unknown</td>\n",
       "    </tr>\n",
       "  </tbody>\n",
       "</table>\n",
       "</div>"
      ],
      "text/plain": [
       "  refid   start     end strand                                   ID     type\n",
       "0  chrX   70225   70724      +  CATG00000110193.1|HBMT00001528801.1  unknown\n",
       "1  chrX   70225   71012      +  CATG00000110193.1|ENCT00000463832.1  unknown\n",
       "2  chrX   70225   71610      +  CATG00000110193.1|ENCT00000463833.1  unknown\n",
       "3  chrX  184125  192877      -  CATG00000112915.1|ENCT00000473979.1  unknown\n",
       "4  chrX  192544  192877      -  CATG00000112915.1|FTMT29000000005.1  unknown"
      ]
     },
     "execution_count": 7,
     "metadata": {},
     "output_type": "execute_result"
    }
   ],
   "source": [
    "a.interval_features(\"chrX\", start=70723, end=1456774, feature_type=None).head()"
   ]
  },
  {
   "cell_type": "code",
   "execution_count": 8,
   "metadata": {
    "ExecuteTime": {
     "end_time": "2017-03-28T10:33:14.188873",
     "start_time": "2017-03-28T10:33:14.174533"
    },
    "collapsed": false,
    "run_control": {
     "frozen": false,
     "read_only": false
    }
   },
   "outputs": [
    {
     "data": {
      "text/html": [
       "<p>Incompatible options. Bed files do not allow to identify feature_type</p>"
      ],
      "text/plain": [
       "<IPython.core.display.HTML object>"
      ]
     },
     "metadata": {},
     "output_type": "display_data"
    },
    {
     "data": {
      "text/html": [
       "<div>\n",
       "<table border=\"1\" class=\"dataframe\">\n",
       "  <thead>\n",
       "    <tr style=\"text-align: right;\">\n",
       "      <th></th>\n",
       "      <th>refid</th>\n",
       "      <th>start</th>\n",
       "      <th>end</th>\n",
       "      <th>strand</th>\n",
       "      <th>ID</th>\n",
       "      <th>type</th>\n",
       "    </tr>\n",
       "  </thead>\n",
       "  <tbody>\n",
       "  </tbody>\n",
       "</table>\n",
       "</div>"
      ],
      "text/plain": [
       "Empty DataFrame\n",
       "Columns: [refid, start, end, strand, ID, type]\n",
       "Index: []"
      ]
     },
     "execution_count": 8,
     "metadata": {},
     "output_type": "execute_result"
    }
   ],
   "source": [
    "a.interval_features(\"chrX\", start=71011, end=200000, feature_type=[\"exon\"]).head()"
   ]
  },
  {
   "cell_type": "code",
   "execution_count": 9,
   "metadata": {
    "ExecuteTime": {
     "end_time": "2017-03-28T10:33:18.487291",
     "start_time": "2017-03-28T10:33:14.190158"
    },
    "collapsed": false,
    "run_control": {
     "frozen": false,
     "read_only": false
    }
   },
   "outputs": [
    {
     "data": {
      "text/html": [
       "<p>Use GTF parser to parse annotations in FANTOM_5_all_lncRNA</p>"
      ],
      "text/plain": [
       "<IPython.core.display.HTML object>"
      ]
     },
     "metadata": {},
     "output_type": "display_data"
    },
    {
     "data": {
      "text/html": [
       "<p>Sort annotation features by coordinates</p>"
      ],
      "text/plain": [
       "<IPython.core.display.HTML object>"
      ]
     },
     "metadata": {},
     "output_type": "display_data"
    },
    {
     "data": {
      "text/html": [
       "<p>Annotation features count:639324</p>"
      ],
      "text/plain": [
       "<IPython.core.display.HTML object>"
      ]
     },
     "metadata": {},
     "output_type": "display_data"
    },
    {
     "data": {
      "text/html": [
       "<p>refid count:24</p>"
      ],
      "text/plain": [
       "<IPython.core.display.HTML object>"
      ]
     },
     "metadata": {},
     "output_type": "display_data"
    },
    {
     "data": {
      "text/html": [
       "<p>Feature type count:3</p>"
      ],
      "text/plain": [
       "<IPython.core.display.HTML object>"
      ]
     },
     "metadata": {},
     "output_type": "display_data"
    }
   ],
   "source": [
    "a = Annotation (\"../dl_test_data/FANTOM_5_all_lncRNA.gtf.gz\", verbose=True)"
   ]
  },
  {
   "cell_type": "code",
   "execution_count": 10,
   "metadata": {
    "ExecuteTime": {
     "end_time": "2017-03-28T10:33:18.546107",
     "start_time": "2017-03-28T10:33:18.488957"
    },
    "collapsed": false,
    "run_control": {
     "frozen": false,
     "read_only": false
    },
    "scrolled": true
   },
   "outputs": [
    {
     "data": {
      "text/html": [
       "<div>\n",
       "<table border=\"1\" class=\"dataframe\">\n",
       "  <thead>\n",
       "    <tr style=\"text-align: right;\">\n",
       "      <th></th>\n",
       "      <th>refid</th>\n",
       "      <th>start</th>\n",
       "      <th>end</th>\n",
       "      <th>strand</th>\n",
       "      <th>ID</th>\n",
       "      <th>type</th>\n",
       "    </tr>\n",
       "  </thead>\n",
       "  <tbody>\n",
       "    <tr>\n",
       "      <th>0</th>\n",
       "      <td>chrX</td>\n",
       "      <td>70226</td>\n",
       "      <td>71012</td>\n",
       "      <td>+</td>\n",
       "      <td>CATG00000110193.1</td>\n",
       "      <td>transcript</td>\n",
       "    </tr>\n",
       "    <tr>\n",
       "      <th>1</th>\n",
       "      <td>chrX</td>\n",
       "      <td>70226</td>\n",
       "      <td>71012</td>\n",
       "      <td>+</td>\n",
       "      <td>CATG00000110193.1</td>\n",
       "      <td>exon</td>\n",
       "    </tr>\n",
       "    <tr>\n",
       "      <th>2</th>\n",
       "      <td>chrX</td>\n",
       "      <td>70226</td>\n",
       "      <td>71610</td>\n",
       "      <td>+</td>\n",
       "      <td>CATG00000110193.1</td>\n",
       "      <td>transcript</td>\n",
       "    </tr>\n",
       "    <tr>\n",
       "      <th>3</th>\n",
       "      <td>chrX</td>\n",
       "      <td>70226</td>\n",
       "      <td>71610</td>\n",
       "      <td>+</td>\n",
       "      <td>CATG00000110193.1</td>\n",
       "      <td>exon</td>\n",
       "    </tr>\n",
       "    <tr>\n",
       "      <th>4</th>\n",
       "      <td>chrX</td>\n",
       "      <td>184126</td>\n",
       "      <td>184535</td>\n",
       "      <td>-</td>\n",
       "      <td>CATG00000112915.1</td>\n",
       "      <td>exon</td>\n",
       "    </tr>\n",
       "  </tbody>\n",
       "</table>\n",
       "</div>"
      ],
      "text/plain": [
       "  refid   start     end strand                 ID        type\n",
       "0  chrX   70226   71012      +  CATG00000110193.1  transcript\n",
       "1  chrX   70226   71012      +  CATG00000110193.1        exon\n",
       "2  chrX   70226   71610      +  CATG00000110193.1  transcript\n",
       "3  chrX   70226   71610      +  CATG00000110193.1        exon\n",
       "4  chrX  184126  184535      -  CATG00000112915.1        exon"
      ]
     },
     "execution_count": 10,
     "metadata": {},
     "output_type": "execute_result"
    }
   ],
   "source": [
    "a.interval_features(\"chrX\", start=71011, end=200000, feature_type=[\"exon\", \"transcript\"]).head()"
   ]
  },
  {
   "cell_type": "code",
   "execution_count": 11,
   "metadata": {
    "ExecuteTime": {
     "end_time": "2017-03-28T10:33:18.600952",
     "start_time": "2017-03-28T10:33:18.547951"
    },
    "collapsed": false,
    "run_control": {
     "frozen": false,
     "read_only": false
    }
   },
   "outputs": [
    {
     "data": {
      "text/html": [
       "<p>No feature found within the requested feature types</p>"
      ],
      "text/plain": [
       "<IPython.core.display.HTML object>"
      ]
     },
     "metadata": {},
     "output_type": "display_data"
    },
    {
     "data": {
      "text/html": [
       "<div>\n",
       "<table border=\"1\" class=\"dataframe\">\n",
       "  <thead>\n",
       "    <tr style=\"text-align: right;\">\n",
       "      <th></th>\n",
       "      <th>refid</th>\n",
       "      <th>start</th>\n",
       "      <th>end</th>\n",
       "      <th>strand</th>\n",
       "      <th>ID</th>\n",
       "      <th>type</th>\n",
       "    </tr>\n",
       "  </thead>\n",
       "  <tbody>\n",
       "  </tbody>\n",
       "</table>\n",
       "</div>"
      ],
      "text/plain": [
       "Empty DataFrame\n",
       "Columns: [refid, start, end, strand, ID, type]\n",
       "Index: []"
      ]
     },
     "execution_count": 11,
     "metadata": {},
     "output_type": "execute_result"
    }
   ],
   "source": [
    "a.interval_features(\"chrX\", start=71011, end=200000, feature_type=\"CDS\").head()"
   ]
  },
  {
   "cell_type": "code",
   "execution_count": 12,
   "metadata": {
    "ExecuteTime": {
     "end_time": "2017-03-28T10:33:18.636214",
     "start_time": "2017-03-28T10:33:18.602363"
    },
    "collapsed": false,
    "run_control": {
     "frozen": false,
     "read_only": false
    }
   },
   "outputs": [
    {
     "data": {
      "text/html": [
       "<p>The reference chrINVALID is not in the list of references with alignment</p>"
      ],
      "text/plain": [
       "<IPython.core.display.HTML object>"
      ]
     },
     "metadata": {},
     "output_type": "display_data"
    },
    {
     "data": {
      "text/html": [
       "<div>\n",
       "<table border=\"1\" class=\"dataframe\">\n",
       "  <thead>\n",
       "    <tr style=\"text-align: right;\">\n",
       "      <th></th>\n",
       "      <th>refid</th>\n",
       "      <th>start</th>\n",
       "      <th>end</th>\n",
       "      <th>strand</th>\n",
       "      <th>ID</th>\n",
       "      <th>type</th>\n",
       "    </tr>\n",
       "  </thead>\n",
       "  <tbody>\n",
       "  </tbody>\n",
       "</table>\n",
       "</div>"
      ],
      "text/plain": [
       "Empty DataFrame\n",
       "Columns: [refid, start, end, strand, ID, type]\n",
       "Index: []"
      ]
     },
     "execution_count": 12,
     "metadata": {},
     "output_type": "execute_result"
    }
   ],
   "source": [
    "a.interval_features(\"chrINVALID\", start=71011, end=200000, feature_type=[\"exon\"]).head()"
   ]
  },
  {
   "cell_type": "code",
   "execution_count": 13,
   "metadata": {
    "ExecuteTime": {
     "end_time": "2017-03-28T10:33:18.672431",
     "start_time": "2017-03-28T10:33:18.637153"
    },
    "collapsed": false,
    "run_control": {
     "frozen": false,
     "read_only": false
    }
   },
   "outputs": [
    {
     "data": {
      "text/html": [
       "<p>Invalid coordinates: End must be greater than Start</p>"
      ],
      "text/plain": [
       "<IPython.core.display.HTML object>"
      ]
     },
     "metadata": {},
     "output_type": "display_data"
    },
    {
     "data": {
      "text/html": [
       "<div>\n",
       "<table border=\"1\" class=\"dataframe\">\n",
       "  <thead>\n",
       "    <tr style=\"text-align: right;\">\n",
       "      <th></th>\n",
       "      <th>refid</th>\n",
       "      <th>start</th>\n",
       "      <th>end</th>\n",
       "      <th>strand</th>\n",
       "      <th>ID</th>\n",
       "      <th>type</th>\n",
       "    </tr>\n",
       "  </thead>\n",
       "  <tbody>\n",
       "  </tbody>\n",
       "</table>\n",
       "</div>"
      ],
      "text/plain": [
       "Empty DataFrame\n",
       "Columns: [refid, start, end, strand, ID, type]\n",
       "Index: []"
      ]
     },
     "execution_count": 13,
     "metadata": {},
     "output_type": "execute_result"
    }
   ],
   "source": [
    "a.interval_features(\"chrX\", start=200000, end=10000).head()"
   ]
  },
  {
   "cell_type": "markdown",
   "metadata": {
    "collapsed": true,
    "heading_collapsed": true,
    "run_control": {
     "frozen": false,
     "read_only": false
    }
   },
   "source": [
    "# Alignment"
   ]
  },
  {
   "cell_type": "code",
   "execution_count": 2,
   "metadata": {
    "ExecuteTime": {
     "end_time": "2017-03-28T15:05:07.931239",
     "start_time": "2017-03-28T15:05:07.924396"
    },
    "collapsed": false,
    "hidden": true,
    "run_control": {
     "frozen": false,
     "read_only": false
    },
    "scrolled": true
   },
   "outputs": [
    {
     "name": "stdout",
     "output_type": "stream",
     "text": [
      "Help on class Alignment in module Alignment:\n",
      "\n",
      "class Alignment(builtins.object)\n",
      " |  Parse data and compute the base resolution coverage from a file containing aligned reads in BAM, SAM or BED format.\n",
      " |  Can return the coverage for a given interval\n",
      " |  \n",
      " |  Methods defined here:\n",
      " |  \n",
      " |  __init__(self, fp, name=None, verbose=False, min_coverage=5, ref_list=[], output_bed=False)\n",
      " |       * fp\n",
      " |           A standard BAM or SAM (http://samtools.sourceforge.net/SAM1.pdf) containing aligned reads and a standard\n",
      " |           header. The files do not need to be sorted or indexed.\n",
      " |           One can also use a 6 fields bed (chrom, chromStart, chromEnd, name, score, strand) file with a hastaged\n",
      " |           commented header listing the reference sequences id and length, similar to the format generated by the\n",
      " |           output_bed option (Much faster than from a Bam/Sam file, can be gzipped).\n",
      " |           http://www.ensembl.org/info/website/upload/bed.html\n",
      " |      *  name\n",
      " |          Name of the data file that will be used as track name for plotting. If not given, will be deduced from fp\n",
      " |          file name  [ DEFAULT: None ]\n",
      " |      * verbose\n",
      " |          If True, will print more information during initialisation and calls of all the object methods\n",
      " |          [ DEFAULT: False ]\n",
      " |      * min_coverage\n",
      " |          Minimal coverage to compute the data. If less, the coverage will be considered null. Not used for\n",
      " |          if fp is a bed coverage file [ DEFAULT: 5 ]\n",
      " |      * ref_list\n",
      " |          list of reference sequence id to select from the data file, by default all, Not used for if fp is a bed\n",
      " |          coverage file [ DEFAULT: [] ]\n",
      " |      * output_bed\n",
      " |          If True will be write a 6 columns compressed bed file containing the coverage values for + and - strand\n",
      " |          excluding positions with coverage lesser than min_coverage.the option will apply only is the input file is\n",
      " |          BAM or SAM. The file starts with a header consisting of a list of the ID of the reference sequences and\n",
      " |          their length [ DEFAULT: False ]. Example:\n",
      " |            #chr20    64444167\n",
      " |            #chr21    46709983\n",
      " |            chr20     276516  276516  pos1    5       +\n",
      " |            chr20     276517  276517  pos2    5       +\n",
      " |  \n",
      " |  __repr__(self)\n",
      " |      Return repr(self).\n",
      " |  \n",
      " |  __str__(self)\n",
      " |      readable description of the object\n",
      " |  \n",
      " |  interval_coverage(self, refid, start, end, bins=500, bin_repr_fun='max')\n",
      " |       Parse the alignment file for a given refid and interval. The interval is splited in a number of windows equal to\n",
      " |       bins, for which the coverage in computed. The method return a dataframe containing the starting positions of\n",
      " |       the windows and the coverage for the + and - strands. If the refid or the coordinates are invalid a zero filled\n",
      " |       dataframe will be returned.\n",
      " |       * seqid\n",
      " |           Name of the sequence from the original fasta file to display\n",
      " |       * start\n",
      " |           Start of the window to display. The coordinate is not verified, if outside of the range it will\n",
      " |           return empty bins\n",
      " |       * end\n",
      " |           End of the window to display. The coordinate is not verified, if outside of the range it will\n",
      " |           return empty bins\n",
      " |      * bins\n",
      " |           Number of alignment count bins to divide the displayed window. Low number will result in low resolution\n",
      " |           high value could result in a long ploting time. The valur is automatically adjust is lower than base\n",
      " |           resolution, ie if the requested interval is lower than the number of bins [ DEFAULT: 500 ]\n",
      " |       * bin_repr_fun\n",
      " |           Function to represent each bin (\"max\", \"mean\" and \"sum\") [ DEFAULT: \"max\" ]\n",
      " |  \n",
      " |  ----------------------------------------------------------------------\n",
      " |  Data descriptors defined here:\n",
      " |  \n",
      " |  __dict__\n",
      " |      dictionary for instance variables (if defined)\n",
      " |  \n",
      " |  __weakref__\n",
      " |      list of weak references to the object (if defined)\n",
      " |  \n",
      " |  refid_count\n",
      " |      Return a dataframe containing 2 columns:\n",
      " |        * nbase = Total base coverage per refid\n",
      " |        * bpkm = Base coverage normalized by length of the refid and the overal base coverage for all sequences\n",
      " |  \n",
      " |  refid_len\n",
      " |      List of unique reference sequence ids found associated with their length\n",
      " |  \n",
      " |  refid_list\n",
      " |      List of unique reference sequence ids found\n",
      " |  \n",
      " |  refid_nbases\n",
      " |      List of unique reference sequence ids found associated with their base coverage\n",
      "\n"
     ]
    }
   ],
   "source": [
    "help(Alignment)"
   ]
  },
  {
   "cell_type": "markdown",
   "metadata": {
    "hidden": true
   },
   "source": [
    "**Test instantiation from BAM, SAM and BED files**"
   ]
  },
  {
   "cell_type": "code",
   "execution_count": 75,
   "metadata": {
    "ExecuteTime": {
     "end_time": "2017-03-28T12:20:18.280239",
     "start_time": "2017-03-28T12:17:42.296269"
    },
    "collapsed": false,
    "hidden": true,
    "run_control": {
     "frozen": false,
     "read_only": false
    },
    "scrolled": true
   },
   "outputs": [
    {
     "data": {
      "text/html": [
       "<p>Compute coverage from bam/sam file  ../dl_test_data/1M.bam</p>"
      ],
      "text/plain": [
       "<IPython.core.display.HTML object>"
      ]
     },
     "metadata": {},
     "output_type": "display_data"
    },
    {
     "data": {
      "text/html": [
       "<p>&emsp;Extract meta data from header</p>"
      ],
      "text/plain": [
       "<IPython.core.display.HTML object>"
      ]
     },
     "metadata": {},
     "output_type": "display_data"
    },
    {
     "data": {
      "text/html": [
       "<p>&emsp;Tally coverage for each base</p>"
      ],
      "text/plain": [
       "<IPython.core.display.HTML object>"
      ]
     },
     "metadata": {},
     "output_type": "display_data"
    },
    {
     "data": {
      "text/html": [
       "<p>&emsp;Filter and sort the coverage results by position</p>"
      ],
      "text/plain": [
       "<IPython.core.display.HTML object>"
      ]
     },
     "metadata": {},
     "output_type": "display_data"
    },
    {
     "data": {
      "text/html": [
       "<p>Write coverage data in file  ../dl_test_data/1M.bed.gz</p>"
      ],
      "text/plain": [
       "<IPython.core.display.HTML object>"
      ]
     },
     "metadata": {},
     "output_type": "display_data"
    },
    {
     "data": {
      "text/html": [
       "<p>Alignment instance<br>&emsp;chr1&emsp;length:248956422&emsp;nbases:1672759<br>&emsp;chr2&emsp;length:242193529&emsp;nbases:1684153<br>&emsp;chr3&emsp;length:198295559&emsp;nbases:1656105<br>&emsp;chr4&emsp;length:190214555&emsp;nbases:491060<br>&emsp;chr5&emsp;length:181538259&emsp;nbases:253869<br>&emsp;chr6&emsp;length:170805979&emsp;nbases:1265690<br>&emsp;chr7&emsp;length:159345973&emsp;nbases:372747<br>&emsp;chr8&emsp;length:145138636&emsp;nbases:373550<br>&emsp;chr9&emsp;length:138394717&emsp;nbases:534310<br>&emsp;chr10&emsp;length:133797422&emsp;nbases:354604<br>&emsp;chr11&emsp;length:135086622&emsp;nbases:963085<br>&emsp;chr12&emsp;length:133275309&emsp;nbases:888997<br>&emsp;chr13&emsp;length:114364328&emsp;nbases:91130<br>&emsp;chr14&emsp;length:107043718&emsp;nbases:969619<br>&emsp;chr15&emsp;length:101991189&emsp;nbases:299921<br>&emsp;chr16&emsp;length:90338345&emsp;nbases:1905311<br>&emsp;chr17&emsp;length:83257441&emsp;nbases:1317502<br>&emsp;chr18&emsp;length:80373285&emsp;nbases:39978<br>&emsp;chr19&emsp;length:58617616&emsp;nbases:1027703<br>&emsp;chr20&emsp;length:64444167&emsp;nbases:1115702<br>&emsp;chr21&emsp;length:46709983&emsp;nbases:4551459<br>&emsp;chr22&emsp;length:50818468&emsp;nbases:332211<br>&emsp;chrX&emsp;length:156040895&emsp;nbases:717252<br>&emsp;chrY&emsp;length:57227415&emsp;nbases:57704<br>&emsp;chrM&emsp;length:16569&emsp;nbases:1849737<br>&emsp;ext&emsp;bam<br>&emsp;fp&emsp;../dl_test_data/1M.bam<br>&emsp;name&emsp;1M<br>&emsp;nbases&emsp;24786158<br>&emsp;outfp&emsp;../dl_test_data/1M.bed.gz<br>&emsp;verbose&emsp;True<br></p>"
      ],
      "text/plain": [
       "<IPython.core.display.HTML object>"
      ]
     },
     "metadata": {},
     "output_type": "display_data"
    },
    {
     "data": {
      "text/html": [
       "<p>Execution time =  75.98 s</p>"
      ],
      "text/plain": [
       "<IPython.core.display.HTML object>"
      ]
     },
     "metadata": {},
     "output_type": "display_data"
    },
    {
     "data": {
      "text/html": [
       "<p>Compute coverage from bam/sam file  ../dl_test_data/1M.sam</p>"
      ],
      "text/plain": [
       "<IPython.core.display.HTML object>"
      ]
     },
     "metadata": {},
     "output_type": "display_data"
    },
    {
     "data": {
      "text/html": [
       "<p>&emsp;Extract meta data from header</p>"
      ],
      "text/plain": [
       "<IPython.core.display.HTML object>"
      ]
     },
     "metadata": {},
     "output_type": "display_data"
    },
    {
     "data": {
      "text/html": [
       "<p>&emsp;Tally coverage for each base</p>"
      ],
      "text/plain": [
       "<IPython.core.display.HTML object>"
      ]
     },
     "metadata": {},
     "output_type": "display_data"
    },
    {
     "data": {
      "text/html": [
       "<p>&emsp;Filter and sort the coverage results by position</p>"
      ],
      "text/plain": [
       "<IPython.core.display.HTML object>"
      ]
     },
     "metadata": {},
     "output_type": "display_data"
    },
    {
     "data": {
      "text/html": [
       "<p>Write coverage data in file  ../dl_test_data/1M.bed.gz</p>"
      ],
      "text/plain": [
       "<IPython.core.display.HTML object>"
      ]
     },
     "metadata": {},
     "output_type": "display_data"
    },
    {
     "data": {
      "text/html": [
       "<p>Alignment instance<br>&emsp;chr1&emsp;length:248956422&emsp;nbases:1672759<br>&emsp;chr2&emsp;length:242193529&emsp;nbases:1684153<br>&emsp;chr3&emsp;length:198295559&emsp;nbases:1656105<br>&emsp;chr4&emsp;length:190214555&emsp;nbases:491060<br>&emsp;chr5&emsp;length:181538259&emsp;nbases:253869<br>&emsp;chr6&emsp;length:170805979&emsp;nbases:1265690<br>&emsp;chr7&emsp;length:159345973&emsp;nbases:372747<br>&emsp;chr8&emsp;length:145138636&emsp;nbases:373550<br>&emsp;chr9&emsp;length:138394717&emsp;nbases:534310<br>&emsp;chr10&emsp;length:133797422&emsp;nbases:354604<br>&emsp;chr11&emsp;length:135086622&emsp;nbases:963085<br>&emsp;chr12&emsp;length:133275309&emsp;nbases:888997<br>&emsp;chr13&emsp;length:114364328&emsp;nbases:91130<br>&emsp;chr14&emsp;length:107043718&emsp;nbases:969619<br>&emsp;chr15&emsp;length:101991189&emsp;nbases:299921<br>&emsp;chr16&emsp;length:90338345&emsp;nbases:1905311<br>&emsp;chr17&emsp;length:83257441&emsp;nbases:1317502<br>&emsp;chr18&emsp;length:80373285&emsp;nbases:39978<br>&emsp;chr19&emsp;length:58617616&emsp;nbases:1027703<br>&emsp;chr20&emsp;length:64444167&emsp;nbases:1115702<br>&emsp;chr21&emsp;length:46709983&emsp;nbases:4551459<br>&emsp;chr22&emsp;length:50818468&emsp;nbases:332211<br>&emsp;chrX&emsp;length:156040895&emsp;nbases:717252<br>&emsp;chrY&emsp;length:57227415&emsp;nbases:57704<br>&emsp;chrM&emsp;length:16569&emsp;nbases:1849737<br>&emsp;ext&emsp;sam<br>&emsp;fp&emsp;../dl_test_data/1M.sam<br>&emsp;name&emsp;1M<br>&emsp;nbases&emsp;24786158<br>&emsp;outfp&emsp;../dl_test_data/1M.bed.gz<br>&emsp;verbose&emsp;True<br></p>"
      ],
      "text/plain": [
       "<IPython.core.display.HTML object>"
      ]
     },
     "metadata": {},
     "output_type": "display_data"
    },
    {
     "data": {
      "text/html": [
       "<p>Execution time =  75.63 s</p>"
      ],
      "text/plain": [
       "<IPython.core.display.HTML object>"
      ]
     },
     "metadata": {},
     "output_type": "display_data"
    },
    {
     "data": {
      "text/html": [
       "<p>Extract coverage from bed file ../dl_test_data/1M.bed.gz</p>"
      ],
      "text/plain": [
       "<IPython.core.display.HTML object>"
      ]
     },
     "metadata": {},
     "output_type": "display_data"
    },
    {
     "data": {
      "text/html": [
       "<p>&emsp;Extract meta data from header and save base coverage data</p>"
      ],
      "text/plain": [
       "<IPython.core.display.HTML object>"
      ]
     },
     "metadata": {},
     "output_type": "display_data"
    },
    {
     "data": {
      "text/html": [
       "<p>&emsp;Sort the coverage results by position</p>"
      ],
      "text/plain": [
       "<IPython.core.display.HTML object>"
      ]
     },
     "metadata": {},
     "output_type": "display_data"
    },
    {
     "data": {
      "text/html": [
       "<p>Alignment instance<br>&emsp;chr1&emsp;length:248956422&emsp;nbases:1672759<br>&emsp;chr2&emsp;length:242193529&emsp;nbases:1684153<br>&emsp;chr3&emsp;length:198295559&emsp;nbases:1656105<br>&emsp;chr4&emsp;length:190214555&emsp;nbases:491060<br>&emsp;chr5&emsp;length:181538259&emsp;nbases:253869<br>&emsp;chr6&emsp;length:170805979&emsp;nbases:1265690<br>&emsp;chr7&emsp;length:159345973&emsp;nbases:372747<br>&emsp;chr8&emsp;length:145138636&emsp;nbases:373550<br>&emsp;chr9&emsp;length:138394717&emsp;nbases:534310<br>&emsp;chr10&emsp;length:133797422&emsp;nbases:354604<br>&emsp;chr11&emsp;length:135086622&emsp;nbases:963085<br>&emsp;chr12&emsp;length:133275309&emsp;nbases:888997<br>&emsp;chr13&emsp;length:114364328&emsp;nbases:91130<br>&emsp;chr14&emsp;length:107043718&emsp;nbases:969619<br>&emsp;chr15&emsp;length:101991189&emsp;nbases:299921<br>&emsp;chr16&emsp;length:90338345&emsp;nbases:1905311<br>&emsp;chr17&emsp;length:83257441&emsp;nbases:1317502<br>&emsp;chr18&emsp;length:80373285&emsp;nbases:39978<br>&emsp;chr19&emsp;length:58617616&emsp;nbases:1027703<br>&emsp;chr20&emsp;length:64444167&emsp;nbases:1115702<br>&emsp;chr21&emsp;length:46709983&emsp;nbases:4551459<br>&emsp;chr22&emsp;length:50818468&emsp;nbases:332211<br>&emsp;chrX&emsp;length:156040895&emsp;nbases:717252<br>&emsp;chrY&emsp;length:57227415&emsp;nbases:57704<br>&emsp;chrM&emsp;length:16569&emsp;nbases:1849737<br>&emsp;ext&emsp;bed<br>&emsp;fp&emsp;../dl_test_data/1M.bed.gz<br>&emsp;name&emsp;1M<br>&emsp;nbases&emsp;24786158<br>&emsp;verbose&emsp;True<br></p>"
      ],
      "text/plain": [
       "<IPython.core.display.HTML object>"
      ]
     },
     "metadata": {},
     "output_type": "display_data"
    },
    {
     "data": {
      "text/html": [
       "<p>Execution time =  4.36 s</p>"
      ],
      "text/plain": [
       "<IPython.core.display.HTML object>"
      ]
     },
     "metadata": {},
     "output_type": "display_data"
    }
   ],
   "source": [
    "file_list = [\"../dl_test_data/1M.bam\", \"../dl_test_data/1M.sam\", \"../dl_test_data/1M.bed.gz\"]\n",
    "l = ['chr1', 'chr2', 'chr3', 'chr4', 'chr5', 'chr6', 'chr7', 'chr8', 'chr9', 'chr10', 'chr11', 'chr12', 'chr13', 'chr14', 'chr15', 'chr16', 'chr17', 'chr18', 'chr19', 'chr20', 'chr21', 'chr22', 'chrX', 'chrY', 'chrM']\n",
    "\n",
    "for fp in file_list:\n",
    "    s = time()\n",
    "    print(Alignment (fp, verbose=True, ref_list=l, min_coverage=5, output_bed=True))\n",
    "    print (\"Execution time = \", round(time()-s, 2), \"s\")"
   ]
  },
  {
   "cell_type": "markdown",
   "metadata": {
    "hidden": true
   },
   "source": [
    "**Suposed to fail if no header in the sam/bam file**"
   ]
  },
  {
   "cell_type": "code",
   "execution_count": 76,
   "metadata": {
    "ExecuteTime": {
     "end_time": "2017-03-28T12:20:28.355095",
     "start_time": "2017-03-28T12:20:28.339572"
    },
    "collapsed": false,
    "hidden": true,
    "scrolled": true
   },
   "outputs": [
    {
     "data": {
      "text/html": [
       "<p>Compute coverage from bam/sam file  ../dl_test_data/1M_no_header.sam</p>"
      ],
      "text/plain": [
       "<IPython.core.display.HTML object>"
      ]
     },
     "metadata": {},
     "output_type": "display_data"
    },
    {
     "ename": "ValueError",
     "evalue": "file has no sequences defined (mode='r') - is it SAM/BAM format? Consider opening with check_seq=True",
     "output_type": "error",
     "traceback": [
      "\u001b[1;31m---------------------------------------------------------------------------\u001b[0m",
      "\u001b[1;31mValueError\u001b[0m                                Traceback (most recent call last)",
      "\u001b[1;32m<ipython-input-76-f97c5963f970>\u001b[0m in \u001b[0;36m<module>\u001b[1;34m()\u001b[0m\n\u001b[1;32m----> 1\u001b[1;33m \u001b[0ma\u001b[0m \u001b[1;33m=\u001b[0m \u001b[0mAlignment\u001b[0m \u001b[1;33m(\u001b[0m\u001b[0mfp\u001b[0m\u001b[1;33m=\u001b[0m\u001b[1;34m\"../dl_test_data/1M_no_header.sam\"\u001b[0m\u001b[1;33m,\u001b[0m \u001b[0mverbose\u001b[0m\u001b[1;33m=\u001b[0m\u001b[1;32mTrue\u001b[0m\u001b[1;33m)\u001b[0m\u001b[1;33m\u001b[0m\u001b[0m\n\u001b[0m",
      "\u001b[1;32m/home/aleg/Programming/Python3/JupyterGenoViewer/JGV/Alignment.py\u001b[0m in \u001b[0;36m__init__\u001b[1;34m(self, fp, name, verbose, min_coverage, ref_list, output_bed)\u001b[0m\n\u001b[0;32m     88\u001b[0m         \u001b[1;32mif\u001b[0m \u001b[0mself\u001b[0m\u001b[1;33m.\u001b[0m\u001b[0mext\u001b[0m \u001b[1;32min\u001b[0m \u001b[1;33m[\u001b[0m\u001b[1;34m\"bam\"\u001b[0m\u001b[1;33m,\u001b[0m\u001b[1;34m\"sam\"\u001b[0m\u001b[1;33m]\u001b[0m\u001b[1;33m:\u001b[0m\u001b[1;33m\u001b[0m\u001b[0m\n\u001b[0;32m     89\u001b[0m             \u001b[1;32mif\u001b[0m \u001b[0mself\u001b[0m\u001b[1;33m.\u001b[0m\u001b[0mverbose\u001b[0m\u001b[1;33m:\u001b[0m \u001b[0mprint\u001b[0m\u001b[1;33m(\u001b[0m\u001b[1;34m\"Compute coverage from bam/sam file \"\u001b[0m\u001b[1;33m,\u001b[0m \u001b[0mself\u001b[0m\u001b[1;33m.\u001b[0m\u001b[0mfp\u001b[0m\u001b[1;33m)\u001b[0m\u001b[1;33m\u001b[0m\u001b[0m\n\u001b[1;32m---> 90\u001b[1;33m             \u001b[0mself\u001b[0m\u001b[1;33m.\u001b[0m\u001b[0md\u001b[0m \u001b[1;33m=\u001b[0m \u001b[0mself\u001b[0m\u001b[1;33m.\u001b[0m\u001b[0m_bam_parser\u001b[0m\u001b[1;33m(\u001b[0m\u001b[0mfp\u001b[0m\u001b[1;33m,\u001b[0m \u001b[0mmin_coverage\u001b[0m\u001b[1;33m,\u001b[0m \u001b[0mref_list\u001b[0m\u001b[1;33m)\u001b[0m\u001b[1;33m\u001b[0m\u001b[0m\n\u001b[0m\u001b[0;32m     91\u001b[0m             \u001b[1;32mif\u001b[0m \u001b[0moutput_bed\u001b[0m\u001b[1;33m:\u001b[0m\u001b[1;33m\u001b[0m\u001b[0m\n\u001b[0;32m     92\u001b[0m                 \u001b[1;31m#assert access(output_file, W_OK), \"{} is not writable\".format(fp)\u001b[0m\u001b[1;33m\u001b[0m\u001b[1;33m\u001b[0m\u001b[0m\n",
      "\u001b[1;32m/home/aleg/Programming/Python3/JupyterGenoViewer/JGV/Alignment.py\u001b[0m in \u001b[0;36m_bam_parser\u001b[1;34m(self, fp, min_coverage, ref_list)\u001b[0m\n\u001b[0;32m    160\u001b[0m         \u001b[1;34m\"\"\"Parse a sam or bam formated file\"\"\"\u001b[0m\u001b[1;33m\u001b[0m\u001b[0m\n\u001b[0;32m    161\u001b[0m         \u001b[0md\u001b[0m \u001b[1;33m=\u001b[0m \u001b[0mOrderedDict\u001b[0m\u001b[1;33m(\u001b[0m\u001b[1;33m)\u001b[0m\u001b[1;33m\u001b[0m\u001b[0m\n\u001b[1;32m--> 162\u001b[1;33m         \u001b[1;32mwith\u001b[0m \u001b[0mpysam\u001b[0m\u001b[1;33m.\u001b[0m\u001b[0mAlignmentFile\u001b[0m\u001b[1;33m(\u001b[0m\u001b[0mfp\u001b[0m\u001b[1;33m)\u001b[0m \u001b[1;32mas\u001b[0m \u001b[0mbam\u001b[0m\u001b[1;33m:\u001b[0m\u001b[1;33m\u001b[0m\u001b[0m\n\u001b[0m\u001b[0;32m    163\u001b[0m             \u001b[1;31m# Save meta-information for references sequences based on the bam header\u001b[0m\u001b[1;33m\u001b[0m\u001b[1;33m\u001b[0m\u001b[0m\n\u001b[0;32m    164\u001b[0m             \u001b[1;32mif\u001b[0m \u001b[0mself\u001b[0m\u001b[1;33m.\u001b[0m\u001b[0mverbose\u001b[0m\u001b[1;33m:\u001b[0m \u001b[0mprint\u001b[0m\u001b[1;33m(\u001b[0m\u001b[1;34m\"\\tExtract meta data from header\"\u001b[0m\u001b[1;33m)\u001b[0m\u001b[1;33m\u001b[0m\u001b[0m\n",
      "\u001b[1;32mpysam/calignmentfile.pyx\u001b[0m in \u001b[0;36mpysam.calignmentfile.AlignmentFile.__cinit__ (pysam/calignmentfile.c:4932)\u001b[1;34m()\u001b[0m\n",
      "\u001b[1;32mpysam/calignmentfile.pyx\u001b[0m in \u001b[0;36mpysam.calignmentfile.AlignmentFile._open (pysam/calignmentfile.c:7639)\u001b[1;34m()\u001b[0m\n",
      "\u001b[1;31mValueError\u001b[0m: file has no sequences defined (mode='r') - is it SAM/BAM format? Consider opening with check_seq=True"
     ]
    }
   ],
   "source": [
    "a = Alignment (fp=\"../dl_test_data/1M_no_header.sam\", verbose=True)"
   ]
  },
  {
   "cell_type": "markdown",
   "metadata": {
    "hidden": true
   },
   "source": [
    "**Test property methods**"
   ]
  },
  {
   "cell_type": "code",
   "execution_count": 77,
   "metadata": {
    "ExecuteTime": {
     "end_time": "2017-03-28T12:20:43.443302",
     "start_time": "2017-03-28T12:20:39.214645"
    },
    "collapsed": false,
    "hidden": true,
    "run_control": {
     "frozen": false,
     "read_only": false
    },
    "scrolled": true
   },
   "outputs": [
    {
     "data": {
      "text/html": [
       "<p>Extract coverage from bed file ../dl_test_data/1M.bed.gz</p>"
      ],
      "text/plain": [
       "<IPython.core.display.HTML object>"
      ]
     },
     "metadata": {},
     "output_type": "display_data"
    },
    {
     "data": {
      "text/html": [
       "<p>&emsp;Extract meta data from header and save base coverage data</p>"
      ],
      "text/plain": [
       "<IPython.core.display.HTML object>"
      ]
     },
     "metadata": {},
     "output_type": "display_data"
    },
    {
     "data": {
      "text/html": [
       "<p>&emsp;Sort the coverage results by position</p>"
      ],
      "text/plain": [
       "<IPython.core.display.HTML object>"
      ]
     },
     "metadata": {},
     "output_type": "display_data"
    },
    {
     "data": {
      "text/html": [
       "<p>List of refid:<br> ['chr1', 'chr2', 'chr3', 'chr4', 'chr5', 'chr6', 'chr7', 'chr8', 'chr9', 'chr10', 'chr11', 'chr12', 'chr13', 'chr14', 'chr15', 'chr16', 'chr17', 'chr18', 'chr19', 'chr20', 'chr21', 'chr22', 'chrX', 'chrY', 'chrM']</p>"
      ],
      "text/plain": [
       "<IPython.core.display.HTML object>"
      ]
     },
     "metadata": {},
     "output_type": "display_data"
    },
    {
     "data": {
      "text/html": [
       "<p>Length of the reference sequence:<br> chr1     248956422<br>chr2     242193529<br>chr3     198295559<br>chr4     190214555<br>chr5     181538259<br>chr6     170805979<br>chr7     159345973<br>chrX     156040895<br>chr8     145138636<br>chr9     138394717<br>chr11    135086622<br>chr10    133797422<br>chr12    133275309<br>chr13    114364328<br>chr14    107043718<br>chr15    101991189<br>chr16     90338345<br>chr17     83257441<br>chr18     80373285<br>chr20     64444167<br>chr19     58617616<br>chrY      57227415<br>chr22     50818468<br>chr21     46709983<br>chrM         16569<br>Name: length, dtype: int64</p>"
      ],
      "text/plain": [
       "<IPython.core.display.HTML object>"
      ]
     },
     "metadata": {},
     "output_type": "display_data"
    },
    {
     "data": {
      "text/html": [
       "<p>Base coverage of the reference sequence:<br> chr21    4551459<br>chr16    1905311<br>chrM     1849737<br>chr2     1684153<br>chr1     1672759<br>chr3     1656105<br>chr17    1317502<br>chr6     1265690<br>chr20    1115702<br>chr19    1027703<br>chr14     969619<br>chr11     963085<br>chr12     888997<br>chrX      717252<br>chr9      534310<br>chr4      491060<br>chr8      373550<br>chr7      372747<br>chr10     354604<br>chr22     332211<br>chr15     299921<br>chr5      253869<br>chr13      91130<br>chrY       57704<br>chr18      39978<br>Name: nbases, dtype: int64</p>"
      ],
      "text/plain": [
       "<IPython.core.display.HTML object>"
      ]
     },
     "metadata": {},
     "output_type": "display_data"
    },
    {
     "data": {
      "text/html": [
       "<p>List of refid:<br></p>"
      ],
      "text/plain": [
       "<IPython.core.display.HTML object>"
      ]
     },
     "metadata": {},
     "output_type": "display_data"
    },
    {
     "data": {
      "text/html": [
       "<div>\n",
       "<table border=\"1\" class=\"dataframe\">\n",
       "  <thead>\n",
       "    <tr style=\"text-align: right;\">\n",
       "      <th></th>\n",
       "      <th>nbases</th>\n",
       "      <th>bpkm</th>\n",
       "    </tr>\n",
       "  </thead>\n",
       "  <tbody>\n",
       "    <tr>\n",
       "      <th>chr1</th>\n",
       "      <td>1672759.0</td>\n",
       "      <td>0.271082</td>\n",
       "    </tr>\n",
       "    <tr>\n",
       "      <th>chr2</th>\n",
       "      <td>1684153.0</td>\n",
       "      <td>0.280550</td>\n",
       "    </tr>\n",
       "    <tr>\n",
       "      <th>chr3</th>\n",
       "      <td>1656105.0</td>\n",
       "      <td>0.336950</td>\n",
       "    </tr>\n",
       "    <tr>\n",
       "      <th>chr4</th>\n",
       "      <td>491060.0</td>\n",
       "      <td>0.104155</td>\n",
       "    </tr>\n",
       "    <tr>\n",
       "      <th>chr5</th>\n",
       "      <td>253869.0</td>\n",
       "      <td>0.056420</td>\n",
       "    </tr>\n",
       "    <tr>\n",
       "      <th>chr6</th>\n",
       "      <td>1265690.0</td>\n",
       "      <td>0.298961</td>\n",
       "    </tr>\n",
       "    <tr>\n",
       "      <th>chr7</th>\n",
       "      <td>372747.0</td>\n",
       "      <td>0.094376</td>\n",
       "    </tr>\n",
       "    <tr>\n",
       "      <th>chr8</th>\n",
       "      <td>373550.0</td>\n",
       "      <td>0.103838</td>\n",
       "    </tr>\n",
       "    <tr>\n",
       "      <th>chr9</th>\n",
       "      <td>534310.0</td>\n",
       "      <td>0.155763</td>\n",
       "    </tr>\n",
       "    <tr>\n",
       "      <th>chr10</th>\n",
       "      <td>354604.0</td>\n",
       "      <td>0.106927</td>\n",
       "    </tr>\n",
       "    <tr>\n",
       "      <th>chr11</th>\n",
       "      <td>963085.0</td>\n",
       "      <td>0.287636</td>\n",
       "    </tr>\n",
       "    <tr>\n",
       "      <th>chr12</th>\n",
       "      <td>888997.0</td>\n",
       "      <td>0.269117</td>\n",
       "    </tr>\n",
       "    <tr>\n",
       "      <th>chr13</th>\n",
       "      <td>91130.0</td>\n",
       "      <td>0.032149</td>\n",
       "    </tr>\n",
       "    <tr>\n",
       "      <th>chr14</th>\n",
       "      <td>969619.0</td>\n",
       "      <td>0.365452</td>\n",
       "    </tr>\n",
       "    <tr>\n",
       "      <th>chr15</th>\n",
       "      <td>299921.0</td>\n",
       "      <td>0.118641</td>\n",
       "    </tr>\n",
       "    <tr>\n",
       "      <th>chr16</th>\n",
       "      <td>1905311.0</td>\n",
       "      <td>0.850912</td>\n",
       "    </tr>\n",
       "    <tr>\n",
       "      <th>chr17</th>\n",
       "      <td>1317502.0</td>\n",
       "      <td>0.638438</td>\n",
       "    </tr>\n",
       "    <tr>\n",
       "      <th>chr18</th>\n",
       "      <td>39978.0</td>\n",
       "      <td>0.020068</td>\n",
       "    </tr>\n",
       "    <tr>\n",
       "      <th>chr19</th>\n",
       "      <td>1027703.0</td>\n",
       "      <td>0.707343</td>\n",
       "    </tr>\n",
       "    <tr>\n",
       "      <th>chr20</th>\n",
       "      <td>1115702.0</td>\n",
       "      <td>0.698482</td>\n",
       "    </tr>\n",
       "    <tr>\n",
       "      <th>chr21</th>\n",
       "      <td>4551459.0</td>\n",
       "      <td>3.931259</td>\n",
       "    </tr>\n",
       "    <tr>\n",
       "      <th>chr22</th>\n",
       "      <td>332211.0</td>\n",
       "      <td>0.263744</td>\n",
       "    </tr>\n",
       "    <tr>\n",
       "      <th>chrX</th>\n",
       "      <td>717252.0</td>\n",
       "      <td>0.185449</td>\n",
       "    </tr>\n",
       "    <tr>\n",
       "      <th>chrY</th>\n",
       "      <td>57704.0</td>\n",
       "      <td>0.040681</td>\n",
       "    </tr>\n",
       "    <tr>\n",
       "      <th>chrM</th>\n",
       "      <td>1849737.0</td>\n",
       "      <td>4504.063161</td>\n",
       "    </tr>\n",
       "  </tbody>\n",
       "</table>\n",
       "</div>"
      ],
      "text/plain": [
       "          nbases         bpkm\n",
       "chr1   1672759.0     0.271082\n",
       "chr2   1684153.0     0.280550\n",
       "chr3   1656105.0     0.336950\n",
       "chr4    491060.0     0.104155\n",
       "chr5    253869.0     0.056420\n",
       "chr6   1265690.0     0.298961\n",
       "chr7    372747.0     0.094376\n",
       "chr8    373550.0     0.103838\n",
       "chr9    534310.0     0.155763\n",
       "chr10   354604.0     0.106927\n",
       "chr11   963085.0     0.287636\n",
       "chr12   888997.0     0.269117\n",
       "chr13    91130.0     0.032149\n",
       "chr14   969619.0     0.365452\n",
       "chr15   299921.0     0.118641\n",
       "chr16  1905311.0     0.850912\n",
       "chr17  1317502.0     0.638438\n",
       "chr18    39978.0     0.020068\n",
       "chr19  1027703.0     0.707343\n",
       "chr20  1115702.0     0.698482\n",
       "chr21  4551459.0     3.931259\n",
       "chr22   332211.0     0.263744\n",
       "chrX    717252.0     0.185449\n",
       "chrY     57704.0     0.040681\n",
       "chrM   1849737.0  4504.063161"
      ]
     },
     "metadata": {},
     "output_type": "display_data"
    }
   ],
   "source": [
    "a = Alignment (fp=\"../dl_test_data/1M.bed.gz\", verbose=True)\n",
    "print (\"List of refid:\\n\", a.refid_list)\n",
    "print (\"Length of the reference sequence:\\n\", a.refid_len)\n",
    "print (\"Base coverage of the reference sequence:\\n\", a.refid_nbases)\n",
    "print (\"List of refid:\\n\")\n",
    "display(a.refid_count)"
   ]
  },
  {
   "cell_type": "code",
   "execution_count": 78,
   "metadata": {
    "ExecuteTime": {
     "end_time": "2017-03-28T12:22:21.031815",
     "start_time": "2017-03-28T12:21:33.594673"
    },
    "collapsed": false,
    "hidden": true,
    "scrolled": true
   },
   "outputs": [
    {
     "data": {
      "text/html": [
       "<p>Compute coverage from bam/sam file  ../dl_test_data/1M.bam</p>"
      ],
      "text/plain": [
       "<IPython.core.display.HTML object>"
      ]
     },
     "metadata": {},
     "output_type": "display_data"
    },
    {
     "data": {
      "text/html": [
       "<p>&emsp;Extract meta data from header</p>"
      ],
      "text/plain": [
       "<IPython.core.display.HTML object>"
      ]
     },
     "metadata": {},
     "output_type": "display_data"
    },
    {
     "data": {
      "text/html": [
       "<p>&emsp;Tally coverage for each base</p>"
      ],
      "text/plain": [
       "<IPython.core.display.HTML object>"
      ]
     },
     "metadata": {},
     "output_type": "display_data"
    },
    {
     "data": {
      "text/html": [
       "<p>&emsp;Filter and sort the coverage results by position</p>"
      ],
      "text/plain": [
       "<IPython.core.display.HTML object>"
      ]
     },
     "metadata": {},
     "output_type": "display_data"
    },
    {
     "data": {
      "text/html": [
       "<p>List of refid:<br> ['chr1', 'chr2', 'chr3', 'chr4', 'chr5', 'chr6', 'chr7', 'chr8', 'chr9', 'chr10', 'chr11', 'chr12', 'chr13', 'chr14', 'chr15', 'chr16', 'chr17', 'chr18', 'chr19', 'chr20', 'chr21', 'chr22', 'chrX', 'chrY', 'chrM']</p>"
      ],
      "text/plain": [
       "<IPython.core.display.HTML object>"
      ]
     },
     "metadata": {},
     "output_type": "display_data"
    },
    {
     "data": {
      "text/html": [
       "<p>Length of the reference sequence:<br> chr1     248956422<br>chr2     242193529<br>chr3     198295559<br>chr4     190214555<br>chr5     181538259<br>chr6     170805979<br>chr7     159345973<br>chrX     156040895<br>chr8     145138636<br>chr9     138394717<br>chr11    135086622<br>chr10    133797422<br>chr12    133275309<br>chr13    114364328<br>chr14    107043718<br>chr15    101991189<br>chr16     90338345<br>chr17     83257441<br>chr18     80373285<br>chr20     64444167<br>chr19     58617616<br>chrY      57227415<br>chr22     50818468<br>chr21     46709983<br>chrM         16569<br>Name: length, dtype: int64</p>"
      ],
      "text/plain": [
       "<IPython.core.display.HTML object>"
      ]
     },
     "metadata": {},
     "output_type": "display_data"
    },
    {
     "data": {
      "text/html": [
       "<p>Base coverage of the reference sequence:<br> chr21    4551459<br>chr16    1905311<br>chrM     1849737<br>chr2     1684153<br>chr1     1672759<br>chr3     1656105<br>chr17    1317502<br>chr6     1265690<br>chr20    1115702<br>chr19    1027703<br>chr14     969619<br>chr11     963085<br>chr12     888997<br>chrX      717252<br>chr9      534310<br>chr4      491060<br>chr8      373550<br>chr7      372747<br>chr10     354604<br>chr22     332211<br>chr15     299921<br>chr5      253869<br>chr13      91130<br>chrY       57704<br>chr18      39978<br>Name: nbases, dtype: int64</p>"
      ],
      "text/plain": [
       "<IPython.core.display.HTML object>"
      ]
     },
     "metadata": {},
     "output_type": "display_data"
    },
    {
     "data": {
      "text/html": [
       "<p>List of refid:<br></p>"
      ],
      "text/plain": [
       "<IPython.core.display.HTML object>"
      ]
     },
     "metadata": {},
     "output_type": "display_data"
    },
    {
     "data": {
      "text/html": [
       "<div>\n",
       "<table border=\"1\" class=\"dataframe\">\n",
       "  <thead>\n",
       "    <tr style=\"text-align: right;\">\n",
       "      <th></th>\n",
       "      <th>nbases</th>\n",
       "      <th>bpkm</th>\n",
       "    </tr>\n",
       "  </thead>\n",
       "  <tbody>\n",
       "    <tr>\n",
       "      <th>chr1</th>\n",
       "      <td>1672759.0</td>\n",
       "      <td>0.271082</td>\n",
       "    </tr>\n",
       "    <tr>\n",
       "      <th>chr2</th>\n",
       "      <td>1684153.0</td>\n",
       "      <td>0.280550</td>\n",
       "    </tr>\n",
       "    <tr>\n",
       "      <th>chr3</th>\n",
       "      <td>1656105.0</td>\n",
       "      <td>0.336950</td>\n",
       "    </tr>\n",
       "    <tr>\n",
       "      <th>chr4</th>\n",
       "      <td>491060.0</td>\n",
       "      <td>0.104155</td>\n",
       "    </tr>\n",
       "    <tr>\n",
       "      <th>chr5</th>\n",
       "      <td>253869.0</td>\n",
       "      <td>0.056420</td>\n",
       "    </tr>\n",
       "    <tr>\n",
       "      <th>chr6</th>\n",
       "      <td>1265690.0</td>\n",
       "      <td>0.298961</td>\n",
       "    </tr>\n",
       "    <tr>\n",
       "      <th>chr7</th>\n",
       "      <td>372747.0</td>\n",
       "      <td>0.094376</td>\n",
       "    </tr>\n",
       "    <tr>\n",
       "      <th>chr8</th>\n",
       "      <td>373550.0</td>\n",
       "      <td>0.103838</td>\n",
       "    </tr>\n",
       "    <tr>\n",
       "      <th>chr9</th>\n",
       "      <td>534310.0</td>\n",
       "      <td>0.155763</td>\n",
       "    </tr>\n",
       "    <tr>\n",
       "      <th>chr10</th>\n",
       "      <td>354604.0</td>\n",
       "      <td>0.106927</td>\n",
       "    </tr>\n",
       "    <tr>\n",
       "      <th>chr11</th>\n",
       "      <td>963085.0</td>\n",
       "      <td>0.287636</td>\n",
       "    </tr>\n",
       "    <tr>\n",
       "      <th>chr12</th>\n",
       "      <td>888997.0</td>\n",
       "      <td>0.269117</td>\n",
       "    </tr>\n",
       "    <tr>\n",
       "      <th>chr13</th>\n",
       "      <td>91130.0</td>\n",
       "      <td>0.032149</td>\n",
       "    </tr>\n",
       "    <tr>\n",
       "      <th>chr14</th>\n",
       "      <td>969619.0</td>\n",
       "      <td>0.365452</td>\n",
       "    </tr>\n",
       "    <tr>\n",
       "      <th>chr15</th>\n",
       "      <td>299921.0</td>\n",
       "      <td>0.118641</td>\n",
       "    </tr>\n",
       "    <tr>\n",
       "      <th>chr16</th>\n",
       "      <td>1905311.0</td>\n",
       "      <td>0.850912</td>\n",
       "    </tr>\n",
       "    <tr>\n",
       "      <th>chr17</th>\n",
       "      <td>1317502.0</td>\n",
       "      <td>0.638438</td>\n",
       "    </tr>\n",
       "    <tr>\n",
       "      <th>chr18</th>\n",
       "      <td>39978.0</td>\n",
       "      <td>0.020068</td>\n",
       "    </tr>\n",
       "    <tr>\n",
       "      <th>chr19</th>\n",
       "      <td>1027703.0</td>\n",
       "      <td>0.707343</td>\n",
       "    </tr>\n",
       "    <tr>\n",
       "      <th>chr20</th>\n",
       "      <td>1115702.0</td>\n",
       "      <td>0.698482</td>\n",
       "    </tr>\n",
       "    <tr>\n",
       "      <th>chr21</th>\n",
       "      <td>4551459.0</td>\n",
       "      <td>3.931259</td>\n",
       "    </tr>\n",
       "    <tr>\n",
       "      <th>chr22</th>\n",
       "      <td>332211.0</td>\n",
       "      <td>0.263744</td>\n",
       "    </tr>\n",
       "    <tr>\n",
       "      <th>chrX</th>\n",
       "      <td>717252.0</td>\n",
       "      <td>0.185449</td>\n",
       "    </tr>\n",
       "    <tr>\n",
       "      <th>chrY</th>\n",
       "      <td>57704.0</td>\n",
       "      <td>0.040681</td>\n",
       "    </tr>\n",
       "    <tr>\n",
       "      <th>chrM</th>\n",
       "      <td>1849737.0</td>\n",
       "      <td>4504.063161</td>\n",
       "    </tr>\n",
       "  </tbody>\n",
       "</table>\n",
       "</div>"
      ],
      "text/plain": [
       "          nbases         bpkm\n",
       "chr1   1672759.0     0.271082\n",
       "chr2   1684153.0     0.280550\n",
       "chr3   1656105.0     0.336950\n",
       "chr4    491060.0     0.104155\n",
       "chr5    253869.0     0.056420\n",
       "chr6   1265690.0     0.298961\n",
       "chr7    372747.0     0.094376\n",
       "chr8    373550.0     0.103838\n",
       "chr9    534310.0     0.155763\n",
       "chr10   354604.0     0.106927\n",
       "chr11   963085.0     0.287636\n",
       "chr12   888997.0     0.269117\n",
       "chr13    91130.0     0.032149\n",
       "chr14   969619.0     0.365452\n",
       "chr15   299921.0     0.118641\n",
       "chr16  1905311.0     0.850912\n",
       "chr17  1317502.0     0.638438\n",
       "chr18    39978.0     0.020068\n",
       "chr19  1027703.0     0.707343\n",
       "chr20  1115702.0     0.698482\n",
       "chr21  4551459.0     3.931259\n",
       "chr22   332211.0     0.263744\n",
       "chrX    717252.0     0.185449\n",
       "chrY     57704.0     0.040681\n",
       "chrM   1849737.0  4504.063161"
      ]
     },
     "metadata": {},
     "output_type": "display_data"
    }
   ],
   "source": [
    "l = ['chr1', 'chr2', 'chr3', 'chr4', 'chr5', 'chr6', 'chr7', 'chr8', 'chr9', 'chr10', 'chr11', 'chr12', 'chr13', 'chr14', 'chr15', 'chr16', 'chr17', 'chr18', 'chr19', 'chr20', 'chr21', 'chr22', 'chrX', 'chrY', 'chrM']\n",
    "a = Alignment (fp=\"../dl_test_data/1M.bam\", verbose=True, ref_list=l)\n",
    "print (\"List of refid:\\n\", a.refid_list)\n",
    "print (\"Length of the reference sequence:\\n\", a.refid_len)\n",
    "print (\"Base coverage of the reference sequence:\\n\", a.refid_nbases)\n",
    "print (\"List of refid:\\n\")\n",
    "display(a.refid_count)"
   ]
  },
  {
   "cell_type": "markdown",
   "metadata": {
    "hidden": true
   },
   "source": [
    "**test interval_coverage method**"
   ]
  },
  {
   "cell_type": "code",
   "execution_count": 2,
   "metadata": {
    "ExecuteTime": {
     "end_time": "2017-03-28T15:11:35.208696",
     "start_time": "2017-03-28T15:11:31.424375"
    },
    "collapsed": false,
    "hidden": true
   },
   "outputs": [
    {
     "data": {
      "text/html": [
       "<p>Extract coverage from bed file ../dl_test_data/1M.bed.gz</p>"
      ],
      "text/plain": [
       "<IPython.core.display.HTML object>"
      ]
     },
     "metadata": {},
     "output_type": "display_data"
    },
    {
     "data": {
      "text/html": [
       "<p>&emsp;Extract meta data from header and save base coverage data</p>"
      ],
      "text/plain": [
       "<IPython.core.display.HTML object>"
      ]
     },
     "metadata": {},
     "output_type": "display_data"
    },
    {
     "data": {
      "text/html": [
       "<p>&emsp;Sort the coverage results by position</p>"
      ],
      "text/plain": [
       "<IPython.core.display.HTML object>"
      ]
     },
     "metadata": {},
     "output_type": "display_data"
    }
   ],
   "source": [
    "a = Alignment (fp=\"../dl_test_data/1M.bed.gz\", verbose=True)"
   ]
  },
  {
   "cell_type": "code",
   "execution_count": 3,
   "metadata": {
    "ExecuteTime": {
     "end_time": "2017-03-28T15:11:37.201663",
     "start_time": "2017-03-28T15:11:36.592196"
    },
    "collapsed": false,
    "hidden": true
   },
   "outputs": [
    {
     "data": {
      "text/html": [
       "<p>Compute coverage from the windows: chrM:500-10000</p>"
      ],
      "text/plain": [
       "<IPython.core.display.HTML object>"
      ]
     },
     "metadata": {},
     "output_type": "display_data"
    },
    {
     "data": {
      "text/html": [
       "<p>&emsp;Define size of each bin: 47.5</p>"
      ],
      "text/plain": [
       "<IPython.core.display.HTML object>"
      ]
     },
     "metadata": {},
     "output_type": "display_data"
    },
    {
     "data": {
      "text/html": [
       "<p>&emsp;Compute coverage...</p>"
      ],
      "text/plain": [
       "<IPython.core.display.HTML object>"
      ]
     },
     "metadata": {},
     "output_type": "display_data"
    },
    {
     "data": {
      "text/html": [
       "<div>\n",
       "<table border=\"1\" class=\"dataframe\">\n",
       "  <thead>\n",
       "    <tr style=\"text-align: right;\">\n",
       "      <th></th>\n",
       "      <th>+</th>\n",
       "      <th>-</th>\n",
       "    </tr>\n",
       "  </thead>\n",
       "  <tbody>\n",
       "    <tr>\n",
       "      <th>500</th>\n",
       "      <td>0</td>\n",
       "      <td>0</td>\n",
       "    </tr>\n",
       "    <tr>\n",
       "      <th>547</th>\n",
       "      <td>0</td>\n",
       "      <td>0</td>\n",
       "    </tr>\n",
       "    <tr>\n",
       "      <th>595</th>\n",
       "      <td>0</td>\n",
       "      <td>0</td>\n",
       "    </tr>\n",
       "    <tr>\n",
       "      <th>642</th>\n",
       "      <td>165</td>\n",
       "      <td>0</td>\n",
       "    </tr>\n",
       "    <tr>\n",
       "      <th>690</th>\n",
       "      <td>228</td>\n",
       "      <td>8</td>\n",
       "    </tr>\n",
       "  </tbody>\n",
       "</table>\n",
       "</div>"
      ],
      "text/plain": [
       "       +  -\n",
       "500    0  0\n",
       "547    0  0\n",
       "595    0  0\n",
       "642  165  0\n",
       "690  228  8"
      ]
     },
     "metadata": {},
     "output_type": "display_data"
    },
    {
     "data": {
      "text/plain": [
       "<matplotlib.axes._subplots.AxesSubplot at 0x7f19a6ff4860>"
      ]
     },
     "execution_count": 3,
     "metadata": {},
     "output_type": "execute_result"
    },
    {
     "data": {
      "image/png": "[encoded data removed]",
      "text/plain": [
       "<matplotlib.figure.Figure at 0x7f19ac928eb8>"
      ]
     },
     "metadata": {},
     "output_type": "display_data"
    }
   ],
   "source": [
    "df = a.interval_coverage(refid=\"chrM\", start=500, end=10000, bins=200, bin_repr_fun='max')\n",
    "display(df.head(5))\n",
    "df.plot.area(figsize=(30, 4))"
   ]
  },
  {
   "cell_type": "code",
   "execution_count": 10,
   "metadata": {
    "ExecuteTime": {
     "end_time": "2017-03-28T13:48:01.346553",
     "start_time": "2017-03-28T13:48:00.249318"
    },
    "collapsed": false,
    "hidden": true,
    "scrolled": false
   },
   "outputs": [
    {
     "data": {
      "text/html": [
       "<p>Compute coverage from the windows: chr1:0-300000000</p>"
      ],
      "text/plain": [
       "<IPython.core.display.HTML object>"
      ]
     },
     "metadata": {},
     "output_type": "display_data"
    },
    {
     "data": {
      "text/html": [
       "<p>&emsp;Define size of each bin: 600000.0</p>"
      ],
      "text/plain": [
       "<IPython.core.display.HTML object>"
      ]
     },
     "metadata": {},
     "output_type": "display_data"
    },
    {
     "data": {
      "text/html": [
       "<p>&emsp;Compute coverage...</p>"
      ],
      "text/plain": [
       "<IPython.core.display.HTML object>"
      ]
     },
     "metadata": {},
     "output_type": "display_data"
    },
    {
     "data": {
      "text/html": [
       "<div>\n",
       "<table border=\"1\" class=\"dataframe\">\n",
       "  <thead>\n",
       "    <tr style=\"text-align: right;\">\n",
       "      <th></th>\n",
       "      <th>+</th>\n",
       "      <th>-</th>\n",
       "    </tr>\n",
       "  </thead>\n",
       "  <tbody>\n",
       "    <tr>\n",
       "      <th>0</th>\n",
       "      <td>23</td>\n",
       "      <td>21</td>\n",
       "    </tr>\n",
       "    <tr>\n",
       "      <th>600000</th>\n",
       "      <td>698</td>\n",
       "      <td>708</td>\n",
       "    </tr>\n",
       "    <tr>\n",
       "      <th>1200000</th>\n",
       "      <td>86</td>\n",
       "      <td>79</td>\n",
       "    </tr>\n",
       "    <tr>\n",
       "      <th>1800000</th>\n",
       "      <td>6</td>\n",
       "      <td>7</td>\n",
       "    </tr>\n",
       "    <tr>\n",
       "      <th>2400000</th>\n",
       "      <td>12</td>\n",
       "      <td>7</td>\n",
       "    </tr>\n",
       "  </tbody>\n",
       "</table>\n",
       "</div>"
      ],
      "text/plain": [
       "           +    -\n",
       "0         23   21\n",
       "600000   698  708\n",
       "1200000   86   79\n",
       "1800000    6    7\n",
       "2400000   12    7"
      ]
     },
     "metadata": {},
     "output_type": "display_data"
    },
    {
     "data": {
      "text/plain": [
       "<matplotlib.axes._subplots.AxesSubplot at 0x7f81c124ea20>"
      ]
     },
     "execution_count": 10,
     "metadata": {},
     "output_type": "execute_result"
    },
    {
     "data": {
      "image/png": "[encoded data removed]",
      "text/plain": [
       "<matplotlib.figure.Figure at 0x7f81c2fdb860>"
      ]
     },
     "metadata": {},
     "output_type": "display_data"
    }
   ],
   "source": [
    "df = a.interval_coverage(refid=\"chr1\", start=0, end=300000000, bins=500, bin_repr_fun='max')\n",
    "display(df.head(5))\n",
    "df.plot.area(figsize=(30, 4))"
   ]
  },
  {
   "cell_type": "code",
   "execution_count": 11,
   "metadata": {
    "ExecuteTime": {
     "end_time": "2017-03-28T13:48:06.877973",
     "start_time": "2017-03-28T13:48:05.925577"
    },
    "collapsed": false,
    "hidden": true,
    "scrolled": true
   },
   "outputs": [
    {
     "data": {
      "text/html": [
       "<p>Compute coverage from the windows: chr47:0-300000000</p>"
      ],
      "text/plain": [
       "<IPython.core.display.HTML object>"
      ]
     },
     "metadata": {},
     "output_type": "display_data"
    },
    {
     "data": {
      "text/html": [
       "<p>&emsp;Define size of each bin: 300000.0</p>"
      ],
      "text/plain": [
       "<IPython.core.display.HTML object>"
      ]
     },
     "metadata": {},
     "output_type": "display_data"
    },
    {
     "data": {
      "text/html": [
       "<p>&emsp;The reference chr47 is not in the list of references with alignment</p>"
      ],
      "text/plain": [
       "<IPython.core.display.HTML object>"
      ]
     },
     "metadata": {},
     "output_type": "display_data"
    },
    {
     "data": {
      "text/html": [
       "<div>\n",
       "<table border=\"1\" class=\"dataframe\">\n",
       "  <thead>\n",
       "    <tr style=\"text-align: right;\">\n",
       "      <th></th>\n",
       "      <th>+</th>\n",
       "      <th>-</th>\n",
       "    </tr>\n",
       "  </thead>\n",
       "  <tbody>\n",
       "    <tr>\n",
       "      <th>0</th>\n",
       "      <td>0</td>\n",
       "      <td>0</td>\n",
       "    </tr>\n",
       "    <tr>\n",
       "      <th>300000</th>\n",
       "      <td>0</td>\n",
       "      <td>0</td>\n",
       "    </tr>\n",
       "    <tr>\n",
       "      <th>600000</th>\n",
       "      <td>0</td>\n",
       "      <td>0</td>\n",
       "    </tr>\n",
       "    <tr>\n",
       "      <th>900000</th>\n",
       "      <td>0</td>\n",
       "      <td>0</td>\n",
       "    </tr>\n",
       "    <tr>\n",
       "      <th>1200000</th>\n",
       "      <td>0</td>\n",
       "      <td>0</td>\n",
       "    </tr>\n",
       "  </tbody>\n",
       "</table>\n",
       "</div>"
      ],
      "text/plain": [
       "         +  -\n",
       "0        0  0\n",
       "300000   0  0\n",
       "600000   0  0\n",
       "900000   0  0\n",
       "1200000  0  0"
      ]
     },
     "metadata": {},
     "output_type": "display_data"
    },
    {
     "data": {
      "text/plain": [
       "<matplotlib.axes._subplots.AxesSubplot at 0x7f81c215df28>"
      ]
     },
     "execution_count": 11,
     "metadata": {},
     "output_type": "execute_result"
    },
    {
     "data": {
      "image/png": "[encoded data removed]",
      "text/plain": [
       "<matplotlib.figure.Figure at 0x7f81bf00af28>"
      ]
     },
     "metadata": {},
     "output_type": "display_data"
    }
   ],
   "source": [
    "df = a.interval_coverage(refid=\"chr47\", start=0, end=300000000, bins=1000, bin_repr_fun='max')\n",
    "display(df.head(5))\n",
    "df.plot.area(figsize=(30, 4))"
   ]
  },
  {
   "cell_type": "code",
   "execution_count": 12,
   "metadata": {
    "ExecuteTime": {
     "end_time": "2017-03-28T13:48:12.278315",
     "start_time": "2017-03-28T13:48:11.806436"
    },
    "collapsed": false,
    "hidden": true,
    "scrolled": true
   },
   "outputs": [
    {
     "data": {
      "text/html": [
       "<p>Compute coverage from the windows: chr7:1997-97495</p>"
      ],
      "text/plain": [
       "<IPython.core.display.HTML object>"
      ]
     },
     "metadata": {},
     "output_type": "display_data"
    },
    {
     "data": {
      "text/html": [
       "<p>&emsp;Define size of each bin: 954.98</p>"
      ],
      "text/plain": [
       "<IPython.core.display.HTML object>"
      ]
     },
     "metadata": {},
     "output_type": "display_data"
    },
    {
     "data": {
      "text/html": [
       "<p>&emsp;Compute coverage...</p>"
      ],
      "text/plain": [
       "<IPython.core.display.HTML object>"
      ]
     },
     "metadata": {},
     "output_type": "display_data"
    },
    {
     "data": {
      "text/html": [
       "<p>&emsp;Null coverage for both strands in the requested interval</p>"
      ],
      "text/plain": [
       "<IPython.core.display.HTML object>"
      ]
     },
     "metadata": {},
     "output_type": "display_data"
    },
    {
     "data": {
      "text/html": [
       "<div>\n",
       "<table border=\"1\" class=\"dataframe\">\n",
       "  <thead>\n",
       "    <tr style=\"text-align: right;\">\n",
       "      <th></th>\n",
       "      <th>+</th>\n",
       "      <th>-</th>\n",
       "    </tr>\n",
       "  </thead>\n",
       "  <tbody>\n",
       "    <tr>\n",
       "      <th>1997</th>\n",
       "      <td>0</td>\n",
       "      <td>0</td>\n",
       "    </tr>\n",
       "    <tr>\n",
       "      <th>2951</th>\n",
       "      <td>0</td>\n",
       "      <td>0</td>\n",
       "    </tr>\n",
       "    <tr>\n",
       "      <th>3906</th>\n",
       "      <td>0</td>\n",
       "      <td>0</td>\n",
       "    </tr>\n",
       "    <tr>\n",
       "      <th>4861</th>\n",
       "      <td>0</td>\n",
       "      <td>0</td>\n",
       "    </tr>\n",
       "    <tr>\n",
       "      <th>5816</th>\n",
       "      <td>0</td>\n",
       "      <td>0</td>\n",
       "    </tr>\n",
       "  </tbody>\n",
       "</table>\n",
       "</div>"
      ],
      "text/plain": [
       "      +  -\n",
       "1997  0  0\n",
       "2951  0  0\n",
       "3906  0  0\n",
       "4861  0  0\n",
       "5816  0  0"
      ]
     },
     "metadata": {},
     "output_type": "display_data"
    },
    {
     "data": {
      "text/plain": [
       "<matplotlib.axes._subplots.AxesSubplot at 0x7f81be588978>"
      ]
     },
     "execution_count": 12,
     "metadata": {},
     "output_type": "execute_result"
    },
    {
     "data": {
      "image/png": "[encoded data removed]",
      "text/plain": [
       "<matplotlib.figure.Figure at 0x7f81c09dc9b0>"
      ]
     },
     "metadata": {},
     "output_type": "display_data"
    }
   ],
   "source": [
    "df = a.interval_coverage(refid=\"chr7\", start=1997, end=97495, bins=100, bin_repr_fun='max')\n",
    "display(df.head(5))\n",
    "df.plot.area(figsize=(30, 4))"
   ]
  },
  {
   "cell_type": "markdown",
   "metadata": {},
   "source": [
    "# JGV"
   ]
  },
  {
   "cell_type": "code",
   "execution_count": 4,
   "metadata": {
    "ExecuteTime": {
     "end_time": "2017-03-28T17:12:28.417368",
     "start_time": "2017-03-28T17:12:28.409226"
    },
    "collapsed": false,
    "scrolled": true
   },
   "outputs": [
    {
     "name": "stdout",
     "output_type": "stream",
     "text": [
      "Help on class JGV in module JGV:\n",
      "\n",
      "class JGV(builtins.object)\n",
      " |  Methods defined here:\n",
      " |  \n",
      " |  __init__(self, fp, name=None, verbose=False, ref_list=[], output_index=False)\n",
      " |       * fp\n",
      " |          A fasta file containing the reference sequences OR an tab separated index file containing at least 2 columns\n",
      " |          with the seqid and the length in bases (like a .fa.fai file generated by samtools faidx).\n",
      " |          The fasta option will take more time as the file has to be parsed to get the seqid and length of sequences.\n",
      " |          A 2 column index tsv file will be automatically generated for latter usage as an index file.\n",
      " |          Both fasta and infex file can be gziped\n",
      " |      *  name\n",
      " |          Name of the data file that will be used as track name for plotting. If not given, will be deduced from fp\n",
      " |          file name\n",
      " |      * verbose\n",
      " |          If True, will print more information during initialisation and calls of all the object methods.\n",
      " |  \n",
      " |  __str__(self)\n",
      " |      readable description of the object\n",
      " |  \n",
      " |  add_alignement(self, fp, name=None, min_coverage=5, output_bed=False)\n",
      " |       * fp\n",
      " |           A standard BAM or SAM (http://samtools.sourceforge.net/SAM1.pdf) containing aligned reads and a standard\n",
      " |           header. The files do not need to be sorted or indexed.\n",
      " |           One can also use a 6 fields bed (chrom, chromStart, chromEnd, name, score, strand) file with a hastaged\n",
      " |           commented header listing the reference sequences id and length, similar to the format generated by the\n",
      " |           output_bed option (Much faster than from a Bam/Sam file, can be gzipped).\n",
      " |           http://www.ensembl.org/info/website/upload/bed.html\n",
      " |      *  name\n",
      " |          Name of the data file that will be used as track name for plotting. If not given, will be deduced from fp\n",
      " |          file name  [ DEFAULT: None ]\n",
      " |      * min_coverage\n",
      " |          Minimal coverage to compute the data. If less, the coverage will be considered null. Not used for\n",
      " |          if fp is a bed coverage file [ DEFAULT: 5 ]\n",
      " |      * output_bed\n",
      " |          If True will be write a 6 columns compressed bed file containing the coverage values for + and - strand\n",
      " |          excluding positions with coverage lesser than min_coverage.the option will apply only is the input file is\n",
      " |          BAM or SAM. The file starts with a header consisting of a list of the ID of the reference sequences and\n",
      " |          their length [ DEFAULT: False ]. Example:\n",
      " |            #chr20    64444167\n",
      " |            #chr21    46709983\n",
      " |            chr20     276516  276516  pos1    5       +\n",
      " |            chr20     276517  276517  pos2    5       +\n",
      " |  \n",
      " |  add_annotation(self, fp, name=None)\n",
      " |       * fp\n",
      " |          An URL to a standard genomic file containing features annotations among the following format:\n",
      " |            gff3: http://www.ensembl.org/info/website/upload/gff3.html\n",
      " |            gtf:  http://www.ensembl.org/info/website/upload/gff.html\n",
      " |            bed:  http://www.ensembl.org/info/website/upload/bed.html\n",
      " |          Valid URL schemes include http, ftp, s3, and file.\n",
      " |          The file can eventually be compressed in ‘gzip’, ‘bz2’, ‘zip’ or ‘xz’\n",
      " |      *  name\n",
      " |          Name of the data file that will be used as track name for plotting. If not given, will be deduced from fp\n",
      " |          file name  [ DEFAULT: None ]\n",
      " |      * verbose\n",
      " |          If True, will print more information during initialisation and calls of all the object methods\n",
      " |          [ DEFAULT: False ]\n",
      " |      * ref_list\n",
      " |          list of reference sequence id to select from the data file[ DEFAULT: [] ]\n",
      " |  \n",
      " |  alignment_distribution(self, criteria=['length', 'read_count', 'rpkm'], seqid_list=[], plot_style='ggplot', figwidth=10, figheight=15, yscale='log', **kwargs)\n",
      " |      *  criteria\n",
      " |          a single element or a list combining several of the following elements of \"length\", \"read_count\", \"rpkm\"\n",
      " |      *  seqid_list\n",
      " |          Sequence\n",
      " |      *  plot_style\n",
      " |          Default plot style for pyplot ('grayscale'|'bmh'|'ggplot'|'dark_background'|'classic'|'fivethirtyeight'...)[ DEFAULT: \"ggplot\" ]\n",
      " |      *  figwidth\n",
      " |          Width of the ploting area\n",
      " |      *  figheight\n",
      " |          Heigth of the ploting area\n",
      " |      *  yscale\n",
      " |          Scale of the Y axis ('linear'|'log'|'logit'|'symlog') [ DEFAULT: \"log\" ]\n",
      " |      *  kwargs\n",
      " |          Additional parameters for plot appearance derived from pylab basic plot arguments such as: color, alpha, fontsize...\n",
      " |  \n",
      " |  annotation_details(self, n_max=10)\n",
      " |  \n",
      " |  interval(self, seqid, start=None, end=None, plot_style='ggplot', figwidth=30, figheight=50, alignment_n_step=500, alignment_mode='auto', alignment_track_height=5, alignment_yscale='linear', alignment_color='cadetblue', annotation_feature_types=[], annotation_mode='auto', annotation_track_height=2, annotation_offset=None, annotation_max_depth=10, annotation_label=False, annotation_color='cadetblue', **kwargs)\n",
      " |  \n",
      " |  ----------------------------------------------------------------------\n",
      " |  Data descriptors defined here:\n",
      " |  \n",
      " |  __dict__\n",
      " |      dictionary for instance variables (if defined)\n",
      " |  \n",
      " |  __weakref__\n",
      " |      list of weak references to the object (if defined)\n",
      "\n"
     ]
    }
   ],
   "source": [
    "help(JGV)"
   ]
  },
  {
   "cell_type": "markdown",
   "metadata": {},
   "source": [
    "**Test Instantiation**"
   ]
  },
  {
   "cell_type": "code",
   "execution_count": 9,
   "metadata": {
    "ExecuteTime": {
     "end_time": "2017-03-28T17:15:46.490083",
     "start_time": "2017-03-28T17:15:01.812887"
    },
    "collapsed": false
   },
   "outputs": [
    {
     "data": {
      "text/html": [
       "<p><b>Add reference genome file</b></p>"
      ],
      "text/plain": [
       "<IPython.core.display.HTML object>"
      ]
     },
     "metadata": {},
     "output_type": "display_data"
    },
    {
     "data": {
      "text/html": [
       "<p>Parsing fasta file</p>"
      ],
      "text/plain": [
       "<IPython.core.display.HTML object>"
      ]
     },
     "metadata": {},
     "output_type": "display_data"
    },
    {
     "data": {
      "text/html": [
       "<p>Found 25 reference sequences</p>"
      ],
      "text/plain": [
       "<IPython.core.display.HTML object>"
      ]
     },
     "metadata": {},
     "output_type": "display_data"
    },
    {
     "data": {
      "text/html": [
       "<p>JGV instance<br>&emsp;Parameters list<br>&emsp;alignments&emsp;[]<br>&emsp;annotations&emsp;[]<br>&emsp;ref_list&emsp;['chr1', 'chr2', 'chr3', 'chr4', 'chr5', 'chr6', 'chr7', 'chr8', 'chr9', 'chr10', 'chr11', 'chr12', 'chr13', 'chr14', 'chr15', 'chr16', 'chr17', 'chr18', 'chr19', 'chr20', 'chr21', 'chr22', 'chrX', 'chrY', 'chrM']<br>&emsp;reference&emsp;Reference instance<br>&emsp;&emsp;chr1&emsp;length: 248956422<br>&emsp;&emsp;chr2&emsp;length: 242193529<br>&emsp;&emsp;chr3&emsp;length: 198295559<br>&emsp;&emsp;chr4&emsp;length: 190214555<br>&emsp;&emsp;chr5&emsp;length: 181538259<br>&emsp;&emsp;chr6&emsp;length: 170805979<br>&emsp;&emsp;chr7&emsp;length: 159345973<br>&emsp;&emsp;chrX&emsp;length: 156040895<br>&emsp;&emsp;chr8&emsp;length: 145138636<br>&emsp;&emsp;chr9&emsp;length: 138394717<br>&emsp;&emsp;chr11&emsp;length: 135086622<br>&emsp;&emsp;chr10&emsp;length: 133797422<br>&emsp;&emsp;chr12&emsp;length: 133275309<br>&emsp;&emsp;chr13&emsp;length: 114364328<br>&emsp;&emsp;chr14&emsp;length: 107043718<br>&emsp;&emsp;chr15&emsp;length: 101991189<br>&emsp;&emsp;chr16&emsp;length: 90338345<br>&emsp;&emsp;chr17&emsp;length: 83257441<br>&emsp;&emsp;chr18&emsp;length: 80373285<br>&emsp;&emsp;chr20&emsp;length: 64444167<br>&emsp;&emsp;chr19&emsp;length: 58617616<br>&emsp;&emsp;chrY&emsp;length: 57227415<br>&emsp;&emsp;chr22&emsp;length: 50818468<br>&emsp;&emsp;chr21&emsp;length: 46709983<br>&emsp;&emsp;chrM&emsp;length: 16569<br>&emsp;ext&emsp;fa<br>&emsp;fp&emsp;../dl_test_data/GRCh38_primary.fa.gz<br>&emsp;name&emsp;GRCh38_primary<br>&emsp;verbose&emsp;True<br><br>&emsp;verbose&emsp;True<br></p>"
      ],
      "text/plain": [
       "<IPython.core.display.HTML object>"
      ]
     },
     "metadata": {},
     "output_type": "display_data"
    }
   ],
   "source": [
    "fp = \"../dl_test_data/GRCh38_primary.fa.gz\"\n",
    "l = ['chr1', 'chr2', 'chr3', 'chr4', 'chr5', 'chr6', 'chr7', 'chr8', 'chr9', 'chr10', 'chr11', 'chr12', 'chr13', 'chr14', 'chr15', 'chr16', 'chr17', 'chr18', 'chr19', 'chr20', 'chr21', 'chr22', 'chrX', 'chrY', 'chrM']\n",
    "\n",
    "j = JGV(fp=fp, ref_list=l, verbose=True)"
   ]
  },
  {
   "cell_type": "code",
   "execution_count": 10,
   "metadata": {
    "ExecuteTime": {
     "end_time": "2017-03-28T17:18:27.532480",
     "start_time": "2017-03-28T17:17:56.056086"
    },
    "collapsed": false
   },
   "outputs": [
    {
     "data": {
      "text/html": [
       "<p><b>Add annotation file</b></p>"
      ],
      "text/plain": [
       "<IPython.core.display.HTML object>"
      ]
     },
     "metadata": {},
     "output_type": "display_data"
    },
    {
     "data": {
      "text/html": [
       "<p>Use GFF3 parser to parse annotations in  gencode_v25_primary</p>"
      ],
      "text/plain": [
       "<IPython.core.display.HTML object>"
      ]
     },
     "metadata": {},
     "output_type": "display_data"
    },
    {
     "data": {
      "text/html": [
       "<p>Sort annotation features by coordinates</p>"
      ],
      "text/plain": [
       "<IPython.core.display.HTML object>"
      ]
     },
     "metadata": {},
     "output_type": "display_data"
    },
    {
     "data": {
      "text/html": [
       "<p>Annotation features count:2577236</p>"
      ],
      "text/plain": [
       "<IPython.core.display.HTML object>"
      ]
     },
     "metadata": {},
     "output_type": "display_data"
    },
    {
     "data": {
      "text/html": [
       "<p>refid count:25</p>"
      ],
      "text/plain": [
       "<IPython.core.display.HTML object>"
      ]
     },
     "metadata": {},
     "output_type": "display_data"
    },
    {
     "data": {
      "text/html": [
       "<p>Feature type count:9</p>"
      ],
      "text/plain": [
       "<IPython.core.display.HTML object>"
      ]
     },
     "metadata": {},
     "output_type": "display_data"
    }
   ],
   "source": [
    "j.add_annotation(\"../dl_test_data/gencode_v25_primary.gff3.gz\")"
   ]
  },
  {
   "cell_type": "code",
   "execution_count": 11,
   "metadata": {
    "ExecuteTime": {
     "end_time": "2017-03-28T17:19:32.782572",
     "start_time": "2017-03-28T17:18:47.347647"
    },
    "collapsed": false
   },
   "outputs": [
    {
     "data": {
      "text/html": [
       "<p><b>Add alignment file</b></p>"
      ],
      "text/plain": [
       "<IPython.core.display.HTML object>"
      ]
     },
     "metadata": {},
     "output_type": "display_data"
    },
    {
     "data": {
      "text/html": [
       "<p>Compute coverage from bam/sam file  ../dl_test_data/1M.bam</p>"
      ],
      "text/plain": [
       "<IPython.core.display.HTML object>"
      ]
     },
     "metadata": {},
     "output_type": "display_data"
    },
    {
     "data": {
      "text/html": [
       "<p>&emsp;Extract meta data from header</p>"
      ],
      "text/plain": [
       "<IPython.core.display.HTML object>"
      ]
     },
     "metadata": {},
     "output_type": "display_data"
    },
    {
     "data": {
      "text/html": [
       "<p>&emsp;Tally coverage for each base</p>"
      ],
      "text/plain": [
       "<IPython.core.display.HTML object>"
      ]
     },
     "metadata": {},
     "output_type": "display_data"
    },
    {
     "data": {
      "text/html": [
       "<p>&emsp;Filter and sort the coverage results by position</p>"
      ],
      "text/plain": [
       "<IPython.core.display.HTML object>"
      ]
     },
     "metadata": {},
     "output_type": "display_data"
    }
   ],
   "source": [
    "j.add_alignement(\"../dl_test_data/1M.bam\")"
   ]
  },
  {
   "cell_type": "code",
   "execution_count": null,
   "metadata": {
    "collapsed": true
   },
   "outputs": [],
   "source": []
  },
  {
   "cell_type": "code",
   "execution_count": null,
   "metadata": {
    "collapsed": true
   },
   "outputs": [],
   "source": []
  },
  {
   "cell_type": "code",
   "execution_count": null,
   "metadata": {
    "collapsed": true
   },
   "outputs": [],
   "source": []
  },
  {
   "cell_type": "code",
   "execution_count": null,
   "metadata": {
    "collapsed": true
   },
   "outputs": [],
   "source": []
  },
  {
   "cell_type": "code",
   "execution_count": null,
   "metadata": {
    "collapsed": true
   },
   "outputs": [],
   "source": []
  },
  {
   "cell_type": "code",
   "execution_count": null,
   "metadata": {
    "collapsed": true
   },
   "outputs": [],
   "source": []
  },
  {
   "cell_type": "code",
   "execution_count": null,
   "metadata": {
    "collapsed": true
   },
   "outputs": [],
   "source": []
  },
  {
   "cell_type": "code",
   "execution_count": null,
   "metadata": {
    "collapsed": true
   },
   "outputs": [],
   "source": []
  },
  {
   "cell_type": "code",
   "execution_count": null,
   "metadata": {
    "collapsed": true
   },
   "outputs": [],
   "source": []
  },
  {
   "cell_type": "code",
   "execution_count": null,
   "metadata": {
    "collapsed": true
   },
   "outputs": [],
   "source": []
  },
  {
   "cell_type": "code",
   "execution_count": null,
   "metadata": {
    "collapsed": true
   },
   "outputs": [],
   "source": []
  },
  {
   "cell_type": "code",
   "execution_count": null,
   "metadata": {
    "collapsed": true
   },
   "outputs": [],
   "source": []
  },
  {
   "cell_type": "code",
   "execution_count": null,
   "metadata": {
    "collapsed": true
   },
   "outputs": [],
   "source": []
  },
  {
   "cell_type": "code",
   "execution_count": null,
   "metadata": {
    "collapsed": true
   },
   "outputs": [],
   "source": []
  },
  {
   "cell_type": "code",
   "execution_count": null,
   "metadata": {
    "collapsed": true
   },
   "outputs": [],
   "source": []
  },
  {
   "cell_type": "code",
   "execution_count": null,
   "metadata": {
    "collapsed": true
   },
   "outputs": [],
   "source": []
  },
  {
   "cell_type": "code",
   "execution_count": null,
   "metadata": {
    "collapsed": true
   },
   "outputs": [],
   "source": []
  },
  {
   "cell_type": "code",
   "execution_count": null,
   "metadata": {
    "collapsed": true
   },
   "outputs": [],
   "source": []
  }
 ],
 "metadata": {
  "celltoolbar": "Initialisation Cell",
  "kernelspec": {
   "display_name": "Python 3",
   "language": "python",
   "name": "python3"
  },
  "language_info": {
   "codemirror_mode": {
    "name": "ipython",
    "version": 3
   },
   "file_extension": ".py",
   "mimetype": "text/x-python",
   "name": "python",
   "nbconvert_exporter": "python",
   "pygments_lexer": "ipython3",
   "version": "3.5.2"
  },
  "widgets": {
   "state": {},
   "version": "1.1.1"
  }
 },
 "nbformat": 4,
 "nbformat_minor": 0
}
